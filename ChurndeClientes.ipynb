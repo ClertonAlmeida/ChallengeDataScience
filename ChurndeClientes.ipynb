{
 "cells": [
  {
   "cell_type": "markdown",
   "id": "0091ed31",
   "metadata": {},
   "source": [
    "#### Foi dado a partida para o primeiro Challenge de Data Science da Alura, nesta primeira semana do Challenge, foi nos passado as seguintes atividades:\n",
    "\n",
    "1. Entender quais informações o conjunto de dados possui;\n",
    "\n",
    "2. Analisar quais os tipos de dados;\n",
    "\n",
    "3. Verificar quais são as inconsistências nos dados;\n",
    "\n",
    "4. Corrigir as inconsistências nos dados;\n",
    "\n",
    "5. Traduzir as colunas;\n",
    "\n",
    "6. Criar coluna de contas diárias."
   ]
  },
  {
   "cell_type": "markdown",
   "id": "49abd13c",
   "metadata": {},
   "source": [
    "# Importando dados"
   ]
  },
  {
   "cell_type": "markdown",
   "id": "d9cfaf8b",
   "metadata": {},
   "source": [
    "## Lendo o arquivo Json e conhecendo os dados"
   ]
  },
  {
   "cell_type": "code",
   "execution_count": 1,
   "id": "0ab71a2b",
   "metadata": {},
   "outputs": [],
   "source": [
    "import numpy as np\n",
    "import pandas as pd\n",
    "import seaborn as sns\n",
    "import matplotlib.pyplot as plt\n",
    "%matplotlib inline\n",
    " \n",
    "dados = pd.read_json(\"https://raw.githubusercontent.com/sthemonica/alura-voz/main/Dados/Telco-Customer-Churn.json\")\n"
   ]
  },
  {
   "cell_type": "code",
   "execution_count": 2,
   "id": "fa3e989e",
   "metadata": {},
   "outputs": [
    {
     "data": {
      "text/html": [
       "<div>\n",
       "<style scoped>\n",
       "    .dataframe tbody tr th:only-of-type {\n",
       "        vertical-align: middle;\n",
       "    }\n",
       "\n",
       "    .dataframe tbody tr th {\n",
       "        vertical-align: top;\n",
       "    }\n",
       "\n",
       "    .dataframe thead th {\n",
       "        text-align: right;\n",
       "    }\n",
       "</style>\n",
       "<table border=\"1\" class=\"dataframe\">\n",
       "  <thead>\n",
       "    <tr style=\"text-align: right;\">\n",
       "      <th></th>\n",
       "      <th>customerID</th>\n",
       "      <th>Churn</th>\n",
       "      <th>customer</th>\n",
       "      <th>phone</th>\n",
       "      <th>internet</th>\n",
       "      <th>account</th>\n",
       "    </tr>\n",
       "  </thead>\n",
       "  <tbody>\n",
       "    <tr>\n",
       "      <th>0</th>\n",
       "      <td>0002-ORFBO</td>\n",
       "      <td>No</td>\n",
       "      <td>{'gender': 'Female', 'SeniorCitizen': 0, 'Part...</td>\n",
       "      <td>{'PhoneService': 'Yes', 'MultipleLines': 'No'}</td>\n",
       "      <td>{'InternetService': 'DSL', 'OnlineSecurity': '...</td>\n",
       "      <td>{'Contract': 'One year', 'PaperlessBilling': '...</td>\n",
       "    </tr>\n",
       "    <tr>\n",
       "      <th>1</th>\n",
       "      <td>0003-MKNFE</td>\n",
       "      <td>No</td>\n",
       "      <td>{'gender': 'Male', 'SeniorCitizen': 0, 'Partne...</td>\n",
       "      <td>{'PhoneService': 'Yes', 'MultipleLines': 'Yes'}</td>\n",
       "      <td>{'InternetService': 'DSL', 'OnlineSecurity': '...</td>\n",
       "      <td>{'Contract': 'Month-to-month', 'PaperlessBilli...</td>\n",
       "    </tr>\n",
       "    <tr>\n",
       "      <th>2</th>\n",
       "      <td>0004-TLHLJ</td>\n",
       "      <td>Yes</td>\n",
       "      <td>{'gender': 'Male', 'SeniorCitizen': 0, 'Partne...</td>\n",
       "      <td>{'PhoneService': 'Yes', 'MultipleLines': 'No'}</td>\n",
       "      <td>{'InternetService': 'Fiber optic', 'OnlineSecu...</td>\n",
       "      <td>{'Contract': 'Month-to-month', 'PaperlessBilli...</td>\n",
       "    </tr>\n",
       "    <tr>\n",
       "      <th>3</th>\n",
       "      <td>0011-IGKFF</td>\n",
       "      <td>Yes</td>\n",
       "      <td>{'gender': 'Male', 'SeniorCitizen': 1, 'Partne...</td>\n",
       "      <td>{'PhoneService': 'Yes', 'MultipleLines': 'No'}</td>\n",
       "      <td>{'InternetService': 'Fiber optic', 'OnlineSecu...</td>\n",
       "      <td>{'Contract': 'Month-to-month', 'PaperlessBilli...</td>\n",
       "    </tr>\n",
       "    <tr>\n",
       "      <th>4</th>\n",
       "      <td>0013-EXCHZ</td>\n",
       "      <td>Yes</td>\n",
       "      <td>{'gender': 'Female', 'SeniorCitizen': 1, 'Part...</td>\n",
       "      <td>{'PhoneService': 'Yes', 'MultipleLines': 'No'}</td>\n",
       "      <td>{'InternetService': 'Fiber optic', 'OnlineSecu...</td>\n",
       "      <td>{'Contract': 'Month-to-month', 'PaperlessBilli...</td>\n",
       "    </tr>\n",
       "  </tbody>\n",
       "</table>\n",
       "</div>"
      ],
      "text/plain": [
       "   customerID Churn                                           customer  \\\n",
       "0  0002-ORFBO    No  {'gender': 'Female', 'SeniorCitizen': 0, 'Part...   \n",
       "1  0003-MKNFE    No  {'gender': 'Male', 'SeniorCitizen': 0, 'Partne...   \n",
       "2  0004-TLHLJ   Yes  {'gender': 'Male', 'SeniorCitizen': 0, 'Partne...   \n",
       "3  0011-IGKFF   Yes  {'gender': 'Male', 'SeniorCitizen': 1, 'Partne...   \n",
       "4  0013-EXCHZ   Yes  {'gender': 'Female', 'SeniorCitizen': 1, 'Part...   \n",
       "\n",
       "                                             phone  \\\n",
       "0   {'PhoneService': 'Yes', 'MultipleLines': 'No'}   \n",
       "1  {'PhoneService': 'Yes', 'MultipleLines': 'Yes'}   \n",
       "2   {'PhoneService': 'Yes', 'MultipleLines': 'No'}   \n",
       "3   {'PhoneService': 'Yes', 'MultipleLines': 'No'}   \n",
       "4   {'PhoneService': 'Yes', 'MultipleLines': 'No'}   \n",
       "\n",
       "                                            internet  \\\n",
       "0  {'InternetService': 'DSL', 'OnlineSecurity': '...   \n",
       "1  {'InternetService': 'DSL', 'OnlineSecurity': '...   \n",
       "2  {'InternetService': 'Fiber optic', 'OnlineSecu...   \n",
       "3  {'InternetService': 'Fiber optic', 'OnlineSecu...   \n",
       "4  {'InternetService': 'Fiber optic', 'OnlineSecu...   \n",
       "\n",
       "                                             account  \n",
       "0  {'Contract': 'One year', 'PaperlessBilling': '...  \n",
       "1  {'Contract': 'Month-to-month', 'PaperlessBilli...  \n",
       "2  {'Contract': 'Month-to-month', 'PaperlessBilli...  \n",
       "3  {'Contract': 'Month-to-month', 'PaperlessBilli...  \n",
       "4  {'Contract': 'Month-to-month', 'PaperlessBilli...  "
      ]
     },
     "execution_count": 2,
     "metadata": {},
     "output_type": "execute_result"
    }
   ],
   "source": [
    "dados.head()"
   ]
  },
  {
   "cell_type": "markdown",
   "id": "0f2151b1",
   "metadata": {},
   "source": [
    "## Normalizando os dados separadamente"
   ]
  },
  {
   "cell_type": "code",
   "execution_count": 3,
   "id": "0a33e8c3",
   "metadata": {},
   "outputs": [
    {
     "data": {
      "text/html": [
       "<div>\n",
       "<style scoped>\n",
       "    .dataframe tbody tr th:only-of-type {\n",
       "        vertical-align: middle;\n",
       "    }\n",
       "\n",
       "    .dataframe tbody tr th {\n",
       "        vertical-align: top;\n",
       "    }\n",
       "\n",
       "    .dataframe thead th {\n",
       "        text-align: right;\n",
       "    }\n",
       "</style>\n",
       "<table border=\"1\" class=\"dataframe\">\n",
       "  <thead>\n",
       "    <tr style=\"text-align: right;\">\n",
       "      <th></th>\n",
       "      <th>gender</th>\n",
       "      <th>SeniorCitizen</th>\n",
       "      <th>Partner</th>\n",
       "      <th>Dependents</th>\n",
       "      <th>tenure</th>\n",
       "    </tr>\n",
       "  </thead>\n",
       "  <tbody>\n",
       "    <tr>\n",
       "      <th>0</th>\n",
       "      <td>Female</td>\n",
       "      <td>0</td>\n",
       "      <td>Yes</td>\n",
       "      <td>Yes</td>\n",
       "      <td>9</td>\n",
       "    </tr>\n",
       "    <tr>\n",
       "      <th>1</th>\n",
       "      <td>Male</td>\n",
       "      <td>0</td>\n",
       "      <td>No</td>\n",
       "      <td>No</td>\n",
       "      <td>9</td>\n",
       "    </tr>\n",
       "    <tr>\n",
       "      <th>2</th>\n",
       "      <td>Male</td>\n",
       "      <td>0</td>\n",
       "      <td>No</td>\n",
       "      <td>No</td>\n",
       "      <td>4</td>\n",
       "    </tr>\n",
       "    <tr>\n",
       "      <th>3</th>\n",
       "      <td>Male</td>\n",
       "      <td>1</td>\n",
       "      <td>Yes</td>\n",
       "      <td>No</td>\n",
       "      <td>13</td>\n",
       "    </tr>\n",
       "    <tr>\n",
       "      <th>4</th>\n",
       "      <td>Female</td>\n",
       "      <td>1</td>\n",
       "      <td>Yes</td>\n",
       "      <td>No</td>\n",
       "      <td>3</td>\n",
       "    </tr>\n",
       "    <tr>\n",
       "      <th>...</th>\n",
       "      <td>...</td>\n",
       "      <td>...</td>\n",
       "      <td>...</td>\n",
       "      <td>...</td>\n",
       "      <td>...</td>\n",
       "    </tr>\n",
       "    <tr>\n",
       "      <th>7262</th>\n",
       "      <td>Female</td>\n",
       "      <td>0</td>\n",
       "      <td>No</td>\n",
       "      <td>No</td>\n",
       "      <td>13</td>\n",
       "    </tr>\n",
       "    <tr>\n",
       "      <th>7263</th>\n",
       "      <td>Male</td>\n",
       "      <td>0</td>\n",
       "      <td>Yes</td>\n",
       "      <td>No</td>\n",
       "      <td>22</td>\n",
       "    </tr>\n",
       "    <tr>\n",
       "      <th>7264</th>\n",
       "      <td>Male</td>\n",
       "      <td>0</td>\n",
       "      <td>No</td>\n",
       "      <td>No</td>\n",
       "      <td>2</td>\n",
       "    </tr>\n",
       "    <tr>\n",
       "      <th>7265</th>\n",
       "      <td>Male</td>\n",
       "      <td>0</td>\n",
       "      <td>Yes</td>\n",
       "      <td>Yes</td>\n",
       "      <td>67</td>\n",
       "    </tr>\n",
       "    <tr>\n",
       "      <th>7266</th>\n",
       "      <td>Male</td>\n",
       "      <td>0</td>\n",
       "      <td>Yes</td>\n",
       "      <td>Yes</td>\n",
       "      <td>63</td>\n",
       "    </tr>\n",
       "  </tbody>\n",
       "</table>\n",
       "<p>7267 rows × 5 columns</p>\n",
       "</div>"
      ],
      "text/plain": [
       "      gender  SeniorCitizen Partner Dependents  tenure\n",
       "0     Female              0     Yes        Yes       9\n",
       "1       Male              0      No         No       9\n",
       "2       Male              0      No         No       4\n",
       "3       Male              1     Yes         No      13\n",
       "4     Female              1     Yes         No       3\n",
       "...      ...            ...     ...        ...     ...\n",
       "7262  Female              0      No         No      13\n",
       "7263    Male              0     Yes         No      22\n",
       "7264    Male              0      No         No       2\n",
       "7265    Male              0     Yes        Yes      67\n",
       "7266    Male              0     Yes        Yes      63\n",
       "\n",
       "[7267 rows x 5 columns]"
      ]
     },
     "execution_count": 3,
     "metadata": {},
     "output_type": "execute_result"
    }
   ],
   "source": [
    "dados_customer = pd.json_normalize(data=dados.customer)\n",
    "dados_customer"
   ]
  },
  {
   "cell_type": "code",
   "execution_count": 4,
   "id": "530a8a34",
   "metadata": {},
   "outputs": [
    {
     "data": {
      "text/html": [
       "<div>\n",
       "<style scoped>\n",
       "    .dataframe tbody tr th:only-of-type {\n",
       "        vertical-align: middle;\n",
       "    }\n",
       "\n",
       "    .dataframe tbody tr th {\n",
       "        vertical-align: top;\n",
       "    }\n",
       "\n",
       "    .dataframe thead th {\n",
       "        text-align: right;\n",
       "    }\n",
       "</style>\n",
       "<table border=\"1\" class=\"dataframe\">\n",
       "  <thead>\n",
       "    <tr style=\"text-align: right;\">\n",
       "      <th></th>\n",
       "      <th>PhoneService</th>\n",
       "      <th>MultipleLines</th>\n",
       "    </tr>\n",
       "  </thead>\n",
       "  <tbody>\n",
       "    <tr>\n",
       "      <th>0</th>\n",
       "      <td>Yes</td>\n",
       "      <td>No</td>\n",
       "    </tr>\n",
       "    <tr>\n",
       "      <th>1</th>\n",
       "      <td>Yes</td>\n",
       "      <td>Yes</td>\n",
       "    </tr>\n",
       "    <tr>\n",
       "      <th>2</th>\n",
       "      <td>Yes</td>\n",
       "      <td>No</td>\n",
       "    </tr>\n",
       "    <tr>\n",
       "      <th>3</th>\n",
       "      <td>Yes</td>\n",
       "      <td>No</td>\n",
       "    </tr>\n",
       "    <tr>\n",
       "      <th>4</th>\n",
       "      <td>Yes</td>\n",
       "      <td>No</td>\n",
       "    </tr>\n",
       "    <tr>\n",
       "      <th>...</th>\n",
       "      <td>...</td>\n",
       "      <td>...</td>\n",
       "    </tr>\n",
       "    <tr>\n",
       "      <th>7262</th>\n",
       "      <td>Yes</td>\n",
       "      <td>No</td>\n",
       "    </tr>\n",
       "    <tr>\n",
       "      <th>7263</th>\n",
       "      <td>Yes</td>\n",
       "      <td>Yes</td>\n",
       "    </tr>\n",
       "    <tr>\n",
       "      <th>7264</th>\n",
       "      <td>Yes</td>\n",
       "      <td>No</td>\n",
       "    </tr>\n",
       "    <tr>\n",
       "      <th>7265</th>\n",
       "      <td>Yes</td>\n",
       "      <td>No</td>\n",
       "    </tr>\n",
       "    <tr>\n",
       "      <th>7266</th>\n",
       "      <td>No</td>\n",
       "      <td>No phone service</td>\n",
       "    </tr>\n",
       "  </tbody>\n",
       "</table>\n",
       "<p>7267 rows × 2 columns</p>\n",
       "</div>"
      ],
      "text/plain": [
       "     PhoneService     MultipleLines\n",
       "0             Yes                No\n",
       "1             Yes               Yes\n",
       "2             Yes                No\n",
       "3             Yes                No\n",
       "4             Yes                No\n",
       "...           ...               ...\n",
       "7262          Yes                No\n",
       "7263          Yes               Yes\n",
       "7264          Yes                No\n",
       "7265          Yes                No\n",
       "7266           No  No phone service\n",
       "\n",
       "[7267 rows x 2 columns]"
      ]
     },
     "execution_count": 4,
     "metadata": {},
     "output_type": "execute_result"
    }
   ],
   "source": [
    "dados_phone = pd.json_normalize(data=dados.phone)\n",
    "dados_phone"
   ]
  },
  {
   "cell_type": "code",
   "execution_count": 5,
   "id": "66092e6e",
   "metadata": {},
   "outputs": [
    {
     "data": {
      "text/html": [
       "<div>\n",
       "<style scoped>\n",
       "    .dataframe tbody tr th:only-of-type {\n",
       "        vertical-align: middle;\n",
       "    }\n",
       "\n",
       "    .dataframe tbody tr th {\n",
       "        vertical-align: top;\n",
       "    }\n",
       "\n",
       "    .dataframe thead th {\n",
       "        text-align: right;\n",
       "    }\n",
       "</style>\n",
       "<table border=\"1\" class=\"dataframe\">\n",
       "  <thead>\n",
       "    <tr style=\"text-align: right;\">\n",
       "      <th></th>\n",
       "      <th>InternetService</th>\n",
       "      <th>OnlineSecurity</th>\n",
       "      <th>OnlineBackup</th>\n",
       "      <th>DeviceProtection</th>\n",
       "      <th>TechSupport</th>\n",
       "      <th>StreamingTV</th>\n",
       "      <th>StreamingMovies</th>\n",
       "    </tr>\n",
       "  </thead>\n",
       "  <tbody>\n",
       "    <tr>\n",
       "      <th>0</th>\n",
       "      <td>DSL</td>\n",
       "      <td>No</td>\n",
       "      <td>Yes</td>\n",
       "      <td>No</td>\n",
       "      <td>Yes</td>\n",
       "      <td>Yes</td>\n",
       "      <td>No</td>\n",
       "    </tr>\n",
       "    <tr>\n",
       "      <th>1</th>\n",
       "      <td>DSL</td>\n",
       "      <td>No</td>\n",
       "      <td>No</td>\n",
       "      <td>No</td>\n",
       "      <td>No</td>\n",
       "      <td>No</td>\n",
       "      <td>Yes</td>\n",
       "    </tr>\n",
       "    <tr>\n",
       "      <th>2</th>\n",
       "      <td>Fiber optic</td>\n",
       "      <td>No</td>\n",
       "      <td>No</td>\n",
       "      <td>Yes</td>\n",
       "      <td>No</td>\n",
       "      <td>No</td>\n",
       "      <td>No</td>\n",
       "    </tr>\n",
       "    <tr>\n",
       "      <th>3</th>\n",
       "      <td>Fiber optic</td>\n",
       "      <td>No</td>\n",
       "      <td>Yes</td>\n",
       "      <td>Yes</td>\n",
       "      <td>No</td>\n",
       "      <td>Yes</td>\n",
       "      <td>Yes</td>\n",
       "    </tr>\n",
       "    <tr>\n",
       "      <th>4</th>\n",
       "      <td>Fiber optic</td>\n",
       "      <td>No</td>\n",
       "      <td>No</td>\n",
       "      <td>No</td>\n",
       "      <td>Yes</td>\n",
       "      <td>Yes</td>\n",
       "      <td>No</td>\n",
       "    </tr>\n",
       "    <tr>\n",
       "      <th>...</th>\n",
       "      <td>...</td>\n",
       "      <td>...</td>\n",
       "      <td>...</td>\n",
       "      <td>...</td>\n",
       "      <td>...</td>\n",
       "      <td>...</td>\n",
       "      <td>...</td>\n",
       "    </tr>\n",
       "    <tr>\n",
       "      <th>7262</th>\n",
       "      <td>DSL</td>\n",
       "      <td>Yes</td>\n",
       "      <td>No</td>\n",
       "      <td>No</td>\n",
       "      <td>Yes</td>\n",
       "      <td>No</td>\n",
       "      <td>No</td>\n",
       "    </tr>\n",
       "    <tr>\n",
       "      <th>7263</th>\n",
       "      <td>Fiber optic</td>\n",
       "      <td>No</td>\n",
       "      <td>No</td>\n",
       "      <td>No</td>\n",
       "      <td>No</td>\n",
       "      <td>No</td>\n",
       "      <td>Yes</td>\n",
       "    </tr>\n",
       "    <tr>\n",
       "      <th>7264</th>\n",
       "      <td>DSL</td>\n",
       "      <td>No</td>\n",
       "      <td>Yes</td>\n",
       "      <td>No</td>\n",
       "      <td>No</td>\n",
       "      <td>No</td>\n",
       "      <td>No</td>\n",
       "    </tr>\n",
       "    <tr>\n",
       "      <th>7265</th>\n",
       "      <td>DSL</td>\n",
       "      <td>Yes</td>\n",
       "      <td>No</td>\n",
       "      <td>Yes</td>\n",
       "      <td>Yes</td>\n",
       "      <td>No</td>\n",
       "      <td>Yes</td>\n",
       "    </tr>\n",
       "    <tr>\n",
       "      <th>7266</th>\n",
       "      <td>DSL</td>\n",
       "      <td>Yes</td>\n",
       "      <td>Yes</td>\n",
       "      <td>Yes</td>\n",
       "      <td>No</td>\n",
       "      <td>Yes</td>\n",
       "      <td>Yes</td>\n",
       "    </tr>\n",
       "  </tbody>\n",
       "</table>\n",
       "<p>7267 rows × 7 columns</p>\n",
       "</div>"
      ],
      "text/plain": [
       "     InternetService OnlineSecurity OnlineBackup DeviceProtection TechSupport  \\\n",
       "0                DSL             No          Yes               No         Yes   \n",
       "1                DSL             No           No               No          No   \n",
       "2        Fiber optic             No           No              Yes          No   \n",
       "3        Fiber optic             No          Yes              Yes          No   \n",
       "4        Fiber optic             No           No               No         Yes   \n",
       "...              ...            ...          ...              ...         ...   \n",
       "7262             DSL            Yes           No               No         Yes   \n",
       "7263     Fiber optic             No           No               No          No   \n",
       "7264             DSL             No          Yes               No          No   \n",
       "7265             DSL            Yes           No              Yes         Yes   \n",
       "7266             DSL            Yes          Yes              Yes          No   \n",
       "\n",
       "     StreamingTV StreamingMovies  \n",
       "0            Yes              No  \n",
       "1             No             Yes  \n",
       "2             No              No  \n",
       "3            Yes             Yes  \n",
       "4            Yes              No  \n",
       "...          ...             ...  \n",
       "7262          No              No  \n",
       "7263          No             Yes  \n",
       "7264          No              No  \n",
       "7265          No             Yes  \n",
       "7266         Yes             Yes  \n",
       "\n",
       "[7267 rows x 7 columns]"
      ]
     },
     "execution_count": 5,
     "metadata": {},
     "output_type": "execute_result"
    }
   ],
   "source": [
    "dados_internet = pd.json_normalize(data=dados.internet)\n",
    "dados_internet"
   ]
  },
  {
   "cell_type": "code",
   "execution_count": 6,
   "id": "e9665709",
   "metadata": {},
   "outputs": [
    {
     "data": {
      "text/html": [
       "<div>\n",
       "<style scoped>\n",
       "    .dataframe tbody tr th:only-of-type {\n",
       "        vertical-align: middle;\n",
       "    }\n",
       "\n",
       "    .dataframe tbody tr th {\n",
       "        vertical-align: top;\n",
       "    }\n",
       "\n",
       "    .dataframe thead th {\n",
       "        text-align: right;\n",
       "    }\n",
       "</style>\n",
       "<table border=\"1\" class=\"dataframe\">\n",
       "  <thead>\n",
       "    <tr style=\"text-align: right;\">\n",
       "      <th></th>\n",
       "      <th>Contract</th>\n",
       "      <th>PaperlessBilling</th>\n",
       "      <th>PaymentMethod</th>\n",
       "      <th>Charges.Monthly</th>\n",
       "      <th>Charges.Total</th>\n",
       "    </tr>\n",
       "  </thead>\n",
       "  <tbody>\n",
       "    <tr>\n",
       "      <th>0</th>\n",
       "      <td>One year</td>\n",
       "      <td>Yes</td>\n",
       "      <td>Mailed check</td>\n",
       "      <td>65.60</td>\n",
       "      <td>593.3</td>\n",
       "    </tr>\n",
       "    <tr>\n",
       "      <th>1</th>\n",
       "      <td>Month-to-month</td>\n",
       "      <td>No</td>\n",
       "      <td>Mailed check</td>\n",
       "      <td>59.90</td>\n",
       "      <td>542.4</td>\n",
       "    </tr>\n",
       "    <tr>\n",
       "      <th>2</th>\n",
       "      <td>Month-to-month</td>\n",
       "      <td>Yes</td>\n",
       "      <td>Electronic check</td>\n",
       "      <td>73.90</td>\n",
       "      <td>280.85</td>\n",
       "    </tr>\n",
       "    <tr>\n",
       "      <th>3</th>\n",
       "      <td>Month-to-month</td>\n",
       "      <td>Yes</td>\n",
       "      <td>Electronic check</td>\n",
       "      <td>98.00</td>\n",
       "      <td>1237.85</td>\n",
       "    </tr>\n",
       "    <tr>\n",
       "      <th>4</th>\n",
       "      <td>Month-to-month</td>\n",
       "      <td>Yes</td>\n",
       "      <td>Mailed check</td>\n",
       "      <td>83.90</td>\n",
       "      <td>267.4</td>\n",
       "    </tr>\n",
       "    <tr>\n",
       "      <th>...</th>\n",
       "      <td>...</td>\n",
       "      <td>...</td>\n",
       "      <td>...</td>\n",
       "      <td>...</td>\n",
       "      <td>...</td>\n",
       "    </tr>\n",
       "    <tr>\n",
       "      <th>7262</th>\n",
       "      <td>One year</td>\n",
       "      <td>No</td>\n",
       "      <td>Mailed check</td>\n",
       "      <td>55.15</td>\n",
       "      <td>742.9</td>\n",
       "    </tr>\n",
       "    <tr>\n",
       "      <th>7263</th>\n",
       "      <td>Month-to-month</td>\n",
       "      <td>Yes</td>\n",
       "      <td>Electronic check</td>\n",
       "      <td>85.10</td>\n",
       "      <td>1873.7</td>\n",
       "    </tr>\n",
       "    <tr>\n",
       "      <th>7264</th>\n",
       "      <td>Month-to-month</td>\n",
       "      <td>Yes</td>\n",
       "      <td>Mailed check</td>\n",
       "      <td>50.30</td>\n",
       "      <td>92.75</td>\n",
       "    </tr>\n",
       "    <tr>\n",
       "      <th>7265</th>\n",
       "      <td>Two year</td>\n",
       "      <td>No</td>\n",
       "      <td>Mailed check</td>\n",
       "      <td>67.85</td>\n",
       "      <td>4627.65</td>\n",
       "    </tr>\n",
       "    <tr>\n",
       "      <th>7266</th>\n",
       "      <td>Two year</td>\n",
       "      <td>No</td>\n",
       "      <td>Electronic check</td>\n",
       "      <td>59.00</td>\n",
       "      <td>3707.6</td>\n",
       "    </tr>\n",
       "  </tbody>\n",
       "</table>\n",
       "<p>7267 rows × 5 columns</p>\n",
       "</div>"
      ],
      "text/plain": [
       "            Contract PaperlessBilling     PaymentMethod  Charges.Monthly  \\\n",
       "0           One year              Yes      Mailed check            65.60   \n",
       "1     Month-to-month               No      Mailed check            59.90   \n",
       "2     Month-to-month              Yes  Electronic check            73.90   \n",
       "3     Month-to-month              Yes  Electronic check            98.00   \n",
       "4     Month-to-month              Yes      Mailed check            83.90   \n",
       "...              ...              ...               ...              ...   \n",
       "7262        One year               No      Mailed check            55.15   \n",
       "7263  Month-to-month              Yes  Electronic check            85.10   \n",
       "7264  Month-to-month              Yes      Mailed check            50.30   \n",
       "7265        Two year               No      Mailed check            67.85   \n",
       "7266        Two year               No  Electronic check            59.00   \n",
       "\n",
       "     Charges.Total  \n",
       "0            593.3  \n",
       "1            542.4  \n",
       "2           280.85  \n",
       "3          1237.85  \n",
       "4            267.4  \n",
       "...            ...  \n",
       "7262         742.9  \n",
       "7263        1873.7  \n",
       "7264         92.75  \n",
       "7265       4627.65  \n",
       "7266        3707.6  \n",
       "\n",
       "[7267 rows x 5 columns]"
      ]
     },
     "execution_count": 6,
     "metadata": {},
     "output_type": "execute_result"
    }
   ],
   "source": [
    "dados_account = pd.json_normalize(data=dados.account)\n",
    "dados_account"
   ]
  },
  {
   "cell_type": "code",
   "execution_count": 7,
   "id": "7f4576e1",
   "metadata": {},
   "outputs": [
    {
     "data": {
      "text/html": [
       "<div>\n",
       "<style scoped>\n",
       "    .dataframe tbody tr th:only-of-type {\n",
       "        vertical-align: middle;\n",
       "    }\n",
       "\n",
       "    .dataframe tbody tr th {\n",
       "        vertical-align: top;\n",
       "    }\n",
       "\n",
       "    .dataframe thead th {\n",
       "        text-align: right;\n",
       "    }\n",
       "</style>\n",
       "<table border=\"1\" class=\"dataframe\">\n",
       "  <thead>\n",
       "    <tr style=\"text-align: right;\">\n",
       "      <th></th>\n",
       "      <th>customerID</th>\n",
       "      <th>Churn</th>\n",
       "      <th>customer</th>\n",
       "      <th>phone</th>\n",
       "      <th>internet</th>\n",
       "      <th>account</th>\n",
       "    </tr>\n",
       "  </thead>\n",
       "  <tbody>\n",
       "    <tr>\n",
       "      <th>0</th>\n",
       "      <td>0002-ORFBO</td>\n",
       "      <td>No</td>\n",
       "      <td>{'gender': 'Female', 'SeniorCitizen': 0, 'Part...</td>\n",
       "      <td>{'PhoneService': 'Yes', 'MultipleLines': 'No'}</td>\n",
       "      <td>{'InternetService': 'DSL', 'OnlineSecurity': '...</td>\n",
       "      <td>{'Contract': 'One year', 'PaperlessBilling': '...</td>\n",
       "    </tr>\n",
       "  </tbody>\n",
       "</table>\n",
       "</div>"
      ],
      "text/plain": [
       "   customerID Churn                                           customer  \\\n",
       "0  0002-ORFBO    No  {'gender': 'Female', 'SeniorCitizen': 0, 'Part...   \n",
       "\n",
       "                                            phone  \\\n",
       "0  {'PhoneService': 'Yes', 'MultipleLines': 'No'}   \n",
       "\n",
       "                                            internet  \\\n",
       "0  {'InternetService': 'DSL', 'OnlineSecurity': '...   \n",
       "\n",
       "                                             account  \n",
       "0  {'Contract': 'One year', 'PaperlessBilling': '...  "
      ]
     },
     "execution_count": 7,
     "metadata": {},
     "output_type": "execute_result"
    }
   ],
   "source": [
    "dados.head(1)"
   ]
  },
  {
   "cell_type": "code",
   "execution_count": 8,
   "id": "44a654bb",
   "metadata": {},
   "outputs": [
    {
     "data": {
      "text/html": [
       "<div>\n",
       "<style scoped>\n",
       "    .dataframe tbody tr th:only-of-type {\n",
       "        vertical-align: middle;\n",
       "    }\n",
       "\n",
       "    .dataframe tbody tr th {\n",
       "        vertical-align: top;\n",
       "    }\n",
       "\n",
       "    .dataframe thead th {\n",
       "        text-align: right;\n",
       "    }\n",
       "</style>\n",
       "<table border=\"1\" class=\"dataframe\">\n",
       "  <thead>\n",
       "    <tr style=\"text-align: right;\">\n",
       "      <th></th>\n",
       "      <th>customerID</th>\n",
       "      <th>Churn</th>\n",
       "    </tr>\n",
       "  </thead>\n",
       "  <tbody>\n",
       "    <tr>\n",
       "      <th>0</th>\n",
       "      <td>0002-ORFBO</td>\n",
       "      <td>No</td>\n",
       "    </tr>\n",
       "    <tr>\n",
       "      <th>1</th>\n",
       "      <td>0003-MKNFE</td>\n",
       "      <td>No</td>\n",
       "    </tr>\n",
       "    <tr>\n",
       "      <th>2</th>\n",
       "      <td>0004-TLHLJ</td>\n",
       "      <td>Yes</td>\n",
       "    </tr>\n",
       "    <tr>\n",
       "      <th>3</th>\n",
       "      <td>0011-IGKFF</td>\n",
       "      <td>Yes</td>\n",
       "    </tr>\n",
       "    <tr>\n",
       "      <th>4</th>\n",
       "      <td>0013-EXCHZ</td>\n",
       "      <td>Yes</td>\n",
       "    </tr>\n",
       "    <tr>\n",
       "      <th>...</th>\n",
       "      <td>...</td>\n",
       "      <td>...</td>\n",
       "    </tr>\n",
       "    <tr>\n",
       "      <th>7262</th>\n",
       "      <td>9987-LUTYD</td>\n",
       "      <td>No</td>\n",
       "    </tr>\n",
       "    <tr>\n",
       "      <th>7263</th>\n",
       "      <td>9992-RRAMN</td>\n",
       "      <td>Yes</td>\n",
       "    </tr>\n",
       "    <tr>\n",
       "      <th>7264</th>\n",
       "      <td>9992-UJOEL</td>\n",
       "      <td>No</td>\n",
       "    </tr>\n",
       "    <tr>\n",
       "      <th>7265</th>\n",
       "      <td>9993-LHIEB</td>\n",
       "      <td>No</td>\n",
       "    </tr>\n",
       "    <tr>\n",
       "      <th>7266</th>\n",
       "      <td>9995-HOTOH</td>\n",
       "      <td>No</td>\n",
       "    </tr>\n",
       "  </tbody>\n",
       "</table>\n",
       "<p>7267 rows × 2 columns</p>\n",
       "</div>"
      ],
      "text/plain": [
       "      customerID Churn\n",
       "0     0002-ORFBO    No\n",
       "1     0003-MKNFE    No\n",
       "2     0004-TLHLJ   Yes\n",
       "3     0011-IGKFF   Yes\n",
       "4     0013-EXCHZ   Yes\n",
       "...          ...   ...\n",
       "7262  9987-LUTYD    No\n",
       "7263  9992-RRAMN   Yes\n",
       "7264  9992-UJOEL    No\n",
       "7265  9993-LHIEB    No\n",
       "7266  9995-HOTOH    No\n",
       "\n",
       "[7267 rows x 2 columns]"
      ]
     },
     "execution_count": 8,
     "metadata": {},
     "output_type": "execute_result"
    }
   ],
   "source": [
    "dados_limp = dados.drop(columns=['customer', 'phone', 'internet', 'account'])\n",
    "dados_limp"
   ]
  },
  {
   "cell_type": "markdown",
   "id": "fd719b42",
   "metadata": {},
   "source": [
    "# Juntando os dados normalizados"
   ]
  },
  {
   "cell_type": "code",
   "execution_count": 9,
   "id": "44feab77",
   "metadata": {},
   "outputs": [
    {
     "data": {
      "text/html": [
       "<div>\n",
       "<style scoped>\n",
       "    .dataframe tbody tr th:only-of-type {\n",
       "        vertical-align: middle;\n",
       "    }\n",
       "\n",
       "    .dataframe tbody tr th {\n",
       "        vertical-align: top;\n",
       "    }\n",
       "\n",
       "    .dataframe thead th {\n",
       "        text-align: right;\n",
       "    }\n",
       "</style>\n",
       "<table border=\"1\" class=\"dataframe\">\n",
       "  <thead>\n",
       "    <tr style=\"text-align: right;\">\n",
       "      <th></th>\n",
       "      <th>customerID</th>\n",
       "      <th>Churn</th>\n",
       "      <th>gender</th>\n",
       "      <th>SeniorCitizen</th>\n",
       "      <th>Partner</th>\n",
       "      <th>Dependents</th>\n",
       "      <th>tenure</th>\n",
       "      <th>PhoneService</th>\n",
       "      <th>MultipleLines</th>\n",
       "      <th>InternetService</th>\n",
       "      <th>...</th>\n",
       "      <th>OnlineBackup</th>\n",
       "      <th>DeviceProtection</th>\n",
       "      <th>TechSupport</th>\n",
       "      <th>StreamingTV</th>\n",
       "      <th>StreamingMovies</th>\n",
       "      <th>Contract</th>\n",
       "      <th>PaperlessBilling</th>\n",
       "      <th>PaymentMethod</th>\n",
       "      <th>Charges.Monthly</th>\n",
       "      <th>Charges.Total</th>\n",
       "    </tr>\n",
       "  </thead>\n",
       "  <tbody>\n",
       "    <tr>\n",
       "      <th>0</th>\n",
       "      <td>0002-ORFBO</td>\n",
       "      <td>No</td>\n",
       "      <td>Female</td>\n",
       "      <td>0</td>\n",
       "      <td>Yes</td>\n",
       "      <td>Yes</td>\n",
       "      <td>9</td>\n",
       "      <td>Yes</td>\n",
       "      <td>No</td>\n",
       "      <td>DSL</td>\n",
       "      <td>...</td>\n",
       "      <td>Yes</td>\n",
       "      <td>No</td>\n",
       "      <td>Yes</td>\n",
       "      <td>Yes</td>\n",
       "      <td>No</td>\n",
       "      <td>One year</td>\n",
       "      <td>Yes</td>\n",
       "      <td>Mailed check</td>\n",
       "      <td>65.60</td>\n",
       "      <td>593.3</td>\n",
       "    </tr>\n",
       "    <tr>\n",
       "      <th>1</th>\n",
       "      <td>0003-MKNFE</td>\n",
       "      <td>No</td>\n",
       "      <td>Male</td>\n",
       "      <td>0</td>\n",
       "      <td>No</td>\n",
       "      <td>No</td>\n",
       "      <td>9</td>\n",
       "      <td>Yes</td>\n",
       "      <td>Yes</td>\n",
       "      <td>DSL</td>\n",
       "      <td>...</td>\n",
       "      <td>No</td>\n",
       "      <td>No</td>\n",
       "      <td>No</td>\n",
       "      <td>No</td>\n",
       "      <td>Yes</td>\n",
       "      <td>Month-to-month</td>\n",
       "      <td>No</td>\n",
       "      <td>Mailed check</td>\n",
       "      <td>59.90</td>\n",
       "      <td>542.4</td>\n",
       "    </tr>\n",
       "    <tr>\n",
       "      <th>2</th>\n",
       "      <td>0004-TLHLJ</td>\n",
       "      <td>Yes</td>\n",
       "      <td>Male</td>\n",
       "      <td>0</td>\n",
       "      <td>No</td>\n",
       "      <td>No</td>\n",
       "      <td>4</td>\n",
       "      <td>Yes</td>\n",
       "      <td>No</td>\n",
       "      <td>Fiber optic</td>\n",
       "      <td>...</td>\n",
       "      <td>No</td>\n",
       "      <td>Yes</td>\n",
       "      <td>No</td>\n",
       "      <td>No</td>\n",
       "      <td>No</td>\n",
       "      <td>Month-to-month</td>\n",
       "      <td>Yes</td>\n",
       "      <td>Electronic check</td>\n",
       "      <td>73.90</td>\n",
       "      <td>280.85</td>\n",
       "    </tr>\n",
       "    <tr>\n",
       "      <th>3</th>\n",
       "      <td>0011-IGKFF</td>\n",
       "      <td>Yes</td>\n",
       "      <td>Male</td>\n",
       "      <td>1</td>\n",
       "      <td>Yes</td>\n",
       "      <td>No</td>\n",
       "      <td>13</td>\n",
       "      <td>Yes</td>\n",
       "      <td>No</td>\n",
       "      <td>Fiber optic</td>\n",
       "      <td>...</td>\n",
       "      <td>Yes</td>\n",
       "      <td>Yes</td>\n",
       "      <td>No</td>\n",
       "      <td>Yes</td>\n",
       "      <td>Yes</td>\n",
       "      <td>Month-to-month</td>\n",
       "      <td>Yes</td>\n",
       "      <td>Electronic check</td>\n",
       "      <td>98.00</td>\n",
       "      <td>1237.85</td>\n",
       "    </tr>\n",
       "    <tr>\n",
       "      <th>4</th>\n",
       "      <td>0013-EXCHZ</td>\n",
       "      <td>Yes</td>\n",
       "      <td>Female</td>\n",
       "      <td>1</td>\n",
       "      <td>Yes</td>\n",
       "      <td>No</td>\n",
       "      <td>3</td>\n",
       "      <td>Yes</td>\n",
       "      <td>No</td>\n",
       "      <td>Fiber optic</td>\n",
       "      <td>...</td>\n",
       "      <td>No</td>\n",
       "      <td>No</td>\n",
       "      <td>Yes</td>\n",
       "      <td>Yes</td>\n",
       "      <td>No</td>\n",
       "      <td>Month-to-month</td>\n",
       "      <td>Yes</td>\n",
       "      <td>Mailed check</td>\n",
       "      <td>83.90</td>\n",
       "      <td>267.4</td>\n",
       "    </tr>\n",
       "    <tr>\n",
       "      <th>...</th>\n",
       "      <td>...</td>\n",
       "      <td>...</td>\n",
       "      <td>...</td>\n",
       "      <td>...</td>\n",
       "      <td>...</td>\n",
       "      <td>...</td>\n",
       "      <td>...</td>\n",
       "      <td>...</td>\n",
       "      <td>...</td>\n",
       "      <td>...</td>\n",
       "      <td>...</td>\n",
       "      <td>...</td>\n",
       "      <td>...</td>\n",
       "      <td>...</td>\n",
       "      <td>...</td>\n",
       "      <td>...</td>\n",
       "      <td>...</td>\n",
       "      <td>...</td>\n",
       "      <td>...</td>\n",
       "      <td>...</td>\n",
       "      <td>...</td>\n",
       "    </tr>\n",
       "    <tr>\n",
       "      <th>7262</th>\n",
       "      <td>9987-LUTYD</td>\n",
       "      <td>No</td>\n",
       "      <td>Female</td>\n",
       "      <td>0</td>\n",
       "      <td>No</td>\n",
       "      <td>No</td>\n",
       "      <td>13</td>\n",
       "      <td>Yes</td>\n",
       "      <td>No</td>\n",
       "      <td>DSL</td>\n",
       "      <td>...</td>\n",
       "      <td>No</td>\n",
       "      <td>No</td>\n",
       "      <td>Yes</td>\n",
       "      <td>No</td>\n",
       "      <td>No</td>\n",
       "      <td>One year</td>\n",
       "      <td>No</td>\n",
       "      <td>Mailed check</td>\n",
       "      <td>55.15</td>\n",
       "      <td>742.9</td>\n",
       "    </tr>\n",
       "    <tr>\n",
       "      <th>7263</th>\n",
       "      <td>9992-RRAMN</td>\n",
       "      <td>Yes</td>\n",
       "      <td>Male</td>\n",
       "      <td>0</td>\n",
       "      <td>Yes</td>\n",
       "      <td>No</td>\n",
       "      <td>22</td>\n",
       "      <td>Yes</td>\n",
       "      <td>Yes</td>\n",
       "      <td>Fiber optic</td>\n",
       "      <td>...</td>\n",
       "      <td>No</td>\n",
       "      <td>No</td>\n",
       "      <td>No</td>\n",
       "      <td>No</td>\n",
       "      <td>Yes</td>\n",
       "      <td>Month-to-month</td>\n",
       "      <td>Yes</td>\n",
       "      <td>Electronic check</td>\n",
       "      <td>85.10</td>\n",
       "      <td>1873.7</td>\n",
       "    </tr>\n",
       "    <tr>\n",
       "      <th>7264</th>\n",
       "      <td>9992-UJOEL</td>\n",
       "      <td>No</td>\n",
       "      <td>Male</td>\n",
       "      <td>0</td>\n",
       "      <td>No</td>\n",
       "      <td>No</td>\n",
       "      <td>2</td>\n",
       "      <td>Yes</td>\n",
       "      <td>No</td>\n",
       "      <td>DSL</td>\n",
       "      <td>...</td>\n",
       "      <td>Yes</td>\n",
       "      <td>No</td>\n",
       "      <td>No</td>\n",
       "      <td>No</td>\n",
       "      <td>No</td>\n",
       "      <td>Month-to-month</td>\n",
       "      <td>Yes</td>\n",
       "      <td>Mailed check</td>\n",
       "      <td>50.30</td>\n",
       "      <td>92.75</td>\n",
       "    </tr>\n",
       "    <tr>\n",
       "      <th>7265</th>\n",
       "      <td>9993-LHIEB</td>\n",
       "      <td>No</td>\n",
       "      <td>Male</td>\n",
       "      <td>0</td>\n",
       "      <td>Yes</td>\n",
       "      <td>Yes</td>\n",
       "      <td>67</td>\n",
       "      <td>Yes</td>\n",
       "      <td>No</td>\n",
       "      <td>DSL</td>\n",
       "      <td>...</td>\n",
       "      <td>No</td>\n",
       "      <td>Yes</td>\n",
       "      <td>Yes</td>\n",
       "      <td>No</td>\n",
       "      <td>Yes</td>\n",
       "      <td>Two year</td>\n",
       "      <td>No</td>\n",
       "      <td>Mailed check</td>\n",
       "      <td>67.85</td>\n",
       "      <td>4627.65</td>\n",
       "    </tr>\n",
       "    <tr>\n",
       "      <th>7266</th>\n",
       "      <td>9995-HOTOH</td>\n",
       "      <td>No</td>\n",
       "      <td>Male</td>\n",
       "      <td>0</td>\n",
       "      <td>Yes</td>\n",
       "      <td>Yes</td>\n",
       "      <td>63</td>\n",
       "      <td>No</td>\n",
       "      <td>No phone service</td>\n",
       "      <td>DSL</td>\n",
       "      <td>...</td>\n",
       "      <td>Yes</td>\n",
       "      <td>Yes</td>\n",
       "      <td>No</td>\n",
       "      <td>Yes</td>\n",
       "      <td>Yes</td>\n",
       "      <td>Two year</td>\n",
       "      <td>No</td>\n",
       "      <td>Electronic check</td>\n",
       "      <td>59.00</td>\n",
       "      <td>3707.6</td>\n",
       "    </tr>\n",
       "  </tbody>\n",
       "</table>\n",
       "<p>7267 rows × 21 columns</p>\n",
       "</div>"
      ],
      "text/plain": [
       "      customerID Churn  gender  SeniorCitizen Partner Dependents  tenure  \\\n",
       "0     0002-ORFBO    No  Female              0     Yes        Yes       9   \n",
       "1     0003-MKNFE    No    Male              0      No         No       9   \n",
       "2     0004-TLHLJ   Yes    Male              0      No         No       4   \n",
       "3     0011-IGKFF   Yes    Male              1     Yes         No      13   \n",
       "4     0013-EXCHZ   Yes  Female              1     Yes         No       3   \n",
       "...          ...   ...     ...            ...     ...        ...     ...   \n",
       "7262  9987-LUTYD    No  Female              0      No         No      13   \n",
       "7263  9992-RRAMN   Yes    Male              0     Yes         No      22   \n",
       "7264  9992-UJOEL    No    Male              0      No         No       2   \n",
       "7265  9993-LHIEB    No    Male              0     Yes        Yes      67   \n",
       "7266  9995-HOTOH    No    Male              0     Yes        Yes      63   \n",
       "\n",
       "     PhoneService     MultipleLines InternetService  ... OnlineBackup  \\\n",
       "0             Yes                No             DSL  ...          Yes   \n",
       "1             Yes               Yes             DSL  ...           No   \n",
       "2             Yes                No     Fiber optic  ...           No   \n",
       "3             Yes                No     Fiber optic  ...          Yes   \n",
       "4             Yes                No     Fiber optic  ...           No   \n",
       "...           ...               ...             ...  ...          ...   \n",
       "7262          Yes                No             DSL  ...           No   \n",
       "7263          Yes               Yes     Fiber optic  ...           No   \n",
       "7264          Yes                No             DSL  ...          Yes   \n",
       "7265          Yes                No             DSL  ...           No   \n",
       "7266           No  No phone service             DSL  ...          Yes   \n",
       "\n",
       "     DeviceProtection TechSupport StreamingTV StreamingMovies        Contract  \\\n",
       "0                  No         Yes         Yes              No        One year   \n",
       "1                  No          No          No             Yes  Month-to-month   \n",
       "2                 Yes          No          No              No  Month-to-month   \n",
       "3                 Yes          No         Yes             Yes  Month-to-month   \n",
       "4                  No         Yes         Yes              No  Month-to-month   \n",
       "...               ...         ...         ...             ...             ...   \n",
       "7262               No         Yes          No              No        One year   \n",
       "7263               No          No          No             Yes  Month-to-month   \n",
       "7264               No          No          No              No  Month-to-month   \n",
       "7265              Yes         Yes          No             Yes        Two year   \n",
       "7266              Yes          No         Yes             Yes        Two year   \n",
       "\n",
       "     PaperlessBilling     PaymentMethod Charges.Monthly  Charges.Total  \n",
       "0                 Yes      Mailed check           65.60          593.3  \n",
       "1                  No      Mailed check           59.90          542.4  \n",
       "2                 Yes  Electronic check           73.90         280.85  \n",
       "3                 Yes  Electronic check           98.00        1237.85  \n",
       "4                 Yes      Mailed check           83.90          267.4  \n",
       "...               ...               ...             ...            ...  \n",
       "7262               No      Mailed check           55.15          742.9  \n",
       "7263              Yes  Electronic check           85.10         1873.7  \n",
       "7264              Yes      Mailed check           50.30          92.75  \n",
       "7265               No      Mailed check           67.85        4627.65  \n",
       "7266               No  Electronic check           59.00         3707.6  \n",
       "\n",
       "[7267 rows x 21 columns]"
      ]
     },
     "execution_count": 9,
     "metadata": {},
     "output_type": "execute_result"
    }
   ],
   "source": [
    "dataset = pd.concat([dados_limp, dados_customer,dados_phone, dados_internet, dados_account], axis=1)\n",
    "dataset"
   ]
  },
  {
   "cell_type": "markdown",
   "id": "0b9283ed",
   "metadata": {},
   "source": [
    "## Modificando as Configurações"
   ]
  },
  {
   "cell_type": "code",
   "execution_count": 10,
   "id": "7750d340",
   "metadata": {},
   "outputs": [],
   "source": [
    "pd.set_option(\"display.max_rows\", 1000)\n",
    "pd.set_option(\"display.max_columns\",100)"
   ]
  },
  {
   "cell_type": "markdown",
   "id": "a310ceb7",
   "metadata": {},
   "source": []
  },
  {
   "cell_type": "markdown",
   "id": "6901e68b",
   "metadata": {},
   "source": [
    "# Analisando os tipos de dados"
   ]
  },
  {
   "cell_type": "code",
   "execution_count": 11,
   "id": "2f24fcdb",
   "metadata": {},
   "outputs": [
    {
     "name": "stdout",
     "output_type": "stream",
     "text": [
      "<class 'pandas.core.frame.DataFrame'>\n",
      "RangeIndex: 7267 entries, 0 to 7266\n",
      "Data columns (total 21 columns):\n",
      " #   Column            Non-Null Count  Dtype  \n",
      "---  ------            --------------  -----  \n",
      " 0   customerID        7267 non-null   object \n",
      " 1   Churn             7267 non-null   object \n",
      " 2   gender            7267 non-null   object \n",
      " 3   SeniorCitizen     7267 non-null   int64  \n",
      " 4   Partner           7267 non-null   object \n",
      " 5   Dependents        7267 non-null   object \n",
      " 6   tenure            7267 non-null   int64  \n",
      " 7   PhoneService      7267 non-null   object \n",
      " 8   MultipleLines     7267 non-null   object \n",
      " 9   InternetService   7267 non-null   object \n",
      " 10  OnlineSecurity    7267 non-null   object \n",
      " 11  OnlineBackup      7267 non-null   object \n",
      " 12  DeviceProtection  7267 non-null   object \n",
      " 13  TechSupport       7267 non-null   object \n",
      " 14  StreamingTV       7267 non-null   object \n",
      " 15  StreamingMovies   7267 non-null   object \n",
      " 16  Contract          7267 non-null   object \n",
      " 17  PaperlessBilling  7267 non-null   object \n",
      " 18  PaymentMethod     7267 non-null   object \n",
      " 19  Charges.Monthly   7267 non-null   float64\n",
      " 20  Charges.Total     7267 non-null   object \n",
      "dtypes: float64(1), int64(2), object(18)\n",
      "memory usage: 1.2+ MB\n"
     ]
    }
   ],
   "source": [
    "dataset.info()"
   ]
  },
  {
   "cell_type": "code",
   "execution_count": 12,
   "id": "cbfeb3ac",
   "metadata": {},
   "outputs": [
    {
     "data": {
      "text/html": [
       "<div>\n",
       "<style scoped>\n",
       "    .dataframe tbody tr th:only-of-type {\n",
       "        vertical-align: middle;\n",
       "    }\n",
       "\n",
       "    .dataframe tbody tr th {\n",
       "        vertical-align: top;\n",
       "    }\n",
       "\n",
       "    .dataframe thead th {\n",
       "        text-align: right;\n",
       "    }\n",
       "</style>\n",
       "<table border=\"1\" class=\"dataframe\">\n",
       "  <thead>\n",
       "    <tr style=\"text-align: right;\">\n",
       "      <th></th>\n",
       "      <th>SeniorCitizen</th>\n",
       "      <th>tenure</th>\n",
       "      <th>Charges.Monthly</th>\n",
       "    </tr>\n",
       "  </thead>\n",
       "  <tbody>\n",
       "    <tr>\n",
       "      <th>count</th>\n",
       "      <td>7267.000000</td>\n",
       "      <td>7267.000000</td>\n",
       "      <td>7267.000000</td>\n",
       "    </tr>\n",
       "    <tr>\n",
       "      <th>mean</th>\n",
       "      <td>0.162653</td>\n",
       "      <td>32.346498</td>\n",
       "      <td>64.720098</td>\n",
       "    </tr>\n",
       "    <tr>\n",
       "      <th>std</th>\n",
       "      <td>0.369074</td>\n",
       "      <td>24.571773</td>\n",
       "      <td>30.129572</td>\n",
       "    </tr>\n",
       "    <tr>\n",
       "      <th>min</th>\n",
       "      <td>0.000000</td>\n",
       "      <td>0.000000</td>\n",
       "      <td>18.250000</td>\n",
       "    </tr>\n",
       "    <tr>\n",
       "      <th>25%</th>\n",
       "      <td>0.000000</td>\n",
       "      <td>9.000000</td>\n",
       "      <td>35.425000</td>\n",
       "    </tr>\n",
       "    <tr>\n",
       "      <th>50%</th>\n",
       "      <td>0.000000</td>\n",
       "      <td>29.000000</td>\n",
       "      <td>70.300000</td>\n",
       "    </tr>\n",
       "    <tr>\n",
       "      <th>75%</th>\n",
       "      <td>0.000000</td>\n",
       "      <td>55.000000</td>\n",
       "      <td>89.875000</td>\n",
       "    </tr>\n",
       "    <tr>\n",
       "      <th>max</th>\n",
       "      <td>1.000000</td>\n",
       "      <td>72.000000</td>\n",
       "      <td>118.750000</td>\n",
       "    </tr>\n",
       "  </tbody>\n",
       "</table>\n",
       "</div>"
      ],
      "text/plain": [
       "       SeniorCitizen       tenure  Charges.Monthly\n",
       "count    7267.000000  7267.000000      7267.000000\n",
       "mean        0.162653    32.346498        64.720098\n",
       "std         0.369074    24.571773        30.129572\n",
       "min         0.000000     0.000000        18.250000\n",
       "25%         0.000000     9.000000        35.425000\n",
       "50%         0.000000    29.000000        70.300000\n",
       "75%         0.000000    55.000000        89.875000\n",
       "max         1.000000    72.000000       118.750000"
      ]
     },
     "execution_count": 12,
     "metadata": {},
     "output_type": "execute_result"
    }
   ],
   "source": [
    "dataset.describe()"
   ]
  },
  {
   "cell_type": "code",
   "execution_count": 13,
   "id": "f3cb1abd",
   "metadata": {},
   "outputs": [
    {
     "data": {
      "text/plain": [
       "customerID          0\n",
       "Churn               0\n",
       "gender              0\n",
       "SeniorCitizen       0\n",
       "Partner             0\n",
       "Dependents          0\n",
       "tenure              0\n",
       "PhoneService        0\n",
       "MultipleLines       0\n",
       "InternetService     0\n",
       "OnlineSecurity      0\n",
       "OnlineBackup        0\n",
       "DeviceProtection    0\n",
       "TechSupport         0\n",
       "StreamingTV         0\n",
       "StreamingMovies     0\n",
       "Contract            0\n",
       "PaperlessBilling    0\n",
       "PaymentMethod       0\n",
       "Charges.Monthly     0\n",
       "Charges.Total       0\n",
       "dtype: int64"
      ]
     },
     "execution_count": 13,
     "metadata": {},
     "output_type": "execute_result"
    }
   ],
   "source": [
    "dataset.isnull().sum()"
   ]
  },
  {
   "cell_type": "markdown",
   "id": "3080fec4",
   "metadata": {},
   "source": [
    "# Traduzindo colunas"
   ]
  },
  {
   "cell_type": "code",
   "execution_count": 14,
   "id": "c5609f14",
   "metadata": {},
   "outputs": [
    {
     "data": {
      "text/html": [
       "<div>\n",
       "<style scoped>\n",
       "    .dataframe tbody tr th:only-of-type {\n",
       "        vertical-align: middle;\n",
       "    }\n",
       "\n",
       "    .dataframe tbody tr th {\n",
       "        vertical-align: top;\n",
       "    }\n",
       "\n",
       "    .dataframe thead th {\n",
       "        text-align: right;\n",
       "    }\n",
       "</style>\n",
       "<table border=\"1\" class=\"dataframe\">\n",
       "  <thead>\n",
       "    <tr style=\"text-align: right;\">\n",
       "      <th></th>\n",
       "      <th>ID</th>\n",
       "      <th>Churn</th>\n",
       "      <th>Sexo</th>\n",
       "      <th>Sênior</th>\n",
       "      <th>Parceiro</th>\n",
       "      <th>Dependentes</th>\n",
       "      <th>Posse</th>\n",
       "      <th>Telefone</th>\n",
       "      <th>VáriasLinhas</th>\n",
       "      <th>SegurançaOnline</th>\n",
       "      <th>ServiçoInternet</th>\n",
       "      <th>BackupOnline</th>\n",
       "      <th>ProteçãoDispositivo</th>\n",
       "      <th>SuporteTécnico</th>\n",
       "      <th>StreamingTV</th>\n",
       "      <th>StreamingFilmes</th>\n",
       "      <th>Contato</th>\n",
       "      <th>FaturamentoSemPapel</th>\n",
       "      <th>FormaDePagamento</th>\n",
       "      <th>EncargosMensal</th>\n",
       "      <th>EncargosTotal</th>\n",
       "    </tr>\n",
       "  </thead>\n",
       "  <tbody>\n",
       "    <tr>\n",
       "      <th>0</th>\n",
       "      <td>0002-ORFBO</td>\n",
       "      <td>No</td>\n",
       "      <td>Female</td>\n",
       "      <td>0</td>\n",
       "      <td>Yes</td>\n",
       "      <td>Yes</td>\n",
       "      <td>9</td>\n",
       "      <td>Yes</td>\n",
       "      <td>No</td>\n",
       "      <td>DSL</td>\n",
       "      <td>No</td>\n",
       "      <td>Yes</td>\n",
       "      <td>No</td>\n",
       "      <td>Yes</td>\n",
       "      <td>Yes</td>\n",
       "      <td>No</td>\n",
       "      <td>One year</td>\n",
       "      <td>Yes</td>\n",
       "      <td>Mailed check</td>\n",
       "      <td>65.6</td>\n",
       "      <td>593.3</td>\n",
       "    </tr>\n",
       "    <tr>\n",
       "      <th>1</th>\n",
       "      <td>0003-MKNFE</td>\n",
       "      <td>No</td>\n",
       "      <td>Male</td>\n",
       "      <td>0</td>\n",
       "      <td>No</td>\n",
       "      <td>No</td>\n",
       "      <td>9</td>\n",
       "      <td>Yes</td>\n",
       "      <td>Yes</td>\n",
       "      <td>DSL</td>\n",
       "      <td>No</td>\n",
       "      <td>No</td>\n",
       "      <td>No</td>\n",
       "      <td>No</td>\n",
       "      <td>No</td>\n",
       "      <td>Yes</td>\n",
       "      <td>Month-to-month</td>\n",
       "      <td>No</td>\n",
       "      <td>Mailed check</td>\n",
       "      <td>59.9</td>\n",
       "      <td>542.4</td>\n",
       "    </tr>\n",
       "    <tr>\n",
       "      <th>2</th>\n",
       "      <td>0004-TLHLJ</td>\n",
       "      <td>Yes</td>\n",
       "      <td>Male</td>\n",
       "      <td>0</td>\n",
       "      <td>No</td>\n",
       "      <td>No</td>\n",
       "      <td>4</td>\n",
       "      <td>Yes</td>\n",
       "      <td>No</td>\n",
       "      <td>Fiber optic</td>\n",
       "      <td>No</td>\n",
       "      <td>No</td>\n",
       "      <td>Yes</td>\n",
       "      <td>No</td>\n",
       "      <td>No</td>\n",
       "      <td>No</td>\n",
       "      <td>Month-to-month</td>\n",
       "      <td>Yes</td>\n",
       "      <td>Electronic check</td>\n",
       "      <td>73.9</td>\n",
       "      <td>280.85</td>\n",
       "    </tr>\n",
       "    <tr>\n",
       "      <th>3</th>\n",
       "      <td>0011-IGKFF</td>\n",
       "      <td>Yes</td>\n",
       "      <td>Male</td>\n",
       "      <td>1</td>\n",
       "      <td>Yes</td>\n",
       "      <td>No</td>\n",
       "      <td>13</td>\n",
       "      <td>Yes</td>\n",
       "      <td>No</td>\n",
       "      <td>Fiber optic</td>\n",
       "      <td>No</td>\n",
       "      <td>Yes</td>\n",
       "      <td>Yes</td>\n",
       "      <td>No</td>\n",
       "      <td>Yes</td>\n",
       "      <td>Yes</td>\n",
       "      <td>Month-to-month</td>\n",
       "      <td>Yes</td>\n",
       "      <td>Electronic check</td>\n",
       "      <td>98.0</td>\n",
       "      <td>1237.85</td>\n",
       "    </tr>\n",
       "    <tr>\n",
       "      <th>4</th>\n",
       "      <td>0013-EXCHZ</td>\n",
       "      <td>Yes</td>\n",
       "      <td>Female</td>\n",
       "      <td>1</td>\n",
       "      <td>Yes</td>\n",
       "      <td>No</td>\n",
       "      <td>3</td>\n",
       "      <td>Yes</td>\n",
       "      <td>No</td>\n",
       "      <td>Fiber optic</td>\n",
       "      <td>No</td>\n",
       "      <td>No</td>\n",
       "      <td>No</td>\n",
       "      <td>Yes</td>\n",
       "      <td>Yes</td>\n",
       "      <td>No</td>\n",
       "      <td>Month-to-month</td>\n",
       "      <td>Yes</td>\n",
       "      <td>Mailed check</td>\n",
       "      <td>83.9</td>\n",
       "      <td>267.4</td>\n",
       "    </tr>\n",
       "  </tbody>\n",
       "</table>\n",
       "</div>"
      ],
      "text/plain": [
       "           ID Churn    Sexo  Sênior Parceiro Dependentes  Posse Telefone  \\\n",
       "0  0002-ORFBO    No  Female       0      Yes         Yes      9      Yes   \n",
       "1  0003-MKNFE    No    Male       0       No          No      9      Yes   \n",
       "2  0004-TLHLJ   Yes    Male       0       No          No      4      Yes   \n",
       "3  0011-IGKFF   Yes    Male       1      Yes          No     13      Yes   \n",
       "4  0013-EXCHZ   Yes  Female       1      Yes          No      3      Yes   \n",
       "\n",
       "  VáriasLinhas SegurançaOnline ServiçoInternet BackupOnline  \\\n",
       "0           No             DSL              No          Yes   \n",
       "1          Yes             DSL              No           No   \n",
       "2           No     Fiber optic              No           No   \n",
       "3           No     Fiber optic              No          Yes   \n",
       "4           No     Fiber optic              No           No   \n",
       "\n",
       "  ProteçãoDispositivo SuporteTécnico StreamingTV StreamingFilmes  \\\n",
       "0                  No            Yes         Yes              No   \n",
       "1                  No             No          No             Yes   \n",
       "2                 Yes             No          No              No   \n",
       "3                 Yes             No         Yes             Yes   \n",
       "4                  No            Yes         Yes              No   \n",
       "\n",
       "          Contato FaturamentoSemPapel  FormaDePagamento  EncargosMensal  \\\n",
       "0        One year                 Yes      Mailed check            65.6   \n",
       "1  Month-to-month                  No      Mailed check            59.9   \n",
       "2  Month-to-month                 Yes  Electronic check            73.9   \n",
       "3  Month-to-month                 Yes  Electronic check            98.0   \n",
       "4  Month-to-month                 Yes      Mailed check            83.9   \n",
       "\n",
       "  EncargosTotal  \n",
       "0         593.3  \n",
       "1         542.4  \n",
       "2        280.85  \n",
       "3       1237.85  \n",
       "4         267.4  "
      ]
     },
     "execution_count": 14,
     "metadata": {},
     "output_type": "execute_result"
    }
   ],
   "source": [
    "dataset.columns = ['ID', 'Churn', 'Sexo', 'Sênior', 'Parceiro', 'Dependentes', 'Posse', 'Telefone', 'VáriasLinhas', 'SegurançaOnline','ServiçoInternet', 'BackupOnline', 'ProteçãoDispositivo', 'SuporteTécnico', 'StreamingTV', 'StreamingFilmes', 'Contato', 'FaturamentoSemPapel', 'FormaDePagamento', 'EncargosMensal', 'EncargosTotal']\n",
    "dataset.head()"
   ]
  },
  {
   "cell_type": "markdown",
   "id": "4e73ff78",
   "metadata": {},
   "source": [
    "# Agora vamos verificar quais são as inconsistências nos dados e corrigir as inconsistências nos dados, passando por cada coluna"
   ]
  },
  {
   "cell_type": "markdown",
   "id": "ed5d0e68",
   "metadata": {},
   "source": [
    "# Verificando a coluna ID"
   ]
  },
  {
   "cell_type": "code",
   "execution_count": 15,
   "id": "d732019f",
   "metadata": {},
   "outputs": [
    {
     "data": {
      "text/plain": [
       "array(['0002-ORFBO', '0003-MKNFE', '0004-TLHLJ', ..., '9992-UJOEL',\n",
       "       '9993-LHIEB', '9995-HOTOH'], dtype=object)"
      ]
     },
     "execution_count": 15,
     "metadata": {},
     "output_type": "execute_result"
    }
   ],
   "source": [
    "dataset['ID'].unique()"
   ]
  },
  {
   "cell_type": "code",
   "execution_count": 16,
   "id": "a8ec18db",
   "metadata": {},
   "outputs": [
    {
     "data": {
      "text/plain": [
       "0002-ORFBO    1\n",
       "6614-VBEGU    1\n",
       "6637-KYRCV    1\n",
       "6635-MYYYZ    1\n",
       "6635-CPNUN    1\n",
       "             ..\n",
       "3374-TTZTK    1\n",
       "3374-PZLXD    1\n",
       "3374-LXDEV    1\n",
       "3373-YZZYM    1\n",
       "9995-HOTOH    1\n",
       "Name: ID, Length: 7267, dtype: int64"
      ]
     },
     "execution_count": 16,
     "metadata": {},
     "output_type": "execute_result"
    }
   ],
   "source": [
    "dataset['ID'].value_counts()"
   ]
  },
  {
   "cell_type": "markdown",
   "id": "c13234ef",
   "metadata": {},
   "source": [
    "# Verificando a coluna Churn"
   ]
  },
  {
   "cell_type": "code",
   "execution_count": 17,
   "id": "ba14f299",
   "metadata": {},
   "outputs": [
    {
     "data": {
      "text/plain": [
       "No     5174\n",
       "Yes    1869\n",
       "        224\n",
       "Name: Churn, dtype: int64"
      ]
     },
     "execution_count": 17,
     "metadata": {},
     "output_type": "execute_result"
    }
   ],
   "source": [
    "dataset['Churn'].value_counts()"
   ]
  },
  {
   "cell_type": "code",
   "execution_count": 18,
   "id": "dc5c2cfd",
   "metadata": {},
   "outputs": [],
   "source": [
    "filtro  = dataset['Churn'] != ''\n",
    "dataset = dataset[filtro]"
   ]
  },
  {
   "cell_type": "markdown",
   "id": "489873bd",
   "metadata": {},
   "source": [
    "dataset.head()"
   ]
  },
  {
   "cell_type": "code",
   "execution_count": 19,
   "id": "e56a51b4",
   "metadata": {},
   "outputs": [
    {
     "data": {
      "text/plain": [
       "No     5174\n",
       "Yes    1869\n",
       "Name: Churn, dtype: int64"
      ]
     },
     "execution_count": 19,
     "metadata": {},
     "output_type": "execute_result"
    }
   ],
   "source": [
    "dataset['Churn'].value_counts()"
   ]
  },
  {
   "cell_type": "code",
   "execution_count": 20,
   "id": "0f8b5f51",
   "metadata": {},
   "outputs": [
    {
     "data": {
      "text/plain": [
       "(7043, 21)"
      ]
     },
     "execution_count": 20,
     "metadata": {},
     "output_type": "execute_result"
    }
   ],
   "source": [
    "dataset.shape"
   ]
  },
  {
   "cell_type": "code",
   "execution_count": 21,
   "id": "a5d32aef",
   "metadata": {},
   "outputs": [
    {
     "data": {
      "text/plain": [
       "(-1.117218204587607,\n",
       " 1.1008199145041717,\n",
       " -1.1101299214113773,\n",
       " 1.119426955701786)"
      ]
     },
     "execution_count": 21,
     "metadata": {},
     "output_type": "execute_result"
    },
    {
     "data": {
      "image/png": "[encoded data removed]",
      "text/plain": [
       "<Figure size 432x288 with 1 Axes>"
      ]
     },
     "metadata": {},
     "output_type": "display_data"
    }
   ],
   "source": [
    "# Com Pandas\n",
    "dataset['Churn'].value_counts().plot(kind='pie', autopct='%.2f%%')\n",
    "plt.axis('equal')  # Para deixar o gráfico redondo\n"
   ]
  },
  {
   "cell_type": "code",
   "execution_count": 22,
   "id": "7ed238fe",
   "metadata": {},
   "outputs": [
    {
     "name": "stderr",
     "output_type": "stream",
     "text": [
      "C:\\Users\\PC\\anaconda3\\lib\\site-packages\\seaborn\\categorical.py:3717: UserWarning: The `factorplot` function has been renamed to `catplot`. The original name will be removed in a future release. Please update your code. Note that the default `kind` in `factorplot` (`'point'`) has changed `'strip'` in `catplot`.\n",
      "  warnings.warn(msg)\n",
      "C:\\Users\\PC\\anaconda3\\lib\\site-packages\\seaborn\\_decorators.py:36: FutureWarning: Pass the following variable as a keyword arg: x. From version 0.12, the only valid positional argument will be `data`, and passing other arguments without an explicit keyword will result in an error or misinterpretation.\n",
      "  warnings.warn(\n"
     ]
    },
    {
     "data": {
      "text/plain": [
       "<seaborn.axisgrid.FacetGrid at 0x24601e81700>"
      ]
     },
     "execution_count": 22,
     "metadata": {},
     "output_type": "execute_result"
    },
    {
     "data": {
      "image/png": "[encoded data removed]",
      "text/plain": [
       "<Figure size 360x360 with 1 Axes>"
      ]
     },
     "metadata": {
      "needs_background": "light"
     },
     "output_type": "display_data"
    }
   ],
   "source": [
    "# Com Seaborn\n",
    "sns.factorplot('Churn', data=dataset, kind='count')"
   ]
  },
  {
   "cell_type": "markdown",
   "id": "000a84b7",
   "metadata": {},
   "source": [
    "# Verificando a coluna sexo"
   ]
  },
  {
   "cell_type": "code",
   "execution_count": 23,
   "id": "4c0b7f85",
   "metadata": {},
   "outputs": [
    {
     "data": {
      "text/plain": [
       "array(['Female', 'Male'], dtype=object)"
      ]
     },
     "execution_count": 23,
     "metadata": {},
     "output_type": "execute_result"
    }
   ],
   "source": [
    "dataset['Sexo'].unique()"
   ]
  },
  {
   "cell_type": "code",
   "execution_count": 24,
   "id": "226df6cd",
   "metadata": {},
   "outputs": [
    {
     "data": {
      "text/plain": [
       "Male      3555\n",
       "Female    3488\n",
       "Name: Sexo, dtype: int64"
      ]
     },
     "execution_count": 24,
     "metadata": {},
     "output_type": "execute_result"
    }
   ],
   "source": [
    "dataset['Sexo'].value_counts()"
   ]
  },
  {
   "cell_type": "code",
   "execution_count": 25,
   "id": "6b0899f3",
   "metadata": {},
   "outputs": [
    {
     "data": {
      "text/plain": [
       "(-1.103690781218152,\n",
       " 1.1001757514865786,\n",
       " -1.1040952518372837,\n",
       " 1.1021533979165719)"
      ]
     },
     "execution_count": 25,
     "metadata": {},
     "output_type": "execute_result"
    },
    {
     "data": {
      "image/png": "[encoded data removed]",
      "text/plain": [
       "<Figure size 432x288 with 1 Axes>"
      ]
     },
     "metadata": {},
     "output_type": "display_data"
    }
   ],
   "source": [
    "# Com Pandas\n",
    "dataset['Sexo'].value_counts().plot(kind='pie', autopct='%.2f%%')\n",
    "plt.axis('equal')  # Para deixar o gráfico redondo"
   ]
  },
  {
   "cell_type": "markdown",
   "id": "d02e3632",
   "metadata": {},
   "source": [
    "# Verificando a coluna Sênior"
   ]
  },
  {
   "cell_type": "code",
   "execution_count": 26,
   "id": "0e25c018",
   "metadata": {},
   "outputs": [
    {
     "data": {
      "text/plain": [
       "array([0, 1], dtype=int64)"
      ]
     },
     "execution_count": 26,
     "metadata": {},
     "output_type": "execute_result"
    }
   ],
   "source": [
    "dataset['Sênior'].unique()"
   ]
  },
  {
   "cell_type": "code",
   "execution_count": 27,
   "id": "91c3cbbe",
   "metadata": {},
   "outputs": [
    {
     "data": {
      "text/plain": [
       "0"
      ]
     },
     "execution_count": 27,
     "metadata": {},
     "output_type": "execute_result"
    }
   ],
   "source": [
    "dataset['Sênior'].isnull().sum()"
   ]
  },
  {
   "cell_type": "code",
   "execution_count": 28,
   "id": "43aca49f",
   "metadata": {},
   "outputs": [
    {
     "data": {
      "text/plain": [
       "0    5901\n",
       "1    1142\n",
       "Name: Sênior, dtype: int64"
      ]
     },
     "execution_count": 28,
     "metadata": {},
     "output_type": "execute_result"
    }
   ],
   "source": [
    "dataset['Sênior'].value_counts()"
   ]
  },
  {
   "cell_type": "markdown",
   "id": "a90f68ce",
   "metadata": {},
   "source": [
    "# Verificando a coluna Parceiro"
   ]
  },
  {
   "cell_type": "code",
   "execution_count": 29,
   "id": "9d78f57a",
   "metadata": {},
   "outputs": [
    {
     "data": {
      "text/plain": [
       "array(['Yes', 'No'], dtype=object)"
      ]
     },
     "execution_count": 29,
     "metadata": {},
     "output_type": "execute_result"
    }
   ],
   "source": [
    "dataset['Parceiro'].unique()"
   ]
  },
  {
   "cell_type": "code",
   "execution_count": 30,
   "id": "908efb91",
   "metadata": {},
   "outputs": [
    {
     "data": {
      "text/plain": [
       "No     3641\n",
       "Yes    3402\n",
       "Name: Parceiro, dtype: int64"
      ]
     },
     "execution_count": 30,
     "metadata": {},
     "output_type": "execute_result"
    }
   ],
   "source": [
    "dataset['Parceiro'].value_counts()"
   ]
  },
  {
   "cell_type": "markdown",
   "id": "e7d29988",
   "metadata": {},
   "source": [
    "# Verificando a coluna Dependentes"
   ]
  },
  {
   "cell_type": "code",
   "execution_count": 31,
   "id": "a35bb05a",
   "metadata": {},
   "outputs": [
    {
     "data": {
      "text/plain": [
       "array(['Yes', 'No'], dtype=object)"
      ]
     },
     "execution_count": 31,
     "metadata": {},
     "output_type": "execute_result"
    }
   ],
   "source": [
    "dataset['Dependentes'].unique()"
   ]
  },
  {
   "cell_type": "code",
   "execution_count": 32,
   "id": "b21f3532",
   "metadata": {},
   "outputs": [
    {
     "data": {
      "text/plain": [
       "No     4933\n",
       "Yes    2110\n",
       "Name: Dependentes, dtype: int64"
      ]
     },
     "execution_count": 32,
     "metadata": {},
     "output_type": "execute_result"
    }
   ],
   "source": [
    "dataset['Dependentes'].value_counts()"
   ]
  },
  {
   "cell_type": "markdown",
   "id": "967925b9",
   "metadata": {},
   "source": [
    "# Vefiricando a coluna Posse"
   ]
  },
  {
   "cell_type": "code",
   "execution_count": 33,
   "id": "bcdb41f0",
   "metadata": {},
   "outputs": [
    {
     "data": {
      "text/plain": [
       "array([ 9,  4, 13,  3, 71, 63,  7, 65, 54, 72,  5, 56, 34,  1, 45, 50, 23,\n",
       "       55, 26, 69, 37, 49, 66, 67, 20, 43, 59, 12, 27,  2, 25, 29, 14, 35,\n",
       "       64, 39, 40, 11,  6, 30, 70, 57, 58, 16, 32, 33, 10, 21, 61, 15, 44,\n",
       "       22, 24, 19, 47, 62, 46, 52,  8, 60, 48, 28, 41, 53, 68, 31, 36, 17,\n",
       "       18, 51, 38, 42,  0], dtype=int64)"
      ]
     },
     "execution_count": 33,
     "metadata": {},
     "output_type": "execute_result"
    }
   ],
   "source": [
    "dataset['Posse'].unique()"
   ]
  },
  {
   "cell_type": "code",
   "execution_count": 34,
   "id": "bc0ad6fa",
   "metadata": {},
   "outputs": [
    {
     "data": {
      "text/plain": [
       "0"
      ]
     },
     "execution_count": 34,
     "metadata": {},
     "output_type": "execute_result"
    }
   ],
   "source": [
    "dataset['Posse'].isnull().sum()"
   ]
  },
  {
   "cell_type": "code",
   "execution_count": 35,
   "id": "b00daaa4",
   "metadata": {},
   "outputs": [
    {
     "name": "stderr",
     "output_type": "stream",
     "text": [
      "C:\\Users\\PC\\anaconda3\\lib\\site-packages\\seaborn\\distributions.py:2619: FutureWarning: `distplot` is a deprecated function and will be removed in a future version. Please adapt your code to use either `displot` (a figure-level function with similar flexibility) or `histplot` (an axes-level function for histograms).\n",
      "  warnings.warn(msg, FutureWarning)\n"
     ]
    },
    {
     "data": {
      "text/plain": [
       "<AxesSubplot:xlabel='Posse', ylabel='Density'>"
      ]
     },
     "execution_count": 35,
     "metadata": {},
     "output_type": "execute_result"
    },
    {
     "data": {
      "image/png": "[encoded data removed]",
      "text/plain": [
       "<Figure size 432x288 with 1 Axes>"
      ]
     },
     "metadata": {
      "needs_background": "light"
     },
     "output_type": "display_data"
    }
   ],
   "source": [
    "sns.distplot(dataset['Posse'], hist = True, kde = True,\n",
    "             bins = 6, color = 'blue',\n",
    "             hist_kws={'edgecolor': 'black'})"
   ]
  },
  {
   "cell_type": "markdown",
   "id": "4a3ec930",
   "metadata": {},
   "source": [
    "# Verificando coluna Telefone"
   ]
  },
  {
   "cell_type": "code",
   "execution_count": 36,
   "id": "0bf02ea1",
   "metadata": {},
   "outputs": [
    {
     "data": {
      "text/plain": [
       "array(['Yes', 'No'], dtype=object)"
      ]
     },
     "execution_count": 36,
     "metadata": {},
     "output_type": "execute_result"
    }
   ],
   "source": [
    "dataset['Telefone'].unique()"
   ]
  },
  {
   "cell_type": "code",
   "execution_count": 37,
   "id": "6c669d4b",
   "metadata": {},
   "outputs": [
    {
     "data": {
      "text/plain": [
       "Yes    6361\n",
       "No      682\n",
       "Name: Telefone, dtype: int64"
      ]
     },
     "execution_count": 37,
     "metadata": {},
     "output_type": "execute_result"
    }
   ],
   "source": [
    "dataset['Telefone'].value_counts()"
   ]
  },
  {
   "cell_type": "markdown",
   "id": "551f7ed8",
   "metadata": {},
   "source": [
    "# Verificando coluna VáriasLinhas"
   ]
  },
  {
   "cell_type": "code",
   "execution_count": 38,
   "id": "4a3537a0",
   "metadata": {},
   "outputs": [
    {
     "data": {
      "text/plain": [
       "array(['No', 'Yes', 'No phone service'], dtype=object)"
      ]
     },
     "execution_count": 38,
     "metadata": {},
     "output_type": "execute_result"
    }
   ],
   "source": [
    "dataset['VáriasLinhas'].unique()"
   ]
  },
  {
   "cell_type": "code",
   "execution_count": 39,
   "id": "43095d79",
   "metadata": {},
   "outputs": [
    {
     "data": {
      "text/plain": [
       "No                  3390\n",
       "Yes                 2971\n",
       "No phone service     682\n",
       "Name: VáriasLinhas, dtype: int64"
      ]
     },
     "execution_count": 39,
     "metadata": {},
     "output_type": "execute_result"
    }
   ],
   "source": [
    "dataset['VáriasLinhas'].value_counts()"
   ]
  },
  {
   "cell_type": "markdown",
   "id": "e5ed34dc",
   "metadata": {},
   "source": [
    "# Verificando coluna SegurançaOnline"
   ]
  },
  {
   "cell_type": "code",
   "execution_count": 40,
   "id": "4fcabddb",
   "metadata": {},
   "outputs": [
    {
     "data": {
      "text/plain": [
       "array(['DSL', 'Fiber optic', 'No'], dtype=object)"
      ]
     },
     "execution_count": 40,
     "metadata": {},
     "output_type": "execute_result"
    }
   ],
   "source": [
    "dataset['SegurançaOnline'].unique()"
   ]
  },
  {
   "cell_type": "code",
   "execution_count": 41,
   "id": "daec0a73",
   "metadata": {},
   "outputs": [
    {
     "data": {
      "text/plain": [
       "Fiber optic    3096\n",
       "DSL            2421\n",
       "No             1526\n",
       "Name: SegurançaOnline, dtype: int64"
      ]
     },
     "execution_count": 41,
     "metadata": {},
     "output_type": "execute_result"
    }
   ],
   "source": [
    "dataset['SegurançaOnline'].value_counts()"
   ]
  },
  {
   "cell_type": "markdown",
   "id": "ef581f87",
   "metadata": {},
   "source": [
    "# Verificando coluna ServiçoInternet"
   ]
  },
  {
   "cell_type": "code",
   "execution_count": 42,
   "id": "8e3e1e76",
   "metadata": {},
   "outputs": [
    {
     "data": {
      "text/plain": [
       "array(['No', 'Yes', 'No internet service'], dtype=object)"
      ]
     },
     "execution_count": 42,
     "metadata": {},
     "output_type": "execute_result"
    }
   ],
   "source": [
    "dataset['ServiçoInternet'].unique()"
   ]
  },
  {
   "cell_type": "code",
   "execution_count": 43,
   "id": "dccd06ef",
   "metadata": {},
   "outputs": [
    {
     "data": {
      "text/plain": [
       "No                     3498\n",
       "Yes                    2019\n",
       "No internet service    1526\n",
       "Name: ServiçoInternet, dtype: int64"
      ]
     },
     "execution_count": 43,
     "metadata": {},
     "output_type": "execute_result"
    }
   ],
   "source": [
    "dataset['ServiçoInternet'].value_counts()"
   ]
  },
  {
   "cell_type": "markdown",
   "id": "ea4d4dc0",
   "metadata": {},
   "source": [
    "# Verificando coluna BackupOnline"
   ]
  },
  {
   "cell_type": "code",
   "execution_count": 44,
   "id": "a67340b3",
   "metadata": {},
   "outputs": [
    {
     "data": {
      "text/plain": [
       "array(['Yes', 'No', 'No internet service'], dtype=object)"
      ]
     },
     "execution_count": 44,
     "metadata": {},
     "output_type": "execute_result"
    }
   ],
   "source": [
    "dataset['BackupOnline'].unique()"
   ]
  },
  {
   "cell_type": "code",
   "execution_count": 45,
   "id": "982d4d04",
   "metadata": {},
   "outputs": [
    {
     "data": {
      "text/plain": [
       "No                     3088\n",
       "Yes                    2429\n",
       "No internet service    1526\n",
       "Name: BackupOnline, dtype: int64"
      ]
     },
     "execution_count": 45,
     "metadata": {},
     "output_type": "execute_result"
    }
   ],
   "source": [
    "dataset['BackupOnline'].value_counts()"
   ]
  },
  {
   "cell_type": "markdown",
   "id": "5f4bb5b6",
   "metadata": {},
   "source": [
    "# Verificando coluna ProteçãoDispositivo"
   ]
  },
  {
   "cell_type": "code",
   "execution_count": 46,
   "id": "7fb38614",
   "metadata": {},
   "outputs": [
    {
     "data": {
      "text/plain": [
       "array(['No', 'Yes', 'No internet service'], dtype=object)"
      ]
     },
     "execution_count": 46,
     "metadata": {},
     "output_type": "execute_result"
    }
   ],
   "source": [
    "dataset['ProteçãoDispositivo'].unique()"
   ]
  },
  {
   "cell_type": "code",
   "execution_count": 47,
   "id": "21169fee",
   "metadata": {},
   "outputs": [
    {
     "data": {
      "text/plain": [
       "No                     3095\n",
       "Yes                    2422\n",
       "No internet service    1526\n",
       "Name: ProteçãoDispositivo, dtype: int64"
      ]
     },
     "execution_count": 47,
     "metadata": {},
     "output_type": "execute_result"
    }
   ],
   "source": [
    "dataset['ProteçãoDispositivo'].value_counts()"
   ]
  },
  {
   "cell_type": "markdown",
   "id": "afc0a912",
   "metadata": {},
   "source": [
    "# Verificando coluna SuporteTécnico"
   ]
  },
  {
   "cell_type": "code",
   "execution_count": 48,
   "id": "c1985234",
   "metadata": {},
   "outputs": [
    {
     "data": {
      "text/plain": [
       "array(['Yes', 'No', 'No internet service'], dtype=object)"
      ]
     },
     "execution_count": 48,
     "metadata": {},
     "output_type": "execute_result"
    }
   ],
   "source": [
    "dataset['SuporteTécnico'].unique()"
   ]
  },
  {
   "cell_type": "code",
   "execution_count": 49,
   "id": "a152f440",
   "metadata": {},
   "outputs": [
    {
     "data": {
      "text/plain": [
       "No                     3473\n",
       "Yes                    2044\n",
       "No internet service    1526\n",
       "Name: SuporteTécnico, dtype: int64"
      ]
     },
     "execution_count": 49,
     "metadata": {},
     "output_type": "execute_result"
    }
   ],
   "source": [
    "dataset['SuporteTécnico'].value_counts()"
   ]
  },
  {
   "cell_type": "markdown",
   "id": "d468faa9",
   "metadata": {},
   "source": [
    "# Verificando coluna StreamingTV"
   ]
  },
  {
   "cell_type": "code",
   "execution_count": 50,
   "id": "2a64d575",
   "metadata": {},
   "outputs": [
    {
     "data": {
      "text/plain": [
       "array(['Yes', 'No', 'No internet service'], dtype=object)"
      ]
     },
     "execution_count": 50,
     "metadata": {},
     "output_type": "execute_result"
    }
   ],
   "source": [
    "dataset['StreamingTV'].unique()"
   ]
  },
  {
   "cell_type": "code",
   "execution_count": 51,
   "id": "701c0074",
   "metadata": {},
   "outputs": [
    {
     "data": {
      "text/plain": [
       "No                     2810\n",
       "Yes                    2707\n",
       "No internet service    1526\n",
       "Name: StreamingTV, dtype: int64"
      ]
     },
     "execution_count": 51,
     "metadata": {},
     "output_type": "execute_result"
    }
   ],
   "source": [
    "dataset['StreamingTV'].value_counts()"
   ]
  },
  {
   "cell_type": "markdown",
   "id": "1afb977f",
   "metadata": {},
   "source": [
    "# Verificando coluna StreamingFilmes"
   ]
  },
  {
   "cell_type": "code",
   "execution_count": 52,
   "id": "2d378289",
   "metadata": {},
   "outputs": [
    {
     "data": {
      "text/plain": [
       "array(['No', 'Yes', 'No internet service'], dtype=object)"
      ]
     },
     "execution_count": 52,
     "metadata": {},
     "output_type": "execute_result"
    }
   ],
   "source": [
    "dataset['StreamingFilmes'].unique()"
   ]
  },
  {
   "cell_type": "code",
   "execution_count": 53,
   "id": "4f63180e",
   "metadata": {},
   "outputs": [
    {
     "data": {
      "text/plain": [
       "No                     2785\n",
       "Yes                    2732\n",
       "No internet service    1526\n",
       "Name: StreamingFilmes, dtype: int64"
      ]
     },
     "execution_count": 53,
     "metadata": {},
     "output_type": "execute_result"
    }
   ],
   "source": [
    "dataset['StreamingFilmes'].value_counts()"
   ]
  },
  {
   "cell_type": "markdown",
   "id": "4b1d763f",
   "metadata": {},
   "source": [
    "# Verificando coluna Contato"
   ]
  },
  {
   "cell_type": "code",
   "execution_count": 54,
   "id": "b060790d",
   "metadata": {},
   "outputs": [
    {
     "data": {
      "text/plain": [
       "array(['One year', 'Month-to-month', 'Two year'], dtype=object)"
      ]
     },
     "execution_count": 54,
     "metadata": {},
     "output_type": "execute_result"
    }
   ],
   "source": [
    "dataset['Contato'].unique()"
   ]
  },
  {
   "cell_type": "code",
   "execution_count": 55,
   "id": "ce58aa96",
   "metadata": {},
   "outputs": [
    {
     "data": {
      "text/plain": [
       "Month-to-month    3875\n",
       "Two year          1695\n",
       "One year          1473\n",
       "Name: Contato, dtype: int64"
      ]
     },
     "execution_count": 55,
     "metadata": {},
     "output_type": "execute_result"
    }
   ],
   "source": [
    "dataset['Contato'].value_counts()"
   ]
  },
  {
   "cell_type": "code",
   "execution_count": 56,
   "id": "ba9589cb",
   "metadata": {},
   "outputs": [
    {
     "name": "stderr",
     "output_type": "stream",
     "text": [
      "C:\\Users\\PC\\AppData\\Local\\Temp/ipykernel_460/503456310.py:2: SettingWithCopyWarning: \n",
      "A value is trying to be set on a copy of a slice from a DataFrame.\n",
      "Try using .loc[row_indexer,col_indexer] = value instead\n",
      "\n",
      "See the caveats in the documentation: https://pandas.pydata.org/pandas-docs/stable/user_guide/indexing.html#returning-a-view-versus-a-copy\n",
      "  dataset['Contato'] = dataset['Contato'].str.replace('One year','Um Ano')\n",
      "C:\\Users\\PC\\AppData\\Local\\Temp/ipykernel_460/503456310.py:3: SettingWithCopyWarning: \n",
      "A value is trying to be set on a copy of a slice from a DataFrame.\n",
      "Try using .loc[row_indexer,col_indexer] = value instead\n",
      "\n",
      "See the caveats in the documentation: https://pandas.pydata.org/pandas-docs/stable/user_guide/indexing.html#returning-a-view-versus-a-copy\n",
      "  dataset['Contato'] = dataset['Contato'].str.replace('Month-to-month', 'Mês a mês')\n",
      "C:\\Users\\PC\\AppData\\Local\\Temp/ipykernel_460/503456310.py:4: SettingWithCopyWarning: \n",
      "A value is trying to be set on a copy of a slice from a DataFrame.\n",
      "Try using .loc[row_indexer,col_indexer] = value instead\n",
      "\n",
      "See the caveats in the documentation: https://pandas.pydata.org/pandas-docs/stable/user_guide/indexing.html#returning-a-view-versus-a-copy\n",
      "  dataset['Contato'] = dataset['Contato'].str.replace('Two year', 'Dois Anos')\n"
     ]
    },
    {
     "data": {
      "text/plain": [
       "Mês a mês    3875\n",
       "Dois Anos    1695\n",
       "Um Ano       1473\n",
       "Name: Contato, dtype: int64"
      ]
     },
     "execution_count": 56,
     "metadata": {},
     "output_type": "execute_result"
    }
   ],
   "source": [
    "#Traduzindo dados da Coluna Contato\n",
    "dataset['Contato'] = dataset['Contato'].str.replace('One year','Um Ano')\n",
    "dataset['Contato'] = dataset['Contato'].str.replace('Month-to-month', 'Mês a mês')\n",
    "dataset['Contato'] = dataset['Contato'].str.replace('Two year', 'Dois Anos')\n",
    "dataset['Contato'].value_counts()"
   ]
  },
  {
   "cell_type": "markdown",
   "id": "6ec3f578",
   "metadata": {},
   "source": [
    "# Verificando tabela FaturamentoSemPapel"
   ]
  },
  {
   "cell_type": "code",
   "execution_count": 57,
   "id": "ea3b17fc",
   "metadata": {},
   "outputs": [
    {
     "data": {
      "text/plain": [
       "array(['Yes', 'No'], dtype=object)"
      ]
     },
     "execution_count": 57,
     "metadata": {},
     "output_type": "execute_result"
    }
   ],
   "source": [
    "dataset['FaturamentoSemPapel'].unique()"
   ]
  },
  {
   "cell_type": "code",
   "execution_count": 58,
   "id": "8c50596a",
   "metadata": {},
   "outputs": [
    {
     "data": {
      "text/plain": [
       "Yes    4171\n",
       "No     2872\n",
       "Name: FaturamentoSemPapel, dtype: int64"
      ]
     },
     "execution_count": 58,
     "metadata": {},
     "output_type": "execute_result"
    }
   ],
   "source": [
    "dataset['FaturamentoSemPapel'].value_counts()"
   ]
  },
  {
   "cell_type": "markdown",
   "id": "15318713",
   "metadata": {},
   "source": [
    "# Verificando tabela FormaDePagamento"
   ]
  },
  {
   "cell_type": "code",
   "execution_count": 59,
   "id": "e42de3c9",
   "metadata": {},
   "outputs": [
    {
     "data": {
      "text/plain": [
       "array(['Mailed check', 'Electronic check', 'Credit card (automatic)',\n",
       "       'Bank transfer (automatic)'], dtype=object)"
      ]
     },
     "execution_count": 59,
     "metadata": {},
     "output_type": "execute_result"
    }
   ],
   "source": [
    "dataset['FormaDePagamento'].unique()"
   ]
  },
  {
   "cell_type": "code",
   "execution_count": 60,
   "id": "5117de0f",
   "metadata": {},
   "outputs": [
    {
     "data": {
      "text/plain": [
       "Electronic check             2365\n",
       "Mailed check                 1612\n",
       "Bank transfer (automatic)    1544\n",
       "Credit card (automatic)      1522\n",
       "Name: FormaDePagamento, dtype: int64"
      ]
     },
     "execution_count": 60,
     "metadata": {},
     "output_type": "execute_result"
    }
   ],
   "source": [
    "dataset['FormaDePagamento'].value_counts()"
   ]
  },
  {
   "cell_type": "code",
   "execution_count": 61,
   "id": "3ae93cb0",
   "metadata": {},
   "outputs": [
    {
     "name": "stderr",
     "output_type": "stream",
     "text": [
      "C:\\Users\\PC\\AppData\\Local\\Temp/ipykernel_460/1936335792.py:2: SettingWithCopyWarning: \n",
      "A value is trying to be set on a copy of a slice from a DataFrame.\n",
      "Try using .loc[row_indexer,col_indexer] = value instead\n",
      "\n",
      "See the caveats in the documentation: https://pandas.pydata.org/pandas-docs/stable/user_guide/indexing.html#returning-a-view-versus-a-copy\n",
      "  dataset['FormaDePagamento'] = dataset['FormaDePagamento'].str.replace('Electronic check','Cheque eletrônico')\n",
      "C:\\Users\\PC\\AppData\\Local\\Temp/ipykernel_460/1936335792.py:3: SettingWithCopyWarning: \n",
      "A value is trying to be set on a copy of a slice from a DataFrame.\n",
      "Try using .loc[row_indexer,col_indexer] = value instead\n",
      "\n",
      "See the caveats in the documentation: https://pandas.pydata.org/pandas-docs/stable/user_guide/indexing.html#returning-a-view-versus-a-copy\n",
      "  dataset['FormaDePagamento'] = dataset['FormaDePagamento'].str.replace('Mailed check', 'Cheque enviado')\n",
      "C:\\Users\\PC\\AppData\\Local\\Temp/ipykernel_460/1936335792.py:4: FutureWarning: The default value of regex will change from True to False in a future version.\n",
      "  dataset['FormaDePagamento'] = dataset['FormaDePagamento'].str.replace('Bank transfer (automatic)', 'Transferência bancária')\n",
      "C:\\Users\\PC\\AppData\\Local\\Temp/ipykernel_460/1936335792.py:4: SettingWithCopyWarning: \n",
      "A value is trying to be set on a copy of a slice from a DataFrame.\n",
      "Try using .loc[row_indexer,col_indexer] = value instead\n",
      "\n",
      "See the caveats in the documentation: https://pandas.pydata.org/pandas-docs/stable/user_guide/indexing.html#returning-a-view-versus-a-copy\n",
      "  dataset['FormaDePagamento'] = dataset['FormaDePagamento'].str.replace('Bank transfer (automatic)', 'Transferência bancária')\n",
      "C:\\Users\\PC\\AppData\\Local\\Temp/ipykernel_460/1936335792.py:5: FutureWarning: The default value of regex will change from True to False in a future version.\n",
      "  dataset['FormaDePagamento'] = dataset['FormaDePagamento'].str.replace('Credit card (automatic)', 'Cartão de crédito ')\n",
      "C:\\Users\\PC\\AppData\\Local\\Temp/ipykernel_460/1936335792.py:5: SettingWithCopyWarning: \n",
      "A value is trying to be set on a copy of a slice from a DataFrame.\n",
      "Try using .loc[row_indexer,col_indexer] = value instead\n",
      "\n",
      "See the caveats in the documentation: https://pandas.pydata.org/pandas-docs/stable/user_guide/indexing.html#returning-a-view-versus-a-copy\n",
      "  dataset['FormaDePagamento'] = dataset['FormaDePagamento'].str.replace('Credit card (automatic)', 'Cartão de crédito ')\n"
     ]
    },
    {
     "data": {
      "text/plain": [
       "Cheque eletrônico            2365\n",
       "Cheque enviado               1612\n",
       "Bank transfer (automatic)    1544\n",
       "Credit card (automatic)      1522\n",
       "Name: FormaDePagamento, dtype: int64"
      ]
     },
     "execution_count": 61,
     "metadata": {},
     "output_type": "execute_result"
    }
   ],
   "source": [
    "#Traduzindo dados da Coluna Contato\n",
    "dataset['FormaDePagamento'] = dataset['FormaDePagamento'].str.replace('Electronic check','Cheque eletrônico')\n",
    "dataset['FormaDePagamento'] = dataset['FormaDePagamento'].str.replace('Mailed check', 'Cheque enviado')\n",
    "dataset['FormaDePagamento'] = dataset['FormaDePagamento'].str.replace('Bank transfer (automatic)', 'Transferência bancária')\n",
    "dataset['FormaDePagamento'] = dataset['FormaDePagamento'].str.replace('Credit card (automatic)', 'Cartão de crédito ')\n",
    "dataset['FormaDePagamento'].value_counts()"
   ]
  },
  {
   "cell_type": "markdown",
   "id": "f540bfa0",
   "metadata": {},
   "source": [
    "# Verificando coluna EncargosMensal"
   ]
  },
  {
   "cell_type": "code",
   "execution_count": 62,
   "id": "baf85081",
   "metadata": {},
   "outputs": [
    {
     "data": {
      "text/plain": [
       "0"
      ]
     },
     "execution_count": 62,
     "metadata": {},
     "output_type": "execute_result"
    }
   ],
   "source": [
    "dataset['EncargosMensal'].isnull().sum()"
   ]
  },
  {
   "cell_type": "code",
   "execution_count": 63,
   "id": "13c9f7ac",
   "metadata": {},
   "outputs": [
    {
     "data": {
      "text/plain": [
       "64.7616924605992"
      ]
     },
     "execution_count": 63,
     "metadata": {},
     "output_type": "execute_result"
    }
   ],
   "source": [
    "dataset['EncargosMensal'].mean()"
   ]
  },
  {
   "cell_type": "code",
   "execution_count": 64,
   "id": "421be5d2",
   "metadata": {},
   "outputs": [
    {
     "data": {
      "text/plain": [
       "count    7043.000000\n",
       "mean       64.761692\n",
       "std        30.090047\n",
       "min        18.250000\n",
       "25%        35.500000\n",
       "50%        70.350000\n",
       "75%        89.850000\n",
       "max       118.750000\n",
       "Name: EncargosMensal, dtype: float64"
      ]
     },
     "execution_count": 64,
     "metadata": {},
     "output_type": "execute_result"
    }
   ],
   "source": [
    "dataset['EncargosMensal'].describe()"
   ]
  },
  {
   "cell_type": "code",
   "execution_count": 65,
   "id": "d194fdee",
   "metadata": {},
   "outputs": [
    {
     "name": "stderr",
     "output_type": "stream",
     "text": [
      "C:\\Users\\PC\\anaconda3\\lib\\site-packages\\seaborn\\distributions.py:2619: FutureWarning: `distplot` is a deprecated function and will be removed in a future version. Please adapt your code to use either `displot` (a figure-level function with similar flexibility) or `histplot` (an axes-level function for histograms).\n",
      "  warnings.warn(msg, FutureWarning)\n"
     ]
    },
    {
     "data": {
      "text/plain": [
       "<AxesSubplot:xlabel='EncargosMensal', ylabel='Density'>"
      ]
     },
     "execution_count": 65,
     "metadata": {},
     "output_type": "execute_result"
    },
    {
     "data": {
      "image/png": "[encoded data removed]",
      "text/plain": [
       "<Figure size 432x288 with 1 Axes>"
      ]
     },
     "metadata": {
      "needs_background": "light"
     },
     "output_type": "display_data"
    }
   ],
   "source": [
    "sns.distplot(dataset['EncargosMensal'], hist = True, kde = True,\n",
    "             bins = 6, color = 'blue',\n",
    "             hist_kws={'edgecolor': 'black'})"
   ]
  },
  {
   "cell_type": "markdown",
   "id": "66c27085",
   "metadata": {},
   "source": [
    "# Verificando coluna EncargosTotal"
   ]
  },
  {
   "cell_type": "code",
   "execution_count": 66,
   "id": "87d324ca",
   "metadata": {},
   "outputs": [
    {
     "data": {
      "text/plain": [
       "0"
      ]
     },
     "execution_count": 66,
     "metadata": {},
     "output_type": "execute_result"
    }
   ],
   "source": [
    "dataset['EncargosTotal'].isnull().sum()"
   ]
  },
  {
   "cell_type": "code",
   "execution_count": 67,
   "id": "e8d91b12",
   "metadata": {},
   "outputs": [
    {
     "name": "stderr",
     "output_type": "stream",
     "text": [
      "C:\\Users\\PC\\AppData\\Local\\Temp/ipykernel_460/2763042915.py:1: SettingWithCopyWarning: \n",
      "A value is trying to be set on a copy of a slice from a DataFrame.\n",
      "Try using .loc[row_indexer,col_indexer] = value instead\n",
      "\n",
      "See the caveats in the documentation: https://pandas.pydata.org/pandas-docs/stable/user_guide/indexing.html#returning-a-view-versus-a-copy\n",
      "  dataset['EncargosTotal'] = pd.to_numeric(dataset['EncargosTotal'],errors = 'coerce')\n"
     ]
    }
   ],
   "source": [
    "dataset['EncargosTotal'] = pd.to_numeric(dataset['EncargosTotal'],errors = 'coerce')"
   ]
  },
  {
   "cell_type": "code",
   "execution_count": 68,
   "id": "421acc3b",
   "metadata": {},
   "outputs": [
    {
     "data": {
      "text/plain": [
       "count    7032.000000\n",
       "mean     2283.300441\n",
       "std      2266.771362\n",
       "min        18.800000\n",
       "25%       401.450000\n",
       "50%      1397.475000\n",
       "75%      3794.737500\n",
       "max      8684.800000\n",
       "Name: EncargosTotal, dtype: float64"
      ]
     },
     "execution_count": 68,
     "metadata": {},
     "output_type": "execute_result"
    }
   ],
   "source": [
    "dataset['EncargosTotal'].describe()"
   ]
  },
  {
   "cell_type": "code",
   "execution_count": 69,
   "id": "db1d8e9d",
   "metadata": {},
   "outputs": [
    {
     "name": "stderr",
     "output_type": "stream",
     "text": [
      "C:\\Users\\PC\\anaconda3\\lib\\site-packages\\seaborn\\distributions.py:2619: FutureWarning: `distplot` is a deprecated function and will be removed in a future version. Please adapt your code to use either `displot` (a figure-level function with similar flexibility) or `histplot` (an axes-level function for histograms).\n",
      "  warnings.warn(msg, FutureWarning)\n"
     ]
    },
    {
     "data": {
      "text/plain": [
       "<AxesSubplot:xlabel='EncargosTotal', ylabel='Density'>"
      ]
     },
     "execution_count": 69,
     "metadata": {},
     "output_type": "execute_result"
    },
    {
     "data": {
      "image/png": "[encoded data removed]",
      "text/plain": [
       "<Figure size 432x288 with 1 Axes>"
      ]
     },
     "metadata": {
      "needs_background": "light"
     },
     "output_type": "display_data"
    }
   ],
   "source": [
    "sns.distplot(dataset['EncargosTotal'], hist = True, kde = True,\n",
    "             bins = 6, color = 'blue',\n",
    "             hist_kws={'edgecolor': 'black'})"
   ]
  },
  {
   "cell_type": "code",
   "execution_count": 70,
   "id": "94dc70c5",
   "metadata": {},
   "outputs": [
    {
     "name": "stderr",
     "output_type": "stream",
     "text": [
      "C:\\Users\\PC\\anaconda3\\lib\\site-packages\\seaborn\\_decorators.py:36: FutureWarning: Pass the following variable as a keyword arg: x. From version 0.12, the only valid positional argument will be `data`, and passing other arguments without an explicit keyword will result in an error or misinterpretation.\n",
      "  warnings.warn(\n"
     ]
    },
    {
     "data": {
      "text/plain": [
       "<AxesSubplot:title={'center':'EncargosTotal'}, xlabel='EncargosTotal'>"
      ]
     },
     "execution_count": 70,
     "metadata": {},
     "output_type": "execute_result"
    },
    {
     "data": {
      "image/png": "[encoded data removed]",
      "text/plain": [
       "<Figure size 864x432 with 1 Axes>"
      ]
     },
     "metadata": {
      "needs_background": "light"
     },
     "output_type": "display_data"
    }
   ],
   "source": [
    "ax = sns.boxplot('EncargosTotal', data=dataset, width=0.5)\n",
    "ax.figure.set_size_inches(12, 6)\n",
    "ax.set_title('EncargosTotal', fontsize=20)\n",
    "ax"
   ]
  },
  {
   "cell_type": "markdown",
   "id": "9dc98493",
   "metadata": {},
   "source": [
    "# Adicionando a coluna de gastos diarios do cliente"
   ]
  },
  {
   "cell_type": "code",
   "execution_count": 71,
   "id": "578064d2",
   "metadata": {},
   "outputs": [],
   "source": [
    "GastoDiario = round((dataset['EncargosMensal'] / 30), 2)\n",
    "\n",
    "dataset.insert(loc = 18,\n",
    "          column = 'GastoDiario',\n",
    "          value = GastoDiario)"
   ]
  },
  {
   "cell_type": "code",
   "execution_count": 72,
   "id": "21f6cb29",
   "metadata": {},
   "outputs": [
    {
     "data": {
      "text/html": [
       "<div>\n",
       "<style scoped>\n",
       "    .dataframe tbody tr th:only-of-type {\n",
       "        vertical-align: middle;\n",
       "    }\n",
       "\n",
       "    .dataframe tbody tr th {\n",
       "        vertical-align: top;\n",
       "    }\n",
       "\n",
       "    .dataframe thead th {\n",
       "        text-align: right;\n",
       "    }\n",
       "</style>\n",
       "<table border=\"1\" class=\"dataframe\">\n",
       "  <thead>\n",
       "    <tr style=\"text-align: right;\">\n",
       "      <th></th>\n",
       "      <th>ID</th>\n",
       "      <th>Churn</th>\n",
       "      <th>Sexo</th>\n",
       "      <th>Sênior</th>\n",
       "      <th>Parceiro</th>\n",
       "      <th>Dependentes</th>\n",
       "      <th>Posse</th>\n",
       "      <th>Telefone</th>\n",
       "      <th>VáriasLinhas</th>\n",
       "      <th>SegurançaOnline</th>\n",
       "      <th>ServiçoInternet</th>\n",
       "      <th>BackupOnline</th>\n",
       "      <th>ProteçãoDispositivo</th>\n",
       "      <th>SuporteTécnico</th>\n",
       "      <th>StreamingTV</th>\n",
       "      <th>StreamingFilmes</th>\n",
       "      <th>Contato</th>\n",
       "      <th>FaturamentoSemPapel</th>\n",
       "      <th>GastoDiario</th>\n",
       "      <th>FormaDePagamento</th>\n",
       "      <th>EncargosMensal</th>\n",
       "      <th>EncargosTotal</th>\n",
       "    </tr>\n",
       "  </thead>\n",
       "  <tbody>\n",
       "    <tr>\n",
       "      <th>0</th>\n",
       "      <td>0002-ORFBO</td>\n",
       "      <td>No</td>\n",
       "      <td>Female</td>\n",
       "      <td>0</td>\n",
       "      <td>Yes</td>\n",
       "      <td>Yes</td>\n",
       "      <td>9</td>\n",
       "      <td>Yes</td>\n",
       "      <td>No</td>\n",
       "      <td>DSL</td>\n",
       "      <td>No</td>\n",
       "      <td>Yes</td>\n",
       "      <td>No</td>\n",
       "      <td>Yes</td>\n",
       "      <td>Yes</td>\n",
       "      <td>No</td>\n",
       "      <td>Um Ano</td>\n",
       "      <td>Yes</td>\n",
       "      <td>2.19</td>\n",
       "      <td>Cheque enviado</td>\n",
       "      <td>65.6</td>\n",
       "      <td>593.30</td>\n",
       "    </tr>\n",
       "    <tr>\n",
       "      <th>1</th>\n",
       "      <td>0003-MKNFE</td>\n",
       "      <td>No</td>\n",
       "      <td>Male</td>\n",
       "      <td>0</td>\n",
       "      <td>No</td>\n",
       "      <td>No</td>\n",
       "      <td>9</td>\n",
       "      <td>Yes</td>\n",
       "      <td>Yes</td>\n",
       "      <td>DSL</td>\n",
       "      <td>No</td>\n",
       "      <td>No</td>\n",
       "      <td>No</td>\n",
       "      <td>No</td>\n",
       "      <td>No</td>\n",
       "      <td>Yes</td>\n",
       "      <td>Mês a mês</td>\n",
       "      <td>No</td>\n",
       "      <td>2.00</td>\n",
       "      <td>Cheque enviado</td>\n",
       "      <td>59.9</td>\n",
       "      <td>542.40</td>\n",
       "    </tr>\n",
       "    <tr>\n",
       "      <th>2</th>\n",
       "      <td>0004-TLHLJ</td>\n",
       "      <td>Yes</td>\n",
       "      <td>Male</td>\n",
       "      <td>0</td>\n",
       "      <td>No</td>\n",
       "      <td>No</td>\n",
       "      <td>4</td>\n",
       "      <td>Yes</td>\n",
       "      <td>No</td>\n",
       "      <td>Fiber optic</td>\n",
       "      <td>No</td>\n",
       "      <td>No</td>\n",
       "      <td>Yes</td>\n",
       "      <td>No</td>\n",
       "      <td>No</td>\n",
       "      <td>No</td>\n",
       "      <td>Mês a mês</td>\n",
       "      <td>Yes</td>\n",
       "      <td>2.46</td>\n",
       "      <td>Cheque eletrônico</td>\n",
       "      <td>73.9</td>\n",
       "      <td>280.85</td>\n",
       "    </tr>\n",
       "    <tr>\n",
       "      <th>3</th>\n",
       "      <td>0011-IGKFF</td>\n",
       "      <td>Yes</td>\n",
       "      <td>Male</td>\n",
       "      <td>1</td>\n",
       "      <td>Yes</td>\n",
       "      <td>No</td>\n",
       "      <td>13</td>\n",
       "      <td>Yes</td>\n",
       "      <td>No</td>\n",
       "      <td>Fiber optic</td>\n",
       "      <td>No</td>\n",
       "      <td>Yes</td>\n",
       "      <td>Yes</td>\n",
       "      <td>No</td>\n",
       "      <td>Yes</td>\n",
       "      <td>Yes</td>\n",
       "      <td>Mês a mês</td>\n",
       "      <td>Yes</td>\n",
       "      <td>3.27</td>\n",
       "      <td>Cheque eletrônico</td>\n",
       "      <td>98.0</td>\n",
       "      <td>1237.85</td>\n",
       "    </tr>\n",
       "    <tr>\n",
       "      <th>4</th>\n",
       "      <td>0013-EXCHZ</td>\n",
       "      <td>Yes</td>\n",
       "      <td>Female</td>\n",
       "      <td>1</td>\n",
       "      <td>Yes</td>\n",
       "      <td>No</td>\n",
       "      <td>3</td>\n",
       "      <td>Yes</td>\n",
       "      <td>No</td>\n",
       "      <td>Fiber optic</td>\n",
       "      <td>No</td>\n",
       "      <td>No</td>\n",
       "      <td>No</td>\n",
       "      <td>Yes</td>\n",
       "      <td>Yes</td>\n",
       "      <td>No</td>\n",
       "      <td>Mês a mês</td>\n",
       "      <td>Yes</td>\n",
       "      <td>2.80</td>\n",
       "      <td>Cheque enviado</td>\n",
       "      <td>83.9</td>\n",
       "      <td>267.40</td>\n",
       "    </tr>\n",
       "  </tbody>\n",
       "</table>\n",
       "</div>"
      ],
      "text/plain": [
       "           ID Churn    Sexo  Sênior Parceiro Dependentes  Posse Telefone  \\\n",
       "0  0002-ORFBO    No  Female       0      Yes         Yes      9      Yes   \n",
       "1  0003-MKNFE    No    Male       0       No          No      9      Yes   \n",
       "2  0004-TLHLJ   Yes    Male       0       No          No      4      Yes   \n",
       "3  0011-IGKFF   Yes    Male       1      Yes          No     13      Yes   \n",
       "4  0013-EXCHZ   Yes  Female       1      Yes          No      3      Yes   \n",
       "\n",
       "  VáriasLinhas SegurançaOnline ServiçoInternet BackupOnline  \\\n",
       "0           No             DSL              No          Yes   \n",
       "1          Yes             DSL              No           No   \n",
       "2           No     Fiber optic              No           No   \n",
       "3           No     Fiber optic              No          Yes   \n",
       "4           No     Fiber optic              No           No   \n",
       "\n",
       "  ProteçãoDispositivo SuporteTécnico StreamingTV StreamingFilmes    Contato  \\\n",
       "0                  No            Yes         Yes              No     Um Ano   \n",
       "1                  No             No          No             Yes  Mês a mês   \n",
       "2                 Yes             No          No              No  Mês a mês   \n",
       "3                 Yes             No         Yes             Yes  Mês a mês   \n",
       "4                  No            Yes         Yes              No  Mês a mês   \n",
       "\n",
       "  FaturamentoSemPapel  GastoDiario   FormaDePagamento  EncargosMensal  \\\n",
       "0                 Yes         2.19     Cheque enviado            65.6   \n",
       "1                  No         2.00     Cheque enviado            59.9   \n",
       "2                 Yes         2.46  Cheque eletrônico            73.9   \n",
       "3                 Yes         3.27  Cheque eletrônico            98.0   \n",
       "4                 Yes         2.80     Cheque enviado            83.9   \n",
       "\n",
       "   EncargosTotal  \n",
       "0         593.30  \n",
       "1         542.40  \n",
       "2         280.85  \n",
       "3        1237.85  \n",
       "4         267.40  "
      ]
     },
     "execution_count": 72,
     "metadata": {},
     "output_type": "execute_result"
    }
   ],
   "source": [
    "dataset.head()"
   ]
  },
  {
   "cell_type": "code",
   "execution_count": null,
   "id": "4a1502d1",
   "metadata": {},
   "outputs": [],
   "source": []
  }
 ],
 "metadata": {
  "kernelspec": {
   "display_name": "Python 3 (ipykernel)",
   "language": "python",
   "name": "python3"
  },
  "language_info": {
   "codemirror_mode": {
    "name": "ipython",
    "version": 3
   },
   "file_extension": ".py",
   "mimetype": "text/x-python",
   "name": "python",
   "nbconvert_exporter": "python",
   "pygments_lexer": "ipython3",
   "version": "3.9.7"
  }
 },
 "nbformat": 4,
 "nbformat_minor": 5
}
