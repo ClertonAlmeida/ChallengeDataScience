{
 "cells": [
  {
   "cell_type": "markdown",
   "id": "eadfb27c",
   "metadata": {},
   "source": [
    "#### Foi dado a partida para o primeiro Challenge de Data Science da Alura, nesta primeira semana do Challenge, foi nos passado as seguintes atividades:\n",
    "\n",
    "1. Entender quais informações o conjunto de dados possui;\n",
    "\n",
    "2. Analisar quais os tipos de dados;\n",
    "\n",
    "3. Verificar quais são as inconsistências nos dados;\n",
    "\n",
    "4. Corrigir as inconsistências nos dados;\n",
    "\n",
    "5. Traduzir as colunas;\n",
    "\n",
    "6. Criar coluna de contas diárias."
   ]
  },
  {
   "cell_type": "markdown",
   "id": "fe924e5c",
   "metadata": {},
   "source": [
    "# Importando dados"
   ]
  },
  {
   "cell_type": "markdown",
   "id": "450a5302",
   "metadata": {},
   "source": [
    "## Lendo o arquivo Json e conhecendo os dados"
   ]
  },
  {
   "cell_type": "code",
   "execution_count": 1,
   "id": "f5ed08f2",
   "metadata": {},
   "outputs": [],
   "source": [
    "import numpy as np\n",
    "import pandas as pd\n",
    "import seaborn as sns\n",
    "import matplotlib.pyplot as plt\n",
    "%matplotlib inline\n",
    " \n",
    "dados = pd.read_json(\"https://raw.githubusercontent.com/sthemonica/alura-voz/main/Dados/Telco-Customer-Churn.json\")\n"
   ]
  },
  {
   "cell_type": "code",
   "execution_count": 2,
   "id": "5d0edaea",
   "metadata": {},
   "outputs": [
    {
     "data": {
      "text/html": [
       "<div>\n",
       "<style scoped>\n",
       "    .dataframe tbody tr th:only-of-type {\n",
       "        vertical-align: middle;\n",
       "    }\n",
       "\n",
       "    .dataframe tbody tr th {\n",
       "        vertical-align: top;\n",
       "    }\n",
       "\n",
       "    .dataframe thead th {\n",
       "        text-align: right;\n",
       "    }\n",
       "</style>\n",
       "<table border=\"1\" class=\"dataframe\">\n",
       "  <thead>\n",
       "    <tr style=\"text-align: right;\">\n",
       "      <th></th>\n",
       "      <th>customerID</th>\n",
       "      <th>Churn</th>\n",
       "      <th>customer</th>\n",
       "      <th>phone</th>\n",
       "      <th>internet</th>\n",
       "      <th>account</th>\n",
       "    </tr>\n",
       "  </thead>\n",
       "  <tbody>\n",
       "    <tr>\n",
       "      <th>0</th>\n",
       "      <td>0002-ORFBO</td>\n",
       "      <td>No</td>\n",
       "      <td>{'gender': 'Female', 'SeniorCitizen': 0, 'Part...</td>\n",
       "      <td>{'PhoneService': 'Yes', 'MultipleLines': 'No'}</td>\n",
       "      <td>{'InternetService': 'DSL', 'OnlineSecurity': '...</td>\n",
       "      <td>{'Contract': 'One year', 'PaperlessBilling': '...</td>\n",
       "    </tr>\n",
       "    <tr>\n",
       "      <th>1</th>\n",
       "      <td>0003-MKNFE</td>\n",
       "      <td>No</td>\n",
       "      <td>{'gender': 'Male', 'SeniorCitizen': 0, 'Partne...</td>\n",
       "      <td>{'PhoneService': 'Yes', 'MultipleLines': 'Yes'}</td>\n",
       "      <td>{'InternetService': 'DSL', 'OnlineSecurity': '...</td>\n",
       "      <td>{'Contract': 'Month-to-month', 'PaperlessBilli...</td>\n",
       "    </tr>\n",
       "    <tr>\n",
       "      <th>2</th>\n",
       "      <td>0004-TLHLJ</td>\n",
       "      <td>Yes</td>\n",
       "      <td>{'gender': 'Male', 'SeniorCitizen': 0, 'Partne...</td>\n",
       "      <td>{'PhoneService': 'Yes', 'MultipleLines': 'No'}</td>\n",
       "      <td>{'InternetService': 'Fiber optic', 'OnlineSecu...</td>\n",
       "      <td>{'Contract': 'Month-to-month', 'PaperlessBilli...</td>\n",
       "    </tr>\n",
       "    <tr>\n",
       "      <th>3</th>\n",
       "      <td>0011-IGKFF</td>\n",
       "      <td>Yes</td>\n",
       "      <td>{'gender': 'Male', 'SeniorCitizen': 1, 'Partne...</td>\n",
       "      <td>{'PhoneService': 'Yes', 'MultipleLines': 'No'}</td>\n",
       "      <td>{'InternetService': 'Fiber optic', 'OnlineSecu...</td>\n",
       "      <td>{'Contract': 'Month-to-month', 'PaperlessBilli...</td>\n",
       "    </tr>\n",
       "    <tr>\n",
       "      <th>4</th>\n",
       "      <td>0013-EXCHZ</td>\n",
       "      <td>Yes</td>\n",
       "      <td>{'gender': 'Female', 'SeniorCitizen': 1, 'Part...</td>\n",
       "      <td>{'PhoneService': 'Yes', 'MultipleLines': 'No'}</td>\n",
       "      <td>{'InternetService': 'Fiber optic', 'OnlineSecu...</td>\n",
       "      <td>{'Contract': 'Month-to-month', 'PaperlessBilli...</td>\n",
       "    </tr>\n",
       "  </tbody>\n",
       "</table>\n",
       "</div>"
      ],
      "text/plain": [
       "   customerID Churn                                           customer  \\\n",
       "0  0002-ORFBO    No  {'gender': 'Female', 'SeniorCitizen': 0, 'Part...   \n",
       "1  0003-MKNFE    No  {'gender': 'Male', 'SeniorCitizen': 0, 'Partne...   \n",
       "2  0004-TLHLJ   Yes  {'gender': 'Male', 'SeniorCitizen': 0, 'Partne...   \n",
       "3  0011-IGKFF   Yes  {'gender': 'Male', 'SeniorCitizen': 1, 'Partne...   \n",
       "4  0013-EXCHZ   Yes  {'gender': 'Female', 'SeniorCitizen': 1, 'Part...   \n",
       "\n",
       "                                             phone  \\\n",
       "0   {'PhoneService': 'Yes', 'MultipleLines': 'No'}   \n",
       "1  {'PhoneService': 'Yes', 'MultipleLines': 'Yes'}   \n",
       "2   {'PhoneService': 'Yes', 'MultipleLines': 'No'}   \n",
       "3   {'PhoneService': 'Yes', 'MultipleLines': 'No'}   \n",
       "4   {'PhoneService': 'Yes', 'MultipleLines': 'No'}   \n",
       "\n",
       "                                            internet  \\\n",
       "0  {'InternetService': 'DSL', 'OnlineSecurity': '...   \n",
       "1  {'InternetService': 'DSL', 'OnlineSecurity': '...   \n",
       "2  {'InternetService': 'Fiber optic', 'OnlineSecu...   \n",
       "3  {'InternetService': 'Fiber optic', 'OnlineSecu...   \n",
       "4  {'InternetService': 'Fiber optic', 'OnlineSecu...   \n",
       "\n",
       "                                             account  \n",
       "0  {'Contract': 'One year', 'PaperlessBilling': '...  \n",
       "1  {'Contract': 'Month-to-month', 'PaperlessBilli...  \n",
       "2  {'Contract': 'Month-to-month', 'PaperlessBilli...  \n",
       "3  {'Contract': 'Month-to-month', 'PaperlessBilli...  \n",
       "4  {'Contract': 'Month-to-month', 'PaperlessBilli...  "
      ]
     },
     "execution_count": 2,
     "metadata": {},
     "output_type": "execute_result"
    }
   ],
   "source": [
    "dados.head()"
   ]
  },
  {
   "cell_type": "markdown",
   "id": "f8d2c3b6",
   "metadata": {},
   "source": [
    "## Normalizando os dados separadamente"
   ]
  },
  {
   "cell_type": "code",
   "execution_count": 3,
   "id": "48e76ace",
   "metadata": {},
   "outputs": [
    {
     "data": {
      "text/html": [
       "<div>\n",
       "<style scoped>\n",
       "    .dataframe tbody tr th:only-of-type {\n",
       "        vertical-align: middle;\n",
       "    }\n",
       "\n",
       "    .dataframe tbody tr th {\n",
       "        vertical-align: top;\n",
       "    }\n",
       "\n",
       "    .dataframe thead th {\n",
       "        text-align: right;\n",
       "    }\n",
       "</style>\n",
       "<table border=\"1\" class=\"dataframe\">\n",
       "  <thead>\n",
       "    <tr style=\"text-align: right;\">\n",
       "      <th></th>\n",
       "      <th>gender</th>\n",
       "      <th>SeniorCitizen</th>\n",
       "      <th>Partner</th>\n",
       "      <th>Dependents</th>\n",
       "      <th>tenure</th>\n",
       "    </tr>\n",
       "  </thead>\n",
       "  <tbody>\n",
       "    <tr>\n",
       "      <th>0</th>\n",
       "      <td>Female</td>\n",
       "      <td>0</td>\n",
       "      <td>Yes</td>\n",
       "      <td>Yes</td>\n",
       "      <td>9</td>\n",
       "    </tr>\n",
       "    <tr>\n",
       "      <th>1</th>\n",
       "      <td>Male</td>\n",
       "      <td>0</td>\n",
       "      <td>No</td>\n",
       "      <td>No</td>\n",
       "      <td>9</td>\n",
       "    </tr>\n",
       "    <tr>\n",
       "      <th>2</th>\n",
       "      <td>Male</td>\n",
       "      <td>0</td>\n",
       "      <td>No</td>\n",
       "      <td>No</td>\n",
       "      <td>4</td>\n",
       "    </tr>\n",
       "    <tr>\n",
       "      <th>3</th>\n",
       "      <td>Male</td>\n",
       "      <td>1</td>\n",
       "      <td>Yes</td>\n",
       "      <td>No</td>\n",
       "      <td>13</td>\n",
       "    </tr>\n",
       "    <tr>\n",
       "      <th>4</th>\n",
       "      <td>Female</td>\n",
       "      <td>1</td>\n",
       "      <td>Yes</td>\n",
       "      <td>No</td>\n",
       "      <td>3</td>\n",
       "    </tr>\n",
       "    <tr>\n",
       "      <th>...</th>\n",
       "      <td>...</td>\n",
       "      <td>...</td>\n",
       "      <td>...</td>\n",
       "      <td>...</td>\n",
       "      <td>...</td>\n",
       "    </tr>\n",
       "    <tr>\n",
       "      <th>7262</th>\n",
       "      <td>Female</td>\n",
       "      <td>0</td>\n",
       "      <td>No</td>\n",
       "      <td>No</td>\n",
       "      <td>13</td>\n",
       "    </tr>\n",
       "    <tr>\n",
       "      <th>7263</th>\n",
       "      <td>Male</td>\n",
       "      <td>0</td>\n",
       "      <td>Yes</td>\n",
       "      <td>No</td>\n",
       "      <td>22</td>\n",
       "    </tr>\n",
       "    <tr>\n",
       "      <th>7264</th>\n",
       "      <td>Male</td>\n",
       "      <td>0</td>\n",
       "      <td>No</td>\n",
       "      <td>No</td>\n",
       "      <td>2</td>\n",
       "    </tr>\n",
       "    <tr>\n",
       "      <th>7265</th>\n",
       "      <td>Male</td>\n",
       "      <td>0</td>\n",
       "      <td>Yes</td>\n",
       "      <td>Yes</td>\n",
       "      <td>67</td>\n",
       "    </tr>\n",
       "    <tr>\n",
       "      <th>7266</th>\n",
       "      <td>Male</td>\n",
       "      <td>0</td>\n",
       "      <td>Yes</td>\n",
       "      <td>Yes</td>\n",
       "      <td>63</td>\n",
       "    </tr>\n",
       "  </tbody>\n",
       "</table>\n",
       "<p>7267 rows × 5 columns</p>\n",
       "</div>"
      ],
      "text/plain": [
       "      gender  SeniorCitizen Partner Dependents  tenure\n",
       "0     Female              0     Yes        Yes       9\n",
       "1       Male              0      No         No       9\n",
       "2       Male              0      No         No       4\n",
       "3       Male              1     Yes         No      13\n",
       "4     Female              1     Yes         No       3\n",
       "...      ...            ...     ...        ...     ...\n",
       "7262  Female              0      No         No      13\n",
       "7263    Male              0     Yes         No      22\n",
       "7264    Male              0      No         No       2\n",
       "7265    Male              0     Yes        Yes      67\n",
       "7266    Male              0     Yes        Yes      63\n",
       "\n",
       "[7267 rows x 5 columns]"
      ]
     },
     "execution_count": 3,
     "metadata": {},
     "output_type": "execute_result"
    }
   ],
   "source": [
    "dados_customer = pd.json_normalize(data=dados.customer)\n",
    "dados_customer"
   ]
  },
  {
   "cell_type": "code",
   "execution_count": 4,
   "id": "f45ebacf",
   "metadata": {},
   "outputs": [
    {
     "data": {
      "text/html": [
       "<div>\n",
       "<style scoped>\n",
       "    .dataframe tbody tr th:only-of-type {\n",
       "        vertical-align: middle;\n",
       "    }\n",
       "\n",
       "    .dataframe tbody tr th {\n",
       "        vertical-align: top;\n",
       "    }\n",
       "\n",
       "    .dataframe thead th {\n",
       "        text-align: right;\n",
       "    }\n",
       "</style>\n",
       "<table border=\"1\" class=\"dataframe\">\n",
       "  <thead>\n",
       "    <tr style=\"text-align: right;\">\n",
       "      <th></th>\n",
       "      <th>PhoneService</th>\n",
       "      <th>MultipleLines</th>\n",
       "    </tr>\n",
       "  </thead>\n",
       "  <tbody>\n",
       "    <tr>\n",
       "      <th>0</th>\n",
       "      <td>Yes</td>\n",
       "      <td>No</td>\n",
       "    </tr>\n",
       "    <tr>\n",
       "      <th>1</th>\n",
       "      <td>Yes</td>\n",
       "      <td>Yes</td>\n",
       "    </tr>\n",
       "    <tr>\n",
       "      <th>2</th>\n",
       "      <td>Yes</td>\n",
       "      <td>No</td>\n",
       "    </tr>\n",
       "    <tr>\n",
       "      <th>3</th>\n",
       "      <td>Yes</td>\n",
       "      <td>No</td>\n",
       "    </tr>\n",
       "    <tr>\n",
       "      <th>4</th>\n",
       "      <td>Yes</td>\n",
       "      <td>No</td>\n",
       "    </tr>\n",
       "    <tr>\n",
       "      <th>...</th>\n",
       "      <td>...</td>\n",
       "      <td>...</td>\n",
       "    </tr>\n",
       "    <tr>\n",
       "      <th>7262</th>\n",
       "      <td>Yes</td>\n",
       "      <td>No</td>\n",
       "    </tr>\n",
       "    <tr>\n",
       "      <th>7263</th>\n",
       "      <td>Yes</td>\n",
       "      <td>Yes</td>\n",
       "    </tr>\n",
       "    <tr>\n",
       "      <th>7264</th>\n",
       "      <td>Yes</td>\n",
       "      <td>No</td>\n",
       "    </tr>\n",
       "    <tr>\n",
       "      <th>7265</th>\n",
       "      <td>Yes</td>\n",
       "      <td>No</td>\n",
       "    </tr>\n",
       "    <tr>\n",
       "      <th>7266</th>\n",
       "      <td>No</td>\n",
       "      <td>No phone service</td>\n",
       "    </tr>\n",
       "  </tbody>\n",
       "</table>\n",
       "<p>7267 rows × 2 columns</p>\n",
       "</div>"
      ],
      "text/plain": [
       "     PhoneService     MultipleLines\n",
       "0             Yes                No\n",
       "1             Yes               Yes\n",
       "2             Yes                No\n",
       "3             Yes                No\n",
       "4             Yes                No\n",
       "...           ...               ...\n",
       "7262          Yes                No\n",
       "7263          Yes               Yes\n",
       "7264          Yes                No\n",
       "7265          Yes                No\n",
       "7266           No  No phone service\n",
       "\n",
       "[7267 rows x 2 columns]"
      ]
     },
     "execution_count": 4,
     "metadata": {},
     "output_type": "execute_result"
    }
   ],
   "source": [
    "dados_phone = pd.json_normalize(data=dados.phone)\n",
    "dados_phone"
   ]
  },
  {
   "cell_type": "code",
   "execution_count": 5,
   "id": "d4abf6fc",
   "metadata": {},
   "outputs": [
    {
     "data": {
      "text/html": [
       "<div>\n",
       "<style scoped>\n",
       "    .dataframe tbody tr th:only-of-type {\n",
       "        vertical-align: middle;\n",
       "    }\n",
       "\n",
       "    .dataframe tbody tr th {\n",
       "        vertical-align: top;\n",
       "    }\n",
       "\n",
       "    .dataframe thead th {\n",
       "        text-align: right;\n",
       "    }\n",
       "</style>\n",
       "<table border=\"1\" class=\"dataframe\">\n",
       "  <thead>\n",
       "    <tr style=\"text-align: right;\">\n",
       "      <th></th>\n",
       "      <th>InternetService</th>\n",
       "      <th>OnlineSecurity</th>\n",
       "      <th>OnlineBackup</th>\n",
       "      <th>DeviceProtection</th>\n",
       "      <th>TechSupport</th>\n",
       "      <th>StreamingTV</th>\n",
       "      <th>StreamingMovies</th>\n",
       "    </tr>\n",
       "  </thead>\n",
       "  <tbody>\n",
       "    <tr>\n",
       "      <th>0</th>\n",
       "      <td>DSL</td>\n",
       "      <td>No</td>\n",
       "      <td>Yes</td>\n",
       "      <td>No</td>\n",
       "      <td>Yes</td>\n",
       "      <td>Yes</td>\n",
       "      <td>No</td>\n",
       "    </tr>\n",
       "    <tr>\n",
       "      <th>1</th>\n",
       "      <td>DSL</td>\n",
       "      <td>No</td>\n",
       "      <td>No</td>\n",
       "      <td>No</td>\n",
       "      <td>No</td>\n",
       "      <td>No</td>\n",
       "      <td>Yes</td>\n",
       "    </tr>\n",
       "    <tr>\n",
       "      <th>2</th>\n",
       "      <td>Fiber optic</td>\n",
       "      <td>No</td>\n",
       "      <td>No</td>\n",
       "      <td>Yes</td>\n",
       "      <td>No</td>\n",
       "      <td>No</td>\n",
       "      <td>No</td>\n",
       "    </tr>\n",
       "    <tr>\n",
       "      <th>3</th>\n",
       "      <td>Fiber optic</td>\n",
       "      <td>No</td>\n",
       "      <td>Yes</td>\n",
       "      <td>Yes</td>\n",
       "      <td>No</td>\n",
       "      <td>Yes</td>\n",
       "      <td>Yes</td>\n",
       "    </tr>\n",
       "    <tr>\n",
       "      <th>4</th>\n",
       "      <td>Fiber optic</td>\n",
       "      <td>No</td>\n",
       "      <td>No</td>\n",
       "      <td>No</td>\n",
       "      <td>Yes</td>\n",
       "      <td>Yes</td>\n",
       "      <td>No</td>\n",
       "    </tr>\n",
       "    <tr>\n",
       "      <th>...</th>\n",
       "      <td>...</td>\n",
       "      <td>...</td>\n",
       "      <td>...</td>\n",
       "      <td>...</td>\n",
       "      <td>...</td>\n",
       "      <td>...</td>\n",
       "      <td>...</td>\n",
       "    </tr>\n",
       "    <tr>\n",
       "      <th>7262</th>\n",
       "      <td>DSL</td>\n",
       "      <td>Yes</td>\n",
       "      <td>No</td>\n",
       "      <td>No</td>\n",
       "      <td>Yes</td>\n",
       "      <td>No</td>\n",
       "      <td>No</td>\n",
       "    </tr>\n",
       "    <tr>\n",
       "      <th>7263</th>\n",
       "      <td>Fiber optic</td>\n",
       "      <td>No</td>\n",
       "      <td>No</td>\n",
       "      <td>No</td>\n",
       "      <td>No</td>\n",
       "      <td>No</td>\n",
       "      <td>Yes</td>\n",
       "    </tr>\n",
       "    <tr>\n",
       "      <th>7264</th>\n",
       "      <td>DSL</td>\n",
       "      <td>No</td>\n",
       "      <td>Yes</td>\n",
       "      <td>No</td>\n",
       "      <td>No</td>\n",
       "      <td>No</td>\n",
       "      <td>No</td>\n",
       "    </tr>\n",
       "    <tr>\n",
       "      <th>7265</th>\n",
       "      <td>DSL</td>\n",
       "      <td>Yes</td>\n",
       "      <td>No</td>\n",
       "      <td>Yes</td>\n",
       "      <td>Yes</td>\n",
       "      <td>No</td>\n",
       "      <td>Yes</td>\n",
       "    </tr>\n",
       "    <tr>\n",
       "      <th>7266</th>\n",
       "      <td>DSL</td>\n",
       "      <td>Yes</td>\n",
       "      <td>Yes</td>\n",
       "      <td>Yes</td>\n",
       "      <td>No</td>\n",
       "      <td>Yes</td>\n",
       "      <td>Yes</td>\n",
       "    </tr>\n",
       "  </tbody>\n",
       "</table>\n",
       "<p>7267 rows × 7 columns</p>\n",
       "</div>"
      ],
      "text/plain": [
       "     InternetService OnlineSecurity OnlineBackup DeviceProtection TechSupport  \\\n",
       "0                DSL             No          Yes               No         Yes   \n",
       "1                DSL             No           No               No          No   \n",
       "2        Fiber optic             No           No              Yes          No   \n",
       "3        Fiber optic             No          Yes              Yes          No   \n",
       "4        Fiber optic             No           No               No         Yes   \n",
       "...              ...            ...          ...              ...         ...   \n",
       "7262             DSL            Yes           No               No         Yes   \n",
       "7263     Fiber optic             No           No               No          No   \n",
       "7264             DSL             No          Yes               No          No   \n",
       "7265             DSL            Yes           No              Yes         Yes   \n",
       "7266             DSL            Yes          Yes              Yes          No   \n",
       "\n",
       "     StreamingTV StreamingMovies  \n",
       "0            Yes              No  \n",
       "1             No             Yes  \n",
       "2             No              No  \n",
       "3            Yes             Yes  \n",
       "4            Yes              No  \n",
       "...          ...             ...  \n",
       "7262          No              No  \n",
       "7263          No             Yes  \n",
       "7264          No              No  \n",
       "7265          No             Yes  \n",
       "7266         Yes             Yes  \n",
       "\n",
       "[7267 rows x 7 columns]"
      ]
     },
     "execution_count": 5,
     "metadata": {},
     "output_type": "execute_result"
    }
   ],
   "source": [
    "dados_internet = pd.json_normalize(data=dados.internet)\n",
    "dados_internet"
   ]
  },
  {
   "cell_type": "code",
   "execution_count": 6,
   "id": "6a67d40a",
   "metadata": {},
   "outputs": [
    {
     "data": {
      "text/html": [
       "<div>\n",
       "<style scoped>\n",
       "    .dataframe tbody tr th:only-of-type {\n",
       "        vertical-align: middle;\n",
       "    }\n",
       "\n",
       "    .dataframe tbody tr th {\n",
       "        vertical-align: top;\n",
       "    }\n",
       "\n",
       "    .dataframe thead th {\n",
       "        text-align: right;\n",
       "    }\n",
       "</style>\n",
       "<table border=\"1\" class=\"dataframe\">\n",
       "  <thead>\n",
       "    <tr style=\"text-align: right;\">\n",
       "      <th></th>\n",
       "      <th>Contract</th>\n",
       "      <th>PaperlessBilling</th>\n",
       "      <th>PaymentMethod</th>\n",
       "      <th>Charges.Monthly</th>\n",
       "      <th>Charges.Total</th>\n",
       "    </tr>\n",
       "  </thead>\n",
       "  <tbody>\n",
       "    <tr>\n",
       "      <th>0</th>\n",
       "      <td>One year</td>\n",
       "      <td>Yes</td>\n",
       "      <td>Mailed check</td>\n",
       "      <td>65.60</td>\n",
       "      <td>593.3</td>\n",
       "    </tr>\n",
       "    <tr>\n",
       "      <th>1</th>\n",
       "      <td>Month-to-month</td>\n",
       "      <td>No</td>\n",
       "      <td>Mailed check</td>\n",
       "      <td>59.90</td>\n",
       "      <td>542.4</td>\n",
       "    </tr>\n",
       "    <tr>\n",
       "      <th>2</th>\n",
       "      <td>Month-to-month</td>\n",
       "      <td>Yes</td>\n",
       "      <td>Electronic check</td>\n",
       "      <td>73.90</td>\n",
       "      <td>280.85</td>\n",
       "    </tr>\n",
       "    <tr>\n",
       "      <th>3</th>\n",
       "      <td>Month-to-month</td>\n",
       "      <td>Yes</td>\n",
       "      <td>Electronic check</td>\n",
       "      <td>98.00</td>\n",
       "      <td>1237.85</td>\n",
       "    </tr>\n",
       "    <tr>\n",
       "      <th>4</th>\n",
       "      <td>Month-to-month</td>\n",
       "      <td>Yes</td>\n",
       "      <td>Mailed check</td>\n",
       "      <td>83.90</td>\n",
       "      <td>267.4</td>\n",
       "    </tr>\n",
       "    <tr>\n",
       "      <th>...</th>\n",
       "      <td>...</td>\n",
       "      <td>...</td>\n",
       "      <td>...</td>\n",
       "      <td>...</td>\n",
       "      <td>...</td>\n",
       "    </tr>\n",
       "    <tr>\n",
       "      <th>7262</th>\n",
       "      <td>One year</td>\n",
       "      <td>No</td>\n",
       "      <td>Mailed check</td>\n",
       "      <td>55.15</td>\n",
       "      <td>742.9</td>\n",
       "    </tr>\n",
       "    <tr>\n",
       "      <th>7263</th>\n",
       "      <td>Month-to-month</td>\n",
       "      <td>Yes</td>\n",
       "      <td>Electronic check</td>\n",
       "      <td>85.10</td>\n",
       "      <td>1873.7</td>\n",
       "    </tr>\n",
       "    <tr>\n",
       "      <th>7264</th>\n",
       "      <td>Month-to-month</td>\n",
       "      <td>Yes</td>\n",
       "      <td>Mailed check</td>\n",
       "      <td>50.30</td>\n",
       "      <td>92.75</td>\n",
       "    </tr>\n",
       "    <tr>\n",
       "      <th>7265</th>\n",
       "      <td>Two year</td>\n",
       "      <td>No</td>\n",
       "      <td>Mailed check</td>\n",
       "      <td>67.85</td>\n",
       "      <td>4627.65</td>\n",
       "    </tr>\n",
       "    <tr>\n",
       "      <th>7266</th>\n",
       "      <td>Two year</td>\n",
       "      <td>No</td>\n",
       "      <td>Electronic check</td>\n",
       "      <td>59.00</td>\n",
       "      <td>3707.6</td>\n",
       "    </tr>\n",
       "  </tbody>\n",
       "</table>\n",
       "<p>7267 rows × 5 columns</p>\n",
       "</div>"
      ],
      "text/plain": [
       "            Contract PaperlessBilling     PaymentMethod  Charges.Monthly  \\\n",
       "0           One year              Yes      Mailed check            65.60   \n",
       "1     Month-to-month               No      Mailed check            59.90   \n",
       "2     Month-to-month              Yes  Electronic check            73.90   \n",
       "3     Month-to-month              Yes  Electronic check            98.00   \n",
       "4     Month-to-month              Yes      Mailed check            83.90   \n",
       "...              ...              ...               ...              ...   \n",
       "7262        One year               No      Mailed check            55.15   \n",
       "7263  Month-to-month              Yes  Electronic check            85.10   \n",
       "7264  Month-to-month              Yes      Mailed check            50.30   \n",
       "7265        Two year               No      Mailed check            67.85   \n",
       "7266        Two year               No  Electronic check            59.00   \n",
       "\n",
       "     Charges.Total  \n",
       "0            593.3  \n",
       "1            542.4  \n",
       "2           280.85  \n",
       "3          1237.85  \n",
       "4            267.4  \n",
       "...            ...  \n",
       "7262         742.9  \n",
       "7263        1873.7  \n",
       "7264         92.75  \n",
       "7265       4627.65  \n",
       "7266        3707.6  \n",
       "\n",
       "[7267 rows x 5 columns]"
      ]
     },
     "execution_count": 6,
     "metadata": {},
     "output_type": "execute_result"
    }
   ],
   "source": [
    "dados_account = pd.json_normalize(data=dados.account)\n",
    "dados_account"
   ]
  },
  {
   "cell_type": "code",
   "execution_count": 7,
   "id": "7c7265aa",
   "metadata": {},
   "outputs": [
    {
     "data": {
      "text/html": [
       "<div>\n",
       "<style scoped>\n",
       "    .dataframe tbody tr th:only-of-type {\n",
       "        vertical-align: middle;\n",
       "    }\n",
       "\n",
       "    .dataframe tbody tr th {\n",
       "        vertical-align: top;\n",
       "    }\n",
       "\n",
       "    .dataframe thead th {\n",
       "        text-align: right;\n",
       "    }\n",
       "</style>\n",
       "<table border=\"1\" class=\"dataframe\">\n",
       "  <thead>\n",
       "    <tr style=\"text-align: right;\">\n",
       "      <th></th>\n",
       "      <th>customerID</th>\n",
       "      <th>Churn</th>\n",
       "      <th>customer</th>\n",
       "      <th>phone</th>\n",
       "      <th>internet</th>\n",
       "      <th>account</th>\n",
       "    </tr>\n",
       "  </thead>\n",
       "  <tbody>\n",
       "    <tr>\n",
       "      <th>0</th>\n",
       "      <td>0002-ORFBO</td>\n",
       "      <td>No</td>\n",
       "      <td>{'gender': 'Female', 'SeniorCitizen': 0, 'Part...</td>\n",
       "      <td>{'PhoneService': 'Yes', 'MultipleLines': 'No'}</td>\n",
       "      <td>{'InternetService': 'DSL', 'OnlineSecurity': '...</td>\n",
       "      <td>{'Contract': 'One year', 'PaperlessBilling': '...</td>\n",
       "    </tr>\n",
       "  </tbody>\n",
       "</table>\n",
       "</div>"
      ],
      "text/plain": [
       "   customerID Churn                                           customer  \\\n",
       "0  0002-ORFBO    No  {'gender': 'Female', 'SeniorCitizen': 0, 'Part...   \n",
       "\n",
       "                                            phone  \\\n",
       "0  {'PhoneService': 'Yes', 'MultipleLines': 'No'}   \n",
       "\n",
       "                                            internet  \\\n",
       "0  {'InternetService': 'DSL', 'OnlineSecurity': '...   \n",
       "\n",
       "                                             account  \n",
       "0  {'Contract': 'One year', 'PaperlessBilling': '...  "
      ]
     },
     "execution_count": 7,
     "metadata": {},
     "output_type": "execute_result"
    }
   ],
   "source": [
    "dados.head(1)"
   ]
  },
  {
   "cell_type": "code",
   "execution_count": 8,
   "id": "08c43669",
   "metadata": {},
   "outputs": [
    {
     "data": {
      "text/html": [
       "<div>\n",
       "<style scoped>\n",
       "    .dataframe tbody tr th:only-of-type {\n",
       "        vertical-align: middle;\n",
       "    }\n",
       "\n",
       "    .dataframe tbody tr th {\n",
       "        vertical-align: top;\n",
       "    }\n",
       "\n",
       "    .dataframe thead th {\n",
       "        text-align: right;\n",
       "    }\n",
       "</style>\n",
       "<table border=\"1\" class=\"dataframe\">\n",
       "  <thead>\n",
       "    <tr style=\"text-align: right;\">\n",
       "      <th></th>\n",
       "      <th>customerID</th>\n",
       "      <th>Churn</th>\n",
       "    </tr>\n",
       "  </thead>\n",
       "  <tbody>\n",
       "    <tr>\n",
       "      <th>0</th>\n",
       "      <td>0002-ORFBO</td>\n",
       "      <td>No</td>\n",
       "    </tr>\n",
       "    <tr>\n",
       "      <th>1</th>\n",
       "      <td>0003-MKNFE</td>\n",
       "      <td>No</td>\n",
       "    </tr>\n",
       "    <tr>\n",
       "      <th>2</th>\n",
       "      <td>0004-TLHLJ</td>\n",
       "      <td>Yes</td>\n",
       "    </tr>\n",
       "    <tr>\n",
       "      <th>3</th>\n",
       "      <td>0011-IGKFF</td>\n",
       "      <td>Yes</td>\n",
       "    </tr>\n",
       "    <tr>\n",
       "      <th>4</th>\n",
       "      <td>0013-EXCHZ</td>\n",
       "      <td>Yes</td>\n",
       "    </tr>\n",
       "    <tr>\n",
       "      <th>...</th>\n",
       "      <td>...</td>\n",
       "      <td>...</td>\n",
       "    </tr>\n",
       "    <tr>\n",
       "      <th>7262</th>\n",
       "      <td>9987-LUTYD</td>\n",
       "      <td>No</td>\n",
       "    </tr>\n",
       "    <tr>\n",
       "      <th>7263</th>\n",
       "      <td>9992-RRAMN</td>\n",
       "      <td>Yes</td>\n",
       "    </tr>\n",
       "    <tr>\n",
       "      <th>7264</th>\n",
       "      <td>9992-UJOEL</td>\n",
       "      <td>No</td>\n",
       "    </tr>\n",
       "    <tr>\n",
       "      <th>7265</th>\n",
       "      <td>9993-LHIEB</td>\n",
       "      <td>No</td>\n",
       "    </tr>\n",
       "    <tr>\n",
       "      <th>7266</th>\n",
       "      <td>9995-HOTOH</td>\n",
       "      <td>No</td>\n",
       "    </tr>\n",
       "  </tbody>\n",
       "</table>\n",
       "<p>7267 rows × 2 columns</p>\n",
       "</div>"
      ],
      "text/plain": [
       "      customerID Churn\n",
       "0     0002-ORFBO    No\n",
       "1     0003-MKNFE    No\n",
       "2     0004-TLHLJ   Yes\n",
       "3     0011-IGKFF   Yes\n",
       "4     0013-EXCHZ   Yes\n",
       "...          ...   ...\n",
       "7262  9987-LUTYD    No\n",
       "7263  9992-RRAMN   Yes\n",
       "7264  9992-UJOEL    No\n",
       "7265  9993-LHIEB    No\n",
       "7266  9995-HOTOH    No\n",
       "\n",
       "[7267 rows x 2 columns]"
      ]
     },
     "execution_count": 8,
     "metadata": {},
     "output_type": "execute_result"
    }
   ],
   "source": [
    "dados_limp = dados.drop(columns=['customer', 'phone', 'internet', 'account'])\n",
    "dados_limp"
   ]
  },
  {
   "cell_type": "markdown",
   "id": "d02e9005",
   "metadata": {},
   "source": [
    "# Juntando os dados normalizados"
   ]
  },
  {
   "cell_type": "code",
   "execution_count": 9,
   "id": "920935bb",
   "metadata": {},
   "outputs": [
    {
     "data": {
      "text/html": [
       "<div>\n",
       "<style scoped>\n",
       "    .dataframe tbody tr th:only-of-type {\n",
       "        vertical-align: middle;\n",
       "    }\n",
       "\n",
       "    .dataframe tbody tr th {\n",
       "        vertical-align: top;\n",
       "    }\n",
       "\n",
       "    .dataframe thead th {\n",
       "        text-align: right;\n",
       "    }\n",
       "</style>\n",
       "<table border=\"1\" class=\"dataframe\">\n",
       "  <thead>\n",
       "    <tr style=\"text-align: right;\">\n",
       "      <th></th>\n",
       "      <th>customerID</th>\n",
       "      <th>Churn</th>\n",
       "      <th>gender</th>\n",
       "      <th>SeniorCitizen</th>\n",
       "      <th>Partner</th>\n",
       "      <th>Dependents</th>\n",
       "      <th>tenure</th>\n",
       "      <th>PhoneService</th>\n",
       "      <th>MultipleLines</th>\n",
       "      <th>InternetService</th>\n",
       "      <th>...</th>\n",
       "      <th>OnlineBackup</th>\n",
       "      <th>DeviceProtection</th>\n",
       "      <th>TechSupport</th>\n",
       "      <th>StreamingTV</th>\n",
       "      <th>StreamingMovies</th>\n",
       "      <th>Contract</th>\n",
       "      <th>PaperlessBilling</th>\n",
       "      <th>PaymentMethod</th>\n",
       "      <th>Charges.Monthly</th>\n",
       "      <th>Charges.Total</th>\n",
       "    </tr>\n",
       "  </thead>\n",
       "  <tbody>\n",
       "    <tr>\n",
       "      <th>0</th>\n",
       "      <td>0002-ORFBO</td>\n",
       "      <td>No</td>\n",
       "      <td>Female</td>\n",
       "      <td>0</td>\n",
       "      <td>Yes</td>\n",
       "      <td>Yes</td>\n",
       "      <td>9</td>\n",
       "      <td>Yes</td>\n",
       "      <td>No</td>\n",
       "      <td>DSL</td>\n",
       "      <td>...</td>\n",
       "      <td>Yes</td>\n",
       "      <td>No</td>\n",
       "      <td>Yes</td>\n",
       "      <td>Yes</td>\n",
       "      <td>No</td>\n",
       "      <td>One year</td>\n",
       "      <td>Yes</td>\n",
       "      <td>Mailed check</td>\n",
       "      <td>65.60</td>\n",
       "      <td>593.3</td>\n",
       "    </tr>\n",
       "    <tr>\n",
       "      <th>1</th>\n",
       "      <td>0003-MKNFE</td>\n",
       "      <td>No</td>\n",
       "      <td>Male</td>\n",
       "      <td>0</td>\n",
       "      <td>No</td>\n",
       "      <td>No</td>\n",
       "      <td>9</td>\n",
       "      <td>Yes</td>\n",
       "      <td>Yes</td>\n",
       "      <td>DSL</td>\n",
       "      <td>...</td>\n",
       "      <td>No</td>\n",
       "      <td>No</td>\n",
       "      <td>No</td>\n",
       "      <td>No</td>\n",
       "      <td>Yes</td>\n",
       "      <td>Month-to-month</td>\n",
       "      <td>No</td>\n",
       "      <td>Mailed check</td>\n",
       "      <td>59.90</td>\n",
       "      <td>542.4</td>\n",
       "    </tr>\n",
       "    <tr>\n",
       "      <th>2</th>\n",
       "      <td>0004-TLHLJ</td>\n",
       "      <td>Yes</td>\n",
       "      <td>Male</td>\n",
       "      <td>0</td>\n",
       "      <td>No</td>\n",
       "      <td>No</td>\n",
       "      <td>4</td>\n",
       "      <td>Yes</td>\n",
       "      <td>No</td>\n",
       "      <td>Fiber optic</td>\n",
       "      <td>...</td>\n",
       "      <td>No</td>\n",
       "      <td>Yes</td>\n",
       "      <td>No</td>\n",
       "      <td>No</td>\n",
       "      <td>No</td>\n",
       "      <td>Month-to-month</td>\n",
       "      <td>Yes</td>\n",
       "      <td>Electronic check</td>\n",
       "      <td>73.90</td>\n",
       "      <td>280.85</td>\n",
       "    </tr>\n",
       "    <tr>\n",
       "      <th>3</th>\n",
       "      <td>0011-IGKFF</td>\n",
       "      <td>Yes</td>\n",
       "      <td>Male</td>\n",
       "      <td>1</td>\n",
       "      <td>Yes</td>\n",
       "      <td>No</td>\n",
       "      <td>13</td>\n",
       "      <td>Yes</td>\n",
       "      <td>No</td>\n",
       "      <td>Fiber optic</td>\n",
       "      <td>...</td>\n",
       "      <td>Yes</td>\n",
       "      <td>Yes</td>\n",
       "      <td>No</td>\n",
       "      <td>Yes</td>\n",
       "      <td>Yes</td>\n",
       "      <td>Month-to-month</td>\n",
       "      <td>Yes</td>\n",
       "      <td>Electronic check</td>\n",
       "      <td>98.00</td>\n",
       "      <td>1237.85</td>\n",
       "    </tr>\n",
       "    <tr>\n",
       "      <th>4</th>\n",
       "      <td>0013-EXCHZ</td>\n",
       "      <td>Yes</td>\n",
       "      <td>Female</td>\n",
       "      <td>1</td>\n",
       "      <td>Yes</td>\n",
       "      <td>No</td>\n",
       "      <td>3</td>\n",
       "      <td>Yes</td>\n",
       "      <td>No</td>\n",
       "      <td>Fiber optic</td>\n",
       "      <td>...</td>\n",
       "      <td>No</td>\n",
       "      <td>No</td>\n",
       "      <td>Yes</td>\n",
       "      <td>Yes</td>\n",
       "      <td>No</td>\n",
       "      <td>Month-to-month</td>\n",
       "      <td>Yes</td>\n",
       "      <td>Mailed check</td>\n",
       "      <td>83.90</td>\n",
       "      <td>267.4</td>\n",
       "    </tr>\n",
       "    <tr>\n",
       "      <th>...</th>\n",
       "      <td>...</td>\n",
       "      <td>...</td>\n",
       "      <td>...</td>\n",
       "      <td>...</td>\n",
       "      <td>...</td>\n",
       "      <td>...</td>\n",
       "      <td>...</td>\n",
       "      <td>...</td>\n",
       "      <td>...</td>\n",
       "      <td>...</td>\n",
       "      <td>...</td>\n",
       "      <td>...</td>\n",
       "      <td>...</td>\n",
       "      <td>...</td>\n",
       "      <td>...</td>\n",
       "      <td>...</td>\n",
       "      <td>...</td>\n",
       "      <td>...</td>\n",
       "      <td>...</td>\n",
       "      <td>...</td>\n",
       "      <td>...</td>\n",
       "    </tr>\n",
       "    <tr>\n",
       "      <th>7262</th>\n",
       "      <td>9987-LUTYD</td>\n",
       "      <td>No</td>\n",
       "      <td>Female</td>\n",
       "      <td>0</td>\n",
       "      <td>No</td>\n",
       "      <td>No</td>\n",
       "      <td>13</td>\n",
       "      <td>Yes</td>\n",
       "      <td>No</td>\n",
       "      <td>DSL</td>\n",
       "      <td>...</td>\n",
       "      <td>No</td>\n",
       "      <td>No</td>\n",
       "      <td>Yes</td>\n",
       "      <td>No</td>\n",
       "      <td>No</td>\n",
       "      <td>One year</td>\n",
       "      <td>No</td>\n",
       "      <td>Mailed check</td>\n",
       "      <td>55.15</td>\n",
       "      <td>742.9</td>\n",
       "    </tr>\n",
       "    <tr>\n",
       "      <th>7263</th>\n",
       "      <td>9992-RRAMN</td>\n",
       "      <td>Yes</td>\n",
       "      <td>Male</td>\n",
       "      <td>0</td>\n",
       "      <td>Yes</td>\n",
       "      <td>No</td>\n",
       "      <td>22</td>\n",
       "      <td>Yes</td>\n",
       "      <td>Yes</td>\n",
       "      <td>Fiber optic</td>\n",
       "      <td>...</td>\n",
       "      <td>No</td>\n",
       "      <td>No</td>\n",
       "      <td>No</td>\n",
       "      <td>No</td>\n",
       "      <td>Yes</td>\n",
       "      <td>Month-to-month</td>\n",
       "      <td>Yes</td>\n",
       "      <td>Electronic check</td>\n",
       "      <td>85.10</td>\n",
       "      <td>1873.7</td>\n",
       "    </tr>\n",
       "    <tr>\n",
       "      <th>7264</th>\n",
       "      <td>9992-UJOEL</td>\n",
       "      <td>No</td>\n",
       "      <td>Male</td>\n",
       "      <td>0</td>\n",
       "      <td>No</td>\n",
       "      <td>No</td>\n",
       "      <td>2</td>\n",
       "      <td>Yes</td>\n",
       "      <td>No</td>\n",
       "      <td>DSL</td>\n",
       "      <td>...</td>\n",
       "      <td>Yes</td>\n",
       "      <td>No</td>\n",
       "      <td>No</td>\n",
       "      <td>No</td>\n",
       "      <td>No</td>\n",
       "      <td>Month-to-month</td>\n",
       "      <td>Yes</td>\n",
       "      <td>Mailed check</td>\n",
       "      <td>50.30</td>\n",
       "      <td>92.75</td>\n",
       "    </tr>\n",
       "    <tr>\n",
       "      <th>7265</th>\n",
       "      <td>9993-LHIEB</td>\n",
       "      <td>No</td>\n",
       "      <td>Male</td>\n",
       "      <td>0</td>\n",
       "      <td>Yes</td>\n",
       "      <td>Yes</td>\n",
       "      <td>67</td>\n",
       "      <td>Yes</td>\n",
       "      <td>No</td>\n",
       "      <td>DSL</td>\n",
       "      <td>...</td>\n",
       "      <td>No</td>\n",
       "      <td>Yes</td>\n",
       "      <td>Yes</td>\n",
       "      <td>No</td>\n",
       "      <td>Yes</td>\n",
       "      <td>Two year</td>\n",
       "      <td>No</td>\n",
       "      <td>Mailed check</td>\n",
       "      <td>67.85</td>\n",
       "      <td>4627.65</td>\n",
       "    </tr>\n",
       "    <tr>\n",
       "      <th>7266</th>\n",
       "      <td>9995-HOTOH</td>\n",
       "      <td>No</td>\n",
       "      <td>Male</td>\n",
       "      <td>0</td>\n",
       "      <td>Yes</td>\n",
       "      <td>Yes</td>\n",
       "      <td>63</td>\n",
       "      <td>No</td>\n",
       "      <td>No phone service</td>\n",
       "      <td>DSL</td>\n",
       "      <td>...</td>\n",
       "      <td>Yes</td>\n",
       "      <td>Yes</td>\n",
       "      <td>No</td>\n",
       "      <td>Yes</td>\n",
       "      <td>Yes</td>\n",
       "      <td>Two year</td>\n",
       "      <td>No</td>\n",
       "      <td>Electronic check</td>\n",
       "      <td>59.00</td>\n",
       "      <td>3707.6</td>\n",
       "    </tr>\n",
       "  </tbody>\n",
       "</table>\n",
       "<p>7267 rows × 21 columns</p>\n",
       "</div>"
      ],
      "text/plain": [
       "      customerID Churn  gender  SeniorCitizen Partner Dependents  tenure  \\\n",
       "0     0002-ORFBO    No  Female              0     Yes        Yes       9   \n",
       "1     0003-MKNFE    No    Male              0      No         No       9   \n",
       "2     0004-TLHLJ   Yes    Male              0      No         No       4   \n",
       "3     0011-IGKFF   Yes    Male              1     Yes         No      13   \n",
       "4     0013-EXCHZ   Yes  Female              1     Yes         No       3   \n",
       "...          ...   ...     ...            ...     ...        ...     ...   \n",
       "7262  9987-LUTYD    No  Female              0      No         No      13   \n",
       "7263  9992-RRAMN   Yes    Male              0     Yes         No      22   \n",
       "7264  9992-UJOEL    No    Male              0      No         No       2   \n",
       "7265  9993-LHIEB    No    Male              0     Yes        Yes      67   \n",
       "7266  9995-HOTOH    No    Male              0     Yes        Yes      63   \n",
       "\n",
       "     PhoneService     MultipleLines InternetService  ... OnlineBackup  \\\n",
       "0             Yes                No             DSL  ...          Yes   \n",
       "1             Yes               Yes             DSL  ...           No   \n",
       "2             Yes                No     Fiber optic  ...           No   \n",
       "3             Yes                No     Fiber optic  ...          Yes   \n",
       "4             Yes                No     Fiber optic  ...           No   \n",
       "...           ...               ...             ...  ...          ...   \n",
       "7262          Yes                No             DSL  ...           No   \n",
       "7263          Yes               Yes     Fiber optic  ...           No   \n",
       "7264          Yes                No             DSL  ...          Yes   \n",
       "7265          Yes                No             DSL  ...           No   \n",
       "7266           No  No phone service             DSL  ...          Yes   \n",
       "\n",
       "     DeviceProtection TechSupport StreamingTV StreamingMovies        Contract  \\\n",
       "0                  No         Yes         Yes              No        One year   \n",
       "1                  No          No          No             Yes  Month-to-month   \n",
       "2                 Yes          No          No              No  Month-to-month   \n",
       "3                 Yes          No         Yes             Yes  Month-to-month   \n",
       "4                  No         Yes         Yes              No  Month-to-month   \n",
       "...               ...         ...         ...             ...             ...   \n",
       "7262               No         Yes          No              No        One year   \n",
       "7263               No          No          No             Yes  Month-to-month   \n",
       "7264               No          No          No              No  Month-to-month   \n",
       "7265              Yes         Yes          No             Yes        Two year   \n",
       "7266              Yes          No         Yes             Yes        Two year   \n",
       "\n",
       "     PaperlessBilling     PaymentMethod Charges.Monthly  Charges.Total  \n",
       "0                 Yes      Mailed check           65.60          593.3  \n",
       "1                  No      Mailed check           59.90          542.4  \n",
       "2                 Yes  Electronic check           73.90         280.85  \n",
       "3                 Yes  Electronic check           98.00        1237.85  \n",
       "4                 Yes      Mailed check           83.90          267.4  \n",
       "...               ...               ...             ...            ...  \n",
       "7262               No      Mailed check           55.15          742.9  \n",
       "7263              Yes  Electronic check           85.10         1873.7  \n",
       "7264              Yes      Mailed check           50.30          92.75  \n",
       "7265               No      Mailed check           67.85        4627.65  \n",
       "7266               No  Electronic check           59.00         3707.6  \n",
       "\n",
       "[7267 rows x 21 columns]"
      ]
     },
     "execution_count": 9,
     "metadata": {},
     "output_type": "execute_result"
    }
   ],
   "source": [
    "dataset = pd.concat([dados_limp, dados_customer,dados_phone, dados_internet, dados_account], axis=1)\n",
    "dataset"
   ]
  },
  {
   "cell_type": "markdown",
   "id": "49086bf8",
   "metadata": {},
   "source": [
    "## Modificando as Configurações"
   ]
  },
  {
   "cell_type": "code",
   "execution_count": 10,
   "id": "989e452c",
   "metadata": {},
   "outputs": [],
   "source": [
    "pd.set_option(\"display.max_rows\", 1000)\n",
    "pd.set_option(\"display.max_columns\",100)"
   ]
  },
  {
   "cell_type": "markdown",
   "id": "a00468d0",
   "metadata": {},
   "source": []
  },
  {
   "cell_type": "markdown",
   "id": "851c9c09",
   "metadata": {},
   "source": [
    "# Analisando os tipos de dados"
   ]
  },
  {
   "cell_type": "code",
   "execution_count": 11,
   "id": "eac0b82d",
   "metadata": {},
   "outputs": [
    {
     "name": "stdout",
     "output_type": "stream",
     "text": [
      "<class 'pandas.core.frame.DataFrame'>\n",
      "RangeIndex: 7267 entries, 0 to 7266\n",
      "Data columns (total 21 columns):\n",
      " #   Column            Non-Null Count  Dtype  \n",
      "---  ------            --------------  -----  \n",
      " 0   customerID        7267 non-null   object \n",
      " 1   Churn             7267 non-null   object \n",
      " 2   gender            7267 non-null   object \n",
      " 3   SeniorCitizen     7267 non-null   int64  \n",
      " 4   Partner           7267 non-null   object \n",
      " 5   Dependents        7267 non-null   object \n",
      " 6   tenure            7267 non-null   int64  \n",
      " 7   PhoneService      7267 non-null   object \n",
      " 8   MultipleLines     7267 non-null   object \n",
      " 9   InternetService   7267 non-null   object \n",
      " 10  OnlineSecurity    7267 non-null   object \n",
      " 11  OnlineBackup      7267 non-null   object \n",
      " 12  DeviceProtection  7267 non-null   object \n",
      " 13  TechSupport       7267 non-null   object \n",
      " 14  StreamingTV       7267 non-null   object \n",
      " 15  StreamingMovies   7267 non-null   object \n",
      " 16  Contract          7267 non-null   object \n",
      " 17  PaperlessBilling  7267 non-null   object \n",
      " 18  PaymentMethod     7267 non-null   object \n",
      " 19  Charges.Monthly   7267 non-null   float64\n",
      " 20  Charges.Total     7267 non-null   object \n",
      "dtypes: float64(1), int64(2), object(18)\n",
      "memory usage: 1.2+ MB\n"
     ]
    }
   ],
   "source": [
    "dataset.info()"
   ]
  },
  {
   "cell_type": "code",
   "execution_count": 12,
   "id": "8f9b50b4",
   "metadata": {},
   "outputs": [
    {
     "data": {
      "text/html": [
       "<div>\n",
       "<style scoped>\n",
       "    .dataframe tbody tr th:only-of-type {\n",
       "        vertical-align: middle;\n",
       "    }\n",
       "\n",
       "    .dataframe tbody tr th {\n",
       "        vertical-align: top;\n",
       "    }\n",
       "\n",
       "    .dataframe thead th {\n",
       "        text-align: right;\n",
       "    }\n",
       "</style>\n",
       "<table border=\"1\" class=\"dataframe\">\n",
       "  <thead>\n",
       "    <tr style=\"text-align: right;\">\n",
       "      <th></th>\n",
       "      <th>SeniorCitizen</th>\n",
       "      <th>tenure</th>\n",
       "      <th>Charges.Monthly</th>\n",
       "    </tr>\n",
       "  </thead>\n",
       "  <tbody>\n",
       "    <tr>\n",
       "      <th>count</th>\n",
       "      <td>7267.000000</td>\n",
       "      <td>7267.000000</td>\n",
       "      <td>7267.000000</td>\n",
       "    </tr>\n",
       "    <tr>\n",
       "      <th>mean</th>\n",
       "      <td>0.162653</td>\n",
       "      <td>32.346498</td>\n",
       "      <td>64.720098</td>\n",
       "    </tr>\n",
       "    <tr>\n",
       "      <th>std</th>\n",
       "      <td>0.369074</td>\n",
       "      <td>24.571773</td>\n",
       "      <td>30.129572</td>\n",
       "    </tr>\n",
       "    <tr>\n",
       "      <th>min</th>\n",
       "      <td>0.000000</td>\n",
       "      <td>0.000000</td>\n",
       "      <td>18.250000</td>\n",
       "    </tr>\n",
       "    <tr>\n",
       "      <th>25%</th>\n",
       "      <td>0.000000</td>\n",
       "      <td>9.000000</td>\n",
       "      <td>35.425000</td>\n",
       "    </tr>\n",
       "    <tr>\n",
       "      <th>50%</th>\n",
       "      <td>0.000000</td>\n",
       "      <td>29.000000</td>\n",
       "      <td>70.300000</td>\n",
       "    </tr>\n",
       "    <tr>\n",
       "      <th>75%</th>\n",
       "      <td>0.000000</td>\n",
       "      <td>55.000000</td>\n",
       "      <td>89.875000</td>\n",
       "    </tr>\n",
       "    <tr>\n",
       "      <th>max</th>\n",
       "      <td>1.000000</td>\n",
       "      <td>72.000000</td>\n",
       "      <td>118.750000</td>\n",
       "    </tr>\n",
       "  </tbody>\n",
       "</table>\n",
       "</div>"
      ],
      "text/plain": [
       "       SeniorCitizen       tenure  Charges.Monthly\n",
       "count    7267.000000  7267.000000      7267.000000\n",
       "mean        0.162653    32.346498        64.720098\n",
       "std         0.369074    24.571773        30.129572\n",
       "min         0.000000     0.000000        18.250000\n",
       "25%         0.000000     9.000000        35.425000\n",
       "50%         0.000000    29.000000        70.300000\n",
       "75%         0.000000    55.000000        89.875000\n",
       "max         1.000000    72.000000       118.750000"
      ]
     },
     "execution_count": 12,
     "metadata": {},
     "output_type": "execute_result"
    }
   ],
   "source": [
    "dataset.describe()"
   ]
  },
  {
   "cell_type": "code",
   "execution_count": 13,
   "id": "f9e43d67",
   "metadata": {},
   "outputs": [
    {
     "data": {
      "text/plain": [
       "customerID          0\n",
       "Churn               0\n",
       "gender              0\n",
       "SeniorCitizen       0\n",
       "Partner             0\n",
       "Dependents          0\n",
       "tenure              0\n",
       "PhoneService        0\n",
       "MultipleLines       0\n",
       "InternetService     0\n",
       "OnlineSecurity      0\n",
       "OnlineBackup        0\n",
       "DeviceProtection    0\n",
       "TechSupport         0\n",
       "StreamingTV         0\n",
       "StreamingMovies     0\n",
       "Contract            0\n",
       "PaperlessBilling    0\n",
       "PaymentMethod       0\n",
       "Charges.Monthly     0\n",
       "Charges.Total       0\n",
       "dtype: int64"
      ]
     },
     "execution_count": 13,
     "metadata": {},
     "output_type": "execute_result"
    }
   ],
   "source": [
    "dataset.isnull().sum()"
   ]
  },
  {
   "cell_type": "markdown",
   "id": "5c944681",
   "metadata": {},
   "source": [
    "# Traduzindo colunas"
   ]
  },
  {
   "cell_type": "code",
   "execution_count": 14,
   "id": "044b2c68",
   "metadata": {},
   "outputs": [
    {
     "data": {
      "text/html": [
       "<div>\n",
       "<style scoped>\n",
       "    .dataframe tbody tr th:only-of-type {\n",
       "        vertical-align: middle;\n",
       "    }\n",
       "\n",
       "    .dataframe tbody tr th {\n",
       "        vertical-align: top;\n",
       "    }\n",
       "\n",
       "    .dataframe thead th {\n",
       "        text-align: right;\n",
       "    }\n",
       "</style>\n",
       "<table border=\"1\" class=\"dataframe\">\n",
       "  <thead>\n",
       "    <tr style=\"text-align: right;\">\n",
       "      <th></th>\n",
       "      <th>ID</th>\n",
       "      <th>Churn</th>\n",
       "      <th>Sexo</th>\n",
       "      <th>Sênior</th>\n",
       "      <th>Parceiro</th>\n",
       "      <th>Dependentes</th>\n",
       "      <th>MesesDeContrato</th>\n",
       "      <th>Telefone</th>\n",
       "      <th>VáriasLinhas</th>\n",
       "      <th>SegurançaOnline</th>\n",
       "      <th>ServiçoInternet</th>\n",
       "      <th>BackupOnline</th>\n",
       "      <th>ProteçãoDispositivo</th>\n",
       "      <th>SuporteTécnico</th>\n",
       "      <th>StreamingTV</th>\n",
       "      <th>StreamingFilmes</th>\n",
       "      <th>Contato</th>\n",
       "      <th>FaturamentoSemPapel</th>\n",
       "      <th>FormaDePagamento</th>\n",
       "      <th>EncargosMensal</th>\n",
       "      <th>EncargosTotal</th>\n",
       "    </tr>\n",
       "  </thead>\n",
       "  <tbody>\n",
       "    <tr>\n",
       "      <th>0</th>\n",
       "      <td>0002-ORFBO</td>\n",
       "      <td>No</td>\n",
       "      <td>Female</td>\n",
       "      <td>0</td>\n",
       "      <td>Yes</td>\n",
       "      <td>Yes</td>\n",
       "      <td>9</td>\n",
       "      <td>Yes</td>\n",
       "      <td>No</td>\n",
       "      <td>DSL</td>\n",
       "      <td>No</td>\n",
       "      <td>Yes</td>\n",
       "      <td>No</td>\n",
       "      <td>Yes</td>\n",
       "      <td>Yes</td>\n",
       "      <td>No</td>\n",
       "      <td>One year</td>\n",
       "      <td>Yes</td>\n",
       "      <td>Mailed check</td>\n",
       "      <td>65.6</td>\n",
       "      <td>593.3</td>\n",
       "    </tr>\n",
       "    <tr>\n",
       "      <th>1</th>\n",
       "      <td>0003-MKNFE</td>\n",
       "      <td>No</td>\n",
       "      <td>Male</td>\n",
       "      <td>0</td>\n",
       "      <td>No</td>\n",
       "      <td>No</td>\n",
       "      <td>9</td>\n",
       "      <td>Yes</td>\n",
       "      <td>Yes</td>\n",
       "      <td>DSL</td>\n",
       "      <td>No</td>\n",
       "      <td>No</td>\n",
       "      <td>No</td>\n",
       "      <td>No</td>\n",
       "      <td>No</td>\n",
       "      <td>Yes</td>\n",
       "      <td>Month-to-month</td>\n",
       "      <td>No</td>\n",
       "      <td>Mailed check</td>\n",
       "      <td>59.9</td>\n",
       "      <td>542.4</td>\n",
       "    </tr>\n",
       "    <tr>\n",
       "      <th>2</th>\n",
       "      <td>0004-TLHLJ</td>\n",
       "      <td>Yes</td>\n",
       "      <td>Male</td>\n",
       "      <td>0</td>\n",
       "      <td>No</td>\n",
       "      <td>No</td>\n",
       "      <td>4</td>\n",
       "      <td>Yes</td>\n",
       "      <td>No</td>\n",
       "      <td>Fiber optic</td>\n",
       "      <td>No</td>\n",
       "      <td>No</td>\n",
       "      <td>Yes</td>\n",
       "      <td>No</td>\n",
       "      <td>No</td>\n",
       "      <td>No</td>\n",
       "      <td>Month-to-month</td>\n",
       "      <td>Yes</td>\n",
       "      <td>Electronic check</td>\n",
       "      <td>73.9</td>\n",
       "      <td>280.85</td>\n",
       "    </tr>\n",
       "    <tr>\n",
       "      <th>3</th>\n",
       "      <td>0011-IGKFF</td>\n",
       "      <td>Yes</td>\n",
       "      <td>Male</td>\n",
       "      <td>1</td>\n",
       "      <td>Yes</td>\n",
       "      <td>No</td>\n",
       "      <td>13</td>\n",
       "      <td>Yes</td>\n",
       "      <td>No</td>\n",
       "      <td>Fiber optic</td>\n",
       "      <td>No</td>\n",
       "      <td>Yes</td>\n",
       "      <td>Yes</td>\n",
       "      <td>No</td>\n",
       "      <td>Yes</td>\n",
       "      <td>Yes</td>\n",
       "      <td>Month-to-month</td>\n",
       "      <td>Yes</td>\n",
       "      <td>Electronic check</td>\n",
       "      <td>98.0</td>\n",
       "      <td>1237.85</td>\n",
       "    </tr>\n",
       "    <tr>\n",
       "      <th>4</th>\n",
       "      <td>0013-EXCHZ</td>\n",
       "      <td>Yes</td>\n",
       "      <td>Female</td>\n",
       "      <td>1</td>\n",
       "      <td>Yes</td>\n",
       "      <td>No</td>\n",
       "      <td>3</td>\n",
       "      <td>Yes</td>\n",
       "      <td>No</td>\n",
       "      <td>Fiber optic</td>\n",
       "      <td>No</td>\n",
       "      <td>No</td>\n",
       "      <td>No</td>\n",
       "      <td>Yes</td>\n",
       "      <td>Yes</td>\n",
       "      <td>No</td>\n",
       "      <td>Month-to-month</td>\n",
       "      <td>Yes</td>\n",
       "      <td>Mailed check</td>\n",
       "      <td>83.9</td>\n",
       "      <td>267.4</td>\n",
       "    </tr>\n",
       "  </tbody>\n",
       "</table>\n",
       "</div>"
      ],
      "text/plain": [
       "           ID Churn    Sexo  Sênior Parceiro Dependentes  MesesDeContrato  \\\n",
       "0  0002-ORFBO    No  Female       0      Yes         Yes                9   \n",
       "1  0003-MKNFE    No    Male       0       No          No                9   \n",
       "2  0004-TLHLJ   Yes    Male       0       No          No                4   \n",
       "3  0011-IGKFF   Yes    Male       1      Yes          No               13   \n",
       "4  0013-EXCHZ   Yes  Female       1      Yes          No                3   \n",
       "\n",
       "  Telefone VáriasLinhas SegurançaOnline ServiçoInternet BackupOnline  \\\n",
       "0      Yes           No             DSL              No          Yes   \n",
       "1      Yes          Yes             DSL              No           No   \n",
       "2      Yes           No     Fiber optic              No           No   \n",
       "3      Yes           No     Fiber optic              No          Yes   \n",
       "4      Yes           No     Fiber optic              No           No   \n",
       "\n",
       "  ProteçãoDispositivo SuporteTécnico StreamingTV StreamingFilmes  \\\n",
       "0                  No            Yes         Yes              No   \n",
       "1                  No             No          No             Yes   \n",
       "2                 Yes             No          No              No   \n",
       "3                 Yes             No         Yes             Yes   \n",
       "4                  No            Yes         Yes              No   \n",
       "\n",
       "          Contato FaturamentoSemPapel  FormaDePagamento  EncargosMensal  \\\n",
       "0        One year                 Yes      Mailed check            65.6   \n",
       "1  Month-to-month                  No      Mailed check            59.9   \n",
       "2  Month-to-month                 Yes  Electronic check            73.9   \n",
       "3  Month-to-month                 Yes  Electronic check            98.0   \n",
       "4  Month-to-month                 Yes      Mailed check            83.9   \n",
       "\n",
       "  EncargosTotal  \n",
       "0         593.3  \n",
       "1         542.4  \n",
       "2        280.85  \n",
       "3       1237.85  \n",
       "4         267.4  "
      ]
     },
     "execution_count": 14,
     "metadata": {},
     "output_type": "execute_result"
    }
   ],
   "source": [
    "dataset.columns = ['ID', 'Churn', 'Sexo', 'Sênior', 'Parceiro', 'Dependentes', 'MesesDeContrato', 'Telefone', 'VáriasLinhas', 'SegurançaOnline','ServiçoInternet', 'BackupOnline', 'ProteçãoDispositivo', 'SuporteTécnico', 'StreamingTV', 'StreamingFilmes', 'Contato', 'FaturamentoSemPapel', 'FormaDePagamento', 'EncargosMensal', 'EncargosTotal']\n",
    "dataset.head()"
   ]
  },
  {
   "cell_type": "markdown",
   "id": "30f65730",
   "metadata": {},
   "source": [
    "# Agora vamos verificar quais são as inconsistências nos dados e corrigir as inconsistências nos dados, passando por cada coluna"
   ]
  },
  {
   "cell_type": "markdown",
   "id": "0244957f",
   "metadata": {},
   "source": [
    "# Verificando a coluna ID"
   ]
  },
  {
   "cell_type": "code",
   "execution_count": 15,
   "id": "ffe82766",
   "metadata": {},
   "outputs": [
    {
     "data": {
      "text/plain": [
       "array(['0002-ORFBO', '0003-MKNFE', '0004-TLHLJ', ..., '9992-UJOEL',\n",
       "       '9993-LHIEB', '9995-HOTOH'], dtype=object)"
      ]
     },
     "execution_count": 15,
     "metadata": {},
     "output_type": "execute_result"
    }
   ],
   "source": [
    "dataset['ID'].unique()"
   ]
  },
  {
   "cell_type": "code",
   "execution_count": 16,
   "id": "3d9f35be",
   "metadata": {},
   "outputs": [
    {
     "data": {
      "text/plain": [
       "0002-ORFBO    1\n",
       "6614-VBEGU    1\n",
       "6637-KYRCV    1\n",
       "6635-MYYYZ    1\n",
       "6635-CPNUN    1\n",
       "             ..\n",
       "3374-TTZTK    1\n",
       "3374-PZLXD    1\n",
       "3374-LXDEV    1\n",
       "3373-YZZYM    1\n",
       "9995-HOTOH    1\n",
       "Name: ID, Length: 7267, dtype: int64"
      ]
     },
     "execution_count": 16,
     "metadata": {},
     "output_type": "execute_result"
    }
   ],
   "source": [
    "dataset['ID'].value_counts()"
   ]
  },
  {
   "cell_type": "markdown",
   "id": "cdf96cb5",
   "metadata": {},
   "source": [
    "# Verificando a coluna Churn"
   ]
  },
  {
   "cell_type": "code",
   "execution_count": 17,
   "id": "9af2f82e",
   "metadata": {},
   "outputs": [
    {
     "data": {
      "text/plain": [
       "No     5174\n",
       "Yes    1869\n",
       "        224\n",
       "Name: Churn, dtype: int64"
      ]
     },
     "execution_count": 17,
     "metadata": {},
     "output_type": "execute_result"
    }
   ],
   "source": [
    "dataset['Churn'].value_counts()"
   ]
  },
  {
   "cell_type": "code",
   "execution_count": 18,
   "id": "aee3e1e0",
   "metadata": {},
   "outputs": [],
   "source": [
    "filtro  = dataset['Churn'] != ''\n",
    "dataset = dataset[filtro]"
   ]
  },
  {
   "cell_type": "markdown",
   "id": "3b68285b",
   "metadata": {},
   "source": [
    "dataset.head()"
   ]
  },
  {
   "cell_type": "code",
   "execution_count": 100,
   "id": "b7c1c5b9",
   "metadata": {},
   "outputs": [],
   "source": [
    "dataset['Churn'].value_counts()"
   ]
  },
  {
   "cell_type": "code",
   "execution_count": 115,
   "id": "2652bf8f",
   "metadata": {},
   "outputs": [
    {
     "data": {
      "text/plain": [
       "No     5174\n",
       "Yes    1869\n",
       "Name: Churn, dtype: int64"
      ]
     },
     "execution_count": 115,
     "metadata": {},
     "output_type": "execute_result"
    }
   ],
   "source": [
    "caracteristicas_propriedade = dataset['Churn']\n",
    "caracteristicas_propriedade_itens = caracteristicas_propriedade.explode()\n",
    "caracteristicas_propriedade_itens.value_counts()"
   ]
  },
  {
   "cell_type": "code",
   "execution_count": 116,
   "id": "af386d30",
   "metadata": {},
   "outputs": [
    {
     "data": {
      "text/html": [
       "<div>\n",
       "<style scoped>\n",
       "    .dataframe tbody tr th:only-of-type {\n",
       "        vertical-align: middle;\n",
       "    }\n",
       "\n",
       "    .dataframe tbody tr th {\n",
       "        vertical-align: top;\n",
       "    }\n",
       "\n",
       "    .dataframe thead th {\n",
       "        text-align: right;\n",
       "    }\n",
       "</style>\n",
       "<table border=\"1\" class=\"dataframe\">\n",
       "  <thead>\n",
       "    <tr style=\"text-align: right;\">\n",
       "      <th></th>\n",
       "      <th>Churn_x</th>\n",
       "      <th>Churn_y</th>\n",
       "    </tr>\n",
       "  </thead>\n",
       "  <tbody>\n",
       "    <tr>\n",
       "      <th>No</th>\n",
       "      <td>5174</td>\n",
       "      <td>0.73463</td>\n",
       "    </tr>\n",
       "    <tr>\n",
       "      <th>Yes</th>\n",
       "      <td>1869</td>\n",
       "      <td>0.26537</td>\n",
       "    </tr>\n",
       "  </tbody>\n",
       "</table>\n",
       "</div>"
      ],
      "text/plain": [
       "     Churn_x  Churn_y\n",
       "No      5174  0.73463\n",
       "Yes     1869  0.26537"
      ]
     },
     "execution_count": 116,
     "metadata": {},
     "output_type": "execute_result"
    }
   ],
   "source": [
    "tabela_frequencias = pd.merge(\n",
    "    left=caracteristicas_propriedade_itens.value_counts(sort=False),\n",
    "    right=caracteristicas_propriedade_itens.value_counts(normalize=True, sort=False),\n",
    "    left_index=True,\n",
    "    right_index=True\n",
    ")\n",
    "tabela_frequencias"
   ]
  },
  {
   "cell_type": "code",
   "execution_count": 109,
   "id": "e5adf9a3",
   "metadata": {},
   "outputs": [
    {
     "data": {
      "text/html": [
       "<div>\n",
       "<style scoped>\n",
       "    .dataframe tbody tr th:only-of-type {\n",
       "        vertical-align: middle;\n",
       "    }\n",
       "\n",
       "    .dataframe tbody tr th {\n",
       "        vertical-align: top;\n",
       "    }\n",
       "\n",
       "    .dataframe thead th {\n",
       "        text-align: right;\n",
       "    }\n",
       "</style>\n",
       "<table border=\"1\" class=\"dataframe\">\n",
       "  <thead>\n",
       "    <tr style=\"text-align: right;\">\n",
       "      <th></th>\n",
       "      <th>Frequências</th>\n",
       "      <th>Percentual</th>\n",
       "    </tr>\n",
       "    <tr>\n",
       "      <th>Churn</th>\n",
       "      <th></th>\n",
       "      <th></th>\n",
       "    </tr>\n",
       "  </thead>\n",
       "  <tbody>\n",
       "    <tr>\n",
       "      <th>No</th>\n",
       "      <td>5174</td>\n",
       "      <td>0.73463</td>\n",
       "    </tr>\n",
       "    <tr>\n",
       "      <th>Yes</th>\n",
       "      <td>1869</td>\n",
       "      <td>0.26537</td>\n",
       "    </tr>\n",
       "  </tbody>\n",
       "</table>\n",
       "</div>"
      ],
      "text/plain": [
       "       Frequências  Percentual\n",
       "Churn                         \n",
       "No            5174     0.73463\n",
       "Yes           1869     0.26537"
      ]
     },
     "execution_count": 109,
     "metadata": {},
     "output_type": "execute_result"
    }
   ],
   "source": [
    "tabela_frequencias.rename(columns={\n",
    "        'Churn_x': 'Frequências',\n",
    "        'Churn_y': 'Percentual'\n",
    "}, inplace=True)\n",
    "\n",
    "tabela_frequencias.rename_axis('Churn', inplace=True)\n",
    "\n",
    "tabela_frequencias"
   ]
  },
  {
   "cell_type": "code",
   "execution_count": 114,
   "id": "7b362485",
   "metadata": {},
   "outputs": [
    {
     "data": {
      "text/html": [
       "<style type=\"text/css\">\n",
       "#T_060f1_row0_col0, #T_060f1_row1_col0 {\n",
       "  font-weight: bold;\n",
       "}\n",
       "#T_060f1_row0_col1 {\n",
       "  width: 10em;\n",
       "  height: 80%;\n",
       "  background: linear-gradient(90deg,lightblue 100.0%, transparent 100.0%);\n",
       "}\n",
       "#T_060f1_row1_col1 {\n",
       "  width: 10em;\n",
       "  height: 80%;\n",
       "  background: linear-gradient(90deg,lightblue 31.5%, transparent 31.5%);\n",
       "}\n",
       "</style>\n",
       "<table id=\"T_060f1_\">\n",
       "  <thead>\n",
       "    <tr>\n",
       "      <th class=\"blank level0\" >&nbsp;</th>\n",
       "      <th class=\"col_heading level0 col0\" >Frequências</th>\n",
       "      <th class=\"col_heading level0 col1\" >Percentual</th>\n",
       "    </tr>\n",
       "    <tr>\n",
       "      <th class=\"index_name level0\" >Churn</th>\n",
       "      <th class=\"blank col0\" >&nbsp;</th>\n",
       "      <th class=\"blank col1\" >&nbsp;</th>\n",
       "    </tr>\n",
       "  </thead>\n",
       "  <tbody>\n",
       "    <tr>\n",
       "      <th id=\"T_060f1_level0_row0\" class=\"row_heading level0 row0\" >No</th>\n",
       "      <td id=\"T_060f1_row0_col0\" class=\"data row0 col0\" >5174</td>\n",
       "      <td id=\"T_060f1_row0_col1\" class=\"data row0 col1\" >73.46%</td>\n",
       "    </tr>\n",
       "    <tr>\n",
       "      <th id=\"T_060f1_level0_row1\" class=\"row_heading level0 row1\" >Yes</th>\n",
       "      <td id=\"T_060f1_row1_col0\" class=\"data row1 col0\" >1869</td>\n",
       "      <td id=\"T_060f1_row1_col1\" class=\"data row1 col1\" >26.54%</td>\n",
       "    </tr>\n",
       "  </tbody>\n",
       "</table>\n"
      ],
      "text/plain": [
       "<pandas.io.formats.style.Styler at 0x24f091cd9d0>"
      ]
     },
     "execution_count": 114,
     "metadata": {},
     "output_type": "execute_result"
    }
   ],
   "source": [
    "tabela_frequencias.style.format({'Percentual': '{:.2%}'})\\\n",
    "                        .bar(subset='Percentual', vmin = 0.05, color = 'lightblue')"
   ]
  },
  {
   "cell_type": "code",
   "execution_count": 20,
   "id": "6c855540",
   "metadata": {},
   "outputs": [
    {
     "data": {
      "text/plain": [
       "(7043, 21)"
      ]
     },
     "execution_count": 20,
     "metadata": {},
     "output_type": "execute_result"
    }
   ],
   "source": [
    "dataset.shape"
   ]
  },
  {
   "cell_type": "code",
   "execution_count": 21,
   "id": "927eb919",
   "metadata": {},
   "outputs": [
    {
     "data": {
      "text/plain": [
       "(-1.117218204587607,\n",
       " 1.1008199145041717,\n",
       " -1.1101299214113773,\n",
       " 1.119426955701786)"
      ]
     },
     "execution_count": 21,
     "metadata": {},
     "output_type": "execute_result"
    },
    {
     "data": {
      "image/png": "[encoded data removed]",
      "text/plain": [
       "<Figure size 432x288 with 1 Axes>"
      ]
     },
     "metadata": {},
     "output_type": "display_data"
    }
   ],
   "source": [
    "# Com Pandas\n",
    "dataset['Churn'].value_counts().plot(kind='pie', autopct='%.2f%%')\n",
    "plt.axis('equal')  # Para deixar o gráfico redondo\n"
   ]
  },
  {
   "cell_type": "code",
   "execution_count": 22,
   "id": "447f0325",
   "metadata": {},
   "outputs": [
    {
     "name": "stderr",
     "output_type": "stream",
     "text": [
      "C:\\Users\\PC\\anaconda3\\lib\\site-packages\\seaborn\\categorical.py:3717: UserWarning: The `factorplot` function has been renamed to `catplot`. The original name will be removed in a future release. Please update your code. Note that the default `kind` in `factorplot` (`'point'`) has changed `'strip'` in `catplot`.\n",
      "  warnings.warn(msg)\n",
      "C:\\Users\\PC\\anaconda3\\lib\\site-packages\\seaborn\\_decorators.py:36: FutureWarning: Pass the following variable as a keyword arg: x. From version 0.12, the only valid positional argument will be `data`, and passing other arguments without an explicit keyword will result in an error or misinterpretation.\n",
      "  warnings.warn(\n"
     ]
    },
    {
     "data": {
      "text/plain": [
       "<seaborn.axisgrid.FacetGrid at 0x24f08124a90>"
      ]
     },
     "execution_count": 22,
     "metadata": {},
     "output_type": "execute_result"
    },
    {
     "data": {
      "image/png": "[encoded data removed]",
      "text/plain": [
       "<Figure size 360x360 with 1 Axes>"
      ]
     },
     "metadata": {
      "needs_background": "light"
     },
     "output_type": "display_data"
    }
   ],
   "source": [
    "# Com Seaborn\n",
    "sns.factorplot('Churn', data=dataset, kind='count')"
   ]
  },
  {
   "cell_type": "code",
   "execution_count": 23,
   "id": "a80a5ef1",
   "metadata": {},
   "outputs": [
    {
     "data": {
      "text/html": [
       "<div>\n",
       "<style scoped>\n",
       "    .dataframe tbody tr th:only-of-type {\n",
       "        vertical-align: middle;\n",
       "    }\n",
       "\n",
       "    .dataframe tbody tr th {\n",
       "        vertical-align: top;\n",
       "    }\n",
       "\n",
       "    .dataframe thead tr th {\n",
       "        text-align: left;\n",
       "    }\n",
       "\n",
       "    .dataframe thead tr:last-of-type th {\n",
       "        text-align: right;\n",
       "    }\n",
       "</style>\n",
       "<table border=\"1\" class=\"dataframe\">\n",
       "  <thead>\n",
       "    <tr>\n",
       "      <th></th>\n",
       "      <th colspan=\"8\" halign=\"left\">EncargosMensal</th>\n",
       "    </tr>\n",
       "    <tr>\n",
       "      <th></th>\n",
       "      <th>count</th>\n",
       "      <th>mean</th>\n",
       "      <th>std</th>\n",
       "      <th>min</th>\n",
       "      <th>25%</th>\n",
       "      <th>50%</th>\n",
       "      <th>75%</th>\n",
       "      <th>max</th>\n",
       "    </tr>\n",
       "    <tr>\n",
       "      <th>Churn</th>\n",
       "      <th></th>\n",
       "      <th></th>\n",
       "      <th></th>\n",
       "      <th></th>\n",
       "      <th></th>\n",
       "      <th></th>\n",
       "      <th></th>\n",
       "      <th></th>\n",
       "    </tr>\n",
       "  </thead>\n",
       "  <tbody>\n",
       "    <tr>\n",
       "      <th>No</th>\n",
       "      <td>5174.0</td>\n",
       "      <td>61.0</td>\n",
       "      <td>31.0</td>\n",
       "      <td>18.0</td>\n",
       "      <td>25.0</td>\n",
       "      <td>64.0</td>\n",
       "      <td>88.0</td>\n",
       "      <td>119.0</td>\n",
       "    </tr>\n",
       "    <tr>\n",
       "      <th>Yes</th>\n",
       "      <td>1869.0</td>\n",
       "      <td>74.0</td>\n",
       "      <td>25.0</td>\n",
       "      <td>19.0</td>\n",
       "      <td>56.0</td>\n",
       "      <td>80.0</td>\n",
       "      <td>94.0</td>\n",
       "      <td>118.0</td>\n",
       "    </tr>\n",
       "  </tbody>\n",
       "</table>\n",
       "</div>"
      ],
      "text/plain": [
       "      EncargosMensal                                           \n",
       "               count  mean   std   min   25%   50%   75%    max\n",
       "Churn                                                          \n",
       "No            5174.0  61.0  31.0  18.0  25.0  64.0  88.0  119.0\n",
       "Yes           1869.0  74.0  25.0  19.0  56.0  80.0  94.0  118.0"
      ]
     },
     "execution_count": 23,
     "metadata": {},
     "output_type": "execute_result"
    }
   ],
   "source": [
    "grupamento = dataset[['Churn', 'EncargosMensal']].groupby(by='Churn')\n",
    "grupamento.describe().round()"
   ]
  },
  {
   "cell_type": "markdown",
   "id": "ce962ca8",
   "metadata": {},
   "source": [
    "# Verificando a coluna sexo"
   ]
  },
  {
   "cell_type": "code",
   "execution_count": 24,
   "id": "5dc3ccbd",
   "metadata": {},
   "outputs": [
    {
     "data": {
      "text/plain": [
       "array(['Female', 'Male'], dtype=object)"
      ]
     },
     "execution_count": 24,
     "metadata": {},
     "output_type": "execute_result"
    }
   ],
   "source": [
    "dataset['Sexo'].unique()"
   ]
  },
  {
   "cell_type": "code",
   "execution_count": 25,
   "id": "0a3074ce",
   "metadata": {},
   "outputs": [
    {
     "data": {
      "text/plain": [
       "Male      3555\n",
       "Female    3488\n",
       "Name: Sexo, dtype: int64"
      ]
     },
     "execution_count": 25,
     "metadata": {},
     "output_type": "execute_result"
    }
   ],
   "source": [
    "dataset['Sexo'].value_counts()"
   ]
  },
  {
   "cell_type": "code",
   "execution_count": 117,
   "id": "5ed5ac4b",
   "metadata": {},
   "outputs": [
    {
     "data": {
      "text/html": [
       "<div>\n",
       "<style scoped>\n",
       "    .dataframe tbody tr th:only-of-type {\n",
       "        vertical-align: middle;\n",
       "    }\n",
       "\n",
       "    .dataframe tbody tr th {\n",
       "        vertical-align: top;\n",
       "    }\n",
       "\n",
       "    .dataframe thead th {\n",
       "        text-align: right;\n",
       "    }\n",
       "</style>\n",
       "<table border=\"1\" class=\"dataframe\">\n",
       "  <thead>\n",
       "    <tr style=\"text-align: right;\">\n",
       "      <th></th>\n",
       "      <th>Sexo_x</th>\n",
       "      <th>Sexo_y</th>\n",
       "    </tr>\n",
       "  </thead>\n",
       "  <tbody>\n",
       "    <tr>\n",
       "      <th>Feminino</th>\n",
       "      <td>3488</td>\n",
       "      <td>0.495244</td>\n",
       "    </tr>\n",
       "    <tr>\n",
       "      <th>Masculino</th>\n",
       "      <td>3555</td>\n",
       "      <td>0.504756</td>\n",
       "    </tr>\n",
       "  </tbody>\n",
       "</table>\n",
       "</div>"
      ],
      "text/plain": [
       "           Sexo_x    Sexo_y\n",
       "Feminino     3488  0.495244\n",
       "Masculino    3555  0.504756"
      ]
     },
     "execution_count": 117,
     "metadata": {},
     "output_type": "execute_result"
    }
   ],
   "source": [
    "caracteristicas_propriedade = dataset['Sexo']\n",
    "caracteristicas_propriedade_itens = caracteristicas_propriedade.explode()\n",
    "caracteristicas_propriedade_itens.value_counts()\n",
    "tabela_frequencias = pd.merge(\n",
    "    left=caracteristicas_propriedade_itens.value_counts(sort=False),\n",
    "    right=caracteristicas_propriedade_itens.value_counts(normalize=True, sort=False),\n",
    "    left_index=True,\n",
    "    right_index=True\n",
    ")\n",
    "tabela_frequencias\n"
   ]
  },
  {
   "cell_type": "code",
   "execution_count": 119,
   "id": "4e6bf2bd",
   "metadata": {},
   "outputs": [
    {
     "data": {
      "text/html": [
       "<div>\n",
       "<style scoped>\n",
       "    .dataframe tbody tr th:only-of-type {\n",
       "        vertical-align: middle;\n",
       "    }\n",
       "\n",
       "    .dataframe tbody tr th {\n",
       "        vertical-align: top;\n",
       "    }\n",
       "\n",
       "    .dataframe thead th {\n",
       "        text-align: right;\n",
       "    }\n",
       "</style>\n",
       "<table border=\"1\" class=\"dataframe\">\n",
       "  <thead>\n",
       "    <tr style=\"text-align: right;\">\n",
       "      <th></th>\n",
       "      <th>Frequências</th>\n",
       "      <th>Percentual</th>\n",
       "    </tr>\n",
       "    <tr>\n",
       "      <th>Sexo</th>\n",
       "      <th></th>\n",
       "      <th></th>\n",
       "    </tr>\n",
       "  </thead>\n",
       "  <tbody>\n",
       "    <tr>\n",
       "      <th>Feminino</th>\n",
       "      <td>3488</td>\n",
       "      <td>0.495244</td>\n",
       "    </tr>\n",
       "    <tr>\n",
       "      <th>Masculino</th>\n",
       "      <td>3555</td>\n",
       "      <td>0.504756</td>\n",
       "    </tr>\n",
       "  </tbody>\n",
       "</table>\n",
       "</div>"
      ],
      "text/plain": [
       "           Frequências  Percentual\n",
       "Sexo                              \n",
       "Feminino          3488    0.495244\n",
       "Masculino         3555    0.504756"
      ]
     },
     "execution_count": 119,
     "metadata": {},
     "output_type": "execute_result"
    }
   ],
   "source": [
    "tabela_frequencias.rename(columns={\n",
    "        'Sexo_x': 'Frequências',\n",
    "        'Sexo_y': 'Percentual'\n",
    "}, inplace=True)\n",
    "\n",
    "tabela_frequencias.rename_axis('Sexo', inplace=True)\n",
    "\n",
    "tabela_frequencias"
   ]
  },
  {
   "cell_type": "code",
   "execution_count": 120,
   "id": "b647b475",
   "metadata": {},
   "outputs": [
    {
     "data": {
      "text/html": [
       "<style type=\"text/css\">\n",
       "#T_b108f_row0_col0, #T_b108f_row1_col0 {\n",
       "  font-weight: bold;\n",
       "}\n",
       "#T_b108f_row0_col1 {\n",
       "  width: 10em;\n",
       "  height: 80%;\n",
       "  background: linear-gradient(90deg,lightblue 97.9%, transparent 97.9%);\n",
       "}\n",
       "#T_b108f_row1_col1 {\n",
       "  width: 10em;\n",
       "  height: 80%;\n",
       "  background: linear-gradient(90deg,lightblue 100.0%, transparent 100.0%);\n",
       "}\n",
       "</style>\n",
       "<table id=\"T_b108f_\">\n",
       "  <thead>\n",
       "    <tr>\n",
       "      <th class=\"blank level0\" >&nbsp;</th>\n",
       "      <th class=\"col_heading level0 col0\" >Frequências</th>\n",
       "      <th class=\"col_heading level0 col1\" >Percentual</th>\n",
       "    </tr>\n",
       "    <tr>\n",
       "      <th class=\"index_name level0\" >Sexo</th>\n",
       "      <th class=\"blank col0\" >&nbsp;</th>\n",
       "      <th class=\"blank col1\" >&nbsp;</th>\n",
       "    </tr>\n",
       "  </thead>\n",
       "  <tbody>\n",
       "    <tr>\n",
       "      <th id=\"T_b108f_level0_row0\" class=\"row_heading level0 row0\" >Feminino</th>\n",
       "      <td id=\"T_b108f_row0_col0\" class=\"data row0 col0\" >3488</td>\n",
       "      <td id=\"T_b108f_row0_col1\" class=\"data row0 col1\" >49.52%</td>\n",
       "    </tr>\n",
       "    <tr>\n",
       "      <th id=\"T_b108f_level0_row1\" class=\"row_heading level0 row1\" >Masculino</th>\n",
       "      <td id=\"T_b108f_row1_col0\" class=\"data row1 col0\" >3555</td>\n",
       "      <td id=\"T_b108f_row1_col1\" class=\"data row1 col1\" >50.48%</td>\n",
       "    </tr>\n",
       "  </tbody>\n",
       "</table>\n"
      ],
      "text/plain": [
       "<pandas.io.formats.style.Styler at 0x24f091ab190>"
      ]
     },
     "execution_count": 120,
     "metadata": {},
     "output_type": "execute_result"
    }
   ],
   "source": [
    "tabela_frequencias.style.format({'Percentual': '{:.2%}'})\\\n",
    "                        .bar(subset='Percentual', vmin = 0.05, color = 'lightblue')"
   ]
  },
  {
   "cell_type": "code",
   "execution_count": null,
   "id": "229cbeca",
   "metadata": {},
   "outputs": [],
   "source": []
  },
  {
   "cell_type": "code",
   "execution_count": 26,
   "id": "4a2f1cd7",
   "metadata": {},
   "outputs": [
    {
     "name": "stderr",
     "output_type": "stream",
     "text": [
      "C:\\Users\\PC\\AppData\\Local\\Temp/ipykernel_13316/1574621534.py:2: SettingWithCopyWarning: \n",
      "A value is trying to be set on a copy of a slice from a DataFrame.\n",
      "Try using .loc[row_indexer,col_indexer] = value instead\n",
      "\n",
      "See the caveats in the documentation: https://pandas.pydata.org/pandas-docs/stable/user_guide/indexing.html#returning-a-view-versus-a-copy\n",
      "  dataset['Sexo'] = dataset['Sexo'].str.replace('Male','Masculino')\n",
      "C:\\Users\\PC\\AppData\\Local\\Temp/ipykernel_13316/1574621534.py:3: SettingWithCopyWarning: \n",
      "A value is trying to be set on a copy of a slice from a DataFrame.\n",
      "Try using .loc[row_indexer,col_indexer] = value instead\n",
      "\n",
      "See the caveats in the documentation: https://pandas.pydata.org/pandas-docs/stable/user_guide/indexing.html#returning-a-view-versus-a-copy\n",
      "  dataset['Sexo'] = dataset['Sexo'].str.replace('Female', 'Feminino')\n"
     ]
    }
   ],
   "source": [
    "#Traduzindo dados da Coluna Contato\n",
    "dataset['Sexo'] = dataset['Sexo'].str.replace('Male','Masculino')\n",
    "dataset['Sexo'] = dataset['Sexo'].str.replace('Female', 'Feminino')"
   ]
  },
  {
   "cell_type": "code",
   "execution_count": 27,
   "id": "8e8d53b4",
   "metadata": {},
   "outputs": [
    {
     "data": {
      "text/plain": [
       "(-1.103690781218152,\n",
       " 1.1001757514865786,\n",
       " -1.1040952518372837,\n",
       " 1.1021533979165719)"
      ]
     },
     "execution_count": 27,
     "metadata": {},
     "output_type": "execute_result"
    },
    {
     "data": {
      "image/png": "[encoded data removed]",
      "text/plain": [
       "<Figure size 432x288 with 1 Axes>"
      ]
     },
     "metadata": {},
     "output_type": "display_data"
    }
   ],
   "source": [
    "# Com Pandas\n",
    "dataset['Sexo'].value_counts().plot(kind='pie', autopct='%.2f%%')\n",
    "plt.axis('equal')  # Para deixar o gráfico redondo"
   ]
  },
  {
   "cell_type": "code",
   "execution_count": 28,
   "id": "83fe1615",
   "metadata": {},
   "outputs": [
    {
     "data": {
      "text/html": [
       "<div>\n",
       "<style scoped>\n",
       "    .dataframe tbody tr th:only-of-type {\n",
       "        vertical-align: middle;\n",
       "    }\n",
       "\n",
       "    .dataframe tbody tr th {\n",
       "        vertical-align: top;\n",
       "    }\n",
       "\n",
       "    .dataframe thead tr th {\n",
       "        text-align: left;\n",
       "    }\n",
       "\n",
       "    .dataframe thead tr:last-of-type th {\n",
       "        text-align: right;\n",
       "    }\n",
       "</style>\n",
       "<table border=\"1\" class=\"dataframe\">\n",
       "  <thead>\n",
       "    <tr>\n",
       "      <th></th>\n",
       "      <th colspan=\"8\" halign=\"left\">EncargosMensal</th>\n",
       "    </tr>\n",
       "    <tr>\n",
       "      <th></th>\n",
       "      <th>count</th>\n",
       "      <th>mean</th>\n",
       "      <th>std</th>\n",
       "      <th>min</th>\n",
       "      <th>25%</th>\n",
       "      <th>50%</th>\n",
       "      <th>75%</th>\n",
       "      <th>max</th>\n",
       "    </tr>\n",
       "    <tr>\n",
       "      <th>Sexo</th>\n",
       "      <th></th>\n",
       "      <th></th>\n",
       "      <th></th>\n",
       "      <th></th>\n",
       "      <th></th>\n",
       "      <th></th>\n",
       "      <th></th>\n",
       "      <th></th>\n",
       "    </tr>\n",
       "  </thead>\n",
       "  <tbody>\n",
       "    <tr>\n",
       "      <th>Feminino</th>\n",
       "      <td>3488.0</td>\n",
       "      <td>65.0</td>\n",
       "      <td>30.0</td>\n",
       "      <td>18.0</td>\n",
       "      <td>36.0</td>\n",
       "      <td>71.0</td>\n",
       "      <td>90.0</td>\n",
       "      <td>119.0</td>\n",
       "    </tr>\n",
       "    <tr>\n",
       "      <th>Masculino</th>\n",
       "      <td>3555.0</td>\n",
       "      <td>64.0</td>\n",
       "      <td>30.0</td>\n",
       "      <td>18.0</td>\n",
       "      <td>35.0</td>\n",
       "      <td>70.0</td>\n",
       "      <td>90.0</td>\n",
       "      <td>118.0</td>\n",
       "    </tr>\n",
       "  </tbody>\n",
       "</table>\n",
       "</div>"
      ],
      "text/plain": [
       "          EncargosMensal                                           \n",
       "                   count  mean   std   min   25%   50%   75%    max\n",
       "Sexo                                                               \n",
       "Feminino          3488.0  65.0  30.0  18.0  36.0  71.0  90.0  119.0\n",
       "Masculino         3555.0  64.0  30.0  18.0  35.0  70.0  90.0  118.0"
      ]
     },
     "execution_count": 28,
     "metadata": {},
     "output_type": "execute_result"
    }
   ],
   "source": [
    "grupamento = dataset[['Sexo', 'EncargosMensal']].groupby(by='Sexo')\n",
    "grupamento.describe().round()"
   ]
  },
  {
   "cell_type": "markdown",
   "id": "7e8ffee7",
   "metadata": {},
   "source": [
    "# Verificando a coluna Sênior"
   ]
  },
  {
   "cell_type": "code",
   "execution_count": 29,
   "id": "24ef7b38",
   "metadata": {},
   "outputs": [
    {
     "data": {
      "text/plain": [
       "array([0, 1], dtype=int64)"
      ]
     },
     "execution_count": 29,
     "metadata": {},
     "output_type": "execute_result"
    }
   ],
   "source": [
    "dataset['Sênior'].unique()"
   ]
  },
  {
   "cell_type": "code",
   "execution_count": 30,
   "id": "8fb7ec95",
   "metadata": {},
   "outputs": [
    {
     "data": {
      "text/plain": [
       "0"
      ]
     },
     "execution_count": 30,
     "metadata": {},
     "output_type": "execute_result"
    }
   ],
   "source": [
    "dataset['Sênior'].isnull().sum()"
   ]
  },
  {
   "cell_type": "code",
   "execution_count": 31,
   "id": "6afd0193",
   "metadata": {},
   "outputs": [
    {
     "data": {
      "text/plain": [
       "0    5901\n",
       "1    1142\n",
       "Name: Sênior, dtype: int64"
      ]
     },
     "execution_count": 31,
     "metadata": {},
     "output_type": "execute_result"
    }
   ],
   "source": [
    "dataset['Sênior'].value_counts()"
   ]
  },
  {
   "cell_type": "code",
   "execution_count": 124,
   "id": "b6135867",
   "metadata": {},
   "outputs": [
    {
     "data": {
      "text/html": [
       "<div>\n",
       "<style scoped>\n",
       "    .dataframe tbody tr th:only-of-type {\n",
       "        vertical-align: middle;\n",
       "    }\n",
       "\n",
       "    .dataframe tbody tr th {\n",
       "        vertical-align: top;\n",
       "    }\n",
       "\n",
       "    .dataframe thead th {\n",
       "        text-align: right;\n",
       "    }\n",
       "</style>\n",
       "<table border=\"1\" class=\"dataframe\">\n",
       "  <thead>\n",
       "    <tr style=\"text-align: right;\">\n",
       "      <th></th>\n",
       "      <th>Sênior_x</th>\n",
       "      <th>Sênior_y</th>\n",
       "    </tr>\n",
       "  </thead>\n",
       "  <tbody>\n",
       "    <tr>\n",
       "      <th>0</th>\n",
       "      <td>5901</td>\n",
       "      <td>0.837853</td>\n",
       "    </tr>\n",
       "    <tr>\n",
       "      <th>1</th>\n",
       "      <td>1142</td>\n",
       "      <td>0.162147</td>\n",
       "    </tr>\n",
       "  </tbody>\n",
       "</table>\n",
       "</div>"
      ],
      "text/plain": [
       "   Sênior_x  Sênior_y\n",
       "0      5901  0.837853\n",
       "1      1142  0.162147"
      ]
     },
     "execution_count": 124,
     "metadata": {},
     "output_type": "execute_result"
    }
   ],
   "source": [
    "caracteristicas_propriedade = dataset['Sênior']\n",
    "caracteristicas_propriedade_itens = caracteristicas_propriedade.explode()\n",
    "caracteristicas_propriedade_itens.value_counts()\n",
    "tabela_frequencias = pd.merge(\n",
    "    left=caracteristicas_propriedade_itens.value_counts(sort=False),\n",
    "    right=caracteristicas_propriedade_itens.value_counts(normalize=True, sort=False),\n",
    "    left_index=True,\n",
    "    right_index=True\n",
    ")\n",
    "tabela_frequencias\n"
   ]
  },
  {
   "cell_type": "code",
   "execution_count": 125,
   "id": "65e2bbf3",
   "metadata": {},
   "outputs": [
    {
     "data": {
      "text/html": [
       "<div>\n",
       "<style scoped>\n",
       "    .dataframe tbody tr th:only-of-type {\n",
       "        vertical-align: middle;\n",
       "    }\n",
       "\n",
       "    .dataframe tbody tr th {\n",
       "        vertical-align: top;\n",
       "    }\n",
       "\n",
       "    .dataframe thead th {\n",
       "        text-align: right;\n",
       "    }\n",
       "</style>\n",
       "<table border=\"1\" class=\"dataframe\">\n",
       "  <thead>\n",
       "    <tr style=\"text-align: right;\">\n",
       "      <th></th>\n",
       "      <th>Frequências</th>\n",
       "      <th>Percentual</th>\n",
       "    </tr>\n",
       "    <tr>\n",
       "      <th>Sexo</th>\n",
       "      <th></th>\n",
       "      <th></th>\n",
       "    </tr>\n",
       "  </thead>\n",
       "  <tbody>\n",
       "    <tr>\n",
       "      <th>0</th>\n",
       "      <td>5901</td>\n",
       "      <td>0.837853</td>\n",
       "    </tr>\n",
       "    <tr>\n",
       "      <th>1</th>\n",
       "      <td>1142</td>\n",
       "      <td>0.162147</td>\n",
       "    </tr>\n",
       "  </tbody>\n",
       "</table>\n",
       "</div>"
      ],
      "text/plain": [
       "      Frequências  Percentual\n",
       "Sexo                         \n",
       "0            5901    0.837853\n",
       "1            1142    0.162147"
      ]
     },
     "execution_count": 125,
     "metadata": {},
     "output_type": "execute_result"
    }
   ],
   "source": [
    "tabela_frequencias.rename(columns={\n",
    "        'Sênior_x': 'Frequências',\n",
    "        'Sênior_y': 'Percentual'\n",
    "}, inplace=True)\n",
    "\n",
    "tabela_frequencias.rename_axis('Sênior', inplace=True)\n",
    "\n",
    "tabela_frequencias"
   ]
  },
  {
   "cell_type": "code",
   "execution_count": 126,
   "id": "4c2c6837",
   "metadata": {},
   "outputs": [
    {
     "data": {
      "text/html": [
       "<style type=\"text/css\">\n",
       "#T_f71df_row0_col0, #T_f71df_row1_col0 {\n",
       "  font-weight: bold;\n",
       "}\n",
       "#T_f71df_row0_col1 {\n",
       "  width: 10em;\n",
       "  height: 80%;\n",
       "  background: linear-gradient(90deg,lightblue 100.0%, transparent 100.0%);\n",
       "}\n",
       "#T_f71df_row1_col1 {\n",
       "  width: 10em;\n",
       "  height: 80%;\n",
       "  background: linear-gradient(90deg,lightblue 14.2%, transparent 14.2%);\n",
       "}\n",
       "</style>\n",
       "<table id=\"T_f71df_\">\n",
       "  <thead>\n",
       "    <tr>\n",
       "      <th class=\"blank level0\" >&nbsp;</th>\n",
       "      <th class=\"col_heading level0 col0\" >Frequências</th>\n",
       "      <th class=\"col_heading level0 col1\" >Percentual</th>\n",
       "    </tr>\n",
       "    <tr>\n",
       "      <th class=\"index_name level0\" >Sexo</th>\n",
       "      <th class=\"blank col0\" >&nbsp;</th>\n",
       "      <th class=\"blank col1\" >&nbsp;</th>\n",
       "    </tr>\n",
       "  </thead>\n",
       "  <tbody>\n",
       "    <tr>\n",
       "      <th id=\"T_f71df_level0_row0\" class=\"row_heading level0 row0\" >0</th>\n",
       "      <td id=\"T_f71df_row0_col0\" class=\"data row0 col0\" >5901</td>\n",
       "      <td id=\"T_f71df_row0_col1\" class=\"data row0 col1\" >83.79%</td>\n",
       "    </tr>\n",
       "    <tr>\n",
       "      <th id=\"T_f71df_level0_row1\" class=\"row_heading level0 row1\" >1</th>\n",
       "      <td id=\"T_f71df_row1_col0\" class=\"data row1 col0\" >1142</td>\n",
       "      <td id=\"T_f71df_row1_col1\" class=\"data row1 col1\" >16.21%</td>\n",
       "    </tr>\n",
       "  </tbody>\n",
       "</table>\n"
      ],
      "text/plain": [
       "<pandas.io.formats.style.Styler at 0x24f091db9d0>"
      ]
     },
     "execution_count": 126,
     "metadata": {},
     "output_type": "execute_result"
    }
   ],
   "source": [
    "tabela_frequencias.style.format({'Percentual': '{:.2%}'})\\\n",
    "                        .bar(subset='Percentual', vmin = 0.05, color = 'lightblue')"
   ]
  },
  {
   "cell_type": "code",
   "execution_count": 32,
   "id": "e33251f1",
   "metadata": {},
   "outputs": [
    {
     "data": {
      "text/html": [
       "<div>\n",
       "<style scoped>\n",
       "    .dataframe tbody tr th:only-of-type {\n",
       "        vertical-align: middle;\n",
       "    }\n",
       "\n",
       "    .dataframe tbody tr th {\n",
       "        vertical-align: top;\n",
       "    }\n",
       "\n",
       "    .dataframe thead tr th {\n",
       "        text-align: left;\n",
       "    }\n",
       "\n",
       "    .dataframe thead tr:last-of-type th {\n",
       "        text-align: right;\n",
       "    }\n",
       "</style>\n",
       "<table border=\"1\" class=\"dataframe\">\n",
       "  <thead>\n",
       "    <tr>\n",
       "      <th></th>\n",
       "      <th colspan=\"8\" halign=\"left\">EncargosMensal</th>\n",
       "    </tr>\n",
       "    <tr>\n",
       "      <th></th>\n",
       "      <th>count</th>\n",
       "      <th>mean</th>\n",
       "      <th>std</th>\n",
       "      <th>min</th>\n",
       "      <th>25%</th>\n",
       "      <th>50%</th>\n",
       "      <th>75%</th>\n",
       "      <th>max</th>\n",
       "    </tr>\n",
       "    <tr>\n",
       "      <th>Sênior</th>\n",
       "      <th></th>\n",
       "      <th></th>\n",
       "      <th></th>\n",
       "      <th></th>\n",
       "      <th></th>\n",
       "      <th></th>\n",
       "      <th></th>\n",
       "      <th></th>\n",
       "    </tr>\n",
       "  </thead>\n",
       "  <tbody>\n",
       "    <tr>\n",
       "      <th>0</th>\n",
       "      <td>5901.0</td>\n",
       "      <td>62.0</td>\n",
       "      <td>30.0</td>\n",
       "      <td>18.0</td>\n",
       "      <td>26.0</td>\n",
       "      <td>66.0</td>\n",
       "      <td>87.0</td>\n",
       "      <td>119.0</td>\n",
       "    </tr>\n",
       "    <tr>\n",
       "      <th>1</th>\n",
       "      <td>1142.0</td>\n",
       "      <td>80.0</td>\n",
       "      <td>24.0</td>\n",
       "      <td>19.0</td>\n",
       "      <td>70.0</td>\n",
       "      <td>85.0</td>\n",
       "      <td>98.0</td>\n",
       "      <td>117.0</td>\n",
       "    </tr>\n",
       "  </tbody>\n",
       "</table>\n",
       "</div>"
      ],
      "text/plain": [
       "       EncargosMensal                                           \n",
       "                count  mean   std   min   25%   50%   75%    max\n",
       "Sênior                                                          \n",
       "0              5901.0  62.0  30.0  18.0  26.0  66.0  87.0  119.0\n",
       "1              1142.0  80.0  24.0  19.0  70.0  85.0  98.0  117.0"
      ]
     },
     "execution_count": 32,
     "metadata": {},
     "output_type": "execute_result"
    }
   ],
   "source": [
    "grupamento = dataset[['Sênior', 'EncargosMensal']].groupby(by='Sênior')\n",
    "grupamento.describe().round()"
   ]
  },
  {
   "cell_type": "markdown",
   "id": "512d3516",
   "metadata": {},
   "source": [
    "# Verificando a coluna Parceiro"
   ]
  },
  {
   "cell_type": "code",
   "execution_count": 33,
   "id": "9ef34ff4",
   "metadata": {},
   "outputs": [
    {
     "data": {
      "text/plain": [
       "array(['Yes', 'No'], dtype=object)"
      ]
     },
     "execution_count": 33,
     "metadata": {},
     "output_type": "execute_result"
    }
   ],
   "source": [
    "dataset['Parceiro'].unique()"
   ]
  },
  {
   "cell_type": "code",
   "execution_count": 34,
   "id": "e7f7e0de",
   "metadata": {},
   "outputs": [
    {
     "data": {
      "text/plain": [
       "No     3641\n",
       "Yes    3402\n",
       "Name: Parceiro, dtype: int64"
      ]
     },
     "execution_count": 34,
     "metadata": {},
     "output_type": "execute_result"
    }
   ],
   "source": [
    "dataset['Parceiro'].value_counts()"
   ]
  },
  {
   "cell_type": "code",
   "execution_count": 128,
   "id": "0f20edf5",
   "metadata": {},
   "outputs": [
    {
     "data": {
      "text/html": [
       "<style type=\"text/css\">\n",
       "#T_91040_row0_col0, #T_91040_row1_col0 {\n",
       "  font-weight: bold;\n",
       "}\n",
       "#T_91040_row0_col1 {\n",
       "  width: 10em;\n",
       "  height: 80%;\n",
       "  background: linear-gradient(90deg,lightblue 92.7%, transparent 92.7%);\n",
       "}\n",
       "#T_91040_row1_col1 {\n",
       "  width: 10em;\n",
       "  height: 80%;\n",
       "  background: linear-gradient(90deg,lightblue 100.0%, transparent 100.0%);\n",
       "}\n",
       "</style>\n",
       "<table id=\"T_91040_\">\n",
       "  <thead>\n",
       "    <tr>\n",
       "      <th class=\"blank level0\" >&nbsp;</th>\n",
       "      <th class=\"col_heading level0 col0\" >Frequências</th>\n",
       "      <th class=\"col_heading level0 col1\" >Percentual</th>\n",
       "    </tr>\n",
       "    <tr>\n",
       "      <th class=\"index_name level0\" >Parceiro</th>\n",
       "      <th class=\"blank col0\" >&nbsp;</th>\n",
       "      <th class=\"blank col1\" >&nbsp;</th>\n",
       "    </tr>\n",
       "  </thead>\n",
       "  <tbody>\n",
       "    <tr>\n",
       "      <th id=\"T_91040_level0_row0\" class=\"row_heading level0 row0\" >Yes</th>\n",
       "      <td id=\"T_91040_row0_col0\" class=\"data row0 col0\" >3402</td>\n",
       "      <td id=\"T_91040_row0_col1\" class=\"data row0 col1\" >48.30%</td>\n",
       "    </tr>\n",
       "    <tr>\n",
       "      <th id=\"T_91040_level0_row1\" class=\"row_heading level0 row1\" >No</th>\n",
       "      <td id=\"T_91040_row1_col0\" class=\"data row1 col0\" >3641</td>\n",
       "      <td id=\"T_91040_row1_col1\" class=\"data row1 col1\" >51.70%</td>\n",
       "    </tr>\n",
       "  </tbody>\n",
       "</table>\n"
      ],
      "text/plain": [
       "<pandas.io.formats.style.Styler at 0x24f091ab3d0>"
      ]
     },
     "execution_count": 128,
     "metadata": {},
     "output_type": "execute_result"
    }
   ],
   "source": [
    "caracteristicas_propriedade = dataset['Parceiro']\n",
    "caracteristicas_propriedade_itens = caracteristicas_propriedade.explode()\n",
    "caracteristicas_propriedade_itens.value_counts()\n",
    "tabela_frequencias = pd.merge(\n",
    "    left=caracteristicas_propriedade_itens.value_counts(sort=False),\n",
    "    right=caracteristicas_propriedade_itens.value_counts(normalize=True, sort=False),\n",
    "    left_index=True,\n",
    "    right_index=True\n",
    ")\n",
    "tabela_frequencias.rename(columns={\n",
    "        'Parceiro_x': 'Frequências',\n",
    "        'Parceiro_y': 'Percentual'\n",
    "}, inplace=True)\n",
    "\n",
    "tabela_frequencias.rename_axis('Parceiro', inplace=True)\n",
    "\n",
    "tabela_frequencias.style.format({'Percentual': '{:.2%}'})\\\n",
    "                        .bar(subset='Percentual', vmin = 0.05, color = 'lightblue')\n"
   ]
  },
  {
   "cell_type": "code",
   "execution_count": 35,
   "id": "450884fb",
   "metadata": {},
   "outputs": [
    {
     "data": {
      "text/html": [
       "<div>\n",
       "<style scoped>\n",
       "    .dataframe tbody tr th:only-of-type {\n",
       "        vertical-align: middle;\n",
       "    }\n",
       "\n",
       "    .dataframe tbody tr th {\n",
       "        vertical-align: top;\n",
       "    }\n",
       "\n",
       "    .dataframe thead tr th {\n",
       "        text-align: left;\n",
       "    }\n",
       "\n",
       "    .dataframe thead tr:last-of-type th {\n",
       "        text-align: right;\n",
       "    }\n",
       "</style>\n",
       "<table border=\"1\" class=\"dataframe\">\n",
       "  <thead>\n",
       "    <tr>\n",
       "      <th></th>\n",
       "      <th colspan=\"8\" halign=\"left\">EncargosMensal</th>\n",
       "    </tr>\n",
       "    <tr>\n",
       "      <th></th>\n",
       "      <th>count</th>\n",
       "      <th>mean</th>\n",
       "      <th>std</th>\n",
       "      <th>min</th>\n",
       "      <th>25%</th>\n",
       "      <th>50%</th>\n",
       "      <th>75%</th>\n",
       "      <th>max</th>\n",
       "    </tr>\n",
       "    <tr>\n",
       "      <th>Parceiro</th>\n",
       "      <th></th>\n",
       "      <th></th>\n",
       "      <th></th>\n",
       "      <th></th>\n",
       "      <th></th>\n",
       "      <th></th>\n",
       "      <th></th>\n",
       "      <th></th>\n",
       "    </tr>\n",
       "  </thead>\n",
       "  <tbody>\n",
       "    <tr>\n",
       "      <th>No</th>\n",
       "      <td>3641.0</td>\n",
       "      <td>62.0</td>\n",
       "      <td>29.0</td>\n",
       "      <td>18.0</td>\n",
       "      <td>34.0</td>\n",
       "      <td>69.0</td>\n",
       "      <td>85.0</td>\n",
       "      <td>119.0</td>\n",
       "    </tr>\n",
       "    <tr>\n",
       "      <th>Yes</th>\n",
       "      <td>3402.0</td>\n",
       "      <td>68.0</td>\n",
       "      <td>31.0</td>\n",
       "      <td>18.0</td>\n",
       "      <td>39.0</td>\n",
       "      <td>75.0</td>\n",
       "      <td>94.0</td>\n",
       "      <td>119.0</td>\n",
       "    </tr>\n",
       "  </tbody>\n",
       "</table>\n",
       "</div>"
      ],
      "text/plain": [
       "         EncargosMensal                                           \n",
       "                  count  mean   std   min   25%   50%   75%    max\n",
       "Parceiro                                                          \n",
       "No               3641.0  62.0  29.0  18.0  34.0  69.0  85.0  119.0\n",
       "Yes              3402.0  68.0  31.0  18.0  39.0  75.0  94.0  119.0"
      ]
     },
     "execution_count": 35,
     "metadata": {},
     "output_type": "execute_result"
    }
   ],
   "source": [
    "grupamento = dataset[['Parceiro', 'EncargosMensal']].groupby(by='Parceiro')\n",
    "grupamento.describe().round()"
   ]
  },
  {
   "cell_type": "markdown",
   "id": "936b53e1",
   "metadata": {},
   "source": [
    "# Verificando a coluna Dependentes"
   ]
  },
  {
   "cell_type": "code",
   "execution_count": 36,
   "id": "9aa4e90e",
   "metadata": {},
   "outputs": [
    {
     "data": {
      "text/plain": [
       "array(['Yes', 'No'], dtype=object)"
      ]
     },
     "execution_count": 36,
     "metadata": {},
     "output_type": "execute_result"
    }
   ],
   "source": [
    "dataset['Dependentes'].unique()"
   ]
  },
  {
   "cell_type": "code",
   "execution_count": 37,
   "id": "f666860f",
   "metadata": {},
   "outputs": [
    {
     "data": {
      "text/plain": [
       "No     4933\n",
       "Yes    2110\n",
       "Name: Dependentes, dtype: int64"
      ]
     },
     "execution_count": 37,
     "metadata": {},
     "output_type": "execute_result"
    }
   ],
   "source": [
    "dataset['Dependentes'].value_counts()"
   ]
  },
  {
   "cell_type": "code",
   "execution_count": 134,
   "id": "8ff7d136",
   "metadata": {},
   "outputs": [
    {
     "data": {
      "text/html": [
       "<style type=\"text/css\">\n",
       "#T_98725_row0_col1 {\n",
       "  width: 10em;\n",
       "  height: 80%;\n",
       "  background: linear-gradient(90deg,lightblue 38.4%, transparent 38.4%);\n",
       "}\n",
       "#T_98725_row1_col1 {\n",
       "  width: 10em;\n",
       "  height: 80%;\n",
       "  background: linear-gradient(90deg,lightblue 100.0%, transparent 100.0%);\n",
       "}\n",
       "</style>\n",
       "<table id=\"T_98725_\">\n",
       "  <thead>\n",
       "    <tr>\n",
       "      <th class=\"blank level0\" >&nbsp;</th>\n",
       "      <th class=\"col_heading level0 col0\" >Frequências</th>\n",
       "      <th class=\"col_heading level0 col1\" >Percentual</th>\n",
       "    </tr>\n",
       "    <tr>\n",
       "      <th class=\"index_name level0\" >Dependentes</th>\n",
       "      <th class=\"blank col0\" >&nbsp;</th>\n",
       "      <th class=\"blank col1\" >&nbsp;</th>\n",
       "    </tr>\n",
       "  </thead>\n",
       "  <tbody>\n",
       "    <tr>\n",
       "      <th id=\"T_98725_level0_row0\" class=\"row_heading level0 row0\" >Yes</th>\n",
       "      <td id=\"T_98725_row0_col0\" class=\"data row0 col0\" >2110</td>\n",
       "      <td id=\"T_98725_row0_col1\" class=\"data row0 col1\" >29.96%</td>\n",
       "    </tr>\n",
       "    <tr>\n",
       "      <th id=\"T_98725_level0_row1\" class=\"row_heading level0 row1\" >No</th>\n",
       "      <td id=\"T_98725_row1_col0\" class=\"data row1 col0\" >4933</td>\n",
       "      <td id=\"T_98725_row1_col1\" class=\"data row1 col1\" >70.04%</td>\n",
       "    </tr>\n",
       "  </tbody>\n",
       "</table>\n"
      ],
      "text/plain": [
       "<pandas.io.formats.style.Styler at 0x24f091db0d0>"
      ]
     },
     "execution_count": 134,
     "metadata": {},
     "output_type": "execute_result"
    }
   ],
   "source": [
    "caracteristicas_propriedade = dataset['Dependentes']\n",
    "caracteristicas_propriedade_itens = caracteristicas_propriedade.explode()\n",
    "caracteristicas_propriedade_itens.value_counts()\n",
    "tabela_frequencias = pd.merge(\n",
    "    left=caracteristicas_propriedade_itens.value_counts(sort=False),\n",
    "    right=caracteristicas_propriedade_itens.value_counts(normalize=True, sort=False),\n",
    "    left_index=True,\n",
    "    right_index=True\n",
    ")\n",
    "tabela_frequencias.rename(columns={\n",
    "        'Dependentes_x': 'Frequências',\n",
    "        'Dependentes_y': 'Percentual'\n",
    "}, inplace=True)\n",
    "\n",
    "tabela_frequencias.rename_axis('Dependentes', inplace=True)\n",
    "\n",
    "tabela_frequencias.style.format({'Percentual': '{:.2%}'})\\\n",
    "                        .bar(subset='Percentual', vmin = 0.05, color = 'lightblue')"
   ]
  },
  {
   "cell_type": "code",
   "execution_count": 38,
   "id": "ad58f2b4",
   "metadata": {},
   "outputs": [
    {
     "data": {
      "text/html": [
       "<div>\n",
       "<style scoped>\n",
       "    .dataframe tbody tr th:only-of-type {\n",
       "        vertical-align: middle;\n",
       "    }\n",
       "\n",
       "    .dataframe tbody tr th {\n",
       "        vertical-align: top;\n",
       "    }\n",
       "\n",
       "    .dataframe thead tr th {\n",
       "        text-align: left;\n",
       "    }\n",
       "\n",
       "    .dataframe thead tr:last-of-type th {\n",
       "        text-align: right;\n",
       "    }\n",
       "</style>\n",
       "<table border=\"1\" class=\"dataframe\">\n",
       "  <thead>\n",
       "    <tr>\n",
       "      <th></th>\n",
       "      <th colspan=\"8\" halign=\"left\">EncargosMensal</th>\n",
       "    </tr>\n",
       "    <tr>\n",
       "      <th></th>\n",
       "      <th>count</th>\n",
       "      <th>mean</th>\n",
       "      <th>std</th>\n",
       "      <th>min</th>\n",
       "      <th>25%</th>\n",
       "      <th>50%</th>\n",
       "      <th>75%</th>\n",
       "      <th>max</th>\n",
       "    </tr>\n",
       "    <tr>\n",
       "      <th>Dependentes</th>\n",
       "      <th></th>\n",
       "      <th></th>\n",
       "      <th></th>\n",
       "      <th></th>\n",
       "      <th></th>\n",
       "      <th></th>\n",
       "      <th></th>\n",
       "      <th></th>\n",
       "    </tr>\n",
       "  </thead>\n",
       "  <tbody>\n",
       "    <tr>\n",
       "      <th>No</th>\n",
       "      <td>4933.0</td>\n",
       "      <td>67.0</td>\n",
       "      <td>29.0</td>\n",
       "      <td>18.0</td>\n",
       "      <td>45.0</td>\n",
       "      <td>74.0</td>\n",
       "      <td>91.0</td>\n",
       "      <td>119.0</td>\n",
       "    </tr>\n",
       "    <tr>\n",
       "      <th>Yes</th>\n",
       "      <td>2110.0</td>\n",
       "      <td>60.0</td>\n",
       "      <td>31.0</td>\n",
       "      <td>19.0</td>\n",
       "      <td>24.0</td>\n",
       "      <td>61.0</td>\n",
       "      <td>86.0</td>\n",
       "      <td>119.0</td>\n",
       "    </tr>\n",
       "  </tbody>\n",
       "</table>\n",
       "</div>"
      ],
      "text/plain": [
       "            EncargosMensal                                           \n",
       "                     count  mean   std   min   25%   50%   75%    max\n",
       "Dependentes                                                          \n",
       "No                  4933.0  67.0  29.0  18.0  45.0  74.0  91.0  119.0\n",
       "Yes                 2110.0  60.0  31.0  19.0  24.0  61.0  86.0  119.0"
      ]
     },
     "execution_count": 38,
     "metadata": {},
     "output_type": "execute_result"
    }
   ],
   "source": [
    "grupamento = dataset[['Dependentes', 'EncargosMensal']].groupby(by='Dependentes')\n",
    "grupamento.describe().round()"
   ]
  },
  {
   "cell_type": "markdown",
   "id": "24413541",
   "metadata": {},
   "source": [
    "# Vefiricando a coluna MesesDeContrato"
   ]
  },
  {
   "cell_type": "code",
   "execution_count": 39,
   "id": "628a9cc8",
   "metadata": {},
   "outputs": [
    {
     "data": {
      "text/plain": [
       "array([ 9,  4, 13,  3, 71, 63,  7, 65, 54, 72,  5, 56, 34,  1, 45, 50, 23,\n",
       "       55, 26, 69, 37, 49, 66, 67, 20, 43, 59, 12, 27,  2, 25, 29, 14, 35,\n",
       "       64, 39, 40, 11,  6, 30, 70, 57, 58, 16, 32, 33, 10, 21, 61, 15, 44,\n",
       "       22, 24, 19, 47, 62, 46, 52,  8, 60, 48, 28, 41, 53, 68, 31, 36, 17,\n",
       "       18, 51, 38, 42,  0], dtype=int64)"
      ]
     },
     "execution_count": 39,
     "metadata": {},
     "output_type": "execute_result"
    }
   ],
   "source": [
    "dataset['MesesDeContrato'].unique()"
   ]
  },
  {
   "cell_type": "code",
   "execution_count": 40,
   "id": "832a86f2",
   "metadata": {},
   "outputs": [
    {
     "data": {
      "text/plain": [
       "0"
      ]
     },
     "execution_count": 40,
     "metadata": {},
     "output_type": "execute_result"
    }
   ],
   "source": [
    "dataset['MesesDeContrato'].isnull().sum()"
   ]
  },
  {
   "cell_type": "code",
   "execution_count": 130,
   "id": "0206c0ff",
   "metadata": {},
   "outputs": [
    {
     "data": {
      "text/plain": [
       "1     613\n",
       "72    362\n",
       "2     238\n",
       "3     200\n",
       "4     176\n",
       "71    170\n",
       "5     133\n",
       "7     131\n",
       "8     123\n",
       "9     119\n",
       "70    119\n",
       "12    117\n",
       "10    116\n",
       "6     110\n",
       "13    109\n",
       "68    100\n",
       "15     99\n",
       "11     99\n",
       "67     98\n",
       "18     97\n",
       "69     95\n",
       "24     94\n",
       "22     90\n",
       "66     89\n",
       "35     88\n",
       "17     87\n",
       "23     85\n",
       "16     80\n",
       "56     80\n",
       "52     80\n",
       "64     80\n",
       "25     79\n",
       "26     79\n",
       "14     76\n",
       "65     76\n",
       "61     76\n",
       "60     76\n",
       "46     74\n",
       "19     73\n",
       "27     72\n",
       "29     72\n",
       "30     72\n",
       "63     72\n",
       "20     71\n",
       "53     70\n",
       "62     70\n",
       "41     70\n",
       "32     69\n",
       "50     68\n",
       "54     68\n",
       "47     68\n",
       "51     68\n",
       "58     67\n",
       "49     66\n",
       "31     65\n",
       "43     65\n",
       "42     65\n",
       "34     65\n",
       "57     65\n",
       "37     65\n",
       "40     64\n",
       "48     64\n",
       "33     64\n",
       "55     64\n",
       "21     63\n",
       "45     61\n",
       "59     60\n",
       "38     59\n",
       "28     57\n",
       "39     56\n",
       "44     51\n",
       "36     50\n",
       "0      11\n",
       "Name: MesesDeContrato, dtype: int64"
      ]
     },
     "execution_count": 130,
     "metadata": {},
     "output_type": "execute_result"
    }
   ],
   "source": [
    "dataset['MesesDeContrato'].value_counts()"
   ]
  },
  {
   "cell_type": "code",
   "execution_count": 132,
   "id": "cd86ba37",
   "metadata": {},
   "outputs": [
    {
     "data": {
      "text/html": [
       "<style type=\"text/css\">\n",
       "#T_d3a52_row0_col1, #T_d3a52_row1_col1, #T_d3a52_row2_col1, #T_d3a52_row3_col1, #T_d3a52_row4_col1, #T_d3a52_row5_col1, #T_d3a52_row6_col1, #T_d3a52_row7_col1, #T_d3a52_row8_col1, #T_d3a52_row10_col1, #T_d3a52_row11_col1, #T_d3a52_row12_col1, #T_d3a52_row14_col1, #T_d3a52_row15_col1, #T_d3a52_row16_col1, #T_d3a52_row17_col1, #T_d3a52_row18_col1, #T_d3a52_row19_col1, #T_d3a52_row20_col1, #T_d3a52_row21_col1, #T_d3a52_row22_col1, #T_d3a52_row23_col1, #T_d3a52_row24_col1, #T_d3a52_row25_col1, #T_d3a52_row26_col1, #T_d3a52_row27_col1, #T_d3a52_row28_col1, #T_d3a52_row29_col1, #T_d3a52_row30_col1, #T_d3a52_row31_col1, #T_d3a52_row32_col1, #T_d3a52_row33_col1, #T_d3a52_row34_col1, #T_d3a52_row35_col1, #T_d3a52_row36_col1, #T_d3a52_row37_col1, #T_d3a52_row38_col1, #T_d3a52_row39_col1, #T_d3a52_row40_col1, #T_d3a52_row41_col1, #T_d3a52_row42_col1, #T_d3a52_row43_col1, #T_d3a52_row44_col1, #T_d3a52_row45_col1, #T_d3a52_row46_col1, #T_d3a52_row47_col1, #T_d3a52_row48_col1, #T_d3a52_row49_col1, #T_d3a52_row50_col1, #T_d3a52_row51_col1, #T_d3a52_row52_col1, #T_d3a52_row53_col1, #T_d3a52_row54_col1, #T_d3a52_row55_col1, #T_d3a52_row56_col1, #T_d3a52_row57_col1, #T_d3a52_row58_col1, #T_d3a52_row59_col1, #T_d3a52_row60_col1, #T_d3a52_row61_col1, #T_d3a52_row62_col1, #T_d3a52_row63_col1, #T_d3a52_row64_col1, #T_d3a52_row65_col1, #T_d3a52_row66_col1, #T_d3a52_row67_col1, #T_d3a52_row68_col1, #T_d3a52_row69_col1, #T_d3a52_row70_col1, #T_d3a52_row71_col1, #T_d3a52_row72_col1 {\n",
       "  width: 10em;\n",
       "  height: 80%;\n",
       "}\n",
       "#T_d3a52_row9_col1 {\n",
       "  width: 10em;\n",
       "  height: 80%;\n",
       "  background: linear-gradient(90deg,lightblue 3.8%, transparent 3.8%);\n",
       "}\n",
       "#T_d3a52_row13_col1 {\n",
       "  width: 10em;\n",
       "  height: 80%;\n",
       "  background: linear-gradient(90deg,lightblue 100.0%, transparent 100.0%);\n",
       "}\n",
       "</style>\n",
       "<table id=\"T_d3a52_\">\n",
       "  <thead>\n",
       "    <tr>\n",
       "      <th class=\"blank level0\" >&nbsp;</th>\n",
       "      <th class=\"col_heading level0 col0\" >Frequências</th>\n",
       "      <th class=\"col_heading level0 col1\" >Percentual</th>\n",
       "    </tr>\n",
       "    <tr>\n",
       "      <th class=\"index_name level0\" >MesesDeContrato</th>\n",
       "      <th class=\"blank col0\" >&nbsp;</th>\n",
       "      <th class=\"blank col1\" >&nbsp;</th>\n",
       "    </tr>\n",
       "  </thead>\n",
       "  <tbody>\n",
       "    <tr>\n",
       "      <th id=\"T_d3a52_level0_row0\" class=\"row_heading level0 row0\" >9</th>\n",
       "      <td id=\"T_d3a52_row0_col0\" class=\"data row0 col0\" >119</td>\n",
       "      <td id=\"T_d3a52_row0_col1\" class=\"data row0 col1\" >1.69%</td>\n",
       "    </tr>\n",
       "    <tr>\n",
       "      <th id=\"T_d3a52_level0_row1\" class=\"row_heading level0 row1\" >4</th>\n",
       "      <td id=\"T_d3a52_row1_col0\" class=\"data row1 col0\" >176</td>\n",
       "      <td id=\"T_d3a52_row1_col1\" class=\"data row1 col1\" >2.50%</td>\n",
       "    </tr>\n",
       "    <tr>\n",
       "      <th id=\"T_d3a52_level0_row2\" class=\"row_heading level0 row2\" >13</th>\n",
       "      <td id=\"T_d3a52_row2_col0\" class=\"data row2 col0\" >109</td>\n",
       "      <td id=\"T_d3a52_row2_col1\" class=\"data row2 col1\" >1.55%</td>\n",
       "    </tr>\n",
       "    <tr>\n",
       "      <th id=\"T_d3a52_level0_row3\" class=\"row_heading level0 row3\" >3</th>\n",
       "      <td id=\"T_d3a52_row3_col0\" class=\"data row3 col0\" >200</td>\n",
       "      <td id=\"T_d3a52_row3_col1\" class=\"data row3 col1\" >2.84%</td>\n",
       "    </tr>\n",
       "    <tr>\n",
       "      <th id=\"T_d3a52_level0_row4\" class=\"row_heading level0 row4\" >71</th>\n",
       "      <td id=\"T_d3a52_row4_col0\" class=\"data row4 col0\" >170</td>\n",
       "      <td id=\"T_d3a52_row4_col1\" class=\"data row4 col1\" >2.41%</td>\n",
       "    </tr>\n",
       "    <tr>\n",
       "      <th id=\"T_d3a52_level0_row5\" class=\"row_heading level0 row5\" >63</th>\n",
       "      <td id=\"T_d3a52_row5_col0\" class=\"data row5 col0\" >72</td>\n",
       "      <td id=\"T_d3a52_row5_col1\" class=\"data row5 col1\" >1.02%</td>\n",
       "    </tr>\n",
       "    <tr>\n",
       "      <th id=\"T_d3a52_level0_row6\" class=\"row_heading level0 row6\" >7</th>\n",
       "      <td id=\"T_d3a52_row6_col0\" class=\"data row6 col0\" >131</td>\n",
       "      <td id=\"T_d3a52_row6_col1\" class=\"data row6 col1\" >1.86%</td>\n",
       "    </tr>\n",
       "    <tr>\n",
       "      <th id=\"T_d3a52_level0_row7\" class=\"row_heading level0 row7\" >65</th>\n",
       "      <td id=\"T_d3a52_row7_col0\" class=\"data row7 col0\" >76</td>\n",
       "      <td id=\"T_d3a52_row7_col1\" class=\"data row7 col1\" >1.08%</td>\n",
       "    </tr>\n",
       "    <tr>\n",
       "      <th id=\"T_d3a52_level0_row8\" class=\"row_heading level0 row8\" >54</th>\n",
       "      <td id=\"T_d3a52_row8_col0\" class=\"data row8 col0\" >68</td>\n",
       "      <td id=\"T_d3a52_row8_col1\" class=\"data row8 col1\" >0.97%</td>\n",
       "    </tr>\n",
       "    <tr>\n",
       "      <th id=\"T_d3a52_level0_row9\" class=\"row_heading level0 row9\" >72</th>\n",
       "      <td id=\"T_d3a52_row9_col0\" class=\"data row9 col0\" >362</td>\n",
       "      <td id=\"T_d3a52_row9_col1\" class=\"data row9 col1\" >5.14%</td>\n",
       "    </tr>\n",
       "    <tr>\n",
       "      <th id=\"T_d3a52_level0_row10\" class=\"row_heading level0 row10\" >5</th>\n",
       "      <td id=\"T_d3a52_row10_col0\" class=\"data row10 col0\" >133</td>\n",
       "      <td id=\"T_d3a52_row10_col1\" class=\"data row10 col1\" >1.89%</td>\n",
       "    </tr>\n",
       "    <tr>\n",
       "      <th id=\"T_d3a52_level0_row11\" class=\"row_heading level0 row11\" >56</th>\n",
       "      <td id=\"T_d3a52_row11_col0\" class=\"data row11 col0\" >80</td>\n",
       "      <td id=\"T_d3a52_row11_col1\" class=\"data row11 col1\" >1.14%</td>\n",
       "    </tr>\n",
       "    <tr>\n",
       "      <th id=\"T_d3a52_level0_row12\" class=\"row_heading level0 row12\" >34</th>\n",
       "      <td id=\"T_d3a52_row12_col0\" class=\"data row12 col0\" >65</td>\n",
       "      <td id=\"T_d3a52_row12_col1\" class=\"data row12 col1\" >0.92%</td>\n",
       "    </tr>\n",
       "    <tr>\n",
       "      <th id=\"T_d3a52_level0_row13\" class=\"row_heading level0 row13\" >1</th>\n",
       "      <td id=\"T_d3a52_row13_col0\" class=\"data row13 col0\" >613</td>\n",
       "      <td id=\"T_d3a52_row13_col1\" class=\"data row13 col1\" >8.70%</td>\n",
       "    </tr>\n",
       "    <tr>\n",
       "      <th id=\"T_d3a52_level0_row14\" class=\"row_heading level0 row14\" >45</th>\n",
       "      <td id=\"T_d3a52_row14_col0\" class=\"data row14 col0\" >61</td>\n",
       "      <td id=\"T_d3a52_row14_col1\" class=\"data row14 col1\" >0.87%</td>\n",
       "    </tr>\n",
       "    <tr>\n",
       "      <th id=\"T_d3a52_level0_row15\" class=\"row_heading level0 row15\" >50</th>\n",
       "      <td id=\"T_d3a52_row15_col0\" class=\"data row15 col0\" >68</td>\n",
       "      <td id=\"T_d3a52_row15_col1\" class=\"data row15 col1\" >0.97%</td>\n",
       "    </tr>\n",
       "    <tr>\n",
       "      <th id=\"T_d3a52_level0_row16\" class=\"row_heading level0 row16\" >23</th>\n",
       "      <td id=\"T_d3a52_row16_col0\" class=\"data row16 col0\" >85</td>\n",
       "      <td id=\"T_d3a52_row16_col1\" class=\"data row16 col1\" >1.21%</td>\n",
       "    </tr>\n",
       "    <tr>\n",
       "      <th id=\"T_d3a52_level0_row17\" class=\"row_heading level0 row17\" >55</th>\n",
       "      <td id=\"T_d3a52_row17_col0\" class=\"data row17 col0\" >64</td>\n",
       "      <td id=\"T_d3a52_row17_col1\" class=\"data row17 col1\" >0.91%</td>\n",
       "    </tr>\n",
       "    <tr>\n",
       "      <th id=\"T_d3a52_level0_row18\" class=\"row_heading level0 row18\" >26</th>\n",
       "      <td id=\"T_d3a52_row18_col0\" class=\"data row18 col0\" >79</td>\n",
       "      <td id=\"T_d3a52_row18_col1\" class=\"data row18 col1\" >1.12%</td>\n",
       "    </tr>\n",
       "    <tr>\n",
       "      <th id=\"T_d3a52_level0_row19\" class=\"row_heading level0 row19\" >69</th>\n",
       "      <td id=\"T_d3a52_row19_col0\" class=\"data row19 col0\" >95</td>\n",
       "      <td id=\"T_d3a52_row19_col1\" class=\"data row19 col1\" >1.35%</td>\n",
       "    </tr>\n",
       "    <tr>\n",
       "      <th id=\"T_d3a52_level0_row20\" class=\"row_heading level0 row20\" >37</th>\n",
       "      <td id=\"T_d3a52_row20_col0\" class=\"data row20 col0\" >65</td>\n",
       "      <td id=\"T_d3a52_row20_col1\" class=\"data row20 col1\" >0.92%</td>\n",
       "    </tr>\n",
       "    <tr>\n",
       "      <th id=\"T_d3a52_level0_row21\" class=\"row_heading level0 row21\" >49</th>\n",
       "      <td id=\"T_d3a52_row21_col0\" class=\"data row21 col0\" >66</td>\n",
       "      <td id=\"T_d3a52_row21_col1\" class=\"data row21 col1\" >0.94%</td>\n",
       "    </tr>\n",
       "    <tr>\n",
       "      <th id=\"T_d3a52_level0_row22\" class=\"row_heading level0 row22\" >66</th>\n",
       "      <td id=\"T_d3a52_row22_col0\" class=\"data row22 col0\" >89</td>\n",
       "      <td id=\"T_d3a52_row22_col1\" class=\"data row22 col1\" >1.26%</td>\n",
       "    </tr>\n",
       "    <tr>\n",
       "      <th id=\"T_d3a52_level0_row23\" class=\"row_heading level0 row23\" >67</th>\n",
       "      <td id=\"T_d3a52_row23_col0\" class=\"data row23 col0\" >98</td>\n",
       "      <td id=\"T_d3a52_row23_col1\" class=\"data row23 col1\" >1.39%</td>\n",
       "    </tr>\n",
       "    <tr>\n",
       "      <th id=\"T_d3a52_level0_row24\" class=\"row_heading level0 row24\" >20</th>\n",
       "      <td id=\"T_d3a52_row24_col0\" class=\"data row24 col0\" >71</td>\n",
       "      <td id=\"T_d3a52_row24_col1\" class=\"data row24 col1\" >1.01%</td>\n",
       "    </tr>\n",
       "    <tr>\n",
       "      <th id=\"T_d3a52_level0_row25\" class=\"row_heading level0 row25\" >43</th>\n",
       "      <td id=\"T_d3a52_row25_col0\" class=\"data row25 col0\" >65</td>\n",
       "      <td id=\"T_d3a52_row25_col1\" class=\"data row25 col1\" >0.92%</td>\n",
       "    </tr>\n",
       "    <tr>\n",
       "      <th id=\"T_d3a52_level0_row26\" class=\"row_heading level0 row26\" >59</th>\n",
       "      <td id=\"T_d3a52_row26_col0\" class=\"data row26 col0\" >60</td>\n",
       "      <td id=\"T_d3a52_row26_col1\" class=\"data row26 col1\" >0.85%</td>\n",
       "    </tr>\n",
       "    <tr>\n",
       "      <th id=\"T_d3a52_level0_row27\" class=\"row_heading level0 row27\" >12</th>\n",
       "      <td id=\"T_d3a52_row27_col0\" class=\"data row27 col0\" >117</td>\n",
       "      <td id=\"T_d3a52_row27_col1\" class=\"data row27 col1\" >1.66%</td>\n",
       "    </tr>\n",
       "    <tr>\n",
       "      <th id=\"T_d3a52_level0_row28\" class=\"row_heading level0 row28\" >27</th>\n",
       "      <td id=\"T_d3a52_row28_col0\" class=\"data row28 col0\" >72</td>\n",
       "      <td id=\"T_d3a52_row28_col1\" class=\"data row28 col1\" >1.02%</td>\n",
       "    </tr>\n",
       "    <tr>\n",
       "      <th id=\"T_d3a52_level0_row29\" class=\"row_heading level0 row29\" >2</th>\n",
       "      <td id=\"T_d3a52_row29_col0\" class=\"data row29 col0\" >238</td>\n",
       "      <td id=\"T_d3a52_row29_col1\" class=\"data row29 col1\" >3.38%</td>\n",
       "    </tr>\n",
       "    <tr>\n",
       "      <th id=\"T_d3a52_level0_row30\" class=\"row_heading level0 row30\" >25</th>\n",
       "      <td id=\"T_d3a52_row30_col0\" class=\"data row30 col0\" >79</td>\n",
       "      <td id=\"T_d3a52_row30_col1\" class=\"data row30 col1\" >1.12%</td>\n",
       "    </tr>\n",
       "    <tr>\n",
       "      <th id=\"T_d3a52_level0_row31\" class=\"row_heading level0 row31\" >29</th>\n",
       "      <td id=\"T_d3a52_row31_col0\" class=\"data row31 col0\" >72</td>\n",
       "      <td id=\"T_d3a52_row31_col1\" class=\"data row31 col1\" >1.02%</td>\n",
       "    </tr>\n",
       "    <tr>\n",
       "      <th id=\"T_d3a52_level0_row32\" class=\"row_heading level0 row32\" >14</th>\n",
       "      <td id=\"T_d3a52_row32_col0\" class=\"data row32 col0\" >76</td>\n",
       "      <td id=\"T_d3a52_row32_col1\" class=\"data row32 col1\" >1.08%</td>\n",
       "    </tr>\n",
       "    <tr>\n",
       "      <th id=\"T_d3a52_level0_row33\" class=\"row_heading level0 row33\" >35</th>\n",
       "      <td id=\"T_d3a52_row33_col0\" class=\"data row33 col0\" >88</td>\n",
       "      <td id=\"T_d3a52_row33_col1\" class=\"data row33 col1\" >1.25%</td>\n",
       "    </tr>\n",
       "    <tr>\n",
       "      <th id=\"T_d3a52_level0_row34\" class=\"row_heading level0 row34\" >64</th>\n",
       "      <td id=\"T_d3a52_row34_col0\" class=\"data row34 col0\" >80</td>\n",
       "      <td id=\"T_d3a52_row34_col1\" class=\"data row34 col1\" >1.14%</td>\n",
       "    </tr>\n",
       "    <tr>\n",
       "      <th id=\"T_d3a52_level0_row35\" class=\"row_heading level0 row35\" >39</th>\n",
       "      <td id=\"T_d3a52_row35_col0\" class=\"data row35 col0\" >56</td>\n",
       "      <td id=\"T_d3a52_row35_col1\" class=\"data row35 col1\" >0.80%</td>\n",
       "    </tr>\n",
       "    <tr>\n",
       "      <th id=\"T_d3a52_level0_row36\" class=\"row_heading level0 row36\" >40</th>\n",
       "      <td id=\"T_d3a52_row36_col0\" class=\"data row36 col0\" >64</td>\n",
       "      <td id=\"T_d3a52_row36_col1\" class=\"data row36 col1\" >0.91%</td>\n",
       "    </tr>\n",
       "    <tr>\n",
       "      <th id=\"T_d3a52_level0_row37\" class=\"row_heading level0 row37\" >11</th>\n",
       "      <td id=\"T_d3a52_row37_col0\" class=\"data row37 col0\" >99</td>\n",
       "      <td id=\"T_d3a52_row37_col1\" class=\"data row37 col1\" >1.41%</td>\n",
       "    </tr>\n",
       "    <tr>\n",
       "      <th id=\"T_d3a52_level0_row38\" class=\"row_heading level0 row38\" >6</th>\n",
       "      <td id=\"T_d3a52_row38_col0\" class=\"data row38 col0\" >110</td>\n",
       "      <td id=\"T_d3a52_row38_col1\" class=\"data row38 col1\" >1.56%</td>\n",
       "    </tr>\n",
       "    <tr>\n",
       "      <th id=\"T_d3a52_level0_row39\" class=\"row_heading level0 row39\" >30</th>\n",
       "      <td id=\"T_d3a52_row39_col0\" class=\"data row39 col0\" >72</td>\n",
       "      <td id=\"T_d3a52_row39_col1\" class=\"data row39 col1\" >1.02%</td>\n",
       "    </tr>\n",
       "    <tr>\n",
       "      <th id=\"T_d3a52_level0_row40\" class=\"row_heading level0 row40\" >70</th>\n",
       "      <td id=\"T_d3a52_row40_col0\" class=\"data row40 col0\" >119</td>\n",
       "      <td id=\"T_d3a52_row40_col1\" class=\"data row40 col1\" >1.69%</td>\n",
       "    </tr>\n",
       "    <tr>\n",
       "      <th id=\"T_d3a52_level0_row41\" class=\"row_heading level0 row41\" >57</th>\n",
       "      <td id=\"T_d3a52_row41_col0\" class=\"data row41 col0\" >65</td>\n",
       "      <td id=\"T_d3a52_row41_col1\" class=\"data row41 col1\" >0.92%</td>\n",
       "    </tr>\n",
       "    <tr>\n",
       "      <th id=\"T_d3a52_level0_row42\" class=\"row_heading level0 row42\" >58</th>\n",
       "      <td id=\"T_d3a52_row42_col0\" class=\"data row42 col0\" >67</td>\n",
       "      <td id=\"T_d3a52_row42_col1\" class=\"data row42 col1\" >0.95%</td>\n",
       "    </tr>\n",
       "    <tr>\n",
       "      <th id=\"T_d3a52_level0_row43\" class=\"row_heading level0 row43\" >16</th>\n",
       "      <td id=\"T_d3a52_row43_col0\" class=\"data row43 col0\" >80</td>\n",
       "      <td id=\"T_d3a52_row43_col1\" class=\"data row43 col1\" >1.14%</td>\n",
       "    </tr>\n",
       "    <tr>\n",
       "      <th id=\"T_d3a52_level0_row44\" class=\"row_heading level0 row44\" >32</th>\n",
       "      <td id=\"T_d3a52_row44_col0\" class=\"data row44 col0\" >69</td>\n",
       "      <td id=\"T_d3a52_row44_col1\" class=\"data row44 col1\" >0.98%</td>\n",
       "    </tr>\n",
       "    <tr>\n",
       "      <th id=\"T_d3a52_level0_row45\" class=\"row_heading level0 row45\" >33</th>\n",
       "      <td id=\"T_d3a52_row45_col0\" class=\"data row45 col0\" >64</td>\n",
       "      <td id=\"T_d3a52_row45_col1\" class=\"data row45 col1\" >0.91%</td>\n",
       "    </tr>\n",
       "    <tr>\n",
       "      <th id=\"T_d3a52_level0_row46\" class=\"row_heading level0 row46\" >10</th>\n",
       "      <td id=\"T_d3a52_row46_col0\" class=\"data row46 col0\" >116</td>\n",
       "      <td id=\"T_d3a52_row46_col1\" class=\"data row46 col1\" >1.65%</td>\n",
       "    </tr>\n",
       "    <tr>\n",
       "      <th id=\"T_d3a52_level0_row47\" class=\"row_heading level0 row47\" >21</th>\n",
       "      <td id=\"T_d3a52_row47_col0\" class=\"data row47 col0\" >63</td>\n",
       "      <td id=\"T_d3a52_row47_col1\" class=\"data row47 col1\" >0.89%</td>\n",
       "    </tr>\n",
       "    <tr>\n",
       "      <th id=\"T_d3a52_level0_row48\" class=\"row_heading level0 row48\" >61</th>\n",
       "      <td id=\"T_d3a52_row48_col0\" class=\"data row48 col0\" >76</td>\n",
       "      <td id=\"T_d3a52_row48_col1\" class=\"data row48 col1\" >1.08%</td>\n",
       "    </tr>\n",
       "    <tr>\n",
       "      <th id=\"T_d3a52_level0_row49\" class=\"row_heading level0 row49\" >15</th>\n",
       "      <td id=\"T_d3a52_row49_col0\" class=\"data row49 col0\" >99</td>\n",
       "      <td id=\"T_d3a52_row49_col1\" class=\"data row49 col1\" >1.41%</td>\n",
       "    </tr>\n",
       "    <tr>\n",
       "      <th id=\"T_d3a52_level0_row50\" class=\"row_heading level0 row50\" >44</th>\n",
       "      <td id=\"T_d3a52_row50_col0\" class=\"data row50 col0\" >51</td>\n",
       "      <td id=\"T_d3a52_row50_col1\" class=\"data row50 col1\" >0.72%</td>\n",
       "    </tr>\n",
       "    <tr>\n",
       "      <th id=\"T_d3a52_level0_row51\" class=\"row_heading level0 row51\" >22</th>\n",
       "      <td id=\"T_d3a52_row51_col0\" class=\"data row51 col0\" >90</td>\n",
       "      <td id=\"T_d3a52_row51_col1\" class=\"data row51 col1\" >1.28%</td>\n",
       "    </tr>\n",
       "    <tr>\n",
       "      <th id=\"T_d3a52_level0_row52\" class=\"row_heading level0 row52\" >24</th>\n",
       "      <td id=\"T_d3a52_row52_col0\" class=\"data row52 col0\" >94</td>\n",
       "      <td id=\"T_d3a52_row52_col1\" class=\"data row52 col1\" >1.33%</td>\n",
       "    </tr>\n",
       "    <tr>\n",
       "      <th id=\"T_d3a52_level0_row53\" class=\"row_heading level0 row53\" >19</th>\n",
       "      <td id=\"T_d3a52_row53_col0\" class=\"data row53 col0\" >73</td>\n",
       "      <td id=\"T_d3a52_row53_col1\" class=\"data row53 col1\" >1.04%</td>\n",
       "    </tr>\n",
       "    <tr>\n",
       "      <th id=\"T_d3a52_level0_row54\" class=\"row_heading level0 row54\" >47</th>\n",
       "      <td id=\"T_d3a52_row54_col0\" class=\"data row54 col0\" >68</td>\n",
       "      <td id=\"T_d3a52_row54_col1\" class=\"data row54 col1\" >0.97%</td>\n",
       "    </tr>\n",
       "    <tr>\n",
       "      <th id=\"T_d3a52_level0_row55\" class=\"row_heading level0 row55\" >62</th>\n",
       "      <td id=\"T_d3a52_row55_col0\" class=\"data row55 col0\" >70</td>\n",
       "      <td id=\"T_d3a52_row55_col1\" class=\"data row55 col1\" >0.99%</td>\n",
       "    </tr>\n",
       "    <tr>\n",
       "      <th id=\"T_d3a52_level0_row56\" class=\"row_heading level0 row56\" >46</th>\n",
       "      <td id=\"T_d3a52_row56_col0\" class=\"data row56 col0\" >74</td>\n",
       "      <td id=\"T_d3a52_row56_col1\" class=\"data row56 col1\" >1.05%</td>\n",
       "    </tr>\n",
       "    <tr>\n",
       "      <th id=\"T_d3a52_level0_row57\" class=\"row_heading level0 row57\" >52</th>\n",
       "      <td id=\"T_d3a52_row57_col0\" class=\"data row57 col0\" >80</td>\n",
       "      <td id=\"T_d3a52_row57_col1\" class=\"data row57 col1\" >1.14%</td>\n",
       "    </tr>\n",
       "    <tr>\n",
       "      <th id=\"T_d3a52_level0_row58\" class=\"row_heading level0 row58\" >8</th>\n",
       "      <td id=\"T_d3a52_row58_col0\" class=\"data row58 col0\" >123</td>\n",
       "      <td id=\"T_d3a52_row58_col1\" class=\"data row58 col1\" >1.75%</td>\n",
       "    </tr>\n",
       "    <tr>\n",
       "      <th id=\"T_d3a52_level0_row59\" class=\"row_heading level0 row59\" >60</th>\n",
       "      <td id=\"T_d3a52_row59_col0\" class=\"data row59 col0\" >76</td>\n",
       "      <td id=\"T_d3a52_row59_col1\" class=\"data row59 col1\" >1.08%</td>\n",
       "    </tr>\n",
       "    <tr>\n",
       "      <th id=\"T_d3a52_level0_row60\" class=\"row_heading level0 row60\" >48</th>\n",
       "      <td id=\"T_d3a52_row60_col0\" class=\"data row60 col0\" >64</td>\n",
       "      <td id=\"T_d3a52_row60_col1\" class=\"data row60 col1\" >0.91%</td>\n",
       "    </tr>\n",
       "    <tr>\n",
       "      <th id=\"T_d3a52_level0_row61\" class=\"row_heading level0 row61\" >28</th>\n",
       "      <td id=\"T_d3a52_row61_col0\" class=\"data row61 col0\" >57</td>\n",
       "      <td id=\"T_d3a52_row61_col1\" class=\"data row61 col1\" >0.81%</td>\n",
       "    </tr>\n",
       "    <tr>\n",
       "      <th id=\"T_d3a52_level0_row62\" class=\"row_heading level0 row62\" >41</th>\n",
       "      <td id=\"T_d3a52_row62_col0\" class=\"data row62 col0\" >70</td>\n",
       "      <td id=\"T_d3a52_row62_col1\" class=\"data row62 col1\" >0.99%</td>\n",
       "    </tr>\n",
       "    <tr>\n",
       "      <th id=\"T_d3a52_level0_row63\" class=\"row_heading level0 row63\" >53</th>\n",
       "      <td id=\"T_d3a52_row63_col0\" class=\"data row63 col0\" >70</td>\n",
       "      <td id=\"T_d3a52_row63_col1\" class=\"data row63 col1\" >0.99%</td>\n",
       "    </tr>\n",
       "    <tr>\n",
       "      <th id=\"T_d3a52_level0_row64\" class=\"row_heading level0 row64\" >68</th>\n",
       "      <td id=\"T_d3a52_row64_col0\" class=\"data row64 col0\" >100</td>\n",
       "      <td id=\"T_d3a52_row64_col1\" class=\"data row64 col1\" >1.42%</td>\n",
       "    </tr>\n",
       "    <tr>\n",
       "      <th id=\"T_d3a52_level0_row65\" class=\"row_heading level0 row65\" >31</th>\n",
       "      <td id=\"T_d3a52_row65_col0\" class=\"data row65 col0\" >65</td>\n",
       "      <td id=\"T_d3a52_row65_col1\" class=\"data row65 col1\" >0.92%</td>\n",
       "    </tr>\n",
       "    <tr>\n",
       "      <th id=\"T_d3a52_level0_row66\" class=\"row_heading level0 row66\" >36</th>\n",
       "      <td id=\"T_d3a52_row66_col0\" class=\"data row66 col0\" >50</td>\n",
       "      <td id=\"T_d3a52_row66_col1\" class=\"data row66 col1\" >0.71%</td>\n",
       "    </tr>\n",
       "    <tr>\n",
       "      <th id=\"T_d3a52_level0_row67\" class=\"row_heading level0 row67\" >17</th>\n",
       "      <td id=\"T_d3a52_row67_col0\" class=\"data row67 col0\" >87</td>\n",
       "      <td id=\"T_d3a52_row67_col1\" class=\"data row67 col1\" >1.24%</td>\n",
       "    </tr>\n",
       "    <tr>\n",
       "      <th id=\"T_d3a52_level0_row68\" class=\"row_heading level0 row68\" >18</th>\n",
       "      <td id=\"T_d3a52_row68_col0\" class=\"data row68 col0\" >97</td>\n",
       "      <td id=\"T_d3a52_row68_col1\" class=\"data row68 col1\" >1.38%</td>\n",
       "    </tr>\n",
       "    <tr>\n",
       "      <th id=\"T_d3a52_level0_row69\" class=\"row_heading level0 row69\" >51</th>\n",
       "      <td id=\"T_d3a52_row69_col0\" class=\"data row69 col0\" >68</td>\n",
       "      <td id=\"T_d3a52_row69_col1\" class=\"data row69 col1\" >0.97%</td>\n",
       "    </tr>\n",
       "    <tr>\n",
       "      <th id=\"T_d3a52_level0_row70\" class=\"row_heading level0 row70\" >38</th>\n",
       "      <td id=\"T_d3a52_row70_col0\" class=\"data row70 col0\" >59</td>\n",
       "      <td id=\"T_d3a52_row70_col1\" class=\"data row70 col1\" >0.84%</td>\n",
       "    </tr>\n",
       "    <tr>\n",
       "      <th id=\"T_d3a52_level0_row71\" class=\"row_heading level0 row71\" >42</th>\n",
       "      <td id=\"T_d3a52_row71_col0\" class=\"data row71 col0\" >65</td>\n",
       "      <td id=\"T_d3a52_row71_col1\" class=\"data row71 col1\" >0.92%</td>\n",
       "    </tr>\n",
       "    <tr>\n",
       "      <th id=\"T_d3a52_level0_row72\" class=\"row_heading level0 row72\" >0</th>\n",
       "      <td id=\"T_d3a52_row72_col0\" class=\"data row72 col0\" >11</td>\n",
       "      <td id=\"T_d3a52_row72_col1\" class=\"data row72 col1\" >0.16%</td>\n",
       "    </tr>\n",
       "  </tbody>\n",
       "</table>\n"
      ],
      "text/plain": [
       "<pandas.io.formats.style.Styler at 0x24f0821b880>"
      ]
     },
     "execution_count": 132,
     "metadata": {},
     "output_type": "execute_result"
    }
   ],
   "source": [
    "caracteristicas_propriedade = dataset['MesesDeContrato']\n",
    "caracteristicas_propriedade_itens = caracteristicas_propriedade.explode()\n",
    "caracteristicas_propriedade_itens.value_counts()\n",
    "tabela_frequencias = pd.merge(\n",
    "    left=caracteristicas_propriedade_itens.value_counts(sort=False),\n",
    "    right=caracteristicas_propriedade_itens.value_counts(normalize=True, sort=False),\n",
    "    left_index=True,\n",
    "    right_index=True\n",
    ")\n",
    "tabela_frequencias.rename(columns={\n",
    "        'MesesDeContrato_x': 'Frequências',\n",
    "        'MesesDeContrato_y': 'Percentual'\n",
    "}, inplace=True)\n",
    "\n",
    "tabela_frequencias.rename_axis('MesesDeContrato', inplace=True)\n",
    "\n",
    "tabela_frequencias.style.format({'Percentual': '{:.2%}'})\\\n",
    "                        .bar(subset='Percentual', vmin = 0.05, color = 'lightblue')"
   ]
  },
  {
   "cell_type": "code",
   "execution_count": 41,
   "id": "83fc82f7",
   "metadata": {},
   "outputs": [
    {
     "name": "stderr",
     "output_type": "stream",
     "text": [
      "C:\\Users\\PC\\anaconda3\\lib\\site-packages\\seaborn\\distributions.py:2619: FutureWarning: `distplot` is a deprecated function and will be removed in a future version. Please adapt your code to use either `displot` (a figure-level function with similar flexibility) or `histplot` (an axes-level function for histograms).\n",
      "  warnings.warn(msg, FutureWarning)\n"
     ]
    },
    {
     "data": {
      "text/plain": [
       "<AxesSubplot:xlabel='MesesDeContrato', ylabel='Density'>"
      ]
     },
     "execution_count": 41,
     "metadata": {},
     "output_type": "execute_result"
    },
    {
     "data": {
      "image/png": "[encoded data removed]",
      "text/plain": [
       "<Figure size 432x288 with 1 Axes>"
      ]
     },
     "metadata": {
      "needs_background": "light"
     },
     "output_type": "display_data"
    }
   ],
   "source": [
    "sns.distplot(dataset['MesesDeContrato'], hist = True, kde = True,\n",
    "             bins = 6, color = 'blue',\n",
    "             hist_kws={'edgecolor': 'black'})"
   ]
  },
  {
   "cell_type": "markdown",
   "id": "384e26f5",
   "metadata": {},
   "source": [
    "# Verificando coluna Telefone"
   ]
  },
  {
   "cell_type": "code",
   "execution_count": 42,
   "id": "d4ed8a54",
   "metadata": {},
   "outputs": [
    {
     "data": {
      "text/plain": [
       "array(['Yes', 'No'], dtype=object)"
      ]
     },
     "execution_count": 42,
     "metadata": {},
     "output_type": "execute_result"
    }
   ],
   "source": [
    "dataset['Telefone'].unique()"
   ]
  },
  {
   "cell_type": "code",
   "execution_count": 43,
   "id": "4762288c",
   "metadata": {},
   "outputs": [
    {
     "data": {
      "text/plain": [
       "Yes    6361\n",
       "No      682\n",
       "Name: Telefone, dtype: int64"
      ]
     },
     "execution_count": 43,
     "metadata": {},
     "output_type": "execute_result"
    }
   ],
   "source": [
    "dataset['Telefone'].value_counts()"
   ]
  },
  {
   "cell_type": "code",
   "execution_count": 135,
   "id": "82741ab9",
   "metadata": {},
   "outputs": [
    {
     "data": {
      "text/html": [
       "<style type=\"text/css\">\n",
       "#T_5369b_row0_col1 {\n",
       "  width: 10em;\n",
       "  height: 80%;\n",
       "  background: linear-gradient(90deg,lightblue 100.0%, transparent 100.0%);\n",
       "}\n",
       "#T_5369b_row1_col1 {\n",
       "  width: 10em;\n",
       "  height: 80%;\n",
       "  background: linear-gradient(90deg,lightblue 5.5%, transparent 5.5%);\n",
       "}\n",
       "</style>\n",
       "<table id=\"T_5369b_\">\n",
       "  <thead>\n",
       "    <tr>\n",
       "      <th class=\"blank level0\" >&nbsp;</th>\n",
       "      <th class=\"col_heading level0 col0\" >Frequências</th>\n",
       "      <th class=\"col_heading level0 col1\" >Percentual</th>\n",
       "    </tr>\n",
       "    <tr>\n",
       "      <th class=\"index_name level0\" >Telefone</th>\n",
       "      <th class=\"blank col0\" >&nbsp;</th>\n",
       "      <th class=\"blank col1\" >&nbsp;</th>\n",
       "    </tr>\n",
       "  </thead>\n",
       "  <tbody>\n",
       "    <tr>\n",
       "      <th id=\"T_5369b_level0_row0\" class=\"row_heading level0 row0\" >Yes</th>\n",
       "      <td id=\"T_5369b_row0_col0\" class=\"data row0 col0\" >6361</td>\n",
       "      <td id=\"T_5369b_row0_col1\" class=\"data row0 col1\" >90.32%</td>\n",
       "    </tr>\n",
       "    <tr>\n",
       "      <th id=\"T_5369b_level0_row1\" class=\"row_heading level0 row1\" >No</th>\n",
       "      <td id=\"T_5369b_row1_col0\" class=\"data row1 col0\" >682</td>\n",
       "      <td id=\"T_5369b_row1_col1\" class=\"data row1 col1\" >9.68%</td>\n",
       "    </tr>\n",
       "  </tbody>\n",
       "</table>\n"
      ],
      "text/plain": [
       "<pandas.io.formats.style.Styler at 0x24f0b03e550>"
      ]
     },
     "execution_count": 135,
     "metadata": {},
     "output_type": "execute_result"
    }
   ],
   "source": [
    "caracteristicas_propriedade = dataset['Telefone']\n",
    "caracteristicas_propriedade_itens = caracteristicas_propriedade.explode()\n",
    "caracteristicas_propriedade_itens.value_counts()\n",
    "tabela_frequencias = pd.merge(\n",
    "    left=caracteristicas_propriedade_itens.value_counts(sort=False),\n",
    "    right=caracteristicas_propriedade_itens.value_counts(normalize=True, sort=False),\n",
    "    left_index=True,\n",
    "    right_index=True\n",
    ")\n",
    "tabela_frequencias.rename(columns={\n",
    "        'Telefone_x': 'Frequências',\n",
    "        'Telefone_y': 'Percentual'\n",
    "}, inplace=True)\n",
    "\n",
    "tabela_frequencias.rename_axis('Telefone', inplace=True)\n",
    "\n",
    "tabela_frequencias.style.format({'Percentual': '{:.2%}'})\\\n",
    "                        .bar(subset='Percentual', vmin = 0.05, color = 'lightblue')"
   ]
  },
  {
   "cell_type": "code",
   "execution_count": 44,
   "id": "161f5ed9",
   "metadata": {},
   "outputs": [
    {
     "data": {
      "text/html": [
       "<div>\n",
       "<style scoped>\n",
       "    .dataframe tbody tr th:only-of-type {\n",
       "        vertical-align: middle;\n",
       "    }\n",
       "\n",
       "    .dataframe tbody tr th {\n",
       "        vertical-align: top;\n",
       "    }\n",
       "\n",
       "    .dataframe thead tr th {\n",
       "        text-align: left;\n",
       "    }\n",
       "\n",
       "    .dataframe thead tr:last-of-type th {\n",
       "        text-align: right;\n",
       "    }\n",
       "</style>\n",
       "<table border=\"1\" class=\"dataframe\">\n",
       "  <thead>\n",
       "    <tr>\n",
       "      <th></th>\n",
       "      <th colspan=\"8\" halign=\"left\">EncargosMensal</th>\n",
       "    </tr>\n",
       "    <tr>\n",
       "      <th></th>\n",
       "      <th>count</th>\n",
       "      <th>mean</th>\n",
       "      <th>std</th>\n",
       "      <th>min</th>\n",
       "      <th>25%</th>\n",
       "      <th>50%</th>\n",
       "      <th>75%</th>\n",
       "      <th>max</th>\n",
       "    </tr>\n",
       "    <tr>\n",
       "      <th>Telefone</th>\n",
       "      <th></th>\n",
       "      <th></th>\n",
       "      <th></th>\n",
       "      <th></th>\n",
       "      <th></th>\n",
       "      <th></th>\n",
       "      <th></th>\n",
       "      <th></th>\n",
       "    </tr>\n",
       "  </thead>\n",
       "  <tbody>\n",
       "    <tr>\n",
       "      <th>No</th>\n",
       "      <td>682.0</td>\n",
       "      <td>42.0</td>\n",
       "      <td>11.0</td>\n",
       "      <td>23.0</td>\n",
       "      <td>34.0</td>\n",
       "      <td>41.0</td>\n",
       "      <td>51.0</td>\n",
       "      <td>67.0</td>\n",
       "    </tr>\n",
       "    <tr>\n",
       "      <th>Yes</th>\n",
       "      <td>6361.0</td>\n",
       "      <td>67.0</td>\n",
       "      <td>30.0</td>\n",
       "      <td>18.0</td>\n",
       "      <td>45.0</td>\n",
       "      <td>75.0</td>\n",
       "      <td>91.0</td>\n",
       "      <td>119.0</td>\n",
       "    </tr>\n",
       "  </tbody>\n",
       "</table>\n",
       "</div>"
      ],
      "text/plain": [
       "         EncargosMensal                                           \n",
       "                  count  mean   std   min   25%   50%   75%    max\n",
       "Telefone                                                          \n",
       "No                682.0  42.0  11.0  23.0  34.0  41.0  51.0   67.0\n",
       "Yes              6361.0  67.0  30.0  18.0  45.0  75.0  91.0  119.0"
      ]
     },
     "execution_count": 44,
     "metadata": {},
     "output_type": "execute_result"
    }
   ],
   "source": [
    "grupamento = dataset[['Telefone', 'EncargosMensal']].groupby(by='Telefone')\n",
    "grupamento.describe().round()"
   ]
  },
  {
   "cell_type": "markdown",
   "id": "16392721",
   "metadata": {},
   "source": [
    "# Verificando coluna VáriasLinhas"
   ]
  },
  {
   "cell_type": "code",
   "execution_count": 45,
   "id": "66d8b199",
   "metadata": {},
   "outputs": [
    {
     "data": {
      "text/plain": [
       "array(['No', 'Yes', 'No phone service'], dtype=object)"
      ]
     },
     "execution_count": 45,
     "metadata": {},
     "output_type": "execute_result"
    }
   ],
   "source": [
    "dataset['VáriasLinhas'].unique()"
   ]
  },
  {
   "cell_type": "code",
   "execution_count": 46,
   "id": "20fb1164",
   "metadata": {},
   "outputs": [
    {
     "data": {
      "text/plain": [
       "No                  3390\n",
       "Yes                 2971\n",
       "No phone service     682\n",
       "Name: VáriasLinhas, dtype: int64"
      ]
     },
     "execution_count": 46,
     "metadata": {},
     "output_type": "execute_result"
    }
   ],
   "source": [
    "dataset['VáriasLinhas'].value_counts()"
   ]
  },
  {
   "cell_type": "code",
   "execution_count": 136,
   "id": "753308d4",
   "metadata": {},
   "outputs": [
    {
     "data": {
      "text/html": [
       "<style type=\"text/css\">\n",
       "#T_4b522_row0_col1 {\n",
       "  width: 10em;\n",
       "  height: 80%;\n",
       "  background: linear-gradient(90deg,lightblue 100.0%, transparent 100.0%);\n",
       "}\n",
       "#T_4b522_row1_col1 {\n",
       "  width: 10em;\n",
       "  height: 80%;\n",
       "  background: linear-gradient(90deg,lightblue 86.2%, transparent 86.2%);\n",
       "}\n",
       "#T_4b522_row2_col1 {\n",
       "  width: 10em;\n",
       "  height: 80%;\n",
       "  background: linear-gradient(90deg,lightblue 10.9%, transparent 10.9%);\n",
       "}\n",
       "</style>\n",
       "<table id=\"T_4b522_\">\n",
       "  <thead>\n",
       "    <tr>\n",
       "      <th class=\"blank level0\" >&nbsp;</th>\n",
       "      <th class=\"col_heading level0 col0\" >Frequências</th>\n",
       "      <th class=\"col_heading level0 col1\" >Percentual</th>\n",
       "    </tr>\n",
       "    <tr>\n",
       "      <th class=\"index_name level0\" >VáriasLinhas</th>\n",
       "      <th class=\"blank col0\" >&nbsp;</th>\n",
       "      <th class=\"blank col1\" >&nbsp;</th>\n",
       "    </tr>\n",
       "  </thead>\n",
       "  <tbody>\n",
       "    <tr>\n",
       "      <th id=\"T_4b522_level0_row0\" class=\"row_heading level0 row0\" >No</th>\n",
       "      <td id=\"T_4b522_row0_col0\" class=\"data row0 col0\" >3390</td>\n",
       "      <td id=\"T_4b522_row0_col1\" class=\"data row0 col1\" >48.13%</td>\n",
       "    </tr>\n",
       "    <tr>\n",
       "      <th id=\"T_4b522_level0_row1\" class=\"row_heading level0 row1\" >Yes</th>\n",
       "      <td id=\"T_4b522_row1_col0\" class=\"data row1 col0\" >2971</td>\n",
       "      <td id=\"T_4b522_row1_col1\" class=\"data row1 col1\" >42.18%</td>\n",
       "    </tr>\n",
       "    <tr>\n",
       "      <th id=\"T_4b522_level0_row2\" class=\"row_heading level0 row2\" >No phone service</th>\n",
       "      <td id=\"T_4b522_row2_col0\" class=\"data row2 col0\" >682</td>\n",
       "      <td id=\"T_4b522_row2_col1\" class=\"data row2 col1\" >9.68%</td>\n",
       "    </tr>\n",
       "  </tbody>\n",
       "</table>\n"
      ],
      "text/plain": [
       "<pandas.io.formats.style.Styler at 0x24f091a54f0>"
      ]
     },
     "execution_count": 136,
     "metadata": {},
     "output_type": "execute_result"
    }
   ],
   "source": [
    "caracteristicas_propriedade = dataset['VáriasLinhas']\n",
    "caracteristicas_propriedade_itens = caracteristicas_propriedade.explode()\n",
    "caracteristicas_propriedade_itens.value_counts()\n",
    "tabela_frequencias = pd.merge(\n",
    "    left=caracteristicas_propriedade_itens.value_counts(sort=False),\n",
    "    right=caracteristicas_propriedade_itens.value_counts(normalize=True, sort=False),\n",
    "    left_index=True,\n",
    "    right_index=True\n",
    ")\n",
    "tabela_frequencias.rename(columns={\n",
    "        'VáriasLinhas_x': 'Frequências',\n",
    "        'VáriasLinhas_y': 'Percentual'\n",
    "}, inplace=True)\n",
    "\n",
    "tabela_frequencias.rename_axis('VáriasLinhas', inplace=True)\n",
    "\n",
    "tabela_frequencias.style.format({'Percentual': '{:.2%}'})\\\n",
    "                        .bar(subset='Percentual', vmin = 0.05, color = 'lightblue')"
   ]
  },
  {
   "cell_type": "code",
   "execution_count": 47,
   "id": "24defe70",
   "metadata": {},
   "outputs": [],
   "source": [
    "grupamento = dataset[['VáriasLinhas', 'EncargosMensal']].groupby(by='VáriasLinhas')"
   ]
  },
  {
   "cell_type": "code",
   "execution_count": 48,
   "id": "80e7907d",
   "metadata": {},
   "outputs": [
    {
     "data": {
      "text/html": [
       "<div>\n",
       "<style scoped>\n",
       "    .dataframe tbody tr th:only-of-type {\n",
       "        vertical-align: middle;\n",
       "    }\n",
       "\n",
       "    .dataframe tbody tr th {\n",
       "        vertical-align: top;\n",
       "    }\n",
       "\n",
       "    .dataframe thead th {\n",
       "        text-align: right;\n",
       "    }\n",
       "</style>\n",
       "<table border=\"1\" class=\"dataframe\">\n",
       "  <thead>\n",
       "    <tr style=\"text-align: right;\">\n",
       "      <th></th>\n",
       "      <th>EncargosMensal</th>\n",
       "    </tr>\n",
       "    <tr>\n",
       "      <th>VáriasLinhas</th>\n",
       "      <th></th>\n",
       "    </tr>\n",
       "  </thead>\n",
       "  <tbody>\n",
       "    <tr>\n",
       "      <th>No</th>\n",
       "      <td>54.0</td>\n",
       "    </tr>\n",
       "    <tr>\n",
       "      <th>No phone service</th>\n",
       "      <td>42.0</td>\n",
       "    </tr>\n",
       "    <tr>\n",
       "      <th>Yes</th>\n",
       "      <td>82.0</td>\n",
       "    </tr>\n",
       "  </tbody>\n",
       "</table>\n",
       "</div>"
      ],
      "text/plain": [
       "                  EncargosMensal\n",
       "VáriasLinhas                    \n",
       "No                          54.0\n",
       "No phone service            42.0\n",
       "Yes                         82.0"
      ]
     },
     "execution_count": 48,
     "metadata": {},
     "output_type": "execute_result"
    }
   ],
   "source": [
    "grupamento.mean().round()"
   ]
  },
  {
   "cell_type": "markdown",
   "id": "bd53e5bd",
   "metadata": {},
   "source": [
    "# Verificando coluna SegurançaOnline"
   ]
  },
  {
   "cell_type": "code",
   "execution_count": 49,
   "id": "7a3f9f15",
   "metadata": {},
   "outputs": [
    {
     "data": {
      "text/plain": [
       "array(['DSL', 'Fiber optic', 'No'], dtype=object)"
      ]
     },
     "execution_count": 49,
     "metadata": {},
     "output_type": "execute_result"
    }
   ],
   "source": [
    "dataset['SegurançaOnline'].unique()"
   ]
  },
  {
   "cell_type": "code",
   "execution_count": 50,
   "id": "908382c4",
   "metadata": {},
   "outputs": [
    {
     "data": {
      "text/plain": [
       "Fiber optic    3096\n",
       "DSL            2421\n",
       "No             1526\n",
       "Name: SegurançaOnline, dtype: int64"
      ]
     },
     "execution_count": 50,
     "metadata": {},
     "output_type": "execute_result"
    }
   ],
   "source": [
    "dataset['SegurançaOnline'].value_counts()"
   ]
  },
  {
   "cell_type": "code",
   "execution_count": 137,
   "id": "3ebb16c5",
   "metadata": {},
   "outputs": [
    {
     "data": {
      "text/html": [
       "<style type=\"text/css\">\n",
       "#T_aa06e_row0_col1 {\n",
       "  width: 10em;\n",
       "  height: 80%;\n",
       "  background: linear-gradient(90deg,lightblue 75.4%, transparent 75.4%);\n",
       "}\n",
       "#T_aa06e_row1_col1 {\n",
       "  width: 10em;\n",
       "  height: 80%;\n",
       "  background: linear-gradient(90deg,lightblue 100.0%, transparent 100.0%);\n",
       "}\n",
       "#T_aa06e_row2_col1 {\n",
       "  width: 10em;\n",
       "  height: 80%;\n",
       "  background: linear-gradient(90deg,lightblue 42.8%, transparent 42.8%);\n",
       "}\n",
       "</style>\n",
       "<table id=\"T_aa06e_\">\n",
       "  <thead>\n",
       "    <tr>\n",
       "      <th class=\"blank level0\" >&nbsp;</th>\n",
       "      <th class=\"col_heading level0 col0\" >Frequências</th>\n",
       "      <th class=\"col_heading level0 col1\" >Percentual</th>\n",
       "    </tr>\n",
       "    <tr>\n",
       "      <th class=\"index_name level0\" >SegurançaOnline</th>\n",
       "      <th class=\"blank col0\" >&nbsp;</th>\n",
       "      <th class=\"blank col1\" >&nbsp;</th>\n",
       "    </tr>\n",
       "  </thead>\n",
       "  <tbody>\n",
       "    <tr>\n",
       "      <th id=\"T_aa06e_level0_row0\" class=\"row_heading level0 row0\" >DSL</th>\n",
       "      <td id=\"T_aa06e_row0_col0\" class=\"data row0 col0\" >2421</td>\n",
       "      <td id=\"T_aa06e_row0_col1\" class=\"data row0 col1\" >34.37%</td>\n",
       "    </tr>\n",
       "    <tr>\n",
       "      <th id=\"T_aa06e_level0_row1\" class=\"row_heading level0 row1\" >Fiber optic</th>\n",
       "      <td id=\"T_aa06e_row1_col0\" class=\"data row1 col0\" >3096</td>\n",
       "      <td id=\"T_aa06e_row1_col1\" class=\"data row1 col1\" >43.96%</td>\n",
       "    </tr>\n",
       "    <tr>\n",
       "      <th id=\"T_aa06e_level0_row2\" class=\"row_heading level0 row2\" >No</th>\n",
       "      <td id=\"T_aa06e_row2_col0\" class=\"data row2 col0\" >1526</td>\n",
       "      <td id=\"T_aa06e_row2_col1\" class=\"data row2 col1\" >21.67%</td>\n",
       "    </tr>\n",
       "  </tbody>\n",
       "</table>\n"
      ],
      "text/plain": [
       "<pandas.io.formats.style.Styler at 0x24f091a5f40>"
      ]
     },
     "execution_count": 137,
     "metadata": {},
     "output_type": "execute_result"
    }
   ],
   "source": [
    "caracteristicas_propriedade = dataset['SegurançaOnline']\n",
    "caracteristicas_propriedade_itens = caracteristicas_propriedade.explode()\n",
    "caracteristicas_propriedade_itens.value_counts()\n",
    "tabela_frequencias = pd.merge(\n",
    "    left=caracteristicas_propriedade_itens.value_counts(sort=False),\n",
    "    right=caracteristicas_propriedade_itens.value_counts(normalize=True, sort=False),\n",
    "    left_index=True,\n",
    "    right_index=True\n",
    ")\n",
    "tabela_frequencias.rename(columns={\n",
    "        'SegurançaOnline_x': 'Frequências',\n",
    "        'SegurançaOnline_y': 'Percentual'\n",
    "}, inplace=True)\n",
    "\n",
    "tabela_frequencias.rename_axis('SegurançaOnline', inplace=True)\n",
    "\n",
    "tabela_frequencias.style.format({'Percentual': '{:.2%}'})\\\n",
    "                        .bar(subset='Percentual', vmin = 0.05, color = 'lightblue')"
   ]
  },
  {
   "cell_type": "code",
   "execution_count": 51,
   "id": "1f30ad9f",
   "metadata": {},
   "outputs": [],
   "source": [
    "grupamento = dataset[['SegurançaOnline', 'EncargosMensal']].groupby(by='SegurançaOnline')"
   ]
  },
  {
   "cell_type": "code",
   "execution_count": 52,
   "id": "e05302bb",
   "metadata": {},
   "outputs": [
    {
     "data": {
      "text/html": [
       "<div>\n",
       "<style scoped>\n",
       "    .dataframe tbody tr th:only-of-type {\n",
       "        vertical-align: middle;\n",
       "    }\n",
       "\n",
       "    .dataframe tbody tr th {\n",
       "        vertical-align: top;\n",
       "    }\n",
       "\n",
       "    .dataframe thead th {\n",
       "        text-align: right;\n",
       "    }\n",
       "</style>\n",
       "<table border=\"1\" class=\"dataframe\">\n",
       "  <thead>\n",
       "    <tr style=\"text-align: right;\">\n",
       "      <th></th>\n",
       "      <th>EncargosMensal</th>\n",
       "    </tr>\n",
       "    <tr>\n",
       "      <th>SegurançaOnline</th>\n",
       "      <th></th>\n",
       "    </tr>\n",
       "  </thead>\n",
       "  <tbody>\n",
       "    <tr>\n",
       "      <th>DSL</th>\n",
       "      <td>58.0</td>\n",
       "    </tr>\n",
       "    <tr>\n",
       "      <th>Fiber optic</th>\n",
       "      <td>92.0</td>\n",
       "    </tr>\n",
       "    <tr>\n",
       "      <th>No</th>\n",
       "      <td>21.0</td>\n",
       "    </tr>\n",
       "  </tbody>\n",
       "</table>\n",
       "</div>"
      ],
      "text/plain": [
       "                 EncargosMensal\n",
       "SegurançaOnline                \n",
       "DSL                        58.0\n",
       "Fiber optic                92.0\n",
       "No                         21.0"
      ]
     },
     "execution_count": 52,
     "metadata": {},
     "output_type": "execute_result"
    }
   ],
   "source": [
    "grupamento.mean().round()"
   ]
  },
  {
   "cell_type": "code",
   "execution_count": null,
   "id": "d18f680e",
   "metadata": {},
   "outputs": [],
   "source": []
  },
  {
   "cell_type": "markdown",
   "id": "a61922af",
   "metadata": {},
   "source": [
    "# Verificando coluna ServiçoInternet"
   ]
  },
  {
   "cell_type": "code",
   "execution_count": 53,
   "id": "ebdc1ecc",
   "metadata": {},
   "outputs": [
    {
     "data": {
      "text/plain": [
       "array(['No', 'Yes', 'No internet service'], dtype=object)"
      ]
     },
     "execution_count": 53,
     "metadata": {},
     "output_type": "execute_result"
    }
   ],
   "source": [
    "dataset['ServiçoInternet'].unique()"
   ]
  },
  {
   "cell_type": "code",
   "execution_count": 54,
   "id": "620989b7",
   "metadata": {},
   "outputs": [
    {
     "data": {
      "text/plain": [
       "No                     3498\n",
       "Yes                    2019\n",
       "No internet service    1526\n",
       "Name: ServiçoInternet, dtype: int64"
      ]
     },
     "execution_count": 54,
     "metadata": {},
     "output_type": "execute_result"
    }
   ],
   "source": [
    "dataset['ServiçoInternet'].value_counts()"
   ]
  },
  {
   "cell_type": "code",
   "execution_count": 138,
   "id": "ac4b158e",
   "metadata": {},
   "outputs": [
    {
     "data": {
      "text/html": [
       "<style type=\"text/css\">\n",
       "#T_aa86f_row0_col1 {\n",
       "  width: 10em;\n",
       "  height: 80%;\n",
       "  background: linear-gradient(90deg,lightblue 100.0%, transparent 100.0%);\n",
       "}\n",
       "#T_aa86f_row1_col1 {\n",
       "  width: 10em;\n",
       "  height: 80%;\n",
       "  background: linear-gradient(90deg,lightblue 53.0%, transparent 53.0%);\n",
       "}\n",
       "#T_aa86f_row2_col1 {\n",
       "  width: 10em;\n",
       "  height: 80%;\n",
       "  background: linear-gradient(90deg,lightblue 37.3%, transparent 37.3%);\n",
       "}\n",
       "</style>\n",
       "<table id=\"T_aa86f_\">\n",
       "  <thead>\n",
       "    <tr>\n",
       "      <th class=\"blank level0\" >&nbsp;</th>\n",
       "      <th class=\"col_heading level0 col0\" >Frequências</th>\n",
       "      <th class=\"col_heading level0 col1\" >Percentual</th>\n",
       "    </tr>\n",
       "    <tr>\n",
       "      <th class=\"index_name level0\" >ServiçoInternet</th>\n",
       "      <th class=\"blank col0\" >&nbsp;</th>\n",
       "      <th class=\"blank col1\" >&nbsp;</th>\n",
       "    </tr>\n",
       "  </thead>\n",
       "  <tbody>\n",
       "    <tr>\n",
       "      <th id=\"T_aa86f_level0_row0\" class=\"row_heading level0 row0\" >No</th>\n",
       "      <td id=\"T_aa86f_row0_col0\" class=\"data row0 col0\" >3498</td>\n",
       "      <td id=\"T_aa86f_row0_col1\" class=\"data row0 col1\" >49.67%</td>\n",
       "    </tr>\n",
       "    <tr>\n",
       "      <th id=\"T_aa86f_level0_row1\" class=\"row_heading level0 row1\" >Yes</th>\n",
       "      <td id=\"T_aa86f_row1_col0\" class=\"data row1 col0\" >2019</td>\n",
       "      <td id=\"T_aa86f_row1_col1\" class=\"data row1 col1\" >28.67%</td>\n",
       "    </tr>\n",
       "    <tr>\n",
       "      <th id=\"T_aa86f_level0_row2\" class=\"row_heading level0 row2\" >No internet service</th>\n",
       "      <td id=\"T_aa86f_row2_col0\" class=\"data row2 col0\" >1526</td>\n",
       "      <td id=\"T_aa86f_row2_col1\" class=\"data row2 col1\" >21.67%</td>\n",
       "    </tr>\n",
       "  </tbody>\n",
       "</table>\n"
      ],
      "text/plain": [
       "<pandas.io.formats.style.Styler at 0x24f09001ee0>"
      ]
     },
     "execution_count": 138,
     "metadata": {},
     "output_type": "execute_result"
    }
   ],
   "source": [
    "caracteristicas_propriedade = dataset['ServiçoInternet']\n",
    "caracteristicas_propriedade_itens = caracteristicas_propriedade.explode()\n",
    "caracteristicas_propriedade_itens.value_counts()\n",
    "tabela_frequencias = pd.merge(\n",
    "    left=caracteristicas_propriedade_itens.value_counts(sort=False),\n",
    "    right=caracteristicas_propriedade_itens.value_counts(normalize=True, sort=False),\n",
    "    left_index=True,\n",
    "    right_index=True\n",
    ")\n",
    "tabela_frequencias.rename(columns={\n",
    "        'ServiçoInternet_x': 'Frequências',\n",
    "        'ServiçoInternet_y': 'Percentual'\n",
    "}, inplace=True)\n",
    "\n",
    "tabela_frequencias.rename_axis('ServiçoInternet', inplace=True)\n",
    "\n",
    "tabela_frequencias.style.format({'Percentual': '{:.2%}'})\\\n",
    "                        .bar(subset='Percentual', vmin = 0.05, color = 'lightblue')"
   ]
  },
  {
   "cell_type": "code",
   "execution_count": 55,
   "id": "180c80bc",
   "metadata": {},
   "outputs": [],
   "source": [
    "grupamento = dataset[['ServiçoInternet', 'EncargosMensal']].groupby(by='ServiçoInternet')"
   ]
  },
  {
   "cell_type": "code",
   "execution_count": 56,
   "id": "16ca0f14",
   "metadata": {},
   "outputs": [
    {
     "data": {
      "text/html": [
       "<div>\n",
       "<style scoped>\n",
       "    .dataframe tbody tr th:only-of-type {\n",
       "        vertical-align: middle;\n",
       "    }\n",
       "\n",
       "    .dataframe tbody tr th {\n",
       "        vertical-align: top;\n",
       "    }\n",
       "\n",
       "    .dataframe thead th {\n",
       "        text-align: right;\n",
       "    }\n",
       "</style>\n",
       "<table border=\"1\" class=\"dataframe\">\n",
       "  <thead>\n",
       "    <tr style=\"text-align: right;\">\n",
       "      <th></th>\n",
       "      <th>EncargosMensal</th>\n",
       "    </tr>\n",
       "    <tr>\n",
       "      <th>ServiçoInternet</th>\n",
       "      <th></th>\n",
       "    </tr>\n",
       "  </thead>\n",
       "  <tbody>\n",
       "    <tr>\n",
       "      <th>No</th>\n",
       "      <td>76.0</td>\n",
       "    </tr>\n",
       "    <tr>\n",
       "      <th>No internet service</th>\n",
       "      <td>21.0</td>\n",
       "    </tr>\n",
       "    <tr>\n",
       "      <th>Yes</th>\n",
       "      <td>79.0</td>\n",
       "    </tr>\n",
       "  </tbody>\n",
       "</table>\n",
       "</div>"
      ],
      "text/plain": [
       "                     EncargosMensal\n",
       "ServiçoInternet                    \n",
       "No                             76.0\n",
       "No internet service            21.0\n",
       "Yes                            79.0"
      ]
     },
     "execution_count": 56,
     "metadata": {},
     "output_type": "execute_result"
    }
   ],
   "source": [
    "grupamento.mean().round()"
   ]
  },
  {
   "cell_type": "markdown",
   "id": "d3902901",
   "metadata": {},
   "source": [
    "# Verificando coluna BackupOnline"
   ]
  },
  {
   "cell_type": "code",
   "execution_count": 57,
   "id": "207e17b7",
   "metadata": {},
   "outputs": [
    {
     "data": {
      "text/plain": [
       "array(['Yes', 'No', 'No internet service'], dtype=object)"
      ]
     },
     "execution_count": 57,
     "metadata": {},
     "output_type": "execute_result"
    }
   ],
   "source": [
    "dataset['BackupOnline'].unique()"
   ]
  },
  {
   "cell_type": "code",
   "execution_count": 58,
   "id": "4aa042c9",
   "metadata": {},
   "outputs": [
    {
     "data": {
      "text/plain": [
       "No                     3088\n",
       "Yes                    2429\n",
       "No internet service    1526\n",
       "Name: BackupOnline, dtype: int64"
      ]
     },
     "execution_count": 58,
     "metadata": {},
     "output_type": "execute_result"
    }
   ],
   "source": [
    "dataset['BackupOnline'].value_counts()"
   ]
  },
  {
   "cell_type": "code",
   "execution_count": 139,
   "id": "3b3eeb32",
   "metadata": {},
   "outputs": [
    {
     "data": {
      "text/html": [
       "<style type=\"text/css\">\n",
       "#T_d05d9_row0_col1 {\n",
       "  width: 10em;\n",
       "  height: 80%;\n",
       "  background: linear-gradient(90deg,lightblue 75.9%, transparent 75.9%);\n",
       "}\n",
       "#T_d05d9_row1_col1 {\n",
       "  width: 10em;\n",
       "  height: 80%;\n",
       "  background: linear-gradient(90deg,lightblue 100.0%, transparent 100.0%);\n",
       "}\n",
       "#T_d05d9_row2_col1 {\n",
       "  width: 10em;\n",
       "  height: 80%;\n",
       "  background: linear-gradient(90deg,lightblue 42.9%, transparent 42.9%);\n",
       "}\n",
       "</style>\n",
       "<table id=\"T_d05d9_\">\n",
       "  <thead>\n",
       "    <tr>\n",
       "      <th class=\"blank level0\" >&nbsp;</th>\n",
       "      <th class=\"col_heading level0 col0\" >Frequências</th>\n",
       "      <th class=\"col_heading level0 col1\" >Percentual</th>\n",
       "    </tr>\n",
       "    <tr>\n",
       "      <th class=\"index_name level0\" >BackupOnline</th>\n",
       "      <th class=\"blank col0\" >&nbsp;</th>\n",
       "      <th class=\"blank col1\" >&nbsp;</th>\n",
       "    </tr>\n",
       "  </thead>\n",
       "  <tbody>\n",
       "    <tr>\n",
       "      <th id=\"T_d05d9_level0_row0\" class=\"row_heading level0 row0\" >Yes</th>\n",
       "      <td id=\"T_d05d9_row0_col0\" class=\"data row0 col0\" >2429</td>\n",
       "      <td id=\"T_d05d9_row0_col1\" class=\"data row0 col1\" >34.49%</td>\n",
       "    </tr>\n",
       "    <tr>\n",
       "      <th id=\"T_d05d9_level0_row1\" class=\"row_heading level0 row1\" >No</th>\n",
       "      <td id=\"T_d05d9_row1_col0\" class=\"data row1 col0\" >3088</td>\n",
       "      <td id=\"T_d05d9_row1_col1\" class=\"data row1 col1\" >43.84%</td>\n",
       "    </tr>\n",
       "    <tr>\n",
       "      <th id=\"T_d05d9_level0_row2\" class=\"row_heading level0 row2\" >No internet service</th>\n",
       "      <td id=\"T_d05d9_row2_col0\" class=\"data row2 col0\" >1526</td>\n",
       "      <td id=\"T_d05d9_row2_col1\" class=\"data row2 col1\" >21.67%</td>\n",
       "    </tr>\n",
       "  </tbody>\n",
       "</table>\n"
      ],
      "text/plain": [
       "<pandas.io.formats.style.Styler at 0x24f091f7eb0>"
      ]
     },
     "execution_count": 139,
     "metadata": {},
     "output_type": "execute_result"
    }
   ],
   "source": [
    "caracteristicas_propriedade = dataset['BackupOnline']\n",
    "caracteristicas_propriedade_itens = caracteristicas_propriedade.explode()\n",
    "caracteristicas_propriedade_itens.value_counts()\n",
    "tabela_frequencias = pd.merge(\n",
    "    left=caracteristicas_propriedade_itens.value_counts(sort=False),\n",
    "    right=caracteristicas_propriedade_itens.value_counts(normalize=True, sort=False),\n",
    "    left_index=True,\n",
    "    right_index=True\n",
    ")\n",
    "tabela_frequencias.rename(columns={\n",
    "        'BackupOnline_x': 'Frequências',\n",
    "        'BackupOnline_y': 'Percentual'\n",
    "}, inplace=True)\n",
    "\n",
    "tabela_frequencias.rename_axis('BackupOnline', inplace=True)\n",
    "\n",
    "tabela_frequencias.style.format({'Percentual': '{:.2%}'})\\\n",
    "                        .bar(subset='Percentual', vmin = 0.05, color = 'lightblue')"
   ]
  },
  {
   "cell_type": "code",
   "execution_count": 59,
   "id": "6c1ac951",
   "metadata": {},
   "outputs": [],
   "source": [
    "grupamento = dataset[['BackupOnline', 'EncargosMensal']].groupby(by='BackupOnline')"
   ]
  },
  {
   "cell_type": "code",
   "execution_count": 60,
   "id": "8d5ad9bf",
   "metadata": {},
   "outputs": [
    {
     "data": {
      "text/html": [
       "<div>\n",
       "<style scoped>\n",
       "    .dataframe tbody tr th:only-of-type {\n",
       "        vertical-align: middle;\n",
       "    }\n",
       "\n",
       "    .dataframe tbody tr th {\n",
       "        vertical-align: top;\n",
       "    }\n",
       "\n",
       "    .dataframe thead th {\n",
       "        text-align: right;\n",
       "    }\n",
       "</style>\n",
       "<table border=\"1\" class=\"dataframe\">\n",
       "  <thead>\n",
       "    <tr style=\"text-align: right;\">\n",
       "      <th></th>\n",
       "      <th>EncargosMensal</th>\n",
       "    </tr>\n",
       "    <tr>\n",
       "      <th>BackupOnline</th>\n",
       "      <th></th>\n",
       "    </tr>\n",
       "  </thead>\n",
       "  <tbody>\n",
       "    <tr>\n",
       "      <th>No</th>\n",
       "      <td>72.0</td>\n",
       "    </tr>\n",
       "    <tr>\n",
       "      <th>No internet service</th>\n",
       "      <td>21.0</td>\n",
       "    </tr>\n",
       "    <tr>\n",
       "      <th>Yes</th>\n",
       "      <td>83.0</td>\n",
       "    </tr>\n",
       "  </tbody>\n",
       "</table>\n",
       "</div>"
      ],
      "text/plain": [
       "                     EncargosMensal\n",
       "BackupOnline                       \n",
       "No                             72.0\n",
       "No internet service            21.0\n",
       "Yes                            83.0"
      ]
     },
     "execution_count": 60,
     "metadata": {},
     "output_type": "execute_result"
    }
   ],
   "source": [
    "grupamento.mean().round()"
   ]
  },
  {
   "cell_type": "markdown",
   "id": "c9be51f3",
   "metadata": {},
   "source": [
    "# Verificando coluna ProteçãoDispositivo"
   ]
  },
  {
   "cell_type": "code",
   "execution_count": 61,
   "id": "f0064bd5",
   "metadata": {},
   "outputs": [
    {
     "data": {
      "text/plain": [
       "array(['No', 'Yes', 'No internet service'], dtype=object)"
      ]
     },
     "execution_count": 61,
     "metadata": {},
     "output_type": "execute_result"
    }
   ],
   "source": [
    "dataset['ProteçãoDispositivo'].unique()"
   ]
  },
  {
   "cell_type": "code",
   "execution_count": 62,
   "id": "f2af971f",
   "metadata": {},
   "outputs": [
    {
     "data": {
      "text/plain": [
       "No                     3095\n",
       "Yes                    2422\n",
       "No internet service    1526\n",
       "Name: ProteçãoDispositivo, dtype: int64"
      ]
     },
     "execution_count": 62,
     "metadata": {},
     "output_type": "execute_result"
    }
   ],
   "source": [
    "dataset['ProteçãoDispositivo'].value_counts()"
   ]
  },
  {
   "cell_type": "code",
   "execution_count": 140,
   "id": "1c8641fb",
   "metadata": {},
   "outputs": [
    {
     "data": {
      "text/html": [
       "<style type=\"text/css\">\n",
       "#T_7a9bd_row0_col1 {\n",
       "  width: 10em;\n",
       "  height: 80%;\n",
       "  background: linear-gradient(90deg,lightblue 100.0%, transparent 100.0%);\n",
       "}\n",
       "#T_7a9bd_row1_col1 {\n",
       "  width: 10em;\n",
       "  height: 80%;\n",
       "  background: linear-gradient(90deg,lightblue 75.5%, transparent 75.5%);\n",
       "}\n",
       "#T_7a9bd_row2_col1 {\n",
       "  width: 10em;\n",
       "  height: 80%;\n",
       "  background: linear-gradient(90deg,lightblue 42.8%, transparent 42.8%);\n",
       "}\n",
       "</style>\n",
       "<table id=\"T_7a9bd_\">\n",
       "  <thead>\n",
       "    <tr>\n",
       "      <th class=\"blank level0\" >&nbsp;</th>\n",
       "      <th class=\"col_heading level0 col0\" >Frequências</th>\n",
       "      <th class=\"col_heading level0 col1\" >Percentual</th>\n",
       "    </tr>\n",
       "    <tr>\n",
       "      <th class=\"index_name level0\" >ProteçãoDispositivo</th>\n",
       "      <th class=\"blank col0\" >&nbsp;</th>\n",
       "      <th class=\"blank col1\" >&nbsp;</th>\n",
       "    </tr>\n",
       "  </thead>\n",
       "  <tbody>\n",
       "    <tr>\n",
       "      <th id=\"T_7a9bd_level0_row0\" class=\"row_heading level0 row0\" >No</th>\n",
       "      <td id=\"T_7a9bd_row0_col0\" class=\"data row0 col0\" >3095</td>\n",
       "      <td id=\"T_7a9bd_row0_col1\" class=\"data row0 col1\" >43.94%</td>\n",
       "    </tr>\n",
       "    <tr>\n",
       "      <th id=\"T_7a9bd_level0_row1\" class=\"row_heading level0 row1\" >Yes</th>\n",
       "      <td id=\"T_7a9bd_row1_col0\" class=\"data row1 col0\" >2422</td>\n",
       "      <td id=\"T_7a9bd_row1_col1\" class=\"data row1 col1\" >34.39%</td>\n",
       "    </tr>\n",
       "    <tr>\n",
       "      <th id=\"T_7a9bd_level0_row2\" class=\"row_heading level0 row2\" >No internet service</th>\n",
       "      <td id=\"T_7a9bd_row2_col0\" class=\"data row2 col0\" >1526</td>\n",
       "      <td id=\"T_7a9bd_row2_col1\" class=\"data row2 col1\" >21.67%</td>\n",
       "    </tr>\n",
       "  </tbody>\n",
       "</table>\n"
      ],
      "text/plain": [
       "<pandas.io.formats.style.Styler at 0x24f091aa250>"
      ]
     },
     "execution_count": 140,
     "metadata": {},
     "output_type": "execute_result"
    }
   ],
   "source": [
    "caracteristicas_propriedade = dataset['ProteçãoDispositivo']\n",
    "caracteristicas_propriedade_itens = caracteristicas_propriedade.explode()\n",
    "caracteristicas_propriedade_itens.value_counts()\n",
    "tabela_frequencias = pd.merge(\n",
    "    left=caracteristicas_propriedade_itens.value_counts(sort=False),\n",
    "    right=caracteristicas_propriedade_itens.value_counts(normalize=True, sort=False),\n",
    "    left_index=True,\n",
    "    right_index=True\n",
    ")\n",
    "tabela_frequencias.rename(columns={\n",
    "        'ProteçãoDispositivo_x': 'Frequências',\n",
    "        'ProteçãoDispositivo_y': 'Percentual'\n",
    "}, inplace=True)\n",
    "\n",
    "tabela_frequencias.rename_axis('ProteçãoDispositivo', inplace=True)\n",
    "\n",
    "tabela_frequencias.style.format({'Percentual': '{:.2%}'})\\\n",
    "                        .bar(subset='Percentual', vmin = 0.05, color = 'lightblue')"
   ]
  },
  {
   "cell_type": "code",
   "execution_count": 63,
   "id": "ec8aa4de",
   "metadata": {},
   "outputs": [],
   "source": [
    "grupamento = dataset[['ProteçãoDispositivo', 'EncargosMensal']].groupby(by='ProteçãoDispositivo')"
   ]
  },
  {
   "cell_type": "code",
   "execution_count": 64,
   "id": "f734e725",
   "metadata": {},
   "outputs": [
    {
     "data": {
      "text/html": [
       "<div>\n",
       "<style scoped>\n",
       "    .dataframe tbody tr th:only-of-type {\n",
       "        vertical-align: middle;\n",
       "    }\n",
       "\n",
       "    .dataframe tbody tr th {\n",
       "        vertical-align: top;\n",
       "    }\n",
       "\n",
       "    .dataframe thead tr th {\n",
       "        text-align: left;\n",
       "    }\n",
       "\n",
       "    .dataframe thead tr:last-of-type th {\n",
       "        text-align: right;\n",
       "    }\n",
       "</style>\n",
       "<table border=\"1\" class=\"dataframe\">\n",
       "  <thead>\n",
       "    <tr>\n",
       "      <th></th>\n",
       "      <th colspan=\"8\" halign=\"left\">EncargosMensal</th>\n",
       "    </tr>\n",
       "    <tr>\n",
       "      <th></th>\n",
       "      <th>count</th>\n",
       "      <th>mean</th>\n",
       "      <th>std</th>\n",
       "      <th>min</th>\n",
       "      <th>25%</th>\n",
       "      <th>50%</th>\n",
       "      <th>75%</th>\n",
       "      <th>max</th>\n",
       "    </tr>\n",
       "    <tr>\n",
       "      <th>ProteçãoDispositivo</th>\n",
       "      <th></th>\n",
       "      <th></th>\n",
       "      <th></th>\n",
       "      <th></th>\n",
       "      <th></th>\n",
       "      <th></th>\n",
       "      <th></th>\n",
       "      <th></th>\n",
       "    </tr>\n",
       "  </thead>\n",
       "  <tbody>\n",
       "    <tr>\n",
       "      <th>No</th>\n",
       "      <td>3095.0</td>\n",
       "      <td>71.0</td>\n",
       "      <td>21.0</td>\n",
       "      <td>23.0</td>\n",
       "      <td>54.0</td>\n",
       "      <td>74.0</td>\n",
       "      <td>86.0</td>\n",
       "      <td>111.0</td>\n",
       "    </tr>\n",
       "    <tr>\n",
       "      <th>No internet service</th>\n",
       "      <td>1526.0</td>\n",
       "      <td>21.0</td>\n",
       "      <td>2.0</td>\n",
       "      <td>18.0</td>\n",
       "      <td>20.0</td>\n",
       "      <td>20.0</td>\n",
       "      <td>21.0</td>\n",
       "      <td>27.0</td>\n",
       "    </tr>\n",
       "    <tr>\n",
       "      <th>Yes</th>\n",
       "      <td>2422.0</td>\n",
       "      <td>85.0</td>\n",
       "      <td>21.0</td>\n",
       "      <td>29.0</td>\n",
       "      <td>70.0</td>\n",
       "      <td>89.0</td>\n",
       "      <td>103.0</td>\n",
       "      <td>119.0</td>\n",
       "    </tr>\n",
       "  </tbody>\n",
       "</table>\n",
       "</div>"
      ],
      "text/plain": [
       "                    EncargosMensal                                            \n",
       "                             count  mean   std   min   25%   50%    75%    max\n",
       "ProteçãoDispositivo                                                           \n",
       "No                          3095.0  71.0  21.0  23.0  54.0  74.0   86.0  111.0\n",
       "No internet service         1526.0  21.0   2.0  18.0  20.0  20.0   21.0   27.0\n",
       "Yes                         2422.0  85.0  21.0  29.0  70.0  89.0  103.0  119.0"
      ]
     },
     "execution_count": 64,
     "metadata": {},
     "output_type": "execute_result"
    }
   ],
   "source": [
    "grupamento.describe().round()"
   ]
  },
  {
   "cell_type": "markdown",
   "id": "bb56d83d",
   "metadata": {},
   "source": [
    "# Verificando coluna SuporteTécnico"
   ]
  },
  {
   "cell_type": "code",
   "execution_count": 65,
   "id": "5abf446a",
   "metadata": {},
   "outputs": [
    {
     "data": {
      "text/plain": [
       "array(['Yes', 'No', 'No internet service'], dtype=object)"
      ]
     },
     "execution_count": 65,
     "metadata": {},
     "output_type": "execute_result"
    }
   ],
   "source": [
    "dataset['SuporteTécnico'].unique()"
   ]
  },
  {
   "cell_type": "code",
   "execution_count": 66,
   "id": "022a3449",
   "metadata": {},
   "outputs": [
    {
     "data": {
      "text/plain": [
       "No                     3473\n",
       "Yes                    2044\n",
       "No internet service    1526\n",
       "Name: SuporteTécnico, dtype: int64"
      ]
     },
     "execution_count": 66,
     "metadata": {},
     "output_type": "execute_result"
    }
   ],
   "source": [
    "dataset['SuporteTécnico'].value_counts()"
   ]
  },
  {
   "cell_type": "code",
   "execution_count": 141,
   "id": "27cd8623",
   "metadata": {},
   "outputs": [
    {
     "data": {
      "text/html": [
       "<style type=\"text/css\">\n",
       "#T_89096_row0_col1 {\n",
       "  width: 10em;\n",
       "  height: 80%;\n",
       "  background: linear-gradient(90deg,lightblue 54.2%, transparent 54.2%);\n",
       "}\n",
       "#T_89096_row1_col1 {\n",
       "  width: 10em;\n",
       "  height: 80%;\n",
       "  background: linear-gradient(90deg,lightblue 100.0%, transparent 100.0%);\n",
       "}\n",
       "#T_89096_row2_col1 {\n",
       "  width: 10em;\n",
       "  height: 80%;\n",
       "  background: linear-gradient(90deg,lightblue 37.6%, transparent 37.6%);\n",
       "}\n",
       "</style>\n",
       "<table id=\"T_89096_\">\n",
       "  <thead>\n",
       "    <tr>\n",
       "      <th class=\"blank level0\" >&nbsp;</th>\n",
       "      <th class=\"col_heading level0 col0\" >Frequências</th>\n",
       "      <th class=\"col_heading level0 col1\" >Percentual</th>\n",
       "    </tr>\n",
       "    <tr>\n",
       "      <th class=\"index_name level0\" >SuporteTécnico</th>\n",
       "      <th class=\"blank col0\" >&nbsp;</th>\n",
       "      <th class=\"blank col1\" >&nbsp;</th>\n",
       "    </tr>\n",
       "  </thead>\n",
       "  <tbody>\n",
       "    <tr>\n",
       "      <th id=\"T_89096_level0_row0\" class=\"row_heading level0 row0\" >Yes</th>\n",
       "      <td id=\"T_89096_row0_col0\" class=\"data row0 col0\" >2044</td>\n",
       "      <td id=\"T_89096_row0_col1\" class=\"data row0 col1\" >29.02%</td>\n",
       "    </tr>\n",
       "    <tr>\n",
       "      <th id=\"T_89096_level0_row1\" class=\"row_heading level0 row1\" >No</th>\n",
       "      <td id=\"T_89096_row1_col0\" class=\"data row1 col0\" >3473</td>\n",
       "      <td id=\"T_89096_row1_col1\" class=\"data row1 col1\" >49.31%</td>\n",
       "    </tr>\n",
       "    <tr>\n",
       "      <th id=\"T_89096_level0_row2\" class=\"row_heading level0 row2\" >No internet service</th>\n",
       "      <td id=\"T_89096_row2_col0\" class=\"data row2 col0\" >1526</td>\n",
       "      <td id=\"T_89096_row2_col1\" class=\"data row2 col1\" >21.67%</td>\n",
       "    </tr>\n",
       "  </tbody>\n",
       "</table>\n"
      ],
      "text/plain": [
       "<pandas.io.formats.style.Styler at 0x24f08ef9100>"
      ]
     },
     "execution_count": 141,
     "metadata": {},
     "output_type": "execute_result"
    }
   ],
   "source": [
    "caracteristicas_propriedade = dataset['SuporteTécnico']\n",
    "caracteristicas_propriedade_itens = caracteristicas_propriedade.explode()\n",
    "caracteristicas_propriedade_itens.value_counts()\n",
    "tabela_frequencias = pd.merge(\n",
    "    left=caracteristicas_propriedade_itens.value_counts(sort=False),\n",
    "    right=caracteristicas_propriedade_itens.value_counts(normalize=True, sort=False),\n",
    "    left_index=True,\n",
    "    right_index=True\n",
    ")\n",
    "tabela_frequencias.rename(columns={\n",
    "        'SuporteTécnico_x': 'Frequências',\n",
    "        'SuporteTécnico_y': 'Percentual'\n",
    "}, inplace=True)\n",
    "\n",
    "tabela_frequencias.rename_axis('SuporteTécnico', inplace=True)\n",
    "\n",
    "tabela_frequencias.style.format({'Percentual': '{:.2%}'})\\\n",
    "                        .bar(subset='Percentual', vmin = 0.05, color = 'lightblue')"
   ]
  },
  {
   "cell_type": "code",
   "execution_count": 67,
   "id": "d232f8de",
   "metadata": {},
   "outputs": [],
   "source": [
    "grupamento = dataset[['SuporteTécnico', 'EncargosMensal']].groupby(by='SuporteTécnico')"
   ]
  },
  {
   "cell_type": "code",
   "execution_count": 68,
   "id": "bcac2909",
   "metadata": {},
   "outputs": [
    {
     "data": {
      "text/html": [
       "<div>\n",
       "<style scoped>\n",
       "    .dataframe tbody tr th:only-of-type {\n",
       "        vertical-align: middle;\n",
       "    }\n",
       "\n",
       "    .dataframe tbody tr th {\n",
       "        vertical-align: top;\n",
       "    }\n",
       "\n",
       "    .dataframe thead tr th {\n",
       "        text-align: left;\n",
       "    }\n",
       "\n",
       "    .dataframe thead tr:last-of-type th {\n",
       "        text-align: right;\n",
       "    }\n",
       "</style>\n",
       "<table border=\"1\" class=\"dataframe\">\n",
       "  <thead>\n",
       "    <tr>\n",
       "      <th></th>\n",
       "      <th colspan=\"8\" halign=\"left\">EncargosMensal</th>\n",
       "    </tr>\n",
       "    <tr>\n",
       "      <th></th>\n",
       "      <th>count</th>\n",
       "      <th>mean</th>\n",
       "      <th>std</th>\n",
       "      <th>min</th>\n",
       "      <th>25%</th>\n",
       "      <th>50%</th>\n",
       "      <th>75%</th>\n",
       "      <th>max</th>\n",
       "    </tr>\n",
       "    <tr>\n",
       "      <th>SuporteTécnico</th>\n",
       "      <th></th>\n",
       "      <th></th>\n",
       "      <th></th>\n",
       "      <th></th>\n",
       "      <th></th>\n",
       "      <th></th>\n",
       "      <th></th>\n",
       "      <th></th>\n",
       "    </tr>\n",
       "  </thead>\n",
       "  <tbody>\n",
       "    <tr>\n",
       "      <th>No</th>\n",
       "      <td>3473.0</td>\n",
       "      <td>75.0</td>\n",
       "      <td>21.0</td>\n",
       "      <td>23.0</td>\n",
       "      <td>56.0</td>\n",
       "      <td>78.0</td>\n",
       "      <td>92.0</td>\n",
       "      <td>113.0</td>\n",
       "    </tr>\n",
       "    <tr>\n",
       "      <th>No internet service</th>\n",
       "      <td>1526.0</td>\n",
       "      <td>21.0</td>\n",
       "      <td>2.0</td>\n",
       "      <td>18.0</td>\n",
       "      <td>20.0</td>\n",
       "      <td>20.0</td>\n",
       "      <td>21.0</td>\n",
       "      <td>27.0</td>\n",
       "    </tr>\n",
       "    <tr>\n",
       "      <th>Yes</th>\n",
       "      <td>2044.0</td>\n",
       "      <td>81.0</td>\n",
       "      <td>22.0</td>\n",
       "      <td>29.0</td>\n",
       "      <td>64.0</td>\n",
       "      <td>82.0</td>\n",
       "      <td>100.0</td>\n",
       "      <td>119.0</td>\n",
       "    </tr>\n",
       "  </tbody>\n",
       "</table>\n",
       "</div>"
      ],
      "text/plain": [
       "                    EncargosMensal                                            \n",
       "                             count  mean   std   min   25%   50%    75%    max\n",
       "SuporteTécnico                                                                \n",
       "No                          3473.0  75.0  21.0  23.0  56.0  78.0   92.0  113.0\n",
       "No internet service         1526.0  21.0   2.0  18.0  20.0  20.0   21.0   27.0\n",
       "Yes                         2044.0  81.0  22.0  29.0  64.0  82.0  100.0  119.0"
      ]
     },
     "execution_count": 68,
     "metadata": {},
     "output_type": "execute_result"
    }
   ],
   "source": [
    "grupamento.describe().round()"
   ]
  },
  {
   "cell_type": "markdown",
   "id": "221a0066",
   "metadata": {},
   "source": [
    "# Verificando coluna StreamingTV"
   ]
  },
  {
   "cell_type": "code",
   "execution_count": 69,
   "id": "cf3de95f",
   "metadata": {},
   "outputs": [
    {
     "data": {
      "text/plain": [
       "array(['Yes', 'No', 'No internet service'], dtype=object)"
      ]
     },
     "execution_count": 69,
     "metadata": {},
     "output_type": "execute_result"
    }
   ],
   "source": [
    "dataset['StreamingTV'].unique()"
   ]
  },
  {
   "cell_type": "code",
   "execution_count": 70,
   "id": "c1f1da11",
   "metadata": {},
   "outputs": [
    {
     "data": {
      "text/plain": [
       "No                     2810\n",
       "Yes                    2707\n",
       "No internet service    1526\n",
       "Name: StreamingTV, dtype: int64"
      ]
     },
     "execution_count": 70,
     "metadata": {},
     "output_type": "execute_result"
    }
   ],
   "source": [
    "dataset['StreamingTV'].value_counts()"
   ]
  },
  {
   "cell_type": "code",
   "execution_count": 142,
   "id": "fb70c45d",
   "metadata": {},
   "outputs": [
    {
     "data": {
      "text/html": [
       "<style type=\"text/css\">\n",
       "#T_c5189_row0_col1 {\n",
       "  width: 10em;\n",
       "  height: 80%;\n",
       "  background: linear-gradient(90deg,lightblue 95.8%, transparent 95.8%);\n",
       "}\n",
       "#T_c5189_row1_col1 {\n",
       "  width: 10em;\n",
       "  height: 80%;\n",
       "  background: linear-gradient(90deg,lightblue 100.0%, transparent 100.0%);\n",
       "}\n",
       "#T_c5189_row2_col1 {\n",
       "  width: 10em;\n",
       "  height: 80%;\n",
       "  background: linear-gradient(90deg,lightblue 47.8%, transparent 47.8%);\n",
       "}\n",
       "</style>\n",
       "<table id=\"T_c5189_\">\n",
       "  <thead>\n",
       "    <tr>\n",
       "      <th class=\"blank level0\" >&nbsp;</th>\n",
       "      <th class=\"col_heading level0 col0\" >Frequências</th>\n",
       "      <th class=\"col_heading level0 col1\" >Percentual</th>\n",
       "    </tr>\n",
       "    <tr>\n",
       "      <th class=\"index_name level0\" >StreamingTV</th>\n",
       "      <th class=\"blank col0\" >&nbsp;</th>\n",
       "      <th class=\"blank col1\" >&nbsp;</th>\n",
       "    </tr>\n",
       "  </thead>\n",
       "  <tbody>\n",
       "    <tr>\n",
       "      <th id=\"T_c5189_level0_row0\" class=\"row_heading level0 row0\" >Yes</th>\n",
       "      <td id=\"T_c5189_row0_col0\" class=\"data row0 col0\" >2707</td>\n",
       "      <td id=\"T_c5189_row0_col1\" class=\"data row0 col1\" >38.44%</td>\n",
       "    </tr>\n",
       "    <tr>\n",
       "      <th id=\"T_c5189_level0_row1\" class=\"row_heading level0 row1\" >No</th>\n",
       "      <td id=\"T_c5189_row1_col0\" class=\"data row1 col0\" >2810</td>\n",
       "      <td id=\"T_c5189_row1_col1\" class=\"data row1 col1\" >39.90%</td>\n",
       "    </tr>\n",
       "    <tr>\n",
       "      <th id=\"T_c5189_level0_row2\" class=\"row_heading level0 row2\" >No internet service</th>\n",
       "      <td id=\"T_c5189_row2_col0\" class=\"data row2 col0\" >1526</td>\n",
       "      <td id=\"T_c5189_row2_col1\" class=\"data row2 col1\" >21.67%</td>\n",
       "    </tr>\n",
       "  </tbody>\n",
       "</table>\n"
      ],
      "text/plain": [
       "<pandas.io.formats.style.Styler at 0x24f0821b970>"
      ]
     },
     "execution_count": 142,
     "metadata": {},
     "output_type": "execute_result"
    }
   ],
   "source": [
    "caracteristicas_propriedade = dataset['StreamingTV']\n",
    "caracteristicas_propriedade_itens = caracteristicas_propriedade.explode()\n",
    "caracteristicas_propriedade_itens.value_counts()\n",
    "tabela_frequencias = pd.merge(\n",
    "    left=caracteristicas_propriedade_itens.value_counts(sort=False),\n",
    "    right=caracteristicas_propriedade_itens.value_counts(normalize=True, sort=False),\n",
    "    left_index=True,\n",
    "    right_index=True\n",
    ")\n",
    "tabela_frequencias.rename(columns={\n",
    "        'StreamingTV_x': 'Frequências',\n",
    "        'StreamingTV_y': 'Percentual'\n",
    "}, inplace=True)\n",
    "\n",
    "tabela_frequencias.rename_axis('StreamingTV', inplace=True)\n",
    "\n",
    "tabela_frequencias.style.format({'Percentual': '{:.2%}'})\\\n",
    "                        .bar(subset='Percentual', vmin = 0.05, color = 'lightblue')"
   ]
  },
  {
   "cell_type": "code",
   "execution_count": 71,
   "id": "71b57d5b",
   "metadata": {},
   "outputs": [
    {
     "data": {
      "text/html": [
       "<div>\n",
       "<style scoped>\n",
       "    .dataframe tbody tr th:only-of-type {\n",
       "        vertical-align: middle;\n",
       "    }\n",
       "\n",
       "    .dataframe tbody tr th {\n",
       "        vertical-align: top;\n",
       "    }\n",
       "\n",
       "    .dataframe thead tr th {\n",
       "        text-align: left;\n",
       "    }\n",
       "\n",
       "    .dataframe thead tr:last-of-type th {\n",
       "        text-align: right;\n",
       "    }\n",
       "</style>\n",
       "<table border=\"1\" class=\"dataframe\">\n",
       "  <thead>\n",
       "    <tr>\n",
       "      <th></th>\n",
       "      <th colspan=\"8\" halign=\"left\">EncargosMensal</th>\n",
       "    </tr>\n",
       "    <tr>\n",
       "      <th></th>\n",
       "      <th>count</th>\n",
       "      <th>mean</th>\n",
       "      <th>std</th>\n",
       "      <th>min</th>\n",
       "      <th>25%</th>\n",
       "      <th>50%</th>\n",
       "      <th>75%</th>\n",
       "      <th>max</th>\n",
       "    </tr>\n",
       "    <tr>\n",
       "      <th>StreamingTV</th>\n",
       "      <th></th>\n",
       "      <th></th>\n",
       "      <th></th>\n",
       "      <th></th>\n",
       "      <th></th>\n",
       "      <th></th>\n",
       "      <th></th>\n",
       "      <th></th>\n",
       "    </tr>\n",
       "  </thead>\n",
       "  <tbody>\n",
       "    <tr>\n",
       "      <th>No</th>\n",
       "      <td>2810.0</td>\n",
       "      <td>65.0</td>\n",
       "      <td>19.0</td>\n",
       "      <td>23.0</td>\n",
       "      <td>50.0</td>\n",
       "      <td>70.0</td>\n",
       "      <td>80.0</td>\n",
       "      <td>107.0</td>\n",
       "    </tr>\n",
       "    <tr>\n",
       "      <th>No internet service</th>\n",
       "      <td>1526.0</td>\n",
       "      <td>21.0</td>\n",
       "      <td>2.0</td>\n",
       "      <td>18.0</td>\n",
       "      <td>20.0</td>\n",
       "      <td>20.0</td>\n",
       "      <td>21.0</td>\n",
       "      <td>27.0</td>\n",
       "    </tr>\n",
       "    <tr>\n",
       "      <th>Yes</th>\n",
       "      <td>2707.0</td>\n",
       "      <td>89.0</td>\n",
       "      <td>18.0</td>\n",
       "      <td>34.0</td>\n",
       "      <td>79.0</td>\n",
       "      <td>93.0</td>\n",
       "      <td>103.0</td>\n",
       "      <td>119.0</td>\n",
       "    </tr>\n",
       "  </tbody>\n",
       "</table>\n",
       "</div>"
      ],
      "text/plain": [
       "                    EncargosMensal                                            \n",
       "                             count  mean   std   min   25%   50%    75%    max\n",
       "StreamingTV                                                                   \n",
       "No                          2810.0  65.0  19.0  23.0  50.0  70.0   80.0  107.0\n",
       "No internet service         1526.0  21.0   2.0  18.0  20.0  20.0   21.0   27.0\n",
       "Yes                         2707.0  89.0  18.0  34.0  79.0  93.0  103.0  119.0"
      ]
     },
     "execution_count": 71,
     "metadata": {},
     "output_type": "execute_result"
    }
   ],
   "source": [
    "grupamento = dataset[['StreamingTV', 'EncargosMensal']].groupby(by='StreamingTV')\n",
    "grupamento.describe().round()"
   ]
  },
  {
   "cell_type": "markdown",
   "id": "3cb838b7",
   "metadata": {},
   "source": [
    "# Verificando coluna StreamingFilmes"
   ]
  },
  {
   "cell_type": "code",
   "execution_count": 72,
   "id": "039101b2",
   "metadata": {},
   "outputs": [
    {
     "data": {
      "text/plain": [
       "array(['No', 'Yes', 'No internet service'], dtype=object)"
      ]
     },
     "execution_count": 72,
     "metadata": {},
     "output_type": "execute_result"
    }
   ],
   "source": [
    "dataset['StreamingFilmes'].unique()"
   ]
  },
  {
   "cell_type": "code",
   "execution_count": 73,
   "id": "1b8e613f",
   "metadata": {},
   "outputs": [
    {
     "data": {
      "text/plain": [
       "No                     2785\n",
       "Yes                    2732\n",
       "No internet service    1526\n",
       "Name: StreamingFilmes, dtype: int64"
      ]
     },
     "execution_count": 73,
     "metadata": {},
     "output_type": "execute_result"
    }
   ],
   "source": [
    "dataset['StreamingFilmes'].value_counts()"
   ]
  },
  {
   "cell_type": "code",
   "execution_count": 143,
   "id": "92d13dc8",
   "metadata": {},
   "outputs": [
    {
     "data": {
      "text/html": [
       "<style type=\"text/css\">\n",
       "#T_efcc1_row0_col1 {\n",
       "  width: 10em;\n",
       "  height: 80%;\n",
       "  background: linear-gradient(90deg,lightblue 100.0%, transparent 100.0%);\n",
       "}\n",
       "#T_efcc1_row1_col1 {\n",
       "  width: 10em;\n",
       "  height: 80%;\n",
       "  background: linear-gradient(90deg,lightblue 97.8%, transparent 97.8%);\n",
       "}\n",
       "#T_efcc1_row2_col1 {\n",
       "  width: 10em;\n",
       "  height: 80%;\n",
       "  background: linear-gradient(90deg,lightblue 48.2%, transparent 48.2%);\n",
       "}\n",
       "</style>\n",
       "<table id=\"T_efcc1_\">\n",
       "  <thead>\n",
       "    <tr>\n",
       "      <th class=\"blank level0\" >&nbsp;</th>\n",
       "      <th class=\"col_heading level0 col0\" >Frequências</th>\n",
       "      <th class=\"col_heading level0 col1\" >Percentual</th>\n",
       "    </tr>\n",
       "    <tr>\n",
       "      <th class=\"index_name level0\" >StreamingFilmes</th>\n",
       "      <th class=\"blank col0\" >&nbsp;</th>\n",
       "      <th class=\"blank col1\" >&nbsp;</th>\n",
       "    </tr>\n",
       "  </thead>\n",
       "  <tbody>\n",
       "    <tr>\n",
       "      <th id=\"T_efcc1_level0_row0\" class=\"row_heading level0 row0\" >No</th>\n",
       "      <td id=\"T_efcc1_row0_col0\" class=\"data row0 col0\" >2785</td>\n",
       "      <td id=\"T_efcc1_row0_col1\" class=\"data row0 col1\" >39.54%</td>\n",
       "    </tr>\n",
       "    <tr>\n",
       "      <th id=\"T_efcc1_level0_row1\" class=\"row_heading level0 row1\" >Yes</th>\n",
       "      <td id=\"T_efcc1_row1_col0\" class=\"data row1 col0\" >2732</td>\n",
       "      <td id=\"T_efcc1_row1_col1\" class=\"data row1 col1\" >38.79%</td>\n",
       "    </tr>\n",
       "    <tr>\n",
       "      <th id=\"T_efcc1_level0_row2\" class=\"row_heading level0 row2\" >No internet service</th>\n",
       "      <td id=\"T_efcc1_row2_col0\" class=\"data row2 col0\" >1526</td>\n",
       "      <td id=\"T_efcc1_row2_col1\" class=\"data row2 col1\" >21.67%</td>\n",
       "    </tr>\n",
       "  </tbody>\n",
       "</table>\n"
      ],
      "text/plain": [
       "<pandas.io.formats.style.Styler at 0x24f091aaeb0>"
      ]
     },
     "execution_count": 143,
     "metadata": {},
     "output_type": "execute_result"
    }
   ],
   "source": [
    "caracteristicas_propriedade = dataset['StreamingFilmes']\n",
    "caracteristicas_propriedade_itens = caracteristicas_propriedade.explode()\n",
    "caracteristicas_propriedade_itens.value_counts()\n",
    "tabela_frequencias = pd.merge(\n",
    "    left=caracteristicas_propriedade_itens.value_counts(sort=False),\n",
    "    right=caracteristicas_propriedade_itens.value_counts(normalize=True, sort=False),\n",
    "    left_index=True,\n",
    "    right_index=True\n",
    ")\n",
    "tabela_frequencias.rename(columns={\n",
    "        'StreamingFilmes_x': 'Frequências',\n",
    "        'StreamingFilmes_y': 'Percentual'\n",
    "}, inplace=True)\n",
    "\n",
    "tabela_frequencias.rename_axis('StreamingFilmes', inplace=True)\n",
    "\n",
    "tabela_frequencias.style.format({'Percentual': '{:.2%}'})\\\n",
    "                        .bar(subset='Percentual', vmin = 0.05, color = 'lightblue')"
   ]
  },
  {
   "cell_type": "code",
   "execution_count": 74,
   "id": "d3181055",
   "metadata": {},
   "outputs": [
    {
     "data": {
      "text/html": [
       "<div>\n",
       "<style scoped>\n",
       "    .dataframe tbody tr th:only-of-type {\n",
       "        vertical-align: middle;\n",
       "    }\n",
       "\n",
       "    .dataframe tbody tr th {\n",
       "        vertical-align: top;\n",
       "    }\n",
       "\n",
       "    .dataframe thead tr th {\n",
       "        text-align: left;\n",
       "    }\n",
       "\n",
       "    .dataframe thead tr:last-of-type th {\n",
       "        text-align: right;\n",
       "    }\n",
       "</style>\n",
       "<table border=\"1\" class=\"dataframe\">\n",
       "  <thead>\n",
       "    <tr>\n",
       "      <th></th>\n",
       "      <th colspan=\"8\" halign=\"left\">EncargosMensal</th>\n",
       "    </tr>\n",
       "    <tr>\n",
       "      <th></th>\n",
       "      <th>count</th>\n",
       "      <th>mean</th>\n",
       "      <th>std</th>\n",
       "      <th>min</th>\n",
       "      <th>25%</th>\n",
       "      <th>50%</th>\n",
       "      <th>75%</th>\n",
       "      <th>max</th>\n",
       "    </tr>\n",
       "    <tr>\n",
       "      <th>StreamingFilmes</th>\n",
       "      <th></th>\n",
       "      <th></th>\n",
       "      <th></th>\n",
       "      <th></th>\n",
       "      <th></th>\n",
       "      <th></th>\n",
       "      <th></th>\n",
       "      <th></th>\n",
       "    </tr>\n",
       "  </thead>\n",
       "  <tbody>\n",
       "    <tr>\n",
       "      <th>No</th>\n",
       "      <td>2785.0</td>\n",
       "      <td>65.0</td>\n",
       "      <td>19.0</td>\n",
       "      <td>23.0</td>\n",
       "      <td>50.0</td>\n",
       "      <td>70.0</td>\n",
       "      <td>80.0</td>\n",
       "      <td>107.0</td>\n",
       "    </tr>\n",
       "    <tr>\n",
       "      <th>No internet service</th>\n",
       "      <td>1526.0</td>\n",
       "      <td>21.0</td>\n",
       "      <td>2.0</td>\n",
       "      <td>18.0</td>\n",
       "      <td>20.0</td>\n",
       "      <td>20.0</td>\n",
       "      <td>21.0</td>\n",
       "      <td>27.0</td>\n",
       "    </tr>\n",
       "    <tr>\n",
       "      <th>Yes</th>\n",
       "      <td>2732.0</td>\n",
       "      <td>88.0</td>\n",
       "      <td>19.0</td>\n",
       "      <td>34.0</td>\n",
       "      <td>79.0</td>\n",
       "      <td>93.0</td>\n",
       "      <td>103.0</td>\n",
       "      <td>119.0</td>\n",
       "    </tr>\n",
       "  </tbody>\n",
       "</table>\n",
       "</div>"
      ],
      "text/plain": [
       "                    EncargosMensal                                            \n",
       "                             count  mean   std   min   25%   50%    75%    max\n",
       "StreamingFilmes                                                               \n",
       "No                          2785.0  65.0  19.0  23.0  50.0  70.0   80.0  107.0\n",
       "No internet service         1526.0  21.0   2.0  18.0  20.0  20.0   21.0   27.0\n",
       "Yes                         2732.0  88.0  19.0  34.0  79.0  93.0  103.0  119.0"
      ]
     },
     "execution_count": 74,
     "metadata": {},
     "output_type": "execute_result"
    }
   ],
   "source": [
    "grupamento = dataset[['StreamingFilmes', 'EncargosMensal']].groupby(by='StreamingFilmes')\n",
    "grupamento.describe().round()"
   ]
  },
  {
   "cell_type": "markdown",
   "id": "639e5925",
   "metadata": {},
   "source": [
    "# Verificando coluna Contato"
   ]
  },
  {
   "cell_type": "code",
   "execution_count": 75,
   "id": "cec5d595",
   "metadata": {},
   "outputs": [
    {
     "data": {
      "text/plain": [
       "array(['One year', 'Month-to-month', 'Two year'], dtype=object)"
      ]
     },
     "execution_count": 75,
     "metadata": {},
     "output_type": "execute_result"
    }
   ],
   "source": [
    "dataset['Contato'].unique()"
   ]
  },
  {
   "cell_type": "code",
   "execution_count": 76,
   "id": "8556f513",
   "metadata": {},
   "outputs": [
    {
     "data": {
      "text/plain": [
       "Month-to-month    3875\n",
       "Two year          1695\n",
       "One year          1473\n",
       "Name: Contato, dtype: int64"
      ]
     },
     "execution_count": 76,
     "metadata": {},
     "output_type": "execute_result"
    }
   ],
   "source": [
    "dataset['Contato'].value_counts()"
   ]
  },
  {
   "cell_type": "code",
   "execution_count": 77,
   "id": "29140a6e",
   "metadata": {},
   "outputs": [
    {
     "name": "stderr",
     "output_type": "stream",
     "text": [
      "C:\\Users\\PC\\AppData\\Local\\Temp/ipykernel_13316/503456310.py:2: SettingWithCopyWarning: \n",
      "A value is trying to be set on a copy of a slice from a DataFrame.\n",
      "Try using .loc[row_indexer,col_indexer] = value instead\n",
      "\n",
      "See the caveats in the documentation: https://pandas.pydata.org/pandas-docs/stable/user_guide/indexing.html#returning-a-view-versus-a-copy\n",
      "  dataset['Contato'] = dataset['Contato'].str.replace('One year','Um Ano')\n",
      "C:\\Users\\PC\\AppData\\Local\\Temp/ipykernel_13316/503456310.py:3: SettingWithCopyWarning: \n",
      "A value is trying to be set on a copy of a slice from a DataFrame.\n",
      "Try using .loc[row_indexer,col_indexer] = value instead\n",
      "\n",
      "See the caveats in the documentation: https://pandas.pydata.org/pandas-docs/stable/user_guide/indexing.html#returning-a-view-versus-a-copy\n",
      "  dataset['Contato'] = dataset['Contato'].str.replace('Month-to-month', 'Mês a mês')\n",
      "C:\\Users\\PC\\AppData\\Local\\Temp/ipykernel_13316/503456310.py:4: SettingWithCopyWarning: \n",
      "A value is trying to be set on a copy of a slice from a DataFrame.\n",
      "Try using .loc[row_indexer,col_indexer] = value instead\n",
      "\n",
      "See the caveats in the documentation: https://pandas.pydata.org/pandas-docs/stable/user_guide/indexing.html#returning-a-view-versus-a-copy\n",
      "  dataset['Contato'] = dataset['Contato'].str.replace('Two year', 'Dois Anos')\n"
     ]
    },
    {
     "data": {
      "text/plain": [
       "Mês a mês    3875\n",
       "Dois Anos    1695\n",
       "Um Ano       1473\n",
       "Name: Contato, dtype: int64"
      ]
     },
     "execution_count": 77,
     "metadata": {},
     "output_type": "execute_result"
    }
   ],
   "source": [
    "#Traduzindo dados da Coluna Contato\n",
    "dataset['Contato'] = dataset['Contato'].str.replace('One year','Um Ano')\n",
    "dataset['Contato'] = dataset['Contato'].str.replace('Month-to-month', 'Mês a mês')\n",
    "dataset['Contato'] = dataset['Contato'].str.replace('Two year', 'Dois Anos')\n",
    "dataset['Contato'].value_counts()"
   ]
  },
  {
   "cell_type": "code",
   "execution_count": 144,
   "id": "f8a8e266",
   "metadata": {},
   "outputs": [
    {
     "data": {
      "text/html": [
       "<style type=\"text/css\">\n",
       "#T_7d031_row0_col1 {\n",
       "  width: 10em;\n",
       "  height: 80%;\n",
       "  background: linear-gradient(90deg,lightblue 31.8%, transparent 31.8%);\n",
       "}\n",
       "#T_7d031_row1_col1 {\n",
       "  width: 10em;\n",
       "  height: 80%;\n",
       "  background: linear-gradient(90deg,lightblue 100.0%, transparent 100.0%);\n",
       "}\n",
       "#T_7d031_row2_col1 {\n",
       "  width: 10em;\n",
       "  height: 80%;\n",
       "  background: linear-gradient(90deg,lightblue 38.1%, transparent 38.1%);\n",
       "}\n",
       "</style>\n",
       "<table id=\"T_7d031_\">\n",
       "  <thead>\n",
       "    <tr>\n",
       "      <th class=\"blank level0\" >&nbsp;</th>\n",
       "      <th class=\"col_heading level0 col0\" >Frequências</th>\n",
       "      <th class=\"col_heading level0 col1\" >Percentual</th>\n",
       "    </tr>\n",
       "    <tr>\n",
       "      <th class=\"index_name level0\" >Contato</th>\n",
       "      <th class=\"blank col0\" >&nbsp;</th>\n",
       "      <th class=\"blank col1\" >&nbsp;</th>\n",
       "    </tr>\n",
       "  </thead>\n",
       "  <tbody>\n",
       "    <tr>\n",
       "      <th id=\"T_7d031_level0_row0\" class=\"row_heading level0 row0\" >Um Ano</th>\n",
       "      <td id=\"T_7d031_row0_col0\" class=\"data row0 col0\" >1473</td>\n",
       "      <td id=\"T_7d031_row0_col1\" class=\"data row0 col1\" >20.91%</td>\n",
       "    </tr>\n",
       "    <tr>\n",
       "      <th id=\"T_7d031_level0_row1\" class=\"row_heading level0 row1\" >Mês a mês</th>\n",
       "      <td id=\"T_7d031_row1_col0\" class=\"data row1 col0\" >3875</td>\n",
       "      <td id=\"T_7d031_row1_col1\" class=\"data row1 col1\" >55.02%</td>\n",
       "    </tr>\n",
       "    <tr>\n",
       "      <th id=\"T_7d031_level0_row2\" class=\"row_heading level0 row2\" >Dois Anos</th>\n",
       "      <td id=\"T_7d031_row2_col0\" class=\"data row2 col0\" >1695</td>\n",
       "      <td id=\"T_7d031_row2_col1\" class=\"data row2 col1\" >24.07%</td>\n",
       "    </tr>\n",
       "  </tbody>\n",
       "</table>\n"
      ],
      "text/plain": [
       "<pandas.io.formats.style.Styler at 0x24f091f72b0>"
      ]
     },
     "execution_count": 144,
     "metadata": {},
     "output_type": "execute_result"
    }
   ],
   "source": [
    "caracteristicas_propriedade = dataset['Contato']\n",
    "caracteristicas_propriedade_itens = caracteristicas_propriedade.explode()\n",
    "caracteristicas_propriedade_itens.value_counts()\n",
    "tabela_frequencias = pd.merge(\n",
    "    left=caracteristicas_propriedade_itens.value_counts(sort=False),\n",
    "    right=caracteristicas_propriedade_itens.value_counts(normalize=True, sort=False),\n",
    "    left_index=True,\n",
    "    right_index=True\n",
    ")\n",
    "tabela_frequencias.rename(columns={\n",
    "        'Contato_x': 'Frequências',\n",
    "        'Contato_y': 'Percentual'\n",
    "}, inplace=True)\n",
    "\n",
    "tabela_frequencias.rename_axis('Contato', inplace=True)\n",
    "\n",
    "tabela_frequencias.style.format({'Percentual': '{:.2%}'})\\\n",
    "                        .bar(subset='Percentual', vmin = 0.05, color = 'lightblue')"
   ]
  },
  {
   "cell_type": "code",
   "execution_count": 78,
   "id": "7270603e",
   "metadata": {},
   "outputs": [
    {
     "data": {
      "text/html": [
       "<div>\n",
       "<style scoped>\n",
       "    .dataframe tbody tr th:only-of-type {\n",
       "        vertical-align: middle;\n",
       "    }\n",
       "\n",
       "    .dataframe tbody tr th {\n",
       "        vertical-align: top;\n",
       "    }\n",
       "\n",
       "    .dataframe thead tr th {\n",
       "        text-align: left;\n",
       "    }\n",
       "\n",
       "    .dataframe thead tr:last-of-type th {\n",
       "        text-align: right;\n",
       "    }\n",
       "</style>\n",
       "<table border=\"1\" class=\"dataframe\">\n",
       "  <thead>\n",
       "    <tr>\n",
       "      <th></th>\n",
       "      <th colspan=\"8\" halign=\"left\">EncargosMensal</th>\n",
       "    </tr>\n",
       "    <tr>\n",
       "      <th></th>\n",
       "      <th>count</th>\n",
       "      <th>mean</th>\n",
       "      <th>std</th>\n",
       "      <th>min</th>\n",
       "      <th>25%</th>\n",
       "      <th>50%</th>\n",
       "      <th>75%</th>\n",
       "      <th>max</th>\n",
       "    </tr>\n",
       "    <tr>\n",
       "      <th>Contato</th>\n",
       "      <th></th>\n",
       "      <th></th>\n",
       "      <th></th>\n",
       "      <th></th>\n",
       "      <th></th>\n",
       "      <th></th>\n",
       "      <th></th>\n",
       "      <th></th>\n",
       "    </tr>\n",
       "  </thead>\n",
       "  <tbody>\n",
       "    <tr>\n",
       "      <th>Dois Anos</th>\n",
       "      <td>1695.0</td>\n",
       "      <td>61.0</td>\n",
       "      <td>35.0</td>\n",
       "      <td>18.0</td>\n",
       "      <td>24.0</td>\n",
       "      <td>64.0</td>\n",
       "      <td>90.0</td>\n",
       "      <td>119.0</td>\n",
       "    </tr>\n",
       "    <tr>\n",
       "      <th>Mês a mês</th>\n",
       "      <td>3875.0</td>\n",
       "      <td>66.0</td>\n",
       "      <td>27.0</td>\n",
       "      <td>19.0</td>\n",
       "      <td>46.0</td>\n",
       "      <td>73.0</td>\n",
       "      <td>89.0</td>\n",
       "      <td>117.0</td>\n",
       "    </tr>\n",
       "    <tr>\n",
       "      <th>Um Ano</th>\n",
       "      <td>1473.0</td>\n",
       "      <td>65.0</td>\n",
       "      <td>32.0</td>\n",
       "      <td>18.0</td>\n",
       "      <td>27.0</td>\n",
       "      <td>69.0</td>\n",
       "      <td>95.0</td>\n",
       "      <td>119.0</td>\n",
       "    </tr>\n",
       "  </tbody>\n",
       "</table>\n",
       "</div>"
      ],
      "text/plain": [
       "          EncargosMensal                                           \n",
       "                   count  mean   std   min   25%   50%   75%    max\n",
       "Contato                                                            \n",
       "Dois Anos         1695.0  61.0  35.0  18.0  24.0  64.0  90.0  119.0\n",
       "Mês a mês         3875.0  66.0  27.0  19.0  46.0  73.0  89.0  117.0\n",
       "Um Ano            1473.0  65.0  32.0  18.0  27.0  69.0  95.0  119.0"
      ]
     },
     "execution_count": 78,
     "metadata": {},
     "output_type": "execute_result"
    }
   ],
   "source": [
    "grupamento = dataset[['Contato', 'EncargosMensal']].groupby(by='Contato')\n",
    "grupamento.describe().round()"
   ]
  },
  {
   "cell_type": "markdown",
   "id": "a01d4677",
   "metadata": {},
   "source": [
    "# Verificando tabela FaturamentoSemPapel"
   ]
  },
  {
   "cell_type": "code",
   "execution_count": 79,
   "id": "1c393a8d",
   "metadata": {},
   "outputs": [
    {
     "data": {
      "text/plain": [
       "array(['Yes', 'No'], dtype=object)"
      ]
     },
     "execution_count": 79,
     "metadata": {},
     "output_type": "execute_result"
    }
   ],
   "source": [
    "dataset['FaturamentoSemPapel'].unique()"
   ]
  },
  {
   "cell_type": "code",
   "execution_count": 80,
   "id": "d0a6a773",
   "metadata": {},
   "outputs": [
    {
     "data": {
      "text/plain": [
       "Yes    4171\n",
       "No     2872\n",
       "Name: FaturamentoSemPapel, dtype: int64"
      ]
     },
     "execution_count": 80,
     "metadata": {},
     "output_type": "execute_result"
    }
   ],
   "source": [
    "dataset['FaturamentoSemPapel'].value_counts()"
   ]
  },
  {
   "cell_type": "code",
   "execution_count": 145,
   "id": "8932d660",
   "metadata": {},
   "outputs": [
    {
     "data": {
      "text/html": [
       "<style type=\"text/css\">\n",
       "#T_7b585_row0_col1 {\n",
       "  width: 10em;\n",
       "  height: 80%;\n",
       "  background: linear-gradient(90deg,lightblue 100.0%, transparent 100.0%);\n",
       "}\n",
       "#T_7b585_row1_col1 {\n",
       "  width: 10em;\n",
       "  height: 80%;\n",
       "  background: linear-gradient(90deg,lightblue 66.0%, transparent 66.0%);\n",
       "}\n",
       "</style>\n",
       "<table id=\"T_7b585_\">\n",
       "  <thead>\n",
       "    <tr>\n",
       "      <th class=\"blank level0\" >&nbsp;</th>\n",
       "      <th class=\"col_heading level0 col0\" >Frequências</th>\n",
       "      <th class=\"col_heading level0 col1\" >Percentual</th>\n",
       "    </tr>\n",
       "    <tr>\n",
       "      <th class=\"index_name level0\" >FaturamentoSemPapel</th>\n",
       "      <th class=\"blank col0\" >&nbsp;</th>\n",
       "      <th class=\"blank col1\" >&nbsp;</th>\n",
       "    </tr>\n",
       "  </thead>\n",
       "  <tbody>\n",
       "    <tr>\n",
       "      <th id=\"T_7b585_level0_row0\" class=\"row_heading level0 row0\" >Yes</th>\n",
       "      <td id=\"T_7b585_row0_col0\" class=\"data row0 col0\" >4171</td>\n",
       "      <td id=\"T_7b585_row0_col1\" class=\"data row0 col1\" >59.22%</td>\n",
       "    </tr>\n",
       "    <tr>\n",
       "      <th id=\"T_7b585_level0_row1\" class=\"row_heading level0 row1\" >No</th>\n",
       "      <td id=\"T_7b585_row1_col0\" class=\"data row1 col0\" >2872</td>\n",
       "      <td id=\"T_7b585_row1_col1\" class=\"data row1 col1\" >40.78%</td>\n",
       "    </tr>\n",
       "  </tbody>\n",
       "</table>\n"
      ],
      "text/plain": [
       "<pandas.io.formats.style.Styler at 0x24f091fcf70>"
      ]
     },
     "execution_count": 145,
     "metadata": {},
     "output_type": "execute_result"
    }
   ],
   "source": [
    "caracteristicas_propriedade = dataset['FaturamentoSemPapel']\n",
    "caracteristicas_propriedade_itens = caracteristicas_propriedade.explode()\n",
    "caracteristicas_propriedade_itens.value_counts()\n",
    "tabela_frequencias = pd.merge(\n",
    "    left=caracteristicas_propriedade_itens.value_counts(sort=False),\n",
    "    right=caracteristicas_propriedade_itens.value_counts(normalize=True, sort=False),\n",
    "    left_index=True,\n",
    "    right_index=True\n",
    ")\n",
    "tabela_frequencias.rename(columns={\n",
    "        'FaturamentoSemPapel_x': 'Frequências',\n",
    "        'FaturamentoSemPapel_y': 'Percentual'\n",
    "}, inplace=True)\n",
    "\n",
    "tabela_frequencias.rename_axis('FaturamentoSemPapel', inplace=True)\n",
    "\n",
    "tabela_frequencias.style.format({'Percentual': '{:.2%}'})\\\n",
    "                        .bar(subset='Percentual', vmin = 0.05, color = 'lightblue')"
   ]
  },
  {
   "cell_type": "code",
   "execution_count": 81,
   "id": "c3390aa6",
   "metadata": {},
   "outputs": [
    {
     "data": {
      "text/html": [
       "<div>\n",
       "<style scoped>\n",
       "    .dataframe tbody tr th:only-of-type {\n",
       "        vertical-align: middle;\n",
       "    }\n",
       "\n",
       "    .dataframe tbody tr th {\n",
       "        vertical-align: top;\n",
       "    }\n",
       "\n",
       "    .dataframe thead tr th {\n",
       "        text-align: left;\n",
       "    }\n",
       "\n",
       "    .dataframe thead tr:last-of-type th {\n",
       "        text-align: right;\n",
       "    }\n",
       "</style>\n",
       "<table border=\"1\" class=\"dataframe\">\n",
       "  <thead>\n",
       "    <tr>\n",
       "      <th></th>\n",
       "      <th colspan=\"8\" halign=\"left\">EncargosMensal</th>\n",
       "    </tr>\n",
       "    <tr>\n",
       "      <th></th>\n",
       "      <th>count</th>\n",
       "      <th>mean</th>\n",
       "      <th>std</th>\n",
       "      <th>min</th>\n",
       "      <th>25%</th>\n",
       "      <th>50%</th>\n",
       "      <th>75%</th>\n",
       "      <th>max</th>\n",
       "    </tr>\n",
       "    <tr>\n",
       "      <th>FaturamentoSemPapel</th>\n",
       "      <th></th>\n",
       "      <th></th>\n",
       "      <th></th>\n",
       "      <th></th>\n",
       "      <th></th>\n",
       "      <th></th>\n",
       "      <th></th>\n",
       "      <th></th>\n",
       "    </tr>\n",
       "  </thead>\n",
       "  <tbody>\n",
       "    <tr>\n",
       "      <th>No</th>\n",
       "      <td>2872.0</td>\n",
       "      <td>52.0</td>\n",
       "      <td>30.0</td>\n",
       "      <td>18.0</td>\n",
       "      <td>20.0</td>\n",
       "      <td>50.0</td>\n",
       "      <td>78.0</td>\n",
       "      <td>119.0</td>\n",
       "    </tr>\n",
       "    <tr>\n",
       "      <th>Yes</th>\n",
       "      <td>4171.0</td>\n",
       "      <td>74.0</td>\n",
       "      <td>27.0</td>\n",
       "      <td>19.0</td>\n",
       "      <td>55.0</td>\n",
       "      <td>79.0</td>\n",
       "      <td>95.0</td>\n",
       "      <td>119.0</td>\n",
       "    </tr>\n",
       "  </tbody>\n",
       "</table>\n",
       "</div>"
      ],
      "text/plain": [
       "                    EncargosMensal                                           \n",
       "                             count  mean   std   min   25%   50%   75%    max\n",
       "FaturamentoSemPapel                                                          \n",
       "No                          2872.0  52.0  30.0  18.0  20.0  50.0  78.0  119.0\n",
       "Yes                         4171.0  74.0  27.0  19.0  55.0  79.0  95.0  119.0"
      ]
     },
     "execution_count": 81,
     "metadata": {},
     "output_type": "execute_result"
    }
   ],
   "source": [
    "grupamento = dataset[['FaturamentoSemPapel', 'EncargosMensal']].groupby(by='FaturamentoSemPapel')\n",
    "grupamento.describe().round()"
   ]
  },
  {
   "cell_type": "markdown",
   "id": "978e2c0f",
   "metadata": {},
   "source": [
    "# Verificando tabela FormaDePagamento"
   ]
  },
  {
   "cell_type": "code",
   "execution_count": 82,
   "id": "e0ea2520",
   "metadata": {},
   "outputs": [
    {
     "data": {
      "text/plain": [
       "array(['Mailed check', 'Electronic check', 'Credit card (automatic)',\n",
       "       'Bank transfer (automatic)'], dtype=object)"
      ]
     },
     "execution_count": 82,
     "metadata": {},
     "output_type": "execute_result"
    }
   ],
   "source": [
    "dataset['FormaDePagamento'].unique()"
   ]
  },
  {
   "cell_type": "code",
   "execution_count": 83,
   "id": "a0b380b4",
   "metadata": {},
   "outputs": [
    {
     "data": {
      "text/plain": [
       "Electronic check             2365\n",
       "Mailed check                 1612\n",
       "Bank transfer (automatic)    1544\n",
       "Credit card (automatic)      1522\n",
       "Name: FormaDePagamento, dtype: int64"
      ]
     },
     "execution_count": 83,
     "metadata": {},
     "output_type": "execute_result"
    }
   ],
   "source": [
    "dataset['FormaDePagamento'].value_counts()"
   ]
  },
  {
   "cell_type": "code",
   "execution_count": 146,
   "id": "4749ceb1",
   "metadata": {},
   "outputs": [
    {
     "data": {
      "text/html": [
       "<style type=\"text/css\">\n",
       "#T_ee950_row0_col1 {\n",
       "  width: 10em;\n",
       "  height: 80%;\n",
       "  background: linear-gradient(90deg,lightblue 62.6%, transparent 62.6%);\n",
       "}\n",
       "#T_ee950_row1_col1 {\n",
       "  width: 10em;\n",
       "  height: 80%;\n",
       "  background: linear-gradient(90deg,lightblue 100.0%, transparent 100.0%);\n",
       "}\n",
       "#T_ee950_row2_col1 {\n",
       "  width: 10em;\n",
       "  height: 80%;\n",
       "  background: linear-gradient(90deg,lightblue 58.1%, transparent 58.1%);\n",
       "}\n",
       "#T_ee950_row3_col1 {\n",
       "  width: 10em;\n",
       "  height: 80%;\n",
       "  background: linear-gradient(90deg,lightblue 59.2%, transparent 59.2%);\n",
       "}\n",
       "</style>\n",
       "<table id=\"T_ee950_\">\n",
       "  <thead>\n",
       "    <tr>\n",
       "      <th class=\"blank level0\" >&nbsp;</th>\n",
       "      <th class=\"col_heading level0 col0\" >Frequências</th>\n",
       "      <th class=\"col_heading level0 col1\" >Percentual</th>\n",
       "    </tr>\n",
       "    <tr>\n",
       "      <th class=\"index_name level0\" >FormaDePagamento</th>\n",
       "      <th class=\"blank col0\" >&nbsp;</th>\n",
       "      <th class=\"blank col1\" >&nbsp;</th>\n",
       "    </tr>\n",
       "  </thead>\n",
       "  <tbody>\n",
       "    <tr>\n",
       "      <th id=\"T_ee950_level0_row0\" class=\"row_heading level0 row0\" >Cheque enviado</th>\n",
       "      <td id=\"T_ee950_row0_col0\" class=\"data row0 col0\" >1612</td>\n",
       "      <td id=\"T_ee950_row0_col1\" class=\"data row0 col1\" >22.89%</td>\n",
       "    </tr>\n",
       "    <tr>\n",
       "      <th id=\"T_ee950_level0_row1\" class=\"row_heading level0 row1\" >Cheque eletrônico</th>\n",
       "      <td id=\"T_ee950_row1_col0\" class=\"data row1 col0\" >2365</td>\n",
       "      <td id=\"T_ee950_row1_col1\" class=\"data row1 col1\" >33.58%</td>\n",
       "    </tr>\n",
       "    <tr>\n",
       "      <th id=\"T_ee950_level0_row2\" class=\"row_heading level0 row2\" >Credit card (automatic)</th>\n",
       "      <td id=\"T_ee950_row2_col0\" class=\"data row2 col0\" >1522</td>\n",
       "      <td id=\"T_ee950_row2_col1\" class=\"data row2 col1\" >21.61%</td>\n",
       "    </tr>\n",
       "    <tr>\n",
       "      <th id=\"T_ee950_level0_row3\" class=\"row_heading level0 row3\" >Bank transfer (automatic)</th>\n",
       "      <td id=\"T_ee950_row3_col0\" class=\"data row3 col0\" >1544</td>\n",
       "      <td id=\"T_ee950_row3_col1\" class=\"data row3 col1\" >21.92%</td>\n",
       "    </tr>\n",
       "  </tbody>\n",
       "</table>\n"
      ],
      "text/plain": [
       "<pandas.io.formats.style.Styler at 0x24f091ab250>"
      ]
     },
     "execution_count": 146,
     "metadata": {},
     "output_type": "execute_result"
    }
   ],
   "source": [
    "caracteristicas_propriedade = dataset['FormaDePagamento']\n",
    "caracteristicas_propriedade_itens = caracteristicas_propriedade.explode()\n",
    "caracteristicas_propriedade_itens.value_counts()\n",
    "tabela_frequencias = pd.merge(\n",
    "    left=caracteristicas_propriedade_itens.value_counts(sort=False),\n",
    "    right=caracteristicas_propriedade_itens.value_counts(normalize=True, sort=False),\n",
    "    left_index=True,\n",
    "    right_index=True\n",
    ")\n",
    "tabela_frequencias.rename(columns={\n",
    "        'FormaDePagamento_x': 'Frequências',\n",
    "        'FormaDePagamento_y': 'Percentual'\n",
    "}, inplace=True)\n",
    "\n",
    "tabela_frequencias.rename_axis('FormaDePagamento', inplace=True)\n",
    "\n",
    "tabela_frequencias.style.format({'Percentual': '{:.2%}'})\\\n",
    "                        .bar(subset='Percentual', vmin = 0.05, color = 'lightblue')"
   ]
  },
  {
   "cell_type": "code",
   "execution_count": 84,
   "id": "2af465ca",
   "metadata": {},
   "outputs": [
    {
     "name": "stderr",
     "output_type": "stream",
     "text": [
      "C:\\Users\\PC\\AppData\\Local\\Temp/ipykernel_13316/4130569115.py:2: SettingWithCopyWarning: \n",
      "A value is trying to be set on a copy of a slice from a DataFrame.\n",
      "Try using .loc[row_indexer,col_indexer] = value instead\n",
      "\n",
      "See the caveats in the documentation: https://pandas.pydata.org/pandas-docs/stable/user_guide/indexing.html#returning-a-view-versus-a-copy\n",
      "  dataset['FormaDePagamento'] = dataset['FormaDePagamento'].str.replace('Electronic check','Cheque eletrônico')\n",
      "C:\\Users\\PC\\AppData\\Local\\Temp/ipykernel_13316/4130569115.py:3: SettingWithCopyWarning: \n",
      "A value is trying to be set on a copy of a slice from a DataFrame.\n",
      "Try using .loc[row_indexer,col_indexer] = value instead\n",
      "\n",
      "See the caveats in the documentation: https://pandas.pydata.org/pandas-docs/stable/user_guide/indexing.html#returning-a-view-versus-a-copy\n",
      "  dataset['FormaDePagamento'] = dataset['FormaDePagamento'].str.replace('Mailed check', 'Cheque enviado')\n",
      "C:\\Users\\PC\\AppData\\Local\\Temp/ipykernel_13316/4130569115.py:4: FutureWarning: The default value of regex will change from True to False in a future version.\n",
      "  dataset['FormaDePagamento'] = dataset['FormaDePagamento'].str.replace('Bank transfer (automatic)', 'Transferência bancária')\n",
      "C:\\Users\\PC\\AppData\\Local\\Temp/ipykernel_13316/4130569115.py:4: SettingWithCopyWarning: \n",
      "A value is trying to be set on a copy of a slice from a DataFrame.\n",
      "Try using .loc[row_indexer,col_indexer] = value instead\n",
      "\n",
      "See the caveats in the documentation: https://pandas.pydata.org/pandas-docs/stable/user_guide/indexing.html#returning-a-view-versus-a-copy\n",
      "  dataset['FormaDePagamento'] = dataset['FormaDePagamento'].str.replace('Bank transfer (automatic)', 'Transferência bancária')\n",
      "C:\\Users\\PC\\AppData\\Local\\Temp/ipykernel_13316/4130569115.py:5: FutureWarning: The default value of regex will change from True to False in a future version.\n",
      "  dataset['FormaDePagamento'] = dataset['FormaDePagamento'].str.replace('Credit card (automatic)', 'Cartão de crédito ')\n",
      "C:\\Users\\PC\\AppData\\Local\\Temp/ipykernel_13316/4130569115.py:5: SettingWithCopyWarning: \n",
      "A value is trying to be set on a copy of a slice from a DataFrame.\n",
      "Try using .loc[row_indexer,col_indexer] = value instead\n",
      "\n",
      "See the caveats in the documentation: https://pandas.pydata.org/pandas-docs/stable/user_guide/indexing.html#returning-a-view-versus-a-copy\n",
      "  dataset['FormaDePagamento'] = dataset['FormaDePagamento'].str.replace('Credit card (automatic)', 'Cartão de crédito ')\n"
     ]
    },
    {
     "data": {
      "text/plain": [
       "Cheque eletrônico            2365\n",
       "Cheque enviado               1612\n",
       "Bank transfer (automatic)    1544\n",
       "Credit card (automatic)      1522\n",
       "Name: FormaDePagamento, dtype: int64"
      ]
     },
     "execution_count": 84,
     "metadata": {},
     "output_type": "execute_result"
    }
   ],
   "source": [
    "#Traduzindo dados da Coluna\n",
    "dataset['FormaDePagamento'] = dataset['FormaDePagamento'].str.replace('Electronic check','Cheque eletrônico')\n",
    "dataset['FormaDePagamento'] = dataset['FormaDePagamento'].str.replace('Mailed check', 'Cheque enviado')\n",
    "dataset['FormaDePagamento'] = dataset['FormaDePagamento'].str.replace('Bank transfer (automatic)', 'Transferência bancária')\n",
    "dataset['FormaDePagamento'] = dataset['FormaDePagamento'].str.replace('Credit card (automatic)', 'Cartão de crédito ')\n",
    "dataset['FormaDePagamento'].value_counts()"
   ]
  },
  {
   "cell_type": "code",
   "execution_count": 85,
   "id": "4cc6ac27",
   "metadata": {},
   "outputs": [
    {
     "data": {
      "text/html": [
       "<div>\n",
       "<style scoped>\n",
       "    .dataframe tbody tr th:only-of-type {\n",
       "        vertical-align: middle;\n",
       "    }\n",
       "\n",
       "    .dataframe tbody tr th {\n",
       "        vertical-align: top;\n",
       "    }\n",
       "\n",
       "    .dataframe thead tr th {\n",
       "        text-align: left;\n",
       "    }\n",
       "\n",
       "    .dataframe thead tr:last-of-type th {\n",
       "        text-align: right;\n",
       "    }\n",
       "</style>\n",
       "<table border=\"1\" class=\"dataframe\">\n",
       "  <thead>\n",
       "    <tr>\n",
       "      <th></th>\n",
       "      <th colspan=\"8\" halign=\"left\">EncargosMensal</th>\n",
       "    </tr>\n",
       "    <tr>\n",
       "      <th></th>\n",
       "      <th>count</th>\n",
       "      <th>mean</th>\n",
       "      <th>std</th>\n",
       "      <th>min</th>\n",
       "      <th>25%</th>\n",
       "      <th>50%</th>\n",
       "      <th>75%</th>\n",
       "      <th>max</th>\n",
       "    </tr>\n",
       "    <tr>\n",
       "      <th>FormaDePagamento</th>\n",
       "      <th></th>\n",
       "      <th></th>\n",
       "      <th></th>\n",
       "      <th></th>\n",
       "      <th></th>\n",
       "      <th></th>\n",
       "      <th></th>\n",
       "      <th></th>\n",
       "    </tr>\n",
       "  </thead>\n",
       "  <tbody>\n",
       "    <tr>\n",
       "      <th>Bank transfer (automatic)</th>\n",
       "      <td>1544.0</td>\n",
       "      <td>67.0</td>\n",
       "      <td>31.0</td>\n",
       "      <td>18.0</td>\n",
       "      <td>41.0</td>\n",
       "      <td>73.0</td>\n",
       "      <td>93.0</td>\n",
       "      <td>119.0</td>\n",
       "    </tr>\n",
       "    <tr>\n",
       "      <th>Cheque eletrônico</th>\n",
       "      <td>2365.0</td>\n",
       "      <td>76.0</td>\n",
       "      <td>24.0</td>\n",
       "      <td>19.0</td>\n",
       "      <td>60.0</td>\n",
       "      <td>81.0</td>\n",
       "      <td>95.0</td>\n",
       "      <td>119.0</td>\n",
       "    </tr>\n",
       "    <tr>\n",
       "      <th>Cheque enviado</th>\n",
       "      <td>1612.0</td>\n",
       "      <td>44.0</td>\n",
       "      <td>26.0</td>\n",
       "      <td>19.0</td>\n",
       "      <td>20.0</td>\n",
       "      <td>35.0</td>\n",
       "      <td>65.0</td>\n",
       "      <td>119.0</td>\n",
       "    </tr>\n",
       "    <tr>\n",
       "      <th>Credit card (automatic)</th>\n",
       "      <td>1522.0</td>\n",
       "      <td>67.0</td>\n",
       "      <td>31.0</td>\n",
       "      <td>18.0</td>\n",
       "      <td>39.0</td>\n",
       "      <td>73.0</td>\n",
       "      <td>91.0</td>\n",
       "      <td>118.0</td>\n",
       "    </tr>\n",
       "  </tbody>\n",
       "</table>\n",
       "</div>"
      ],
      "text/plain": [
       "                          EncargosMensal                                      \\\n",
       "                                   count  mean   std   min   25%   50%   75%   \n",
       "FormaDePagamento                                                               \n",
       "Bank transfer (automatic)         1544.0  67.0  31.0  18.0  41.0  73.0  93.0   \n",
       "Cheque eletrônico                 2365.0  76.0  24.0  19.0  60.0  81.0  95.0   \n",
       "Cheque enviado                    1612.0  44.0  26.0  19.0  20.0  35.0  65.0   \n",
       "Credit card (automatic)           1522.0  67.0  31.0  18.0  39.0  73.0  91.0   \n",
       "\n",
       "                                  \n",
       "                             max  \n",
       "FormaDePagamento                  \n",
       "Bank transfer (automatic)  119.0  \n",
       "Cheque eletrônico          119.0  \n",
       "Cheque enviado             119.0  \n",
       "Credit card (automatic)    118.0  "
      ]
     },
     "execution_count": 85,
     "metadata": {},
     "output_type": "execute_result"
    }
   ],
   "source": [
    "grupamento = dataset[['FormaDePagamento', 'EncargosMensal']].groupby(by='FormaDePagamento')\n",
    "grupamento.describe().round()"
   ]
  },
  {
   "cell_type": "markdown",
   "id": "eb5a6071",
   "metadata": {},
   "source": [
    "# Verificando coluna EncargosMensal"
   ]
  },
  {
   "cell_type": "code",
   "execution_count": 86,
   "id": "9231ae28",
   "metadata": {},
   "outputs": [
    {
     "data": {
      "text/plain": [
       "0"
      ]
     },
     "execution_count": 86,
     "metadata": {},
     "output_type": "execute_result"
    }
   ],
   "source": [
    "dataset['EncargosMensal'].isnull().sum()"
   ]
  },
  {
   "cell_type": "code",
   "execution_count": 87,
   "id": "0d91f22d",
   "metadata": {},
   "outputs": [
    {
     "data": {
      "text/plain": [
       "64.7616924605992"
      ]
     },
     "execution_count": 87,
     "metadata": {},
     "output_type": "execute_result"
    }
   ],
   "source": [
    "dataset['EncargosMensal'].mean()"
   ]
  },
  {
   "cell_type": "code",
   "execution_count": 88,
   "id": "174aaf32",
   "metadata": {},
   "outputs": [
    {
     "data": {
      "text/plain": [
       "count    7043.000000\n",
       "mean       64.761692\n",
       "std        30.090047\n",
       "min        18.250000\n",
       "25%        35.500000\n",
       "50%        70.350000\n",
       "75%        89.850000\n",
       "max       118.750000\n",
       "Name: EncargosMensal, dtype: float64"
      ]
     },
     "execution_count": 88,
     "metadata": {},
     "output_type": "execute_result"
    }
   ],
   "source": [
    "dataset['EncargosMensal'].describe()"
   ]
  },
  {
   "cell_type": "code",
   "execution_count": 89,
   "id": "c34c233f",
   "metadata": {},
   "outputs": [
    {
     "name": "stderr",
     "output_type": "stream",
     "text": [
      "C:\\Users\\PC\\anaconda3\\lib\\site-packages\\seaborn\\distributions.py:2619: FutureWarning: `distplot` is a deprecated function and will be removed in a future version. Please adapt your code to use either `displot` (a figure-level function with similar flexibility) or `histplot` (an axes-level function for histograms).\n",
      "  warnings.warn(msg, FutureWarning)\n"
     ]
    },
    {
     "data": {
      "text/plain": [
       "<AxesSubplot:xlabel='EncargosMensal', ylabel='Density'>"
      ]
     },
     "execution_count": 89,
     "metadata": {},
     "output_type": "execute_result"
    },
    {
     "data": {
      "image/png": "[encoded data removed]",
      "text/plain": [
       "<Figure size 432x288 with 1 Axes>"
      ]
     },
     "metadata": {
      "needs_background": "light"
     },
     "output_type": "display_data"
    }
   ],
   "source": [
    "sns.distplot(dataset['EncargosMensal'], hist = True, kde = True,\n",
    "             bins = 6, color = 'blue',\n",
    "             hist_kws={'edgecolor': 'black'})"
   ]
  },
  {
   "cell_type": "markdown",
   "id": "d2fd2a95",
   "metadata": {},
   "source": [
    "# Verificando coluna EncargosTotal"
   ]
  },
  {
   "cell_type": "code",
   "execution_count": 90,
   "id": "5978195d",
   "metadata": {},
   "outputs": [
    {
     "data": {
      "text/plain": [
       "0"
      ]
     },
     "execution_count": 90,
     "metadata": {},
     "output_type": "execute_result"
    }
   ],
   "source": [
    "dataset['EncargosTotal'].isnull().sum()"
   ]
  },
  {
   "cell_type": "code",
   "execution_count": 91,
   "id": "4287b64e",
   "metadata": {},
   "outputs": [
    {
     "name": "stderr",
     "output_type": "stream",
     "text": [
      "C:\\Users\\PC\\AppData\\Local\\Temp/ipykernel_13316/2763042915.py:1: SettingWithCopyWarning: \n",
      "A value is trying to be set on a copy of a slice from a DataFrame.\n",
      "Try using .loc[row_indexer,col_indexer] = value instead\n",
      "\n",
      "See the caveats in the documentation: https://pandas.pydata.org/pandas-docs/stable/user_guide/indexing.html#returning-a-view-versus-a-copy\n",
      "  dataset['EncargosTotal'] = pd.to_numeric(dataset['EncargosTotal'],errors = 'coerce')\n"
     ]
    }
   ],
   "source": [
    "dataset['EncargosTotal'] = pd.to_numeric(dataset['EncargosTotal'],errors = 'coerce')"
   ]
  },
  {
   "cell_type": "code",
   "execution_count": 92,
   "id": "9783b086",
   "metadata": {},
   "outputs": [
    {
     "data": {
      "text/plain": [
       "count    7032.000000\n",
       "mean     2283.300441\n",
       "std      2266.771362\n",
       "min        18.800000\n",
       "25%       401.450000\n",
       "50%      1397.475000\n",
       "75%      3794.737500\n",
       "max      8684.800000\n",
       "Name: EncargosTotal, dtype: float64"
      ]
     },
     "execution_count": 92,
     "metadata": {},
     "output_type": "execute_result"
    }
   ],
   "source": [
    "dataset['EncargosTotal'].describe()"
   ]
  },
  {
   "cell_type": "code",
   "execution_count": 93,
   "id": "df1afce6",
   "metadata": {},
   "outputs": [
    {
     "name": "stderr",
     "output_type": "stream",
     "text": [
      "C:\\Users\\PC\\anaconda3\\lib\\site-packages\\seaborn\\distributions.py:2619: FutureWarning: `distplot` is a deprecated function and will be removed in a future version. Please adapt your code to use either `displot` (a figure-level function with similar flexibility) or `histplot` (an axes-level function for histograms).\n",
      "  warnings.warn(msg, FutureWarning)\n"
     ]
    },
    {
     "data": {
      "text/plain": [
       "<AxesSubplot:xlabel='EncargosTotal', ylabel='Density'>"
      ]
     },
     "execution_count": 93,
     "metadata": {},
     "output_type": "execute_result"
    },
    {
     "data": {
      "image/png": "[encoded data removed]",
      "text/plain": [
       "<Figure size 432x288 with 1 Axes>"
      ]
     },
     "metadata": {
      "needs_background": "light"
     },
     "output_type": "display_data"
    }
   ],
   "source": [
    "sns.distplot(dataset['EncargosTotal'], hist = True, kde = True,\n",
    "             bins = 6, color = 'blue',\n",
    "             hist_kws={'edgecolor': 'black'})"
   ]
  },
  {
   "cell_type": "code",
   "execution_count": 94,
   "id": "68eefbcc",
   "metadata": {},
   "outputs": [
    {
     "name": "stderr",
     "output_type": "stream",
     "text": [
      "C:\\Users\\PC\\anaconda3\\lib\\site-packages\\seaborn\\_decorators.py:36: FutureWarning: Pass the following variable as a keyword arg: x. From version 0.12, the only valid positional argument will be `data`, and passing other arguments without an explicit keyword will result in an error or misinterpretation.\n",
      "  warnings.warn(\n"
     ]
    },
    {
     "data": {
      "text/plain": [
       "<AxesSubplot:title={'center':'EncargosTotal'}, xlabel='EncargosTotal'>"
      ]
     },
     "execution_count": 94,
     "metadata": {},
     "output_type": "execute_result"
    },
    {
     "data": {
      "image/png": "[encoded data removed]",
      "text/plain": [
       "<Figure size 864x432 with 1 Axes>"
      ]
     },
     "metadata": {
      "needs_background": "light"
     },
     "output_type": "display_data"
    }
   ],
   "source": [
    "ax = sns.boxplot('EncargosTotal', data=dataset, width=0.5)\n",
    "ax.figure.set_size_inches(12, 6)\n",
    "ax.set_title('EncargosTotal', fontsize=20)\n",
    "ax"
   ]
  },
  {
   "cell_type": "markdown",
   "id": "eb7b00b2",
   "metadata": {},
   "source": [
    "# Adicionando a coluna de gastos diarios do cliente"
   ]
  },
  {
   "cell_type": "code",
   "execution_count": 95,
   "id": "ff1879a6",
   "metadata": {},
   "outputs": [],
   "source": [
    "GastoDiario = round((dataset['EncargosMensal'] / 30), 2)\n",
    "\n",
    "dataset.insert(loc = 18,\n",
    "          column = 'GastoDiario',\n",
    "          value = GastoDiario)"
   ]
  },
  {
   "cell_type": "code",
   "execution_count": 96,
   "id": "b5209962",
   "metadata": {},
   "outputs": [
    {
     "data": {
      "text/html": [
       "<div>\n",
       "<style scoped>\n",
       "    .dataframe tbody tr th:only-of-type {\n",
       "        vertical-align: middle;\n",
       "    }\n",
       "\n",
       "    .dataframe tbody tr th {\n",
       "        vertical-align: top;\n",
       "    }\n",
       "\n",
       "    .dataframe thead th {\n",
       "        text-align: right;\n",
       "    }\n",
       "</style>\n",
       "<table border=\"1\" class=\"dataframe\">\n",
       "  <thead>\n",
       "    <tr style=\"text-align: right;\">\n",
       "      <th></th>\n",
       "      <th>ID</th>\n",
       "      <th>Churn</th>\n",
       "      <th>Sexo</th>\n",
       "      <th>Sênior</th>\n",
       "      <th>Parceiro</th>\n",
       "      <th>Dependentes</th>\n",
       "      <th>MesesDeContrato</th>\n",
       "      <th>Telefone</th>\n",
       "      <th>VáriasLinhas</th>\n",
       "      <th>SegurançaOnline</th>\n",
       "      <th>ServiçoInternet</th>\n",
       "      <th>BackupOnline</th>\n",
       "      <th>ProteçãoDispositivo</th>\n",
       "      <th>SuporteTécnico</th>\n",
       "      <th>StreamingTV</th>\n",
       "      <th>StreamingFilmes</th>\n",
       "      <th>Contato</th>\n",
       "      <th>FaturamentoSemPapel</th>\n",
       "      <th>GastoDiario</th>\n",
       "      <th>FormaDePagamento</th>\n",
       "      <th>EncargosMensal</th>\n",
       "      <th>EncargosTotal</th>\n",
       "    </tr>\n",
       "  </thead>\n",
       "  <tbody>\n",
       "    <tr>\n",
       "      <th>0</th>\n",
       "      <td>0002-ORFBO</td>\n",
       "      <td>No</td>\n",
       "      <td>Feminino</td>\n",
       "      <td>0</td>\n",
       "      <td>Yes</td>\n",
       "      <td>Yes</td>\n",
       "      <td>9</td>\n",
       "      <td>Yes</td>\n",
       "      <td>No</td>\n",
       "      <td>DSL</td>\n",
       "      <td>No</td>\n",
       "      <td>Yes</td>\n",
       "      <td>No</td>\n",
       "      <td>Yes</td>\n",
       "      <td>Yes</td>\n",
       "      <td>No</td>\n",
       "      <td>Um Ano</td>\n",
       "      <td>Yes</td>\n",
       "      <td>2.19</td>\n",
       "      <td>Cheque enviado</td>\n",
       "      <td>65.6</td>\n",
       "      <td>593.30</td>\n",
       "    </tr>\n",
       "    <tr>\n",
       "      <th>1</th>\n",
       "      <td>0003-MKNFE</td>\n",
       "      <td>No</td>\n",
       "      <td>Masculino</td>\n",
       "      <td>0</td>\n",
       "      <td>No</td>\n",
       "      <td>No</td>\n",
       "      <td>9</td>\n",
       "      <td>Yes</td>\n",
       "      <td>Yes</td>\n",
       "      <td>DSL</td>\n",
       "      <td>No</td>\n",
       "      <td>No</td>\n",
       "      <td>No</td>\n",
       "      <td>No</td>\n",
       "      <td>No</td>\n",
       "      <td>Yes</td>\n",
       "      <td>Mês a mês</td>\n",
       "      <td>No</td>\n",
       "      <td>2.00</td>\n",
       "      <td>Cheque enviado</td>\n",
       "      <td>59.9</td>\n",
       "      <td>542.40</td>\n",
       "    </tr>\n",
       "    <tr>\n",
       "      <th>2</th>\n",
       "      <td>0004-TLHLJ</td>\n",
       "      <td>Yes</td>\n",
       "      <td>Masculino</td>\n",
       "      <td>0</td>\n",
       "      <td>No</td>\n",
       "      <td>No</td>\n",
       "      <td>4</td>\n",
       "      <td>Yes</td>\n",
       "      <td>No</td>\n",
       "      <td>Fiber optic</td>\n",
       "      <td>No</td>\n",
       "      <td>No</td>\n",
       "      <td>Yes</td>\n",
       "      <td>No</td>\n",
       "      <td>No</td>\n",
       "      <td>No</td>\n",
       "      <td>Mês a mês</td>\n",
       "      <td>Yes</td>\n",
       "      <td>2.46</td>\n",
       "      <td>Cheque eletrônico</td>\n",
       "      <td>73.9</td>\n",
       "      <td>280.85</td>\n",
       "    </tr>\n",
       "    <tr>\n",
       "      <th>3</th>\n",
       "      <td>0011-IGKFF</td>\n",
       "      <td>Yes</td>\n",
       "      <td>Masculino</td>\n",
       "      <td>1</td>\n",
       "      <td>Yes</td>\n",
       "      <td>No</td>\n",
       "      <td>13</td>\n",
       "      <td>Yes</td>\n",
       "      <td>No</td>\n",
       "      <td>Fiber optic</td>\n",
       "      <td>No</td>\n",
       "      <td>Yes</td>\n",
       "      <td>Yes</td>\n",
       "      <td>No</td>\n",
       "      <td>Yes</td>\n",
       "      <td>Yes</td>\n",
       "      <td>Mês a mês</td>\n",
       "      <td>Yes</td>\n",
       "      <td>3.27</td>\n",
       "      <td>Cheque eletrônico</td>\n",
       "      <td>98.0</td>\n",
       "      <td>1237.85</td>\n",
       "    </tr>\n",
       "    <tr>\n",
       "      <th>4</th>\n",
       "      <td>0013-EXCHZ</td>\n",
       "      <td>Yes</td>\n",
       "      <td>Feminino</td>\n",
       "      <td>1</td>\n",
       "      <td>Yes</td>\n",
       "      <td>No</td>\n",
       "      <td>3</td>\n",
       "      <td>Yes</td>\n",
       "      <td>No</td>\n",
       "      <td>Fiber optic</td>\n",
       "      <td>No</td>\n",
       "      <td>No</td>\n",
       "      <td>No</td>\n",
       "      <td>Yes</td>\n",
       "      <td>Yes</td>\n",
       "      <td>No</td>\n",
       "      <td>Mês a mês</td>\n",
       "      <td>Yes</td>\n",
       "      <td>2.80</td>\n",
       "      <td>Cheque enviado</td>\n",
       "      <td>83.9</td>\n",
       "      <td>267.40</td>\n",
       "    </tr>\n",
       "  </tbody>\n",
       "</table>\n",
       "</div>"
      ],
      "text/plain": [
       "           ID Churn       Sexo  Sênior Parceiro Dependentes  MesesDeContrato  \\\n",
       "0  0002-ORFBO    No   Feminino       0      Yes         Yes                9   \n",
       "1  0003-MKNFE    No  Masculino       0       No          No                9   \n",
       "2  0004-TLHLJ   Yes  Masculino       0       No          No                4   \n",
       "3  0011-IGKFF   Yes  Masculino       1      Yes          No               13   \n",
       "4  0013-EXCHZ   Yes   Feminino       1      Yes          No                3   \n",
       "\n",
       "  Telefone VáriasLinhas SegurançaOnline ServiçoInternet BackupOnline  \\\n",
       "0      Yes           No             DSL              No          Yes   \n",
       "1      Yes          Yes             DSL              No           No   \n",
       "2      Yes           No     Fiber optic              No           No   \n",
       "3      Yes           No     Fiber optic              No          Yes   \n",
       "4      Yes           No     Fiber optic              No           No   \n",
       "\n",
       "  ProteçãoDispositivo SuporteTécnico StreamingTV StreamingFilmes    Contato  \\\n",
       "0                  No            Yes         Yes              No     Um Ano   \n",
       "1                  No             No          No             Yes  Mês a mês   \n",
       "2                 Yes             No          No              No  Mês a mês   \n",
       "3                 Yes             No         Yes             Yes  Mês a mês   \n",
       "4                  No            Yes         Yes              No  Mês a mês   \n",
       "\n",
       "  FaturamentoSemPapel  GastoDiario   FormaDePagamento  EncargosMensal  \\\n",
       "0                 Yes         2.19     Cheque enviado            65.6   \n",
       "1                  No         2.00     Cheque enviado            59.9   \n",
       "2                 Yes         2.46  Cheque eletrônico            73.9   \n",
       "3                 Yes         3.27  Cheque eletrônico            98.0   \n",
       "4                 Yes         2.80     Cheque enviado            83.9   \n",
       "\n",
       "   EncargosTotal  \n",
       "0         593.30  \n",
       "1         542.40  \n",
       "2         280.85  \n",
       "3        1237.85  \n",
       "4         267.40  "
      ]
     },
     "execution_count": 96,
     "metadata": {},
     "output_type": "execute_result"
    }
   ],
   "source": [
    "dataset.head()"
   ]
  },
  {
   "cell_type": "code",
   "execution_count": 97,
   "id": "5e7a1c1b",
   "metadata": {},
   "outputs": [
    {
     "data": {
      "text/plain": [
       "count    7043.000000\n",
       "mean        2.158675\n",
       "std         1.003088\n",
       "min         0.610000\n",
       "25%         1.180000\n",
       "50%         2.340000\n",
       "75%         2.990000\n",
       "max         3.960000\n",
       "Name: GastoDiario, dtype: float64"
      ]
     },
     "execution_count": 97,
     "metadata": {},
     "output_type": "execute_result"
    }
   ],
   "source": [
    "dataset['GastoDiario'].describe()"
   ]
  },
  {
   "cell_type": "code",
   "execution_count": 98,
   "id": "66739b90",
   "metadata": {},
   "outputs": [
    {
     "data": {
      "text/plain": [
       "0"
      ]
     },
     "execution_count": 98,
     "metadata": {},
     "output_type": "execute_result"
    }
   ],
   "source": [
    "dataset['GastoDiario'].isnull().sum()"
   ]
  },
  {
   "cell_type": "code",
   "execution_count": null,
   "id": "30467c57",
   "metadata": {},
   "outputs": [],
   "source": []
  }
 ],
 "metadata": {
  "kernelspec": {
   "display_name": "Python 3 (ipykernel)",
   "language": "python",
   "name": "python3"
  },
  "language_info": {
   "codemirror_mode": {
    "name": "ipython",
    "version": 3
   },
   "file_extension": ".py",
   "mimetype": "text/x-python",
   "name": "python",
   "nbconvert_exporter": "python",
   "pygments_lexer": "ipython3",
   "version": "3.9.7"
  }
 },
 "nbformat": 4,
 "nbformat_minor": 5
}
